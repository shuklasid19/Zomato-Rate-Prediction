{
 "cells": [
  {
   "cell_type": "markdown",
   "metadata": {
    "id": "Xr-Z8APJkGSj"
   },
   "source": []
  },
  {
   "cell_type": "code",
   "execution_count": 16,
   "metadata": {
    "colab": {
     "base_uri": "https://localhost:8080/"
    },
    "id": "PBZqO-1yiXC0",
    "outputId": "91481e9f-3a3e-400a-a145-6940bd502ba0"
   },
   "outputs": [
    {
     "name": "stdout",
     "output_type": "stream",
     "text": [
      "Requirement already satisfied: kaggle in /usr/local/lib/python3.7/dist-packages (1.5.12)\n",
      "Requirement already satisfied: six>=1.10 in /usr/local/lib/python3.7/dist-packages (from kaggle) (1.15.0)\n",
      "Requirement already satisfied: tqdm in /usr/local/lib/python3.7/dist-packages (from kaggle) (4.41.1)\n",
      "Requirement already satisfied: certifi in /usr/local/lib/python3.7/dist-packages (from kaggle) (2020.12.5)\n",
      "Requirement already satisfied: urllib3 in /usr/local/lib/python3.7/dist-packages (from kaggle) (1.24.3)\n",
      "Requirement already satisfied: python-slugify in /usr/local/lib/python3.7/dist-packages (from kaggle) (4.0.1)\n",
      "Requirement already satisfied: requests in /usr/local/lib/python3.7/dist-packages (from kaggle) (2.23.0)\n",
      "Requirement already satisfied: python-dateutil in /usr/local/lib/python3.7/dist-packages (from kaggle) (2.8.1)\n",
      "Requirement already satisfied: text-unidecode>=1.3 in /usr/local/lib/python3.7/dist-packages (from python-slugify->kaggle) (1.3)\n",
      "Requirement already satisfied: idna<3,>=2.5 in /usr/local/lib/python3.7/dist-packages (from requests->kaggle) (2.10)\n",
      "Requirement already satisfied: chardet<4,>=3.0.2 in /usr/local/lib/python3.7/dist-packages (from requests->kaggle) (3.0.4)\n"
     ]
    }
   ],
   "source": [
    "\n",
    "!pip install kaggle"
   ]
  },
  {
   "cell_type": "code",
   "execution_count": 17,
   "metadata": {
    "colab": {
     "base_uri": "https://localhost:8080/",
     "height": 89,
     "resources": {
      "http://localhost:8080/nbextensions/google.colab/files.js": {
       "data": "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",
       "headers": [
        [
         "content-type",
         "application/javascript"
        ]
       ],
       "ok": true,
       "status": 200,
       "status_text": ""
      }
     }
    },
    "id": "VjqrW7e1knhS",
    "outputId": "34bd7b1a-e4f2-4b3d-abea-d3ec299506ff"
   },
   "outputs": [
    {
     "data": {
      "text/html": [
       "\n",
       "     <input type=\"file\" id=\"files-c6d705c2-06a3-46bd-a181-a51f9675da42\" name=\"files[]\" multiple disabled\n",
       "        style=\"border:none\" />\n",
       "     <output id=\"result-c6d705c2-06a3-46bd-a181-a51f9675da42\">\n",
       "      Upload widget is only available when the cell has been executed in the\n",
       "      current browser session. Please rerun this cell to enable.\n",
       "      </output>\n",
       "      <script src=\"/nbextensions/google.colab/files.js\"></script> "
      ],
      "text/plain": [
       "<IPython.core.display.HTML object>"
      ]
     },
     "metadata": {
      "tags": []
     },
     "output_type": "display_data"
    },
    {
     "name": "stdout",
     "output_type": "stream",
     "text": [
      "Saving kaggle.json to kaggle (3).json\n"
     ]
    },
    {
     "data": {
      "text/plain": [
       "{'kaggle.json': b'{\"username\":\"sidshukla97\",\"key\":\"5169460f6ac8d49cc075499a1ce7bee7\"}'}"
      ]
     },
     "execution_count": 17,
     "metadata": {
      "tags": []
     },
     "output_type": "execute_result"
    }
   ],
   "source": [
    "from google.colab import files\n",
    "files.upload()"
   ]
  },
  {
   "cell_type": "code",
   "execution_count": 18,
   "metadata": {
    "colab": {
     "base_uri": "https://localhost:8080/"
    },
    "id": "mnhq6tayiYpu",
    "outputId": "fe83fe8b-74ee-4723-e8ec-ebb7f3bbdcd9"
   },
   "outputs": [
    {
     "name": "stdout",
     "output_type": "stream",
     "text": [
      "mkdir: invalid option -- '/'\n",
      "Try 'mkdir --help' for more information.\n"
     ]
    }
   ],
   "source": [
    "!mkdir -p -/.kaggle\n",
    "!cp kaggle.json ~/.kaggle/"
   ]
  },
  {
   "cell_type": "code",
   "execution_count": 19,
   "metadata": {
    "colab": {
     "base_uri": "https://localhost:8080/"
    },
    "id": "Upkpwm6cjvIs",
    "outputId": "5759e67d-ef8e-48f7-a0cb-5cb0ea344963"
   },
   "outputs": [
    {
     "name": "stdout",
     "output_type": "stream",
     "text": [
      "Warning: Your Kaggle API key is readable by other users on this system! To fix this, you can run 'chmod 600 /root/.kaggle/kaggle.json'\n",
      "zomato-bangalore-restaurants.zip: Skipping, found more recently modified local copy (use --force to force download)\n"
     ]
    }
   ],
   "source": [
    "!kaggle datasets download -d himanshupoddar/zomato-bangalore-restaurants"
   ]
  },
  {
   "cell_type": "code",
   "execution_count": null,
   "metadata": {
    "colab": {
     "base_uri": "https://localhost:8080/"
    },
    "id": "ALRODKzFlZm5",
    "outputId": "4fcaa538-3774-4514-d30a-bad359876200"
   },
   "outputs": [
    {
     "name": "stdout",
     "output_type": "stream",
     "text": [
      "Done\n"
     ]
    }
   ],
   "source": [
    "from zipfile import ZipFile\n",
    "file_name = 'zomato-bangalore-restaurants.zip'\n",
    "\n",
    "with ZipFile(file_name , 'r') as zip:\n",
    "  zip.extractall()\n",
    "  print('Done')"
   ]
  },
  {
   "cell_type": "code",
   "execution_count": 20,
   "metadata": {
    "id": "KedMrJual4XT"
   },
   "outputs": [],
   "source": [
    "# import the dataset \n",
    "import pandas as pd\n",
    "df = pd.read_csv('zomato.csv')"
   ]
  },
  {
   "cell_type": "markdown",
   "metadata": {
    "id": "Ws-UFkqXHjjc"
   },
   "source": [
    "# **ABSTRACT**\n",
    "\n",
    "Zomato is one of the best online food delivery apps which gives the users the ratings and the reviews on restaurants all over india.These ratings and the Reviews are considered as one of the most important deciding factors which determine how good a restaurant is. \n",
    "\n",
    "We will therefore use the real time Data set with variuos features a user would look into regarding a restaurant. We will be considering Banglore City in this analysis.\n",
    "\n",
    "Content\n",
    "The basic idea of analyzing the Zomato dataset is to get a fair idea about the factors affecting the establishment\n",
    "of different types of restaurant at different places in Bengaluru, aggregate rating of each restaurant, Bengaluru\n",
    "being one such city has more than 12,000 restaurants with restaurants serving dishes from all over the world.\n",
    "\n",
    "With each day new restaurants opening the industry has’nt been saturated yet and the demand is increasing\n",
    "day by day. Inspite of increasing demand it however has become difficult for new restaurants to compete with\n",
    "established restaurants. Most of them serving the same food. Bengaluru being an IT capital of India. Most of the people here are dependent mainly on the restaurant food as they don’t have time to cook for themselves.\n",
    "\n",
    "With such an overwhelming demand of restaurants it has therefore become important to study the demography\n",
    "of a location. What kind of a food is more popular in a locality. Do the entire locality loves vegetarian food.\n",
    "If yes then is that locality populated by a particular sect of people for eg. Jain, Marwaris, Gujaratis who are\n",
    "mostly vegetarian. These kind of analysis can be done using the data, by studying the factors such as\n",
    "\n",
    "    • Location of the restaurant\n",
    "    • Approx Price of food\n",
    "    • Theme based restaurant or not\n",
    "    • Which locality of that city serves that cuisines with maximum number of restaurants\n",
    "    • The needs of people who are striving to get the best cuisine of the neighborhood\n",
    "    • Is a particular neighborhood famous for its own kind of food.\n",
    "\n",
    "“Just so that you have a good meal the next time you step out”\n",
    "\n",
    "The data is accurate to that available on the zomato website until 15 March 2019.\n",
    "The data was scraped from Zomato in two phase. After going through the structure of the website I found that for each neighborhood there are 6-7 category of restaurants viz. Buffet, Cafes, Delivery, Desserts, Dine-out, Drinks & nightlife, Pubs and bars.\n",
    "\n",
    "Phase I,\n",
    "\n",
    "In Phase I of extraction only the URL, name and address of the restaurant were extracted which were visible on the front page. The URl's for each of the restaurants on the zomato were recorded in the csv file so that later the data can be extracted individually for each restaurant. This made the extraction process easier and reduced the extra load on my machine. The data for each neighborhood and each category can be found here\n",
    "\n",
    "Phase II,\n",
    "\n",
    "In Phase II the recorded data for each restaurant and each category was read and data for each restaurant was scraped individually. 15 variables were scraped in this phase. For each of the neighborhood and for each category their onlineorder, booktable, rate, votes, phone, location, resttype, dishliked, cuisines, approxcost(for two people), reviewslist, menu_item was extracted. See section 5 for more details about the variables.\n",
    "\n",
    "Acknowledgements\n",
    "The data scraped was entirely for educational purposes only. Note that I don’t claim any copyright for the data. All copyrights for the data is owned by Zomato Media Pvt. Ltd..\n",
    "Source: Kaggle"
   ]
  },
  {
   "cell_type": "markdown",
   "metadata": {
    "id": "H8EGY3hhHsxF"
   },
   "source": [
    "**Main Objective:**\n",
    "\n",
    "The main agenda of this project is:\n",
    "\n",
    ">> Perform extensive **Exploratory Data Analysis(EDA)** on the Zomato Dataset.\n",
    "\n",
    ">>Build an appropriate **Machine Learning Model** that will help various Zomato Restaurants to predict their respective Ratings based on certain features\n",
    "\n",
    ">>**DEPLOY** the Machine learning model via **Flask** that can be used to make live predictions of restaurants ratings\n",
    "\n",
    "A step by step guide is attached to this documnet as well as a video explanation of each concpet."
   ]
  },
  {
   "cell_type": "code",
   "execution_count": 24,
   "metadata": {
    "id": "4owc_1bLHfa0"
   },
   "outputs": [],
   "source": [
    "#import the necessary libraries\n",
    "\n",
    "import pandas as pd\n",
    "import numpy as np\n",
    "import matplotlib.pyplot as plt\n",
    "import plotly.graph_objs as go\n",
    "import plotly.offline as py\n",
    "import seaborn as sns\n",
    "\n",
    "import matplotlib.ticker as mtick\n",
    "plt.style.use('fivethirtyeight')\n",
    "\n",
    "from sklearn.linear_model import LogisticRegression\n",
    "from sklearn.linear_model import LinearRegression\n",
    "from sklearn.ensemble import ExtraTreesRegressor\n",
    "from sklearn.model_selection import train_test_split\n",
    "\n",
    "import warnings\n",
    "warnings.filterwarnings('ignore')\n",
    "%matplotlib inline"
   ]
  },
  {
   "cell_type": "markdown",
   "metadata": {
    "id": "FoNE0C9SIso2"
   },
   "source": [
    "## Columns description\n",
    "\n",
    "1. <b>url </B> contains the url of the restaurant in the zomato website\n",
    "\n",
    "2. **address** contains the address of the restaurant in Bengaluru\n",
    "\n",
    "3. **name** contains the name of the restaurant\n",
    "\n",
    "4. **online_order** whether online ordering is available in the restaurant or not\n",
    "\n",
    "5. **book_table** table book option available or not\n",
    "\n",
    "6. **rate** contains the overall rating of the restaurant out of 5\n",
    "\n",
    "7. **votes** contains total number of rating for the restaurant as of the above mentioned date\n",
    "\n",
    "8. **phone** contains the phone number of the restaurant\n",
    "\n",
    "9. **location** contains the neighborhood in which the restaurant is located\n",
    "\n",
    "10. **rest_type** restaurant type\n",
    "\n",
    "11. **dish_liked** dishes people liked in the restaurant\n",
    "\n",
    "12. **cuisines** food styles, separated by comma\n",
    "\n",
    "13. **approx_cost**(for two people) contains the approximate cost of meal for two people\n",
    "\n",
    "14. **reviews_list** list of tuples containing reviews for the restaurant, each tuple\n",
    "\n",
    "15. **menu_item** contains list of menus available in the restaurant\n",
    "\n",
    "16. **listed_in**(type) type of meal\n",
    "\n",
    "17. **listed_in**(**city**) contains the neighborhood in which the restaurant is listed"
   ]
  },
  {
   "cell_type": "code",
   "execution_count": 21,
   "metadata": {
    "colab": {
     "base_uri": "https://localhost:8080/",
     "height": 598
    },
    "id": "NNJKrrT-mL4v",
    "outputId": "bfb4601f-ba84-4b85-e722-eadb8f1164a3"
   },
   "outputs": [
    {
     "data": {
      "text/html": [
       "<div>\n",
       "<style scoped>\n",
       "    .dataframe tbody tr th:only-of-type {\n",
       "        vertical-align: middle;\n",
       "    }\n",
       "\n",
       "    .dataframe tbody tr th {\n",
       "        vertical-align: top;\n",
       "    }\n",
       "\n",
       "    .dataframe thead th {\n",
       "        text-align: right;\n",
       "    }\n",
       "</style>\n",
       "<table border=\"1\" class=\"dataframe\">\n",
       "  <thead>\n",
       "    <tr style=\"text-align: right;\">\n",
       "      <th></th>\n",
       "      <th>url</th>\n",
       "      <th>address</th>\n",
       "      <th>name</th>\n",
       "      <th>online_order</th>\n",
       "      <th>book_table</th>\n",
       "      <th>rate</th>\n",
       "      <th>votes</th>\n",
       "      <th>phone</th>\n",
       "      <th>location</th>\n",
       "      <th>rest_type</th>\n",
       "      <th>dish_liked</th>\n",
       "      <th>cuisines</th>\n",
       "      <th>approx_cost(for two people)</th>\n",
       "      <th>reviews_list</th>\n",
       "      <th>menu_item</th>\n",
       "      <th>listed_in(type)</th>\n",
       "      <th>listed_in(city)</th>\n",
       "    </tr>\n",
       "  </thead>\n",
       "  <tbody>\n",
       "    <tr>\n",
       "      <th>0</th>\n",
       "      <td>https://www.zomato.com/bangalore/jalsa-banasha...</td>\n",
       "      <td>942, 21st Main Road, 2nd Stage, Banashankari, ...</td>\n",
       "      <td>Jalsa</td>\n",
       "      <td>Yes</td>\n",
       "      <td>Yes</td>\n",
       "      <td>4.1/5</td>\n",
       "      <td>775</td>\n",
       "      <td>080 42297555\\r\\n+91 9743772233</td>\n",
       "      <td>Banashankari</td>\n",
       "      <td>Casual Dining</td>\n",
       "      <td>Pasta, Lunch Buffet, Masala Papad, Paneer Laja...</td>\n",
       "      <td>North Indian, Mughlai, Chinese</td>\n",
       "      <td>800</td>\n",
       "      <td>[('Rated 4.0', 'RATED\\n  A beautiful place to ...</td>\n",
       "      <td>[]</td>\n",
       "      <td>Buffet</td>\n",
       "      <td>Banashankari</td>\n",
       "    </tr>\n",
       "    <tr>\n",
       "      <th>1</th>\n",
       "      <td>https://www.zomato.com/bangalore/spice-elephan...</td>\n",
       "      <td>2nd Floor, 80 Feet Road, Near Big Bazaar, 6th ...</td>\n",
       "      <td>Spice Elephant</td>\n",
       "      <td>Yes</td>\n",
       "      <td>No</td>\n",
       "      <td>4.1/5</td>\n",
       "      <td>787</td>\n",
       "      <td>080 41714161</td>\n",
       "      <td>Banashankari</td>\n",
       "      <td>Casual Dining</td>\n",
       "      <td>Momos, Lunch Buffet, Chocolate Nirvana, Thai G...</td>\n",
       "      <td>Chinese, North Indian, Thai</td>\n",
       "      <td>800</td>\n",
       "      <td>[('Rated 4.0', 'RATED\\n  Had been here for din...</td>\n",
       "      <td>[]</td>\n",
       "      <td>Buffet</td>\n",
       "      <td>Banashankari</td>\n",
       "    </tr>\n",
       "    <tr>\n",
       "      <th>2</th>\n",
       "      <td>https://www.zomato.com/SanchurroBangalore?cont...</td>\n",
       "      <td>1112, Next to KIMS Medical College, 17th Cross...</td>\n",
       "      <td>San Churro Cafe</td>\n",
       "      <td>Yes</td>\n",
       "      <td>No</td>\n",
       "      <td>3.8/5</td>\n",
       "      <td>918</td>\n",
       "      <td>+91 9663487993</td>\n",
       "      <td>Banashankari</td>\n",
       "      <td>Cafe, Casual Dining</td>\n",
       "      <td>Churros, Cannelloni, Minestrone Soup, Hot Choc...</td>\n",
       "      <td>Cafe, Mexican, Italian</td>\n",
       "      <td>800</td>\n",
       "      <td>[('Rated 3.0', \"RATED\\n  Ambience is not that ...</td>\n",
       "      <td>[]</td>\n",
       "      <td>Buffet</td>\n",
       "      <td>Banashankari</td>\n",
       "    </tr>\n",
       "    <tr>\n",
       "      <th>3</th>\n",
       "      <td>https://www.zomato.com/bangalore/addhuri-udupi...</td>\n",
       "      <td>1st Floor, Annakuteera, 3rd Stage, Banashankar...</td>\n",
       "      <td>Addhuri Udupi Bhojana</td>\n",
       "      <td>No</td>\n",
       "      <td>No</td>\n",
       "      <td>3.7/5</td>\n",
       "      <td>88</td>\n",
       "      <td>+91 9620009302</td>\n",
       "      <td>Banashankari</td>\n",
       "      <td>Quick Bites</td>\n",
       "      <td>Masala Dosa</td>\n",
       "      <td>South Indian, North Indian</td>\n",
       "      <td>300</td>\n",
       "      <td>[('Rated 4.0', \"RATED\\n  Great food and proper...</td>\n",
       "      <td>[]</td>\n",
       "      <td>Buffet</td>\n",
       "      <td>Banashankari</td>\n",
       "    </tr>\n",
       "    <tr>\n",
       "      <th>4</th>\n",
       "      <td>https://www.zomato.com/bangalore/grand-village...</td>\n",
       "      <td>10, 3rd Floor, Lakshmi Associates, Gandhi Baza...</td>\n",
       "      <td>Grand Village</td>\n",
       "      <td>No</td>\n",
       "      <td>No</td>\n",
       "      <td>3.8/5</td>\n",
       "      <td>166</td>\n",
       "      <td>+91 8026612447\\r\\n+91 9901210005</td>\n",
       "      <td>Basavanagudi</td>\n",
       "      <td>Casual Dining</td>\n",
       "      <td>Panipuri, Gol Gappe</td>\n",
       "      <td>North Indian, Rajasthani</td>\n",
       "      <td>600</td>\n",
       "      <td>[('Rated 4.0', 'RATED\\n  Very good restaurant ...</td>\n",
       "      <td>[]</td>\n",
       "      <td>Buffet</td>\n",
       "      <td>Banashankari</td>\n",
       "    </tr>\n",
       "  </tbody>\n",
       "</table>\n",
       "</div>"
      ],
      "text/plain": [
       "                                                 url  ... listed_in(city)\n",
       "0  https://www.zomato.com/bangalore/jalsa-banasha...  ...    Banashankari\n",
       "1  https://www.zomato.com/bangalore/spice-elephan...  ...    Banashankari\n",
       "2  https://www.zomato.com/SanchurroBangalore?cont...  ...    Banashankari\n",
       "3  https://www.zomato.com/bangalore/addhuri-udupi...  ...    Banashankari\n",
       "4  https://www.zomato.com/bangalore/grand-village...  ...    Banashankari\n",
       "\n",
       "[5 rows x 17 columns]"
      ]
     },
     "execution_count": 21,
     "metadata": {
      "tags": []
     },
     "output_type": "execute_result"
    }
   ],
   "source": [
    "#dataset topmost values \n",
    "df.head()"
   ]
  },
  {
   "cell_type": "code",
   "execution_count": 28,
   "metadata": {
    "colab": {
     "base_uri": "https://localhost:8080/"
    },
    "id": "fi_HT7w3IsC9",
    "outputId": "2e955159-2a46-42cb-baac-92371dc9f988"
   },
   "outputs": [
    {
     "data": {
      "text/plain": [
       "(51717, 17)"
      ]
     },
     "execution_count": 28,
     "metadata": {
      "tags": []
     },
     "output_type": "execute_result"
    }
   ],
   "source": [
    "df.shape"
   ]
  },
  {
   "cell_type": "markdown",
   "metadata": {
    "id": "aFPe3VSlKMAD"
   },
   "source": [
    "So the dataset has 51717 rows and 17 columns out of which all columns are not useful so we may have to delete the some of the columns"
   ]
  },
  {
   "cell_type": "code",
   "execution_count": 29,
   "metadata": {
    "colab": {
     "base_uri": "https://localhost:8080/"
    },
    "id": "bOEvL153Ir_-",
    "outputId": "4fae3485-1084-4d61-8a3a-2ce44c4dc60b"
   },
   "outputs": [
    {
     "data": {
      "text/plain": [
       "url                            object\n",
       "address                        object\n",
       "name                           object\n",
       "online_order                   object\n",
       "book_table                     object\n",
       "rate                           object\n",
       "votes                           int64\n",
       "phone                          object\n",
       "location                       object\n",
       "rest_type                      object\n",
       "dish_liked                     object\n",
       "cuisines                       object\n",
       "approx_cost(for two people)    object\n",
       "reviews_list                   object\n",
       "menu_item                      object\n",
       "listed_in(type)                object\n",
       "listed_in(city)                object\n",
       "dtype: object"
      ]
     },
     "execution_count": 29,
     "metadata": {
      "tags": []
     },
     "output_type": "execute_result"
    }
   ],
   "source": [
    "df.dtypes #checking the data types"
   ]
  },
  {
   "cell_type": "code",
   "execution_count": 30,
   "metadata": {
    "colab": {
     "base_uri": "https://localhost:8080/"
    },
    "id": "awfNPf5HHikD",
    "outputId": "031ad2d4-4f8f-4a82-a55e-634f49e6b2bc"
   },
   "outputs": [
    {
     "data": {
      "text/plain": [
       "url                                0\n",
       "address                            0\n",
       "name                               0\n",
       "online_order                       0\n",
       "book_table                         0\n",
       "rate                            7775\n",
       "votes                              0\n",
       "phone                           1208\n",
       "location                          21\n",
       "rest_type                        227\n",
       "dish_liked                     28078\n",
       "cuisines                          45\n",
       "approx_cost(for two people)      346\n",
       "reviews_list                       0\n",
       "menu_item                          0\n",
       "listed_in(type)                    0\n",
       "listed_in(city)                    0\n",
       "dtype: int64"
      ]
     },
     "execution_count": 30,
     "metadata": {
      "tags": []
     },
     "output_type": "execute_result"
    }
   ],
   "source": [
    "df.isna().sum() #checking null values"
   ]
  },
  {
   "cell_type": "markdown",
   "metadata": {
    "id": "bQg0F0N7K3JL"
   },
   "source": [
    "rate , phone, location, rest_type, dish_liked, cuisines, approx_cost(for two people) are the feature which have missing values...dish_liked is missing most values."
   ]
  },
  {
   "cell_type": "code",
   "execution_count": 32,
   "metadata": {
    "colab": {
     "base_uri": "https://localhost:8080/"
    },
    "id": "ZU2ke44aJETC",
    "outputId": "26fb0a52-1aa1-4773-d221-8f71da2536f3"
   },
   "outputs": [
    {
     "name": "stdout",
     "output_type": "stream",
     "text": [
      "Checking the Null or na percentage\n"
     ]
    },
    {
     "data": {
      "text/plain": [
       "url                             0.000000\n",
       "address                         0.000000\n",
       "name                            0.000000\n",
       "online_order                    0.000000\n",
       "book_table                      0.000000\n",
       "rate                           15.033741\n",
       "votes                           0.000000\n",
       "phone                           2.335789\n",
       "location                        0.040606\n",
       "rest_type                       0.438927\n",
       "dish_liked                     54.291626\n",
       "cuisines                        0.087012\n",
       "approx_cost(for two people)     0.669026\n",
       "reviews_list                    0.000000\n",
       "menu_item                       0.000000\n",
       "listed_in(type)                 0.000000\n",
       "listed_in(city)                 0.000000\n",
       "dtype: float64"
      ]
     },
     "execution_count": 32,
     "metadata": {
      "tags": []
     },
     "output_type": "execute_result"
    }
   ],
   "source": [
    "# Let's see the null values of the above dataset in terms of the percentage \n",
    "\n",
    "print(\"Checking the Null or na percentage\")\n",
    "((df.isnull() | df.isna()).sum()*100 / df.index.size)"
   ]
  },
  {
   "cell_type": "markdown",
   "metadata": {
    "id": "_aAMr-p9LBl4"
   },
   "source": [
    "dish_liked is missing 54% of the values after that rate is about 15% etc..."
   ]
  },
  {
   "cell_type": "code",
   "execution_count": 33,
   "metadata": {
    "colab": {
     "base_uri": "https://localhost:8080/",
     "height": 297
    },
    "id": "GGhP8HtfmPp_",
    "outputId": "acbe33eb-d813-4a54-ece1-15407b2c7bb9"
   },
   "outputs": [
    {
     "data": {
      "text/html": [
       "<div>\n",
       "<style scoped>\n",
       "    .dataframe tbody tr th:only-of-type {\n",
       "        vertical-align: middle;\n",
       "    }\n",
       "\n",
       "    .dataframe tbody tr th {\n",
       "        vertical-align: top;\n",
       "    }\n",
       "\n",
       "    .dataframe thead th {\n",
       "        text-align: right;\n",
       "    }\n",
       "</style>\n",
       "<table border=\"1\" class=\"dataframe\">\n",
       "  <thead>\n",
       "    <tr style=\"text-align: right;\">\n",
       "      <th></th>\n",
       "      <th>votes</th>\n",
       "    </tr>\n",
       "  </thead>\n",
       "  <tbody>\n",
       "    <tr>\n",
       "      <th>count</th>\n",
       "      <td>51717.000000</td>\n",
       "    </tr>\n",
       "    <tr>\n",
       "      <th>mean</th>\n",
       "      <td>283.697527</td>\n",
       "    </tr>\n",
       "    <tr>\n",
       "      <th>std</th>\n",
       "      <td>803.838853</td>\n",
       "    </tr>\n",
       "    <tr>\n",
       "      <th>min</th>\n",
       "      <td>0.000000</td>\n",
       "    </tr>\n",
       "    <tr>\n",
       "      <th>25%</th>\n",
       "      <td>7.000000</td>\n",
       "    </tr>\n",
       "    <tr>\n",
       "      <th>50%</th>\n",
       "      <td>41.000000</td>\n",
       "    </tr>\n",
       "    <tr>\n",
       "      <th>75%</th>\n",
       "      <td>198.000000</td>\n",
       "    </tr>\n",
       "    <tr>\n",
       "      <th>max</th>\n",
       "      <td>16832.000000</td>\n",
       "    </tr>\n",
       "  </tbody>\n",
       "</table>\n",
       "</div>"
      ],
      "text/plain": [
       "              votes\n",
       "count  51717.000000\n",
       "mean     283.697527\n",
       "std      803.838853\n",
       "min        0.000000\n",
       "25%        7.000000\n",
       "50%       41.000000\n",
       "75%      198.000000\n",
       "max    16832.000000"
      ]
     },
     "execution_count": 33,
     "metadata": {
      "tags": []
     },
     "output_type": "execute_result"
    }
   ],
   "source": [
    "# More info about the data\n",
    "\n",
    "df.describe()"
   ]
  },
  {
   "cell_type": "code",
   "execution_count": 37,
   "metadata": {
    "colab": {
     "base_uri": "https://localhost:8080/"
    },
    "id": "kEVw1TG0KLz4",
    "outputId": "65001149-a784-4fef-a841-6225bae9662c"
   },
   "outputs": [
    {
     "data": {
      "text/plain": [
       "Index(['url', 'address', 'name', 'online_order', 'book_table', 'rate', 'votes',\n",
       "       'phone', 'location', 'rest_type', 'dish_liked', 'cuisines',\n",
       "       'approx_cost(for two people)', 'reviews_list', 'menu_item',\n",
       "       'listed_in(type)', 'listed_in(city)'],\n",
       "      dtype='object')"
      ]
     },
     "execution_count": 37,
     "metadata": {
      "tags": []
     },
     "output_type": "execute_result"
    }
   ],
   "source": [
    "#the columns in the dataset\n",
    "df.columns"
   ]
  },
  {
   "cell_type": "code",
   "execution_count": 38,
   "metadata": {
    "colab": {
     "base_uri": "https://localhost:8080/"
    },
    "id": "6Q3oRVHaGxYZ",
    "outputId": "79ab562b-79da-4831-acb1-bab5dccfa78e"
   },
   "outputs": [
    {
     "data": {
      "text/plain": [
       "0    https://www.zomato.com/bangalore/jalsa-banasha...\n",
       "1    https://www.zomato.com/bangalore/spice-elephan...\n",
       "2    https://www.zomato.com/SanchurroBangalore?cont...\n",
       "3    https://www.zomato.com/bangalore/addhuri-udupi...\n",
       "4    https://www.zomato.com/bangalore/grand-village...\n",
       "5    https://www.zomato.com/bangalore/timepass-dinn...\n",
       "6    https://www.zomato.com/bangalore/rosewood-inte...\n",
       "7    https://www.zomato.com/bangalore/onesta-banash...\n",
       "8    https://www.zomato.com/bangalore/penthouse-caf...\n",
       "9    https://www.zomato.com/bangalore/smacznego-ban...\n",
       "Name: url, dtype: object"
      ]
     },
     "execution_count": 38,
     "metadata": {
      "tags": []
     },
     "output_type": "execute_result"
    }
   ],
   "source": [
    "#top 10 most url's  in our dataset\n",
    "df['url'][:10]"
   ]
  },
  {
   "cell_type": "code",
   "execution_count": 39,
   "metadata": {
    "colab": {
     "base_uri": "https://localhost:8080/"
    },
    "id": "fTco4ptVLKou",
    "outputId": "25258f3b-e2f4-4463-f5ab-af9976733edc"
   },
   "outputs": [
    {
     "data": {
      "text/plain": [
       "0    942, 21st Main Road, 2nd Stage, Banashankari, ...\n",
       "1    2nd Floor, 80 Feet Road, Near Big Bazaar, 6th ...\n",
       "2    1112, Next to KIMS Medical College, 17th Cross...\n",
       "3    1st Floor, Annakuteera, 3rd Stage, Banashankar...\n",
       "4    10, 3rd Floor, Lakshmi Associates, Gandhi Baza...\n",
       "5    37, 5-1, 4th Floor, Bosco Court, Gandhi Bazaar...\n",
       "6    19/1, New Timberyard Layout, Beside Satellite ...\n",
       "7    2469, 3rd Floor, 24th Cross, Opposite BDA Comp...\n",
       "8    1, 30th Main Road, 3rd Stage, Banashankari, Ba...\n",
       "9    2470, 21 Main Road, 25th Cross, Banashankari, ...\n",
       "Name: address, dtype: object"
      ]
     },
     "execution_count": 39,
     "metadata": {
      "tags": []
     },
     "output_type": "execute_result"
    }
   ],
   "source": [
    "#top 10 address in our dataset\n",
    "df['address'][:10]"
   ]
  },
  {
   "cell_type": "code",
   "execution_count": 40,
   "metadata": {
    "colab": {
     "base_uri": "https://localhost:8080/"
    },
    "id": "8XmR0j1bLMHK",
    "outputId": "918c89b6-7142-4da7-e5bc-5bfeb73013b4"
   },
   "outputs": [
    {
     "data": {
      "text/plain": [
       "0                                              Jalsa\n",
       "1                                     Spice Elephant\n",
       "2                                    San Churro Cafe\n",
       "3                              Addhuri Udupi Bhojana\n",
       "4                                      Grand Village\n",
       "5                                    Timepass Dinner\n",
       "6    Rosewood International Hotel - Bar & Restaurant\n",
       "7                                             Onesta\n",
       "8                                     Penthouse Cafe\n",
       "9                                          Smacznego\n",
       "Name: name, dtype: object"
      ]
     },
     "execution_count": 40,
     "metadata": {
      "tags": []
     },
     "output_type": "execute_result"
    }
   ],
   "source": [
    "#the topmost names in our dataset\n",
    "df['name'][:10]"
   ]
  },
  {
   "cell_type": "code",
   "execution_count": 41,
   "metadata": {
    "colab": {
     "base_uri": "https://localhost:8080/"
    },
    "id": "iUjOyh52LODQ",
    "outputId": "baabf8ea-6910-4f85-a89e-0cdf824aa268"
   },
   "outputs": [
    {
     "data": {
      "text/plain": [
       "0      080 42297555\\r\\n+91 9743772233\n",
       "1                        080 41714161\n",
       "2                      +91 9663487993\n",
       "3                      +91 9620009302\n",
       "4    +91 8026612447\\r\\n+91 9901210005\n",
       "5    +91 9980040002\\r\\n+91 9980063005\n",
       "6      +91 9731716688\\r\\n080 26740366\n",
       "7        080 48653961\\r\\n080 48655715\n",
       "8    +91 8884135549\\r\\n+91 9449449316\n",
       "9    +91 9945230807\\r\\n+91 9743804471\n",
       "Name: phone, dtype: object"
      ]
     },
     "execution_count": 41,
     "metadata": {
      "tags": []
     },
     "output_type": "execute_result"
    }
   ],
   "source": [
    "#the topmost phone in our dataset\n",
    "df['phone'][:10]"
   ]
  },
  {
   "cell_type": "code",
   "execution_count": 42,
   "metadata": {
    "id": "qUCZ4SeCLS-y"
   },
   "outputs": [],
   "source": [
    "df = df.drop(['url', 'phone'] , axis=1)\n",
    "#dropping unncessary columns "
   ]
  },
  {
   "cell_type": "markdown",
   "metadata": {
    "id": "D7YiqZD0LYHo"
   },
   "source": [
    "# Checking for duplicate values"
   ]
  },
  {
   "cell_type": "code",
   "execution_count": 44,
   "metadata": {
    "colab": {
     "base_uri": "https://localhost:8080/"
    },
    "id": "yxourstWLUY8",
    "outputId": "e8de7671-1685-4aff-8979-f596dc066ef5"
   },
   "outputs": [
    {
     "data": {
      "text/plain": [
       "43"
      ]
     },
     "execution_count": 44,
     "metadata": {
      "tags": []
     },
     "output_type": "execute_result"
    }
   ],
   "source": [
    "df.duplicated().sum()"
   ]
  },
  {
   "cell_type": "code",
   "execution_count": 45,
   "metadata": {
    "id": "NO6TFYawLXTT"
   },
   "outputs": [],
   "source": [
    "df.drop_duplicates(inplace=True)"
   ]
  },
  {
   "cell_type": "code",
   "execution_count": 46,
   "metadata": {
    "colab": {
     "base_uri": "https://localhost:8080/"
    },
    "id": "__eJlgEMLfGA",
    "outputId": "f9a817bc-9338-414d-80b0-9c54a0265181"
   },
   "outputs": [
    {
     "data": {
      "text/plain": [
       "0"
      ]
     },
     "execution_count": 46,
     "metadata": {
      "tags": []
     },
     "output_type": "execute_result"
    }
   ],
   "source": [
    "df.duplicated().sum()"
   ]
  },
  {
   "cell_type": "code",
   "execution_count": 47,
   "metadata": {
    "colab": {
     "base_uri": "https://localhost:8080/"
    },
    "id": "QkEVJlbNLgXw",
    "outputId": "0d93d7b2-886e-44cb-9264-07e4895f832b"
   },
   "outputs": [
    {
     "data": {
      "text/plain": [
       "address                        0\n",
       "name                           0\n",
       "online_order                   0\n",
       "book_table                     0\n",
       "rate                           0\n",
       "votes                          0\n",
       "location                       0\n",
       "rest_type                      0\n",
       "dish_liked                     0\n",
       "cuisines                       0\n",
       "approx_cost(for two people)    0\n",
       "reviews_list                   0\n",
       "menu_item                      0\n",
       "listed_in(type)                0\n",
       "listed_in(city)                0\n",
       "dtype: int64"
      ]
     },
     "execution_count": 47,
     "metadata": {
      "tags": []
     },
     "output_type": "execute_result"
    }
   ],
   "source": [
    "#remove the nan values from the dataset\n",
    "df.dropna(how='any', inplace=True)\n",
    "df.isnull().sum()"
   ]
  },
  {
   "cell_type": "markdown",
   "metadata": {
    "id": "lExbFZUCLlm-"
   },
   "source": [
    "# Renaming columes appropriately"
   ]
  },
  {
   "cell_type": "code",
   "execution_count": 48,
   "metadata": {
    "colab": {
     "base_uri": "https://localhost:8080/"
    },
    "id": "eudhaCibLihp",
    "outputId": "0cdd16d5-6c66-4124-a4c8-f7007c402dff"
   },
   "outputs": [
    {
     "data": {
      "text/plain": [
       "Index(['address', 'name', 'online_order', 'book_table', 'rate', 'votes',\n",
       "       'location', 'rest_type', 'dish_liked', 'cuisines', 'cost',\n",
       "       'reviews_list', 'menu_item', 'type', 'city'],\n",
       "      dtype='object')"
      ]
     },
     "execution_count": 48,
     "metadata": {
      "tags": []
     },
     "output_type": "execute_result"
    }
   ],
   "source": [
    "#change the columns name \n",
    "df = df.rename(columns = {'approx_cost(for two people)':'cost','listed_in(type)':'type',\n",
    "                                  'listed_in(city)':'city'})\n",
    "df.columns"
   ]
  },
  {
   "cell_type": "code",
   "execution_count": 49,
   "metadata": {
    "colab": {
     "base_uri": "https://localhost:8080/",
     "height": 581
    },
    "id": "yYDJ00KkLrPS",
    "outputId": "0888663a-d5d1-446a-810c-5f2c5d14d769"
   },
   "outputs": [
    {
     "data": {
      "text/html": [
       "<div>\n",
       "<style scoped>\n",
       "    .dataframe tbody tr th:only-of-type {\n",
       "        vertical-align: middle;\n",
       "    }\n",
       "\n",
       "    .dataframe tbody tr th {\n",
       "        vertical-align: top;\n",
       "    }\n",
       "\n",
       "    .dataframe thead th {\n",
       "        text-align: right;\n",
       "    }\n",
       "</style>\n",
       "<table border=\"1\" class=\"dataframe\">\n",
       "  <thead>\n",
       "    <tr style=\"text-align: right;\">\n",
       "      <th></th>\n",
       "      <th>address</th>\n",
       "      <th>name</th>\n",
       "      <th>online_order</th>\n",
       "      <th>book_table</th>\n",
       "      <th>rate</th>\n",
       "      <th>votes</th>\n",
       "      <th>location</th>\n",
       "      <th>rest_type</th>\n",
       "      <th>dish_liked</th>\n",
       "      <th>cuisines</th>\n",
       "      <th>cost</th>\n",
       "      <th>reviews_list</th>\n",
       "      <th>menu_item</th>\n",
       "      <th>type</th>\n",
       "      <th>city</th>\n",
       "    </tr>\n",
       "  </thead>\n",
       "  <tbody>\n",
       "    <tr>\n",
       "      <th>0</th>\n",
       "      <td>942, 21st Main Road, 2nd Stage, Banashankari, ...</td>\n",
       "      <td>Jalsa</td>\n",
       "      <td>Yes</td>\n",
       "      <td>Yes</td>\n",
       "      <td>4.1/5</td>\n",
       "      <td>775</td>\n",
       "      <td>Banashankari</td>\n",
       "      <td>Casual Dining</td>\n",
       "      <td>Pasta, Lunch Buffet, Masala Papad, Paneer Laja...</td>\n",
       "      <td>North Indian, Mughlai, Chinese</td>\n",
       "      <td>800</td>\n",
       "      <td>[('Rated 4.0', 'RATED\\n  A beautiful place to ...</td>\n",
       "      <td>[]</td>\n",
       "      <td>Buffet</td>\n",
       "      <td>Banashankari</td>\n",
       "    </tr>\n",
       "    <tr>\n",
       "      <th>1</th>\n",
       "      <td>2nd Floor, 80 Feet Road, Near Big Bazaar, 6th ...</td>\n",
       "      <td>Spice Elephant</td>\n",
       "      <td>Yes</td>\n",
       "      <td>No</td>\n",
       "      <td>4.1/5</td>\n",
       "      <td>787</td>\n",
       "      <td>Banashankari</td>\n",
       "      <td>Casual Dining</td>\n",
       "      <td>Momos, Lunch Buffet, Chocolate Nirvana, Thai G...</td>\n",
       "      <td>Chinese, North Indian, Thai</td>\n",
       "      <td>800</td>\n",
       "      <td>[('Rated 4.0', 'RATED\\n  Had been here for din...</td>\n",
       "      <td>[]</td>\n",
       "      <td>Buffet</td>\n",
       "      <td>Banashankari</td>\n",
       "    </tr>\n",
       "    <tr>\n",
       "      <th>2</th>\n",
       "      <td>1112, Next to KIMS Medical College, 17th Cross...</td>\n",
       "      <td>San Churro Cafe</td>\n",
       "      <td>Yes</td>\n",
       "      <td>No</td>\n",
       "      <td>3.8/5</td>\n",
       "      <td>918</td>\n",
       "      <td>Banashankari</td>\n",
       "      <td>Cafe, Casual Dining</td>\n",
       "      <td>Churros, Cannelloni, Minestrone Soup, Hot Choc...</td>\n",
       "      <td>Cafe, Mexican, Italian</td>\n",
       "      <td>800</td>\n",
       "      <td>[('Rated 3.0', \"RATED\\n  Ambience is not that ...</td>\n",
       "      <td>[]</td>\n",
       "      <td>Buffet</td>\n",
       "      <td>Banashankari</td>\n",
       "    </tr>\n",
       "    <tr>\n",
       "      <th>3</th>\n",
       "      <td>1st Floor, Annakuteera, 3rd Stage, Banashankar...</td>\n",
       "      <td>Addhuri Udupi Bhojana</td>\n",
       "      <td>No</td>\n",
       "      <td>No</td>\n",
       "      <td>3.7/5</td>\n",
       "      <td>88</td>\n",
       "      <td>Banashankari</td>\n",
       "      <td>Quick Bites</td>\n",
       "      <td>Masala Dosa</td>\n",
       "      <td>South Indian, North Indian</td>\n",
       "      <td>300</td>\n",
       "      <td>[('Rated 4.0', \"RATED\\n  Great food and proper...</td>\n",
       "      <td>[]</td>\n",
       "      <td>Buffet</td>\n",
       "      <td>Banashankari</td>\n",
       "    </tr>\n",
       "    <tr>\n",
       "      <th>4</th>\n",
       "      <td>10, 3rd Floor, Lakshmi Associates, Gandhi Baza...</td>\n",
       "      <td>Grand Village</td>\n",
       "      <td>No</td>\n",
       "      <td>No</td>\n",
       "      <td>3.8/5</td>\n",
       "      <td>166</td>\n",
       "      <td>Basavanagudi</td>\n",
       "      <td>Casual Dining</td>\n",
       "      <td>Panipuri, Gol Gappe</td>\n",
       "      <td>North Indian, Rajasthani</td>\n",
       "      <td>600</td>\n",
       "      <td>[('Rated 4.0', 'RATED\\n  Very good restaurant ...</td>\n",
       "      <td>[]</td>\n",
       "      <td>Buffet</td>\n",
       "      <td>Banashankari</td>\n",
       "    </tr>\n",
       "  </tbody>\n",
       "</table>\n",
       "</div>"
      ],
      "text/plain": [
       "                                             address  ...          city\n",
       "0  942, 21st Main Road, 2nd Stage, Banashankari, ...  ...  Banashankari\n",
       "1  2nd Floor, 80 Feet Road, Near Big Bazaar, 6th ...  ...  Banashankari\n",
       "2  1112, Next to KIMS Medical College, 17th Cross...  ...  Banashankari\n",
       "3  1st Floor, Annakuteera, 3rd Stage, Banashankar...  ...  Banashankari\n",
       "4  10, 3rd Floor, Lakshmi Associates, Gandhi Baza...  ...  Banashankari\n",
       "\n",
       "[5 rows x 15 columns]"
      ]
     },
     "execution_count": 49,
     "metadata": {
      "tags": []
     },
     "output_type": "execute_result"
    }
   ],
   "source": [
    "df.head()"
   ]
  },
  {
   "cell_type": "markdown",
   "metadata": {
    "id": "PG-jG0TELxey"
   },
   "source": [
    "# cleaning the dataset"
   ]
  },
  {
   "cell_type": "code",
   "execution_count": 50,
   "metadata": {
    "id": "5n4fk6L8LuDU"
   },
   "outputs": [],
   "source": [
    "df['cost'] = df['cost'].apply(lambda x:x.replace(',', ''))\n",
    "df['cost'] = df['cost'].astype(float)"
   ]
  },
  {
   "cell_type": "code",
   "execution_count": 51,
   "metadata": {
    "colab": {
     "base_uri": "https://localhost:8080/"
    },
    "id": "l-PGuLPJL2Xh",
    "outputId": "5c4e52c9-34a3-42f2-fb9c-5c4362325853"
   },
   "outputs": [
    {
     "data": {
      "text/plain": [
       "dtype('float64')"
      ]
     },
     "execution_count": 51,
     "metadata": {
      "tags": []
     },
     "output_type": "execute_result"
    }
   ],
   "source": [
    "df['cost'].dtypes"
   ]
  },
  {
   "cell_type": "code",
   "execution_count": 52,
   "metadata": {
    "colab": {
     "base_uri": "https://localhost:8080/"
    },
    "id": "e1YPjTbLMKZ8",
    "outputId": "29b4361e-df93-4fb2-bd0e-392dcb318804"
   },
   "outputs": [
    {
     "name": "stdout",
     "output_type": "stream",
     "text": [
      "[ 800.  300.  600.  700.  550.  500.  450.  650.  400.  750.  200.  850.\n",
      " 1200.  150.  350.  250. 1500. 1300. 1000.  100.  900. 1100. 1600.  950.\n",
      "  230. 1700. 1400. 1350. 2200. 2000. 1800. 1900.  180.  330. 2500. 2100.\n",
      " 3000. 2800. 3400.   40. 1250. 3500. 4000. 2400. 1450. 3200. 6000. 1050.\n",
      " 4100. 2300.  120. 2600. 5000. 3700. 1650. 2700. 4500.]\n",
      "------------------------------\n"
     ]
    },
    {
     "data": {
      "text/plain": [
       "address          object\n",
       "name             object\n",
       "online_order     object\n",
       "book_table       object\n",
       "rate             object\n",
       "votes             int64\n",
       "location         object\n",
       "rest_type        object\n",
       "dish_liked       object\n",
       "cuisines         object\n",
       "cost            float64\n",
       "reviews_list     object\n",
       "menu_item        object\n",
       "type             object\n",
       "city             object\n",
       "dtype: object"
      ]
     },
     "execution_count": 52,
     "metadata": {
      "tags": []
     },
     "output_type": "execute_result"
    }
   ],
   "source": [
    "print(df['cost'].unique())\n",
    "\n",
    "print('---'*10)\n",
    "\n",
    "df.dtypes"
   ]
  },
  {
   "cell_type": "code",
   "execution_count": 53,
   "metadata": {
    "colab": {
     "base_uri": "https://localhost:8080/"
    },
    "id": "1Qt5tLsNMMtn",
    "outputId": "5328424a-0dee-4c62-f1a9-8e718e94ba31"
   },
   "outputs": [
    {
     "data": {
      "text/plain": [
       "array(['4.1/5', '3.8/5', '3.7/5', '4.6/5', '4.0/5', '4.2/5', '3.9/5',\n",
       "       '3.0/5', '3.6/5', '2.8/5', '4.4/5', '3.1/5', '4.3/5', '2.6/5',\n",
       "       '3.3/5', '3.5/5', '3.8 /5', '3.2/5', '4.5/5', '2.5/5', '2.9/5',\n",
       "       '3.4/5', '2.7/5', '4.7/5', 'NEW', '2.4/5', '2.2/5', '2.3/5',\n",
       "       '4.8/5', '3.9 /5', '4.2 /5', '4.0 /5', '4.1 /5', '2.9 /5',\n",
       "       '2.7 /5', '2.5 /5', '2.6 /5', '4.5 /5', '4.3 /5', '3.7 /5',\n",
       "       '4.4 /5', '4.9/5', '2.1/5', '2.0/5', '1.8/5', '3.4 /5', '3.6 /5',\n",
       "       '3.3 /5', '4.6 /5', '4.9 /5', '3.2 /5', '3.0 /5', '2.8 /5',\n",
       "       '3.5 /5', '3.1 /5', '4.8 /5', '2.3 /5', '4.7 /5', '2.4 /5',\n",
       "       '2.1 /5', '2.2 /5', '2.0 /5', '1.8 /5'], dtype=object)"
      ]
     },
     "execution_count": 53,
     "metadata": {
      "tags": []
     },
     "output_type": "execute_result"
    }
   ],
   "source": [
    "df['rate'].unique()"
   ]
  },
  {
   "cell_type": "code",
   "execution_count": 54,
   "metadata": {
    "id": "gH8ReOGOMQRt"
   },
   "outputs": [],
   "source": [
    "#removing New\n",
    "df = df.loc[df['rate']!='NEW']"
   ]
  },
  {
   "cell_type": "code",
   "execution_count": 55,
   "metadata": {
    "id": "lJOtdb4GMTkv"
   },
   "outputs": [],
   "source": [
    "#removing '/5' from rates\n",
    "df['rate'] = df['rate'].apply(lambda x:x.replace('/5' , ''))"
   ]
  },
  {
   "cell_type": "code",
   "execution_count": 56,
   "metadata": {
    "colab": {
     "base_uri": "https://localhost:8080/"
    },
    "id": "I0PRZZDeMWiO",
    "outputId": "cae87202-2afa-473c-c63b-36c64fac70ef"
   },
   "outputs": [
    {
     "data": {
      "text/plain": [
       "array(['4.1', '3.8', '3.7', '4.6', '4.0', '4.2', '3.9', '3.0', '3.6',\n",
       "       '2.8', '4.4', '3.1', '4.3', '2.6', '3.3', '3.5', '3.8 ', '3.2',\n",
       "       '4.5', '2.5', '2.9', '3.4', '2.7', '4.7', '2.4', '2.2', '2.3',\n",
       "       '4.8', '3.9 ', '4.2 ', '4.0 ', '4.1 ', '2.9 ', '2.7 ', '2.5 ',\n",
       "       '2.6 ', '4.5 ', '4.3 ', '3.7 ', '4.4 ', '4.9', '2.1', '2.0', '1.8',\n",
       "       '3.4 ', '3.6 ', '3.3 ', '4.6 ', '4.9 ', '3.2 ', '3.0 ', '2.8 ',\n",
       "       '3.5 ', '3.1 ', '4.8 ', '2.3 ', '4.7 ', '2.4 ', '2.1 ', '2.2 ',\n",
       "       '2.0 ', '1.8 '], dtype=object)"
      ]
     },
     "execution_count": 56,
     "metadata": {
      "tags": []
     },
     "output_type": "execute_result"
    }
   ],
   "source": [
    "df['rate'].unique()"
   ]
  },
  {
   "cell_type": "code",
   "execution_count": 57,
   "metadata": {
    "colab": {
     "base_uri": "https://localhost:8080/"
    },
    "id": "oj-M2VLQMchU",
    "outputId": "058b2c31-3192-4c35-bec2-3643f3c577ff"
   },
   "outputs": [
    {
     "data": {
      "text/plain": [
       "0        [('Rated 4.0', 'RATED\\n  A beautiful place to ...\n",
       "1        [('Rated 4.0', 'RATED\\n  Had been here for din...\n",
       "2        [('Rated 3.0', \"RATED\\n  Ambience is not that ...\n",
       "3        [('Rated 4.0', \"RATED\\n  Great food and proper...\n",
       "4        [('Rated 4.0', 'RATED\\n  Very good restaurant ...\n",
       "                               ...                        \n",
       "51705    [('Rated 3.0', \"RATED\\n  Nice place to hangout...\n",
       "51707    [('Rated 4.0', 'RATED\\n  Went there post dinne...\n",
       "51708    [('Rated 3.0', 'RATED\\n  Place is good not tha...\n",
       "51711    [('Rated 4.0', 'RATED\\n  A fine place to chill...\n",
       "51715    [('Rated 4.0', 'RATED\\n  Nice and friendly pla...\n",
       "Name: reviews_list, Length: 23248, dtype: object"
      ]
     },
     "execution_count": 57,
     "metadata": {
      "tags": []
     },
     "output_type": "execute_result"
    }
   ],
   "source": [
    "df['reviews_list']"
   ]
  },
  {
   "cell_type": "markdown",
   "metadata": {
    "id": "WpjCvP6qMiAD"
   },
   "source": [
    "# Visualisations"
   ]
  },
  {
   "cell_type": "code",
   "execution_count": 60,
   "metadata": {
    "colab": {
     "base_uri": "https://localhost:8080/",
     "height": 406
    },
    "id": "q9ScROuCMfP5",
    "outputId": "4e1e3be3-caf0-4d1c-80cb-739e04381b52"
   },
   "outputs": [
    {
     "data": {
      "image/png": "[encoded data removed]",
      "text/plain": [
       "<Figure size 1224x720 with 1 Axes>"
      ]
     },
     "metadata": {
      "needs_background": "light",
      "tags": []
     },
     "output_type": "display_data"
    }
   ],
   "source": [
    "##\n",
    "%matplotlib inline\n",
    "\n",
    "plt.figure(figsize=(17,10))\n",
    "chains=df['name'].value_counts()[:20]\n",
    "sns.barplot(x=chains,y=chains.index,palette='deep')\n",
    "plt.title(\"Most famous restaurants chains in Bangaluru\")\n",
    "plt.xlabel(\"Number of outlets\")\n",
    "plt.show()"
   ]
  },
  {
   "cell_type": "code",
   "execution_count": 61,
   "metadata": {
    "colab": {
     "base_uri": "https://localhost:8080/"
    },
    "id": "2AQbpbpAMpjN",
    "outputId": "eb6b09a7-d068-4ff4-9a1d-66c6f108c207"
   },
   "outputs": [
    {
     "data": {
      "text/plain": [
       "No     17191\n",
       "Yes     6057\n",
       "Name: book_table, dtype: int64"
      ]
     },
     "execution_count": 61,
     "metadata": {
      "tags": []
     },
     "output_type": "execute_result"
    }
   ],
   "source": [
    "df['book_table'].value_counts()"
   ]
  },
  {
   "cell_type": "code",
   "execution_count": 67,
   "metadata": {
    "id": "IXeQdrmHNoZz"
   },
   "outputs": [],
   "source": [
    "plt.style.use('fivethirtyeight')\n"
   ]
  },
  {
   "cell_type": "code",
   "execution_count": 68,
   "metadata": {
    "colab": {
     "base_uri": "https://localhost:8080/",
     "height": 546
    },
    "id": "CSLc7NKVMygx",
    "outputId": "55941b70-9865-4759-b12d-735799a1da31"
   },
   "outputs": [
    {
     "data": {
      "text/plain": [
       "Text(0.5, 1.0, 'Distribution of book table')"
      ]
     },
     "execution_count": 68,
     "metadata": {
      "tags": []
     },
     "output_type": "execute_result"
    },
    {
     "data": {
      "image/png": "[encoded data removed]",
      "text/plain": [
       "<Figure size 864x648 with 1 Axes>"
      ]
     },
     "metadata": {
      "tags": []
     },
     "output_type": "display_data"
    }
   ],
   "source": [
    "plt.figure(figsize = (12, 9))\n",
    "sns.countplot(df['book_table'])\n",
    "plt.xlabel('Book table', fontsize=20)\n",
    "plt.ylabel('Count', fontsize=20)\n",
    "plt.title(\"Distribution of book table\", fontsize=30)"
   ]
  },
  {
   "cell_type": "code",
   "execution_count": 69,
   "metadata": {
    "colab": {
     "base_uri": "https://localhost:8080/",
     "height": 617
    },
    "id": "rsnFQhzKM09Q",
    "outputId": "720a5abe-5ca9-45f1-a0f9-331f7d5a38e1"
   },
   "outputs": [
    {
     "data": {
      "text/html": [
       "<html>\n",
       "<head><meta charset=\"utf-8\" /></head>\n",
       "<body>\n",
       "    <div>\n",
       "            <script src=\"https://cdnjs.cloudflare.com/ajax/libs/mathjax/2.7.5/MathJax.js?config=TeX-AMS-MML_SVG\"></script><script type=\"text/javascript\">if (window.MathJax) {MathJax.Hub.Config({SVG: {font: \"STIX-Web\"}});}</script>\n",
       "                <script type=\"text/javascript\">window.PlotlyConfig = {MathJaxConfig: 'local'};</script>\n",
       "        <script src=\"https://cdn.plot.ly/plotly-latest.min.js\"></script>    \n",
       "            <div id=\"94a6e6ac-2ac4-45aa-b573-27964ee2d12a\" class=\"plotly-graph-div\" style=\"height:600px; width:600px;\"></div>\n",
       "            <script type=\"text/javascript\">\n",
       "                \n",
       "                    window.PLOTLYENV=window.PLOTLYENV || {};\n",
       "                    \n",
       "                if (document.getElementById(\"94a6e6ac-2ac4-45aa-b573-27964ee2d12a\")) {\n",
       "                    Plotly.newPlot(\n",
       "                        '94a6e6ac-2ac4-45aa-b573-27964ee2d12a',\n",
       "                        [{\"labels\": [\"No\", \"Yes\"], \"marker\": {\"colors\": [\"#800080\", \"#0000A0\"], \"line\": {\"color\": \"#001000\", \"width\": 2}}, \"textinfo\": \"value\", \"type\": \"pie\", \"values\": [17191, 6057]}],\n",
       "                        {\"height\": 600, \"template\": {\"data\": {\"bar\": [{\"error_x\": {\"color\": \"#2a3f5f\"}, \"error_y\": {\"color\": \"#2a3f5f\"}, \"marker\": {\"line\": {\"color\": \"#E5ECF6\", \"width\": 0.5}}, \"type\": \"bar\"}], \"barpolar\": [{\"marker\": {\"line\": {\"color\": \"#E5ECF6\", \"width\": 0.5}}, \"type\": \"barpolar\"}], \"carpet\": [{\"aaxis\": {\"endlinecolor\": \"#2a3f5f\", \"gridcolor\": \"white\", \"linecolor\": \"white\", \"minorgridcolor\": \"white\", \"startlinecolor\": \"#2a3f5f\"}, \"baxis\": {\"endlinecolor\": \"#2a3f5f\", \"gridcolor\": \"white\", \"linecolor\": \"white\", \"minorgridcolor\": \"white\", \"startlinecolor\": \"#2a3f5f\"}, \"type\": \"carpet\"}], \"choropleth\": [{\"colorbar\": {\"outlinewidth\": 0, \"ticks\": \"\"}, \"type\": \"choropleth\"}], \"contour\": [{\"colorbar\": {\"outlinewidth\": 0, \"ticks\": \"\"}, \"colorscale\": [[0.0, \"#0d0887\"], [0.1111111111111111, \"#46039f\"], [0.2222222222222222, \"#7201a8\"], [0.3333333333333333, \"#9c179e\"], [0.4444444444444444, \"#bd3786\"], [0.5555555555555556, \"#d8576b\"], [0.6666666666666666, \"#ed7953\"], [0.7777777777777778, \"#fb9f3a\"], [0.8888888888888888, \"#fdca26\"], [1.0, \"#f0f921\"]], \"type\": \"contour\"}], \"contourcarpet\": [{\"colorbar\": {\"outlinewidth\": 0, \"ticks\": \"\"}, \"type\": \"contourcarpet\"}], \"heatmap\": [{\"colorbar\": {\"outlinewidth\": 0, \"ticks\": \"\"}, \"colorscale\": [[0.0, \"#0d0887\"], [0.1111111111111111, \"#46039f\"], [0.2222222222222222, \"#7201a8\"], [0.3333333333333333, \"#9c179e\"], [0.4444444444444444, \"#bd3786\"], [0.5555555555555556, \"#d8576b\"], [0.6666666666666666, \"#ed7953\"], [0.7777777777777778, \"#fb9f3a\"], [0.8888888888888888, \"#fdca26\"], [1.0, \"#f0f921\"]], \"type\": \"heatmap\"}], \"heatmapgl\": [{\"colorbar\": {\"outlinewidth\": 0, \"ticks\": \"\"}, \"colorscale\": [[0.0, \"#0d0887\"], [0.1111111111111111, \"#46039f\"], [0.2222222222222222, \"#7201a8\"], [0.3333333333333333, \"#9c179e\"], [0.4444444444444444, \"#bd3786\"], [0.5555555555555556, \"#d8576b\"], [0.6666666666666666, \"#ed7953\"], [0.7777777777777778, \"#fb9f3a\"], [0.8888888888888888, \"#fdca26\"], [1.0, \"#f0f921\"]], \"type\": \"heatmapgl\"}], \"histogram\": [{\"marker\": {\"colorbar\": {\"outlinewidth\": 0, \"ticks\": \"\"}}, \"type\": \"histogram\"}], \"histogram2d\": [{\"colorbar\": {\"outlinewidth\": 0, \"ticks\": \"\"}, \"colorscale\": [[0.0, \"#0d0887\"], [0.1111111111111111, \"#46039f\"], [0.2222222222222222, \"#7201a8\"], [0.3333333333333333, \"#9c179e\"], [0.4444444444444444, \"#bd3786\"], [0.5555555555555556, \"#d8576b\"], [0.6666666666666666, \"#ed7953\"], [0.7777777777777778, \"#fb9f3a\"], [0.8888888888888888, \"#fdca26\"], [1.0, \"#f0f921\"]], \"type\": \"histogram2d\"}], \"histogram2dcontour\": [{\"colorbar\": {\"outlinewidth\": 0, \"ticks\": \"\"}, \"colorscale\": [[0.0, \"#0d0887\"], [0.1111111111111111, \"#46039f\"], [0.2222222222222222, \"#7201a8\"], [0.3333333333333333, \"#9c179e\"], [0.4444444444444444, \"#bd3786\"], [0.5555555555555556, \"#d8576b\"], [0.6666666666666666, \"#ed7953\"], [0.7777777777777778, \"#fb9f3a\"], [0.8888888888888888, \"#fdca26\"], [1.0, \"#f0f921\"]], \"type\": \"histogram2dcontour\"}], \"mesh3d\": [{\"colorbar\": {\"outlinewidth\": 0, \"ticks\": \"\"}, \"type\": \"mesh3d\"}], \"parcoords\": [{\"line\": {\"colorbar\": {\"outlinewidth\": 0, \"ticks\": \"\"}}, \"type\": \"parcoords\"}], \"pie\": [{\"automargin\": true, \"type\": \"pie\"}], \"scatter\": [{\"marker\": {\"colorbar\": {\"outlinewidth\": 0, \"ticks\": \"\"}}, \"type\": \"scatter\"}], \"scatter3d\": [{\"line\": {\"colorbar\": {\"outlinewidth\": 0, \"ticks\": \"\"}}, \"marker\": {\"colorbar\": {\"outlinewidth\": 0, \"ticks\": \"\"}}, \"type\": \"scatter3d\"}], \"scattercarpet\": [{\"marker\": {\"colorbar\": {\"outlinewidth\": 0, \"ticks\": \"\"}}, \"type\": \"scattercarpet\"}], \"scattergeo\": [{\"marker\": {\"colorbar\": {\"outlinewidth\": 0, \"ticks\": \"\"}}, \"type\": \"scattergeo\"}], \"scattergl\": [{\"marker\": {\"colorbar\": {\"outlinewidth\": 0, \"ticks\": \"\"}}, \"type\": \"scattergl\"}], \"scattermapbox\": [{\"marker\": {\"colorbar\": {\"outlinewidth\": 0, \"ticks\": \"\"}}, \"type\": \"scattermapbox\"}], \"scatterpolar\": [{\"marker\": {\"colorbar\": {\"outlinewidth\": 0, \"ticks\": \"\"}}, \"type\": \"scatterpolar\"}], \"scatterpolargl\": [{\"marker\": {\"colorbar\": {\"outlinewidth\": 0, \"ticks\": \"\"}}, \"type\": \"scatterpolargl\"}], \"scatterternary\": [{\"marker\": {\"colorbar\": {\"outlinewidth\": 0, \"ticks\": \"\"}}, \"type\": \"scatterternary\"}], \"surface\": [{\"colorbar\": {\"outlinewidth\": 0, \"ticks\": \"\"}, \"colorscale\": [[0.0, \"#0d0887\"], [0.1111111111111111, \"#46039f\"], [0.2222222222222222, \"#7201a8\"], [0.3333333333333333, \"#9c179e\"], [0.4444444444444444, \"#bd3786\"], [0.5555555555555556, \"#d8576b\"], [0.6666666666666666, \"#ed7953\"], [0.7777777777777778, \"#fb9f3a\"], [0.8888888888888888, \"#fdca26\"], [1.0, \"#f0f921\"]], \"type\": \"surface\"}], \"table\": [{\"cells\": {\"fill\": {\"color\": \"#EBF0F8\"}, \"line\": {\"color\": \"white\"}}, \"header\": {\"fill\": {\"color\": \"#C8D4E3\"}, \"line\": {\"color\": \"white\"}}, \"type\": \"table\"}]}, \"layout\": {\"annotationdefaults\": {\"arrowcolor\": \"#2a3f5f\", \"arrowhead\": 0, \"arrowwidth\": 1}, \"coloraxis\": {\"colorbar\": {\"outlinewidth\": 0, \"ticks\": \"\"}}, \"colorscale\": {\"diverging\": [[0, \"#8e0152\"], [0.1, \"#c51b7d\"], [0.2, \"#de77ae\"], [0.3, \"#f1b6da\"], [0.4, \"#fde0ef\"], [0.5, \"#f7f7f7\"], [0.6, \"#e6f5d0\"], [0.7, \"#b8e186\"], [0.8, \"#7fbc41\"], [0.9, \"#4d9221\"], [1, \"#276419\"]], \"sequential\": [[0.0, \"#0d0887\"], [0.1111111111111111, \"#46039f\"], [0.2222222222222222, \"#7201a8\"], [0.3333333333333333, \"#9c179e\"], [0.4444444444444444, \"#bd3786\"], [0.5555555555555556, \"#d8576b\"], [0.6666666666666666, \"#ed7953\"], [0.7777777777777778, \"#fb9f3a\"], [0.8888888888888888, \"#fdca26\"], [1.0, \"#f0f921\"]], \"sequentialminus\": [[0.0, \"#0d0887\"], [0.1111111111111111, \"#46039f\"], [0.2222222222222222, \"#7201a8\"], [0.3333333333333333, \"#9c179e\"], [0.4444444444444444, \"#bd3786\"], [0.5555555555555556, \"#d8576b\"], [0.6666666666666666, \"#ed7953\"], [0.7777777777777778, \"#fb9f3a\"], [0.8888888888888888, \"#fdca26\"], [1.0, \"#f0f921\"]]}, \"colorway\": [\"#636efa\", \"#EF553B\", \"#00cc96\", \"#ab63fa\", \"#FFA15A\", \"#19d3f3\", \"#FF6692\", \"#B6E880\", \"#FF97FF\", \"#FECB52\"], \"font\": {\"color\": \"#2a3f5f\"}, \"geo\": {\"bgcolor\": \"white\", \"lakecolor\": \"white\", \"landcolor\": \"#E5ECF6\", \"showlakes\": true, \"showland\": true, \"subunitcolor\": \"white\"}, \"hoverlabel\": {\"align\": \"left\"}, \"hovermode\": \"closest\", \"mapbox\": {\"style\": \"light\"}, \"paper_bgcolor\": \"white\", \"plot_bgcolor\": \"#E5ECF6\", \"polar\": {\"angularaxis\": {\"gridcolor\": \"white\", \"linecolor\": \"white\", \"ticks\": \"\"}, \"bgcolor\": \"#E5ECF6\", \"radialaxis\": {\"gridcolor\": \"white\", \"linecolor\": \"white\", \"ticks\": \"\"}}, \"scene\": {\"xaxis\": {\"backgroundcolor\": \"#E5ECF6\", \"gridcolor\": \"white\", \"gridwidth\": 2, \"linecolor\": \"white\", \"showbackground\": true, \"ticks\": \"\", \"zerolinecolor\": \"white\"}, \"yaxis\": {\"backgroundcolor\": \"#E5ECF6\", \"gridcolor\": \"white\", \"gridwidth\": 2, \"linecolor\": \"white\", \"showbackground\": true, \"ticks\": \"\", \"zerolinecolor\": \"white\"}, \"zaxis\": {\"backgroundcolor\": \"#E5ECF6\", \"gridcolor\": \"white\", \"gridwidth\": 2, \"linecolor\": \"white\", \"showbackground\": true, \"ticks\": \"\", \"zerolinecolor\": \"white\"}}, \"shapedefaults\": {\"line\": {\"color\": \"#2a3f5f\"}}, \"ternary\": {\"aaxis\": {\"gridcolor\": \"white\", \"linecolor\": \"white\", \"ticks\": \"\"}, \"baxis\": {\"gridcolor\": \"white\", \"linecolor\": \"white\", \"ticks\": \"\"}, \"bgcolor\": \"#E5ECF6\", \"caxis\": {\"gridcolor\": \"white\", \"linecolor\": \"white\", \"ticks\": \"\"}}, \"title\": {\"x\": 0.05}, \"xaxis\": {\"automargin\": true, \"gridcolor\": \"white\", \"linecolor\": \"white\", \"ticks\": \"\", \"title\": {\"standoff\": 15}, \"zerolinecolor\": \"white\", \"zerolinewidth\": 2}, \"yaxis\": {\"automargin\": true, \"gridcolor\": \"white\", \"linecolor\": \"white\", \"ticks\": \"\", \"title\": {\"standoff\": 15}, \"zerolinecolor\": \"white\", \"zerolinewidth\": 2}}}, \"title\": {\"text\": \"Table booking\"}, \"width\": 600},\n",
       "                        {\"responsive\": true}\n",
       "                    ).then(function(){\n",
       "                            \n",
       "var gd = document.getElementById('94a6e6ac-2ac4-45aa-b573-27964ee2d12a');\n",
       "var x = new MutationObserver(function (mutations, observer) {{\n",
       "        var display = window.getComputedStyle(gd).display;\n",
       "        if (!display || display === 'none') {{\n",
       "            console.log([gd, 'removed!']);\n",
       "            Plotly.purge(gd);\n",
       "            observer.disconnect();\n",
       "        }}\n",
       "}});\n",
       "\n",
       "// Listen for the removal of the full notebook cells\n",
       "var notebookContainer = gd.closest('#notebook-container');\n",
       "if (notebookContainer) {{\n",
       "    x.observe(notebookContainer, {childList: true});\n",
       "}}\n",
       "\n",
       "// Listen for the clearing of the current output cell\n",
       "var outputEl = gd.closest('.output');\n",
       "if (outputEl) {{\n",
       "    x.observe(outputEl, {childList: true});\n",
       "}}\n",
       "\n",
       "                        })\n",
       "                };\n",
       "                \n",
       "            </script>\n",
       "        </div>\n",
       "</body>\n",
       "</html>"
      ]
     },
     "metadata": {
      "tags": []
     },
     "output_type": "display_data"
    }
   ],
   "source": [
    "x=df['book_table'].value_counts()\n",
    "colors = ['#800080', '#0000A0']\n",
    "\n",
    "trace=go.Pie(labels=x.index,values=x,textinfo=\"value\",\n",
    "            marker=dict(colors=colors, \n",
    "                           line=dict(color='#001000', width=2)))\n",
    "layout=go.Layout(title=\"Table booking\",width=600,height=600)\n",
    "fig=go.Figure(data=[trace],layout=layout)\n",
    "py.iplot(fig, filename='pie_chart_subplots')"
   ]
  },
  {
   "cell_type": "markdown",
   "metadata": {
    "id": "J_NhsumaM88R"
   },
   "source": [
    "Most of the Restaurants do not offer table booking"
   ]
  },
  {
   "cell_type": "code",
   "execution_count": 70,
   "metadata": {
    "colab": {
     "base_uri": "https://localhost:8080/",
     "height": 696
    },
    "id": "2S6YqKsQM3gq",
    "outputId": "aba43b5b-615d-44b9-902e-57d88a95ebd4"
   },
   "outputs": [
    {
     "data": {
      "text/plain": [
       "Text(0.5, 1.0, 'Distribution of online orders')"
      ]
     },
     "execution_count": 70,
     "metadata": {
      "tags": []
     },
     "output_type": "execute_result"
    },
    {
     "data": {
      "image/png": "[encoded data removed]",
      "text/plain": [
       "<Figure size 720x720 with 1 Axes>"
      ]
     },
     "metadata": {
      "tags": []
     },
     "output_type": "display_data"
    }
   ],
   "source": [
    "fig = plt.gcf()\n",
    "fig.set_size_inches(10,10)\n",
    "sns.countplot(df['online_order'])\n",
    "plt.xlabel('online orders', fontsize=20)\n",
    "plt.ylabel('Count', fontsize=20)\n",
    "plt.title(\"Distribution of online orders\", fontsize=30)"
   ]
  },
  {
   "cell_type": "markdown",
   "metadata": {
    "id": "G8z_lHhaNMwj"
   },
   "source": [
    "Most Restaurants offer option for online order and delivery"
   ]
  },
  {
   "cell_type": "markdown",
   "metadata": {
    "id": "AOdp_10lNT64"
   },
   "source": [
    "# Rating Distributions"
   ]
  },
  {
   "cell_type": "code",
   "execution_count": 71,
   "metadata": {
    "colab": {
     "base_uri": "https://localhost:8080/",
     "height": 667
    },
    "id": "B3s8h88VM_gK",
    "outputId": "85f4b534-255f-44c4-f3fa-15a68d02dc2f"
   },
   "outputs": [
    {
     "data": {
      "text/plain": [
       "<matplotlib.axes._subplots.AxesSubplot at 0x7f72cb91d950>"
      ]
     },
     "execution_count": 71,
     "metadata": {
      "tags": []
     },
     "output_type": "execute_result"
    },
    {
     "data": {
      "image/png": "[encoded data removed]",
      "text/plain": [
       "<Figure size 720x720 with 1 Axes>"
      ]
     },
     "metadata": {
      "tags": []
     },
     "output_type": "display_data"
    }
   ],
   "source": [
    "#how rating are distributed\n",
    "fig = plt.gcf()\n",
    "fig.set_size_inches(10,10)\n",
    "\n",
    "sns.distplot(df['rate'], bins=20)"
   ]
  },
  {
   "cell_type": "markdown",
   "metadata": {
    "id": "-JOQiBqkNcuJ"
   },
   "source": [
    "We can infer from above that most of the ratings are within 3.5 and 4.5\n",
    "\n",
    "\n",
    "\n",
    "\n",
    "\n",
    "\n"
   ]
  },
  {
   "cell_type": "markdown",
   "metadata": {
    "id": "qEEwaso6SVcy"
   },
   "source": [
    "Count of ratings as between \"1 and 2\", \"2 and 3\", \"3 and 4\", and \"4 and 5\""
   ]
  },
  {
   "cell_type": "code",
   "execution_count": 73,
   "metadata": {
    "colab": {
     "base_uri": "https://localhost:8080/"
    },
    "id": "VDw5ExKsNES1",
    "outputId": "f77f39d7-6711-48a0-dfd6-2546b2c92235"
   },
   "outputs": [
    {
     "data": {
      "text/plain": [
       "array(['4.1', '3.8', '3.7', '4.6', '4.0', '4.2', '3.9', '3.0', '3.6',\n",
       "       '2.8', '4.4', '3.1', '4.3', '2.6', '3.3', '3.5', '3.8 ', '3.2',\n",
       "       '4.5', '2.5', '2.9', '3.4', '2.7', '4.7', '2.4', '2.2', '2.3',\n",
       "       '4.8', '3.9 ', '4.2 ', '4.0 ', '4.1 ', '2.9 ', '2.7 ', '2.5 ',\n",
       "       '2.6 ', '4.5 ', '4.3 ', '3.7 ', '4.4 ', '4.9', '2.1', '2.0', '1.8',\n",
       "       '3.4 ', '3.6 ', '3.3 ', '4.6 ', '4.9 ', '3.2 ', '3.0 ', '2.8 ',\n",
       "       '3.5 ', '3.1 ', '4.8 ', '2.3 ', '4.7 ', '2.4 ', '2.1 ', '2.2 ',\n",
       "       '2.0 ', '1.8 '], dtype=object)"
      ]
     },
     "execution_count": 73,
     "metadata": {
      "tags": []
     },
     "output_type": "execute_result"
    }
   ],
   "source": [
    "df['rate'].unique()"
   ]
  },
  {
   "cell_type": "code",
   "execution_count": 74,
   "metadata": {
    "colab": {
     "base_uri": "https://localhost:8080/",
     "height": 35
    },
    "id": "L3sKo4u9SUEV",
    "outputId": "6cafa298-1af2-4de2-b89c-89a204ae3e38"
   },
   "outputs": [
    {
     "data": {
      "application/vnd.google.colaboratory.intrinsic+json": {
       "type": "string"
      },
      "text/plain": [
       "'1.8'"
      ]
     },
     "execution_count": 74,
     "metadata": {
      "tags": []
     },
     "output_type": "execute_result"
    }
   ],
   "source": [
    "df['rate'].min()"
   ]
  },
  {
   "cell_type": "code",
   "execution_count": 75,
   "metadata": {
    "colab": {
     "base_uri": "https://localhost:8080/",
     "height": 35
    },
    "id": "qSOmEAJySb4K",
    "outputId": "18ea6844-06d9-4dc8-ed9b-6b082e6281df"
   },
   "outputs": [
    {
     "data": {
      "application/vnd.google.colaboratory.intrinsic+json": {
       "type": "string"
      },
      "text/plain": [
       "'4.9 '"
      ]
     },
     "execution_count": 75,
     "metadata": {
      "tags": []
     },
     "output_type": "execute_result"
    }
   ],
   "source": [
    "df['rate'].max()"
   ]
  },
  {
   "cell_type": "code",
   "execution_count": 76,
   "metadata": {
    "id": "2amkjnLzSeE1"
   },
   "outputs": [],
   "source": [
    "df['rate']=df['rate'].astype(float)\n"
   ]
  },
  {
   "cell_type": "markdown",
   "metadata": {
    "id": "izseBDVISjrm"
   },
   "source": [
    "Plotting the counts with the help of pie chart"
   ]
  },
  {
   "cell_type": "code",
   "execution_count": 77,
   "metadata": {
    "colab": {
     "base_uri": "https://localhost:8080/",
     "height": 635
    },
    "id": "k3ORtzssSf37",
    "outputId": "abec3eb9-156d-4975-a0fd-f2ffb5b52e42"
   },
   "outputs": [
    {
     "data": {
      "image/png": "[encoded data removed]",
      "text/plain": [
       "<Figure size 720x720 with 1 Axes>"
      ]
     },
     "metadata": {
      "tags": []
     },
     "output_type": "display_data"
    }
   ],
   "source": [
    "slices=[((df['rate']>=1) & (df['rate']<2)).sum(),\n",
    "        ((df['rate']>=2) & (df['rate']<3)).sum(),\n",
    "        ((df['rate']>=3) & (df['rate']<4)).sum(),\n",
    "        (df['rate']>=4).sum()\n",
    "        ]\n",
    "\n",
    "labels=['1<rate<2','2<rate<3','3<rate<4','>4']\n",
    "colors = ['#ff3333','#c2c2d6','#6699ff']\n",
    "plt.pie(slices,colors=colors, labels=labels, autopct='%1.0f%%', pctdistance=.5, labeldistance=1.2,shadow=True)\n",
    "fig = plt.gcf()\n",
    "plt.title(\"Percentage of Restaurants according to their ratings\")\n",
    "\n",
    "fig.set_size_inches(10,10)\n",
    "plt.show()"
   ]
  },
  {
   "cell_type": "markdown",
   "metadata": {
    "id": "xDA2tvVZSoz2"
   },
   "source": [
    "# Services Types"
   ]
  },
  {
   "cell_type": "code",
   "execution_count": 78,
   "metadata": {
    "colab": {
     "base_uri": "https://localhost:8080/",
     "height": 743
    },
    "id": "l8gcHRn8Sle_",
    "outputId": "d08a0274-e5d7-4033-f00b-573ce2ae5e46"
   },
   "outputs": [
    {
     "data": {
      "text/plain": [
       "Text(0.5, 1.0, 'Type of Service')"
      ]
     },
     "execution_count": 78,
     "metadata": {
      "tags": []
     },
     "output_type": "execute_result"
    },
    {
     "data": {
      "image/png": "[encoded data removed]",
      "text/plain": [
       "<Figure size 864x864 with 1 Axes>"
      ]
     },
     "metadata": {
      "tags": []
     },
     "output_type": "display_data"
    }
   ],
   "source": [
    "#Types of Services\n",
    "\n",
    "sns.countplot(df['type']).set_xticklabels(sns.countplot(df['type']).get_xticklabels(), rotation=90, ha=\"right\")\n",
    "fig = plt.gcf()\n",
    "fig.set_size_inches(12,12)\n",
    "plt.title('Type of Service')"
   ]
  },
  {
   "cell_type": "markdown",
   "metadata": {
    "id": "imd8bO5_SxZX"
   },
   "source": [
    "Here the two main service types are Delivery and Dine-out"
   ]
  },
  {
   "cell_type": "markdown",
   "metadata": {
    "id": "b7VXIEZKS0Bj"
   },
   "source": [
    "# Distribution of Cost of Food for two People"
   ]
  },
  {
   "cell_type": "code",
   "execution_count": 79,
   "metadata": {
    "id": "JCT2IN9bSrQ4"
   },
   "outputs": [],
   "source": [
    "from plotly.offline import iplot\n",
    "\n"
   ]
  },
  {
   "cell_type": "code",
   "execution_count": 80,
   "metadata": {
    "colab": {
     "base_uri": "https://localhost:8080/",
     "height": 837
    },
    "id": "YV2c7wsBS4dE",
    "outputId": "38a0901c-8ce9-4bfe-89e7-71f7797453cd"
   },
   "outputs": [
    {
     "data": {
      "text/html": [
       "<html>\n",
       "<head><meta charset=\"utf-8\" /></head>\n",
       "<body>\n",
       "    <div>\n",
       "            <script src=\"https://cdnjs.cloudflare.com/ajax/libs/mathjax/2.7.5/MathJax.js?config=TeX-AMS-MML_SVG\"></script><script type=\"text/javascript\">if (window.MathJax) {MathJax.Hub.Config({SVG: {font: \"STIX-Web\"}});}</script>\n",
       "                <script type=\"text/javascript\">window.PlotlyConfig = {MathJaxConfig: 'local'};</script>\n",
       "        <script src=\"https://cdn.plot.ly/plotly-latest.min.js\"></script>    \n",
       "            <div id=\"dc1a8baa-2e18-4ee2-9b98-ae8c0e017108\" class=\"plotly-graph-div\" style=\"height:800px; width:800px;\"></div>\n",
       "            <script type=\"text/javascript\">\n",
       "                \n",
       "                    window.PLOTLYENV=window.PLOTLYENV || {};\n",
       "                    \n",
       "                if (document.getElementById(\"dc1a8baa-2e18-4ee2-9b98-ae8c0e017108\")) {\n",
       "                    Plotly.newPlot(\n",
       "                        'dc1a8baa-2e18-4ee2-9b98-ae8c0e017108',\n",
       "                        [{\"marker\": {\"color\": \"rgb(113, 10, 100)\"}, \"name\": \"accepting online orders\", \"type\": \"box\", \"y\": [800.0, 800.0, 800.0, 300.0, 600.0, 600.0, 600.0, 700.0, 550.0, 500.0, 600.0, 500.0, 450.0, 800.0, 650.0, 800.0, 700.0, 300.0, 400.0, 500.0, 600.0, 550.0, 600.0, 500.0, 750.0, 500.0, 650.0, 600.0, 750.0, 200.0, 500.0, 800.0, 600.0, 400.0, 300.0, 450.0, 850.0, 300.0, 400.0, 750.0, 450.0, 450.0, 800.0, 800.0, 800.0, 850.0, 400.0, 1200.0, 300.0, 300.0, 150.0, 350.0, 400.0, 600.0, 600.0, 800.0, 300.0, 400.0, 300.0, 200.0, 400.0, 300.0, 450.0, 800.0, 500.0, 650.0, 400.0, 500.0, 450.0, 500.0, 750.0, 350.0, 800.0, 400.0, 1200.0, 150.0, 300.0, 500.0, 450.0, 200.0, 250.0, 650.0, 300.0, 700.0, 150.0, 400.0, 200.0, 300.0, 350.0, 500.0, 750.0, 550.0, 200.0, 400.0, 750.0, 650.0, 500.0, 250.0, 150.0, 500.0, 1500.0, 300.0, 800.0, 700.0, 700.0, 550.0, 1300.0, 500.0, 700.0, 1000.0, 750.0, 250.0, 200.0, 600.0, 650.0, 550.0, 450.0, 450.0, 150.0, 700.0, 600.0, 200.0, 400.0, 300.0, 600.0, 700.0, 750.0, 200.0, 600.0, 200.0, 600.0, 550.0, 200.0, 650.0, 500.0, 1200.0, 650.0, 600.0, 100.0, 850.0, 400.0, 450.0, 300.0, 500.0, 100.0, 400.0, 900.0, 550.0, 800.0, 250.0, 1200.0, 400.0, 500.0, 700.0, 400.0, 400.0, 800.0, 800.0, 200.0, 600.0, 900.0, 800.0, 400.0, 400.0, 300.0, 650.0, 600.0, 650.0, 100.0, 700.0, 700.0, 350.0, 300.0, 600.0, 400.0, 600.0, 400.0, 800.0, 400.0, 650.0, 150.0, 1200.0, 250.0, 400.0, 700.0, 1200.0, 200.0, 800.0, 500.0, 200.0, 800.0, 600.0, 900.0, 400.0, 250.0, 300.0, 400.0, 350.0, 600.0, 100.0, 450.0, 400.0, 100.0, 150.0, 400.0, 250.0, 100.0, 600.0, 200.0, 750.0, 800.0, 1000.0, 600.0, 750.0, 800.0, 800.0, 800.0, 450.0, 1000.0, 700.0, 800.0, 600.0, 1500.0, 300.0, 300.0, 200.0, 400.0, 700.0, 300.0, 550.0, 750.0, 500.0, 500.0, 500.0, 400.0, 150.0, 150.0, 400.0, 800.0, 700.0, 500.0, 400.0, 400.0, 400.0, 600.0, 300.0, 400.0, 750.0, 1200.0, 350.0, 600.0, 800.0, 800.0, 800.0, 1300.0, 1200.0, 700.0, 800.0, 550.0, 500.0, 600.0, 500.0, 800.0, 450.0, 600.0, 850.0, 450.0, 800.0, 800.0, 650.0, 900.0, 700.0, 800.0, 700.0, 300.0, 300.0, 500.0, 400.0, 700.0, 600.0, 800.0, 600.0, 750.0, 600.0, 150.0, 800.0, 850.0, 800.0, 400.0, 750.0, 650.0, 100.0, 200.0, 450.0, 450.0, 200.0, 500.0, 100.0, 500.0, 100.0, 200.0, 300.0, 500.0, 300.0, 300.0, 600.0, 250.0, 300.0, 350.0, 800.0, 250.0, 350.0, 600.0, 500.0, 300.0, 100.0, 300.0, 300.0, 450.0, 200.0, 200.0, 250.0, 400.0, 250.0, 300.0, 400.0, 350.0, 500.0, 600.0, 150.0, 350.0, 750.0, 550.0, 600.0, 500.0, 150.0, 150.0, 550.0, 1100.0, 450.0, 300.0, 100.0, 650.0, 600.0, 250.0, 600.0, 400.0, 800.0, 750.0, 600.0, 800.0, 200.0, 300.0, 100.0, 150.0, 100.0, 200.0, 300.0, 700.0, 300.0, 300.0, 450.0, 700.0, 200.0, 250.0, 200.0, 150.0, 300.0, 1300.0, 1200.0, 800.0, 800.0, 1100.0, 900.0, 1000.0, 750.0, 550.0, 1600.0, 1200.0, 800.0, 1000.0, 1000.0, 1000.0, 1000.0, 950.0, 600.0, 700.0, 450.0, 300.0, 400.0, 400.0, 500.0, 600.0, 700.0, 350.0, 650.0, 600.0, 600.0, 800.0, 550.0, 650.0, 600.0, 400.0, 450.0, 550.0, 700.0, 500.0, 500.0, 800.0, 800.0, 300.0, 400.0, 250.0, 400.0, 300.0, 300.0, 500.0, 400.0, 150.0, 500.0, 300.0, 700.0, 400.0, 400.0, 450.0, 300.0, 250.0, 600.0, 250.0, 400.0, 200.0, 350.0, 300.0, 450.0, 400.0, 350.0, 300.0, 400.0, 1000.0, 650.0, 550.0, 600.0, 300.0, 750.0, 600.0, 400.0, 300.0, 400.0, 600.0, 800.0, 500.0, 800.0, 800.0, 300.0, 700.0, 400.0, 700.0, 600.0, 300.0, 400.0, 600.0, 300.0, 400.0, 750.0, 650.0, 700.0, 300.0, 500.0, 250.0, 200.0, 550.0, 1000.0, 900.0, 700.0, 650.0, 500.0, 900.0, 600.0, 1000.0, 800.0, 250.0, 500.0, 400.0, 450.0, 250.0, 400.0, 300.0, 400.0, 400.0, 400.0, 600.0, 1200.0, 400.0, 1000.0, 800.0, 600.0, 700.0, 650.0, 500.0, 300.0, 600.0, 800.0, 600.0, 400.0, 700.0, 300.0, 500.0, 200.0, 400.0, 500.0, 500.0, 600.0, 250.0, 200.0, 300.0, 400.0, 300.0, 600.0, 500.0, 450.0, 1500.0, 750.0, 600.0, 1200.0, 300.0, 600.0, 1000.0, 1600.0, 400.0, 600.0, 500.0, 500.0, 400.0, 400.0, 600.0, 700.0, 400.0, 500.0, 600.0, 800.0, 600.0, 750.0, 500.0, 300.0, 800.0, 350.0, 1000.0, 250.0, 400.0, 500.0, 250.0, 400.0, 650.0, 600.0, 800.0, 450.0, 450.0, 600.0, 600.0, 750.0, 350.0, 1100.0, 600.0, 550.0, 230.0, 250.0, 400.0, 1000.0, 600.0, 500.0, 1200.0, 500.0, 300.0, 500.0, 450.0, 800.0, 250.0, 750.0, 300.0, 500.0, 500.0, 100.0, 600.0, 700.0, 500.0, 600.0, 1200.0, 400.0, 400.0, 500.0, 400.0, 800.0, 300.0, 1000.0, 350.0, 150.0, 250.0, 500.0, 200.0, 400.0, 400.0, 300.0, 1300.0, 400.0, 800.0, 600.0, 250.0, 400.0, 150.0, 700.0, 1100.0, 400.0, 800.0, 600.0, 500.0, 600.0, 400.0, 350.0, 1300.0, 300.0, 400.0, 400.0, 400.0, 1100.0, 650.0, 300.0, 250.0, 500.0, 750.0, 650.0, 400.0, 650.0, 700.0, 800.0, 500.0, 600.0, 550.0, 1000.0, 550.0, 500.0, 700.0, 1100.0, 500.0, 350.0, 500.0, 450.0, 650.0, 650.0, 1000.0, 450.0, 800.0, 450.0, 250.0, 800.0, 250.0, 500.0, 300.0, 750.0, 500.0, 500.0, 800.0, 450.0, 250.0, 250.0, 1700.0, 200.0, 600.0, 400.0, 150.0, 150.0, 900.0, 600.0, 1200.0, 1200.0, 1200.0, 550.0, 400.0, 600.0, 500.0, 700.0, 350.0, 400.0, 250.0, 500.0, 1000.0, 200.0, 500.0, 600.0, 500.0, 750.0, 500.0, 400.0, 800.0, 800.0, 500.0, 400.0, 200.0, 500.0, 400.0, 150.0, 400.0, 400.0, 250.0, 450.0, 350.0, 400.0, 300.0, 500.0, 400.0, 400.0, 800.0, 700.0, 500.0, 200.0, 700.0, 600.0, 300.0, 500.0, 500.0, 550.0, 500.0, 400.0, 600.0, 800.0, 500.0, 550.0, 1000.0, 800.0, 700.0, 800.0, 700.0, 650.0, 1000.0, 700.0, 700.0, 800.0, 400.0, 450.0, 800.0, 300.0, 400.0, 900.0, 500.0, 500.0, 600.0, 550.0, 400.0, 500.0, 500.0, 850.0, 450.0, 700.0, 400.0, 400.0, 600.0, 500.0, 450.0, 1000.0, 600.0, 650.0, 600.0, 800.0, 500.0, 800.0, 750.0, 500.0, 400.0, 250.0, 300.0, 1000.0, 250.0, 800.0, 400.0, 400.0, 500.0, 400.0, 400.0, 600.0, 500.0, 600.0, 800.0, 400.0, 400.0, 600.0, 400.0, 150.0, 300.0, 400.0, 250.0, 400.0, 350.0, 400.0, 600.0, 600.0, 400.0, 500.0, 300.0, 500.0, 200.0, 250.0, 750.0, 600.0, 200.0, 650.0, 250.0, 1100.0, 350.0, 400.0, 250.0, 250.0, 300.0, 400.0, 600.0, 300.0, 800.0, 250.0, 1200.0, 1600.0, 1200.0, 1600.0, 1500.0, 1300.0, 1200.0, 800.0, 1300.0, 1000.0, 400.0, 1200.0, 750.0, 1100.0, 700.0, 1200.0, 550.0, 1300.0, 1000.0, 1100.0, 1200.0, 1300.0, 600.0, 1000.0, 750.0, 1000.0, 500.0, 600.0, 700.0, 750.0, 700.0, 300.0, 500.0, 350.0, 400.0, 950.0, 400.0, 450.0, 800.0, 450.0, 550.0, 600.0, 600.0, 500.0, 400.0, 1000.0, 1100.0, 400.0, 1000.0, 500.0, 450.0, 950.0, 600.0, 600.0, 550.0, 450.0, 750.0, 750.0, 800.0, 800.0, 650.0, 700.0, 400.0, 300.0, 200.0, 600.0, 350.0, 800.0, 300.0, 1500.0, 500.0, 600.0, 500.0, 400.0, 600.0, 550.0, 300.0, 250.0, 400.0, 300.0, 500.0, 400.0, 500.0, 400.0, 300.0, 650.0, 250.0, 900.0, 1200.0, 1700.0, 800.0, 1200.0, 1600.0, 1300.0, 1200.0, 1200.0, 1300.0, 1100.0, 1100.0, 1500.0, 1000.0, 600.0, 600.0, 950.0, 1500.0, 750.0, 800.0, 800.0, 1000.0, 550.0, 1350.0, 1200.0, 800.0, 800.0, 600.0, 700.0, 550.0, 600.0, 500.0, 600.0, 400.0, 800.0, 500.0, 400.0, 800.0, 800.0, 850.0, 700.0, 600.0, 800.0, 700.0, 400.0, 550.0, 650.0, 700.0, 800.0, 650.0, 700.0, 400.0, 150.0, 650.0, 550.0, 650.0, 450.0, 400.0, 500.0, 450.0, 500.0, 400.0, 750.0, 450.0, 500.0, 200.0, 450.0, 300.0, 800.0, 250.0, 650.0, 600.0, 200.0, 500.0, 200.0, 800.0, 400.0, 300.0, 550.0, 400.0, 150.0, 300.0, 300.0, 100.0, 300.0, 800.0, 750.0, 500.0, 300.0, 500.0, 600.0, 400.0, 400.0, 650.0, 100.0, 200.0, 500.0, 400.0, 800.0, 750.0, 600.0, 750.0, 650.0, 200.0, 250.0, 500.0, 350.0, 500.0, 650.0, 600.0, 1200.0, 100.0, 250.0, 200.0, 400.0, 400.0, 550.0, 400.0, 400.0, 400.0, 600.0, 800.0, 200.0, 350.0, 250.0, 1200.0, 800.0, 200.0, 900.0, 400.0, 900.0, 800.0, 150.0, 200.0, 150.0, 300.0, 1600.0, 500.0, 650.0, 800.0, 500.0, 300.0, 500.0, 350.0, 300.0, 250.0, 500.0, 500.0, 200.0, 500.0, 800.0, 1200.0, 800.0, 500.0, 500.0, 400.0, 400.0, 600.0, 350.0, 250.0, 200.0, 200.0, 1000.0, 800.0, 500.0, 800.0, 400.0, 800.0, 450.0, 700.0, 700.0, 800.0, 300.0, 300.0, 250.0, 150.0, 650.0, 600.0, 700.0, 700.0, 400.0, 600.0, 450.0, 400.0, 300.0, 1000.0, 300.0, 600.0, 600.0, 400.0, 600.0, 150.0, 300.0, 1300.0, 200.0, 800.0, 600.0, 1200.0, 600.0, 700.0, 800.0, 100.0, 200.0, 900.0, 100.0, 700.0, 300.0, 350.0, 450.0, 400.0, 800.0, 400.0, 700.0, 300.0, 1500.0, 800.0, 600.0, 1000.0, 700.0, 450.0, 400.0, 400.0, 600.0, 400.0, 300.0, 900.0, 800.0, 650.0, 650.0, 1200.0, 300.0, 200.0, 200.0, 750.0, 400.0, 650.0, 500.0, 400.0, 100.0, 400.0, 450.0, 900.0, 400.0, 1100.0, 400.0, 350.0, 400.0, 500.0, 400.0, 700.0, 750.0, 550.0, 650.0, 200.0, 300.0, 550.0, 300.0, 1000.0, 700.0, 900.0, 600.0, 1000.0, 500.0, 250.0, 750.0, 400.0, 700.0, 800.0, 300.0, 750.0, 600.0, 500.0, 200.0, 600.0, 1200.0, 600.0, 1200.0, 800.0, 1000.0, 150.0, 800.0, 800.0, 500.0, 450.0, 1700.0, 400.0, 400.0, 300.0, 450.0, 100.0, 400.0, 150.0, 700.0, 800.0, 800.0, 1200.0, 750.0, 100.0, 400.0, 900.0, 700.0, 150.0, 1500.0, 1200.0, 400.0, 300.0, 800.0, 900.0, 200.0, 1000.0, 600.0, 1000.0, 300.0, 1000.0, 100.0, 800.0, 700.0, 800.0, 650.0, 1350.0, 550.0, 600.0, 950.0, 650.0, 600.0, 400.0, 1350.0, 300.0, 850.0, 1200.0, 1000.0, 550.0, 200.0, 600.0, 600.0, 650.0, 1200.0, 1000.0, 800.0, 300.0, 200.0, 600.0, 1200.0, 800.0, 400.0, 800.0, 800.0, 450.0, 200.0, 800.0, 300.0, 350.0, 150.0, 550.0, 400.0, 300.0, 400.0, 400.0, 500.0, 400.0, 750.0, 500.0, 150.0, 400.0, 400.0, 400.0, 400.0, 300.0, 600.0, 400.0, 500.0, 400.0, 400.0, 800.0, 400.0, 200.0, 200.0, 150.0, 800.0, 250.0, 150.0, 400.0, 200.0, 400.0, 500.0, 350.0, 500.0, 700.0, 500.0, 400.0, 400.0, 800.0, 300.0, 400.0, 150.0, 700.0, 300.0, 200.0, 400.0, 400.0, 300.0, 500.0, 1000.0, 750.0, 600.0, 350.0, 600.0, 1000.0, 750.0, 700.0, 500.0, 550.0, 1100.0, 550.0, 600.0, 450.0, 650.0, 800.0, 600.0, 2200.0, 500.0, 600.0, 600.0, 400.0, 800.0, 650.0, 400.0, 450.0, 600.0, 700.0, 600.0, 300.0, 250.0, 150.0, 100.0, 150.0, 400.0, 150.0, 500.0, 100.0, 400.0, 300.0, 500.0, 250.0, 100.0, 200.0, 100.0, 600.0, 200.0, 300.0, 300.0, 400.0, 150.0, 250.0, 200.0, 500.0, 300.0, 100.0, 750.0, 400.0, 300.0, 500.0, 150.0, 150.0, 200.0, 600.0, 200.0, 200.0, 300.0, 150.0, 600.0, 600.0, 1000.0, 600.0, 1200.0, 950.0, 800.0, 1500.0, 1000.0, 800.0, 700.0, 1300.0, 350.0, 800.0, 700.0, 500.0, 1000.0, 1500.0, 400.0, 350.0, 750.0, 800.0, 900.0, 600.0, 750.0, 800.0, 1200.0, 800.0, 800.0, 1200.0, 600.0, 650.0, 800.0, 800.0, 400.0, 1200.0, 250.0, 800.0, 450.0, 700.0, 1200.0, 850.0, 700.0, 1300.0, 600.0, 800.0, 650.0, 700.0, 400.0, 550.0, 1000.0, 600.0, 650.0, 900.0, 400.0, 800.0, 800.0, 200.0, 700.0, 350.0, 900.0, 800.0, 800.0, 750.0, 1200.0, 800.0, 700.0, 450.0, 150.0, 650.0, 500.0, 550.0, 1350.0, 450.0, 800.0, 600.0, 400.0, 200.0, 100.0, 400.0, 700.0, 750.0, 1000.0, 400.0, 900.0, 500.0, 100.0, 400.0, 400.0, 1000.0, 550.0, 550.0, 500.0, 300.0, 700.0, 500.0, 100.0, 1000.0, 400.0, 1350.0, 650.0, 250.0, 250.0, 250.0, 300.0, 400.0, 350.0, 250.0, 1200.0, 650.0, 450.0, 150.0, 450.0, 700.0, 800.0, 300.0, 250.0, 400.0, 200.0, 350.0, 500.0, 150.0, 600.0, 350.0, 100.0, 300.0, 650.0, 800.0, 850.0, 250.0, 300.0, 300.0, 800.0, 300.0, 400.0, 850.0, 1000.0, 1100.0, 2200.0, 1500.0, 1200.0, 1200.0, 1300.0, 1350.0, 1000.0, 800.0, 1500.0, 1400.0, 2000.0, 1000.0, 1400.0, 1800.0, 1200.0, 1500.0, 1500.0, 1100.0, 1500.0, 1000.0, 700.0, 800.0, 2000.0, 1500.0, 1400.0, 1300.0, 1600.0, 1300.0, 1000.0, 1500.0, 1100.0, 1500.0, 1300.0, 500.0, 700.0, 1900.0, 400.0, 600.0, 900.0, 600.0, 500.0, 550.0, 1000.0, 500.0, 600.0, 800.0, 700.0, 500.0, 400.0, 650.0, 500.0, 450.0, 200.0, 450.0, 400.0, 400.0, 400.0, 300.0, 300.0, 400.0, 500.0, 300.0, 400.0, 200.0, 600.0, 700.0, 600.0, 500.0, 800.0, 900.0, 750.0, 550.0, 400.0, 400.0, 800.0, 400.0, 400.0, 300.0, 300.0, 550.0, 600.0, 250.0, 600.0, 300.0, 400.0, 300.0, 600.0, 750.0, 650.0, 750.0, 450.0, 450.0, 600.0, 400.0, 950.0, 400.0, 650.0, 400.0, 500.0, 200.0, 450.0, 400.0, 500.0, 600.0, 800.0, 500.0, 450.0, 300.0, 800.0, 600.0, 600.0, 1200.0, 800.0, 500.0, 150.0, 500.0, 1500.0, 1400.0, 300.0, 600.0, 600.0, 1200.0, 500.0, 800.0, 400.0, 800.0, 1300.0, 1600.0, 700.0, 1800.0, 500.0, 300.0, 400.0, 400.0, 800.0, 1100.0, 400.0, 600.0, 600.0, 1500.0, 800.0, 750.0, 600.0, 350.0, 300.0, 550.0, 900.0, 300.0, 400.0, 250.0, 100.0, 1500.0, 800.0, 600.0, 500.0, 1800.0, 1000.0, 500.0, 250.0, 400.0, 850.0, 500.0, 1800.0, 500.0, 450.0, 1200.0, 600.0, 700.0, 1000.0, 200.0, 600.0, 400.0, 1100.0, 500.0, 900.0, 150.0, 250.0, 1500.0, 200.0, 450.0, 1000.0, 450.0, 1000.0, 500.0, 250.0, 500.0, 450.0, 750.0, 800.0, 750.0, 500.0, 1400.0, 600.0, 600.0, 300.0, 500.0, 200.0, 500.0, 400.0, 250.0, 900.0, 1000.0, 200.0, 700.0, 500.0, 1200.0, 600.0, 200.0, 400.0, 1100.0, 350.0, 400.0, 350.0, 1200.0, 450.0, 600.0, 600.0, 1500.0, 1700.0, 400.0, 250.0, 400.0, 600.0, 1200.0, 800.0, 1400.0, 650.0, 180.0, 400.0, 650.0, 300.0, 300.0, 400.0, 1400.0, 200.0, 300.0, 800.0, 800.0, 150.0, 1700.0, 500.0, 500.0, 1000.0, 300.0, 500.0, 1300.0, 1300.0, 750.0, 600.0, 200.0, 400.0, 750.0, 600.0, 750.0, 400.0, 400.0, 700.0, 600.0, 800.0, 1500.0, 500.0, 330.0, 250.0, 550.0, 600.0, 1400.0, 800.0, 600.0, 800.0, 550.0, 200.0, 500.0, 700.0, 700.0, 300.0, 500.0, 500.0, 500.0, 450.0, 400.0, 800.0, 500.0, 800.0, 400.0, 550.0, 550.0, 150.0, 450.0, 500.0, 650.0, 300.0, 750.0, 1500.0, 600.0, 300.0, 300.0, 100.0, 150.0, 400.0, 1000.0, 600.0, 700.0, 250.0, 800.0, 300.0, 600.0, 500.0, 300.0, 400.0, 500.0, 200.0, 500.0, 400.0, 250.0, 600.0, 500.0, 600.0, 600.0, 900.0, 300.0, 600.0, 500.0, 400.0, 750.0, 150.0, 700.0, 300.0, 300.0, 350.0, 500.0, 2000.0, 1500.0, 1100.0, 1000.0, 1800.0, 1700.0, 1800.0, 1400.0, 750.0, 1200.0, 800.0, 1800.0, 1200.0, 950.0, 600.0, 400.0, 700.0, 600.0, 750.0, 1500.0, 500.0, 1500.0, 1200.0, 400.0, 600.0, 900.0, 400.0, 800.0, 500.0, 650.0, 500.0, 1500.0, 800.0, 1600.0, 1400.0, 600.0, 500.0, 800.0, 550.0, 500.0, 1000.0, 400.0, 600.0, 800.0, 900.0, 700.0, 400.0, 500.0, 450.0, 800.0, 550.0, 550.0, 750.0, 2000.0, 400.0, 550.0, 1000.0, 800.0, 450.0, 300.0, 500.0, 300.0, 400.0, 250.0, 500.0, 600.0, 300.0, 400.0, 200.0, 500.0, 450.0, 250.0, 350.0, 200.0, 330.0, 200.0, 400.0, 600.0, 250.0, 200.0, 500.0, 400.0, 800.0, 400.0, 450.0, 400.0, 1500.0, 1600.0, 1400.0, 1400.0, 1500.0, 1900.0, 1300.0, 1500.0, 1500.0, 1600.0, 1400.0, 1300.0, 1000.0, 1500.0, 1400.0, 1100.0, 1500.0, 1300.0, 2000.0, 2000.0, 2500.0, 600.0, 700.0, 700.0, 800.0, 500.0, 500.0, 850.0, 800.0, 1200.0, 900.0, 800.0, 1000.0, 550.0, 800.0, 300.0, 750.0, 600.0, 600.0, 150.0, 700.0, 400.0, 500.0, 700.0, 150.0, 600.0, 600.0, 250.0, 2500.0, 500.0, 250.0, 300.0, 200.0, 1900.0, 400.0, 550.0, 250.0, 600.0, 400.0, 400.0, 400.0, 500.0, 300.0, 800.0, 300.0, 1300.0, 1600.0, 1400.0, 1000.0, 1700.0, 1500.0, 1500.0, 1400.0, 2000.0, 1600.0, 1400.0, 1500.0, 1900.0, 1500.0, 1900.0, 1500.0, 1200.0, 2500.0, 1600.0, 1400.0, 1400.0, 1700.0, 1800.0, 1500.0, 1100.0, 1500.0, 1400.0, 1400.0, 1500.0, 1900.0, 1500.0, 1500.0, 1500.0, 1200.0, 1500.0, 1200.0, 1500.0, 800.0, 650.0, 1000.0, 1800.0, 2200.0, 2100.0, 3000.0, 1200.0, 2800.0, 1700.0, 1400.0, 1600.0, 2500.0, 750.0, 3000.0, 1500.0, 500.0, 1000.0, 1500.0, 3400.0, 2000.0, 1200.0, 1700.0, 1200.0, 1600.0, 2000.0, 1300.0, 2200.0, 1300.0, 1600.0, 3000.0, 1000.0, 1200.0, 1000.0, 1400.0, 1900.0, 800.0, 1000.0, 500.0, 1200.0, 650.0, 1300.0, 1700.0, 1800.0, 1600.0, 1100.0, 750.0, 1200.0, 500.0, 650.0, 800.0, 350.0, 1100.0, 800.0, 900.0, 1700.0, 1000.0, 600.0, 600.0, 2500.0, 650.0, 1400.0, 750.0, 400.0, 900.0, 700.0, 700.0, 500.0, 700.0, 800.0, 800.0, 750.0, 650.0, 750.0, 500.0, 1000.0, 1000.0, 400.0, 1200.0, 500.0, 500.0, 600.0, 800.0, 1000.0, 500.0, 600.0, 700.0, 900.0, 1300.0, 750.0, 1000.0, 750.0, 300.0, 300.0, 300.0, 500.0, 450.0, 150.0, 600.0, 800.0, 550.0, 350.0, 250.0, 500.0, 500.0, 350.0, 500.0, 650.0, 500.0, 600.0, 650.0, 400.0, 250.0, 750.0, 200.0, 750.0, 400.0, 1200.0, 400.0, 200.0, 750.0, 400.0, 450.0, 400.0, 800.0, 250.0, 800.0, 500.0, 750.0, 400.0, 650.0, 400.0, 750.0, 650.0, 1300.0, 1600.0, 1200.0, 1200.0, 500.0, 300.0, 600.0, 450.0, 750.0, 1300.0, 600.0, 350.0, 600.0, 500.0, 500.0, 700.0, 1500.0, 400.0, 400.0, 800.0, 900.0, 400.0, 400.0, 1600.0, 800.0, 300.0, 400.0, 1300.0, 350.0, 400.0, 500.0, 900.0, 1600.0, 250.0, 1100.0, 400.0, 700.0, 700.0, 650.0, 700.0, 700.0, 500.0, 300.0, 400.0, 300.0, 400.0, 100.0, 400.0, 250.0, 350.0, 800.0, 400.0, 600.0, 3000.0, 700.0, 500.0, 700.0, 1500.0, 450.0, 700.0, 300.0, 400.0, 500.0, 500.0, 800.0, 40.0, 180.0, 300.0, 150.0, 750.0, 400.0, 500.0, 200.0, 750.0, 150.0, 1300.0, 1300.0, 600.0, 150.0, 850.0, 500.0, 1000.0, 1000.0, 700.0, 700.0, 1000.0, 300.0, 800.0, 950.0, 300.0, 900.0, 800.0, 500.0, 1000.0, 500.0, 300.0, 1400.0, 1300.0, 1500.0, 500.0, 550.0, 600.0, 750.0, 550.0, 2000.0, 550.0, 1000.0, 700.0, 600.0, 250.0, 1400.0, 1500.0, 200.0, 700.0, 400.0, 400.0, 600.0, 400.0, 200.0, 450.0, 450.0, 500.0, 500.0, 500.0, 1000.0, 700.0, 300.0, 700.0, 350.0, 450.0, 250.0, 200.0, 400.0, 400.0, 2000.0, 400.0, 400.0, 700.0, 600.0, 750.0, 700.0, 300.0, 700.0, 1200.0, 400.0, 800.0, 200.0, 600.0, 1000.0, 500.0, 700.0, 1500.0, 600.0, 550.0, 300.0, 500.0, 650.0, 800.0, 650.0, 500.0, 500.0, 650.0, 2000.0, 300.0, 600.0, 750.0, 650.0, 1000.0, 700.0, 200.0, 800.0, 800.0, 300.0, 700.0, 600.0, 550.0, 1000.0, 1500.0, 150.0, 400.0, 500.0, 1200.0, 700.0, 750.0, 1200.0, 800.0, 900.0, 650.0, 800.0, 1700.0, 1700.0, 800.0, 1900.0, 1300.0, 300.0, 2100.0, 600.0, 1000.0, 1700.0, 2100.0, 1500.0, 500.0, 1700.0, 1100.0, 1400.0, 650.0, 800.0, 450.0, 1000.0, 600.0, 600.0, 700.0, 1000.0, 2000.0, 750.0, 1000.0, 1400.0, 1500.0, 1200.0, 850.0, 1500.0, 850.0, 1000.0, 600.0, 1200.0, 300.0, 1000.0, 1400.0, 1400.0, 1800.0, 400.0, 1400.0, 350.0, 800.0, 300.0, 1800.0, 500.0, 1300.0, 800.0, 2100.0, 400.0, 550.0, 800.0, 1000.0, 300.0, 800.0, 550.0, 600.0, 1000.0, 500.0, 1300.0, 1000.0, 1200.0, 1300.0, 300.0, 550.0, 250.0, 500.0, 700.0, 1200.0, 1000.0, 1200.0, 1000.0, 1500.0, 550.0, 800.0, 900.0, 1700.0, 1400.0, 550.0, 400.0, 750.0, 400.0, 900.0, 500.0, 800.0, 500.0, 800.0, 400.0, 800.0, 150.0, 750.0, 600.0, 1200.0, 500.0, 400.0, 500.0, 800.0, 1100.0, 500.0, 150.0, 300.0, 350.0, 100.0, 300.0, 250.0, 300.0, 550.0, 500.0, 600.0, 1600.0, 1800.0, 1600.0, 550.0, 400.0, 450.0, 250.0, 450.0, 180.0, 400.0, 200.0, 300.0, 800.0, 800.0, 2000.0, 1000.0, 600.0, 400.0, 1250.0, 1400.0, 300.0, 150.0, 700.0, 700.0, 500.0, 300.0, 400.0, 400.0, 2000.0, 700.0, 1000.0, 500.0, 400.0, 300.0, 350.0, 400.0, 300.0, 800.0, 400.0, 400.0, 300.0, 150.0, 900.0, 150.0, 250.0, 400.0, 400.0, 150.0, 300.0, 300.0, 500.0, 350.0, 600.0, 900.0, 1300.0, 200.0, 750.0, 300.0, 700.0, 1300.0, 1100.0, 2000.0, 1500.0, 1500.0, 2000.0, 750.0, 1500.0, 1500.0, 1600.0, 1500.0, 1200.0, 800.0, 1100.0, 1100.0, 2000.0, 500.0, 750.0, 1500.0, 800.0, 700.0, 650.0, 650.0, 350.0, 400.0, 650.0, 700.0, 500.0, 1300.0, 1000.0, 600.0, 500.0, 500.0, 800.0, 800.0, 550.0, 450.0, 250.0, 300.0, 400.0, 600.0, 500.0, 300.0, 450.0, 600.0, 1700.0, 1500.0, 1800.0, 1500.0, 1500.0, 2500.0, 3000.0, 2200.0, 3000.0, 800.0, 2800.0, 550.0, 1100.0, 2100.0, 1500.0, 3000.0, 2500.0, 3500.0, 1700.0, 1700.0, 1500.0, 1200.0, 1200.0, 1300.0, 1500.0, 1300.0, 2800.0, 2100.0, 1200.0, 800.0, 1600.0, 1700.0, 1600.0, 3000.0, 1000.0, 1500.0, 800.0, 2000.0, 1500.0, 700.0, 1500.0, 2500.0, 1000.0, 2100.0, 1900.0, 1700.0, 2000.0, 2200.0, 1400.0, 1500.0, 600.0, 800.0, 900.0, 1200.0, 1700.0, 2500.0, 1600.0, 1300.0, 1400.0, 1000.0, 1000.0, 600.0, 2500.0, 1400.0, 200.0, 1500.0, 4000.0, 550.0, 3000.0, 1500.0, 3000.0, 500.0, 1000.0, 1100.0, 650.0, 1200.0, 2500.0, 1500.0, 2000.0, 1500.0, 1000.0, 1400.0, 1500.0, 1100.0, 600.0, 1300.0, 1000.0, 1300.0, 650.0, 850.0, 750.0, 1800.0, 500.0, 1800.0, 1000.0, 1000.0, 1200.0, 3400.0, 750.0, 1800.0, 2000.0, 3000.0, 1000.0, 1400.0, 3500.0, 400.0, 900.0, 1200.0, 800.0, 1500.0, 1200.0, 4000.0, 500.0, 700.0, 1300.0, 4000.0, 1200.0, 1000.0, 1200.0, 1000.0, 700.0, 1700.0, 2000.0, 1200.0, 1600.0, 800.0, 2000.0, 3000.0, 2000.0, 2000.0, 3500.0, 1200.0, 1000.0, 700.0, 1300.0, 800.0, 1000.0, 500.0, 750.0, 800.0, 1800.0, 800.0, 2800.0, 800.0, 1000.0, 500.0, 3000.0, 750.0, 800.0, 2000.0, 2200.0, 650.0, 1800.0, 950.0, 750.0, 3000.0, 1000.0, 1500.0, 500.0, 400.0, 550.0, 1000.0, 600.0, 700.0, 2000.0, 550.0, 1200.0, 1000.0, 300.0, 1300.0, 500.0, 1000.0, 500.0, 1600.0, 500.0, 3000.0, 1000.0, 450.0, 1000.0, 400.0, 650.0, 550.0, 1200.0, 1200.0, 1000.0, 1000.0, 2000.0, 1500.0, 400.0, 300.0, 1200.0, 3000.0, 500.0, 500.0, 1800.0, 2500.0, 800.0, 2500.0, 700.0, 1400.0, 600.0, 600.0, 800.0, 550.0, 850.0, 2400.0, 500.0, 1400.0, 1900.0, 800.0, 1000.0, 1200.0, 1500.0, 250.0, 600.0, 700.0, 500.0, 3000.0, 500.0, 800.0, 600.0, 800.0, 1200.0, 550.0, 800.0, 800.0, 1200.0, 800.0, 600.0, 350.0, 2000.0, 700.0, 600.0, 2500.0, 900.0, 600.0, 1000.0, 600.0, 400.0, 250.0, 700.0, 400.0, 300.0, 500.0, 200.0, 150.0, 150.0, 150.0, 500.0, 300.0, 500.0, 300.0, 300.0, 150.0, 300.0, 250.0, 500.0, 150.0, 300.0, 400.0, 250.0, 350.0, 800.0, 200.0, 400.0, 350.0, 400.0, 500.0, 500.0, 200.0, 400.0, 500.0, 350.0, 250.0, 400.0, 500.0, 250.0, 300.0, 300.0, 300.0, 300.0, 100.0, 500.0, 1300.0, 1100.0, 1300.0, 750.0, 1300.0, 1700.0, 600.0, 1000.0, 750.0, 550.0, 850.0, 200.0, 700.0, 700.0, 750.0, 1800.0, 1600.0, 400.0, 300.0, 150.0, 400.0, 400.0, 1100.0, 600.0, 300.0, 1300.0, 2000.0, 1200.0, 2000.0, 1500.0, 1500.0, 1500.0, 1600.0, 1100.0, 1100.0, 2000.0, 1500.0, 1700.0, 1500.0, 2500.0, 3000.0, 3000.0, 1500.0, 2500.0, 1700.0, 1700.0, 1200.0, 1300.0, 1300.0, 1700.0, 1500.0, 2000.0, 1500.0, 2500.0, 1900.0, 1300.0, 1000.0, 3000.0, 1100.0, 1200.0, 1000.0, 1400.0, 1100.0, 1000.0, 1000.0, 1200.0, 1200.0, 1500.0, 1000.0, 2000.0, 1200.0, 2800.0, 3000.0, 1500.0, 600.0, 1000.0, 1000.0, 1000.0, 2000.0, 1500.0, 3000.0, 1200.0, 2500.0, 2400.0, 1400.0, 1200.0, 1500.0, 1300.0, 1300.0, 800.0, 700.0, 350.0, 150.0, 200.0, 200.0, 400.0, 500.0, 250.0, 1200.0, 1300.0, 2100.0, 1700.0, 1500.0, 2500.0, 1900.0, 1700.0, 1000.0, 1000.0, 1100.0, 1200.0, 1000.0, 1400.0, 1100.0, 1300.0, 1000.0, 1000.0, 1000.0, 1200.0, 1500.0, 4000.0, 1200.0, 1000.0, 1700.0, 2000.0, 2000.0, 3500.0, 1200.0, 1300.0, 1800.0, 1000.0, 1800.0, 1500.0, 600.0, 1000.0, 1000.0, 1200.0, 1000.0, 3000.0, 1200.0, 1800.0, 1400.0, 1200.0, 1500.0, 800.0, 1300.0, 600.0, 700.0, 750.0, 1600.0, 1400.0, 1100.0, 1000.0, 1800.0, 1700.0, 1500.0, 1200.0, 2500.0, 1000.0, 1500.0, 2000.0, 800.0, 1500.0, 2000.0, 1900.0, 1200.0, 1200.0, 1200.0, 600.0, 1100.0, 400.0, 600.0, 300.0, 600.0, 500.0, 500.0, 650.0, 900.0, 600.0, 900.0, 1400.0, 2000.0, 1000.0, 700.0, 600.0, 300.0, 400.0, 700.0, 400.0, 700.0, 600.0, 450.0, 450.0, 250.0, 500.0, 400.0, 400.0, 700.0, 300.0, 850.0, 500.0, 500.0, 650.0, 600.0, 400.0, 400.0, 500.0, 400.0, 600.0, 800.0, 400.0, 300.0, 450.0, 1000.0, 800.0, 800.0, 500.0, 500.0, 300.0, 350.0, 500.0, 400.0, 400.0, 300.0, 300.0, 700.0, 150.0, 600.0, 500.0, 250.0, 650.0, 250.0, 750.0, 800.0, 500.0, 350.0, 500.0, 500.0, 400.0, 500.0, 350.0, 400.0, 1400.0, 700.0, 300.0, 600.0, 450.0, 600.0, 600.0, 300.0, 300.0, 550.0, 750.0, 300.0, 800.0, 400.0, 200.0, 300.0, 500.0, 450.0, 450.0, 400.0, 200.0, 400.0, 800.0, 600.0, 400.0, 300.0, 400.0, 650.0, 450.0, 400.0, 400.0, 750.0, 650.0, 150.0, 800.0, 200.0, 300.0, 450.0, 600.0, 350.0, 400.0, 300.0, 550.0, 1400.0, 300.0, 300.0, 1300.0, 250.0, 500.0, 800.0, 600.0, 400.0, 600.0, 750.0, 1000.0, 600.0, 1000.0, 300.0, 300.0, 400.0, 400.0, 700.0, 700.0, 700.0, 400.0, 650.0, 1400.0, 900.0, 350.0, 750.0, 900.0, 400.0, 750.0, 900.0, 500.0, 600.0, 500.0, 750.0, 800.0, 600.0, 300.0, 1500.0, 450.0, 800.0, 550.0, 500.0, 400.0, 550.0, 700.0, 1000.0, 450.0, 250.0, 500.0, 2000.0, 1000.0, 1200.0, 300.0, 600.0, 600.0, 400.0, 800.0, 700.0, 900.0, 1000.0, 350.0, 800.0, 300.0, 2000.0, 450.0, 350.0, 200.0, 250.0, 400.0, 550.0, 1100.0, 250.0, 400.0, 1500.0, 800.0, 400.0, 600.0, 1500.0, 500.0, 800.0, 1500.0, 200.0, 400.0, 300.0, 600.0, 600.0, 200.0, 1100.0, 500.0, 600.0, 300.0, 800.0, 900.0, 1500.0, 800.0, 600.0, 1100.0, 200.0, 200.0, 350.0, 500.0, 400.0, 450.0, 1200.0, 1000.0, 700.0, 700.0, 650.0, 500.0, 300.0, 600.0, 400.0, 400.0, 350.0, 1100.0, 400.0, 250.0, 800.0, 750.0, 400.0, 450.0, 300.0, 300.0, 600.0, 650.0, 600.0, 800.0, 700.0, 250.0, 500.0, 1000.0, 350.0, 700.0, 200.0, 400.0, 350.0, 500.0, 800.0, 2000.0, 350.0, 600.0, 700.0, 800.0, 300.0, 550.0, 400.0, 550.0, 400.0, 750.0, 150.0, 700.0, 300.0, 600.0, 600.0, 500.0, 1000.0, 250.0, 1000.0, 1100.0, 300.0, 1200.0, 500.0, 600.0, 450.0, 300.0, 400.0, 800.0, 400.0, 800.0, 500.0, 300.0, 300.0, 800.0, 200.0, 800.0, 900.0, 600.0, 1600.0, 800.0, 650.0, 750.0, 500.0, 750.0, 750.0, 500.0, 500.0, 350.0, 1000.0, 1200.0, 550.0, 200.0, 750.0, 900.0, 400.0, 700.0, 550.0, 500.0, 500.0, 700.0, 200.0, 200.0, 250.0, 800.0, 1000.0, 600.0, 1500.0, 150.0, 750.0, 150.0, 500.0, 450.0, 400.0, 300.0, 900.0, 1000.0, 500.0, 850.0, 800.0, 500.0, 250.0, 400.0, 1000.0, 1000.0, 1100.0, 700.0, 1700.0, 400.0, 300.0, 600.0, 500.0, 400.0, 400.0, 450.0, 400.0, 550.0, 900.0, 400.0, 500.0, 300.0, 1000.0, 200.0, 600.0, 400.0, 350.0, 250.0, 400.0, 450.0, 1200.0, 800.0, 1000.0, 600.0, 700.0, 600.0, 300.0, 750.0, 1500.0, 600.0, 600.0, 800.0, 800.0, 800.0, 700.0, 750.0, 750.0, 550.0, 400.0, 250.0, 500.0, 500.0, 850.0, 500.0, 600.0, 400.0, 650.0, 750.0, 550.0, 350.0, 500.0, 800.0, 450.0, 500.0, 900.0, 750.0, 800.0, 600.0, 500.0, 400.0, 300.0, 450.0, 600.0, 500.0, 200.0, 900.0, 200.0, 450.0, 450.0, 200.0, 450.0, 250.0, 500.0, 400.0, 350.0, 450.0, 300.0, 550.0, 350.0, 800.0, 650.0, 150.0, 150.0, 500.0, 250.0, 300.0, 300.0, 2400.0, 2500.0, 1600.0, 1400.0, 1700.0, 1100.0, 1000.0, 1800.0, 1300.0, 1700.0, 800.0, 800.0, 800.0, 1500.0, 800.0, 900.0, 700.0, 1200.0, 2500.0, 500.0, 850.0, 900.0, 700.0, 1000.0, 850.0, 700.0, 1500.0, 1000.0, 1400.0, 1450.0, 1400.0, 800.0, 3000.0, 700.0, 2000.0, 1000.0, 1000.0, 450.0, 1000.0, 900.0, 900.0, 1500.0, 800.0, 2000.0, 750.0, 400.0, 800.0, 250.0, 200.0, 800.0, 600.0, 1000.0, 1000.0, 600.0, 700.0, 1100.0, 800.0, 150.0, 700.0, 300.0, 200.0, 1000.0, 800.0, 350.0, 250.0, 500.0, 400.0, 300.0, 500.0, 1500.0, 300.0, 2000.0, 1000.0, 750.0, 300.0, 350.0, 600.0, 400.0, 600.0, 600.0, 300.0, 250.0, 1900.0, 600.0, 3000.0, 1200.0, 350.0, 450.0, 500.0, 350.0, 800.0, 400.0, 750.0, 700.0, 200.0, 400.0, 500.0, 300.0, 1200.0, 1000.0, 1000.0, 700.0, 700.0, 650.0, 1200.0, 400.0, 300.0, 400.0, 500.0, 400.0, 300.0, 600.0, 600.0, 700.0, 350.0, 400.0, 500.0, 300.0, 200.0, 450.0, 400.0, 300.0, 650.0, 500.0, 250.0, 700.0, 350.0, 600.0, 700.0, 400.0, 700.0, 250.0, 300.0, 1100.0, 300.0, 600.0, 1000.0, 500.0, 1200.0, 1500.0, 2400.0, 2500.0, 1000.0, 1450.0, 2000.0, 1200.0, 1600.0, 1300.0, 1600.0, 1100.0, 800.0, 600.0, 1100.0, 1400.0, 2000.0, 1500.0, 1200.0, 900.0, 1600.0, 1300.0, 1500.0, 1300.0, 1000.0, 1500.0, 1500.0, 1500.0, 1500.0, 600.0, 1100.0, 750.0, 700.0, 1400.0, 800.0, 1000.0, 900.0, 2000.0, 900.0, 1000.0, 400.0, 950.0, 1000.0, 900.0, 500.0, 700.0, 500.0, 200.0, 600.0, 650.0, 600.0, 400.0, 500.0, 650.0, 700.0, 500.0, 200.0, 600.0, 900.0, 800.0, 1300.0, 600.0, 600.0, 800.0, 900.0, 500.0, 800.0, 900.0, 800.0, 550.0, 800.0, 900.0, 600.0, 1000.0, 900.0, 500.0, 700.0, 600.0, 800.0, 1200.0, 600.0, 1200.0, 650.0, 1000.0, 600.0, 900.0, 600.0, 450.0, 750.0, 650.0, 600.0, 400.0, 600.0, 500.0, 700.0, 400.0, 350.0, 700.0, 700.0, 300.0, 400.0, 800.0, 600.0, 400.0, 400.0, 500.0, 500.0, 500.0, 450.0, 450.0, 300.0, 400.0, 400.0, 200.0, 400.0, 400.0, 250.0, 300.0, 200.0, 250.0, 600.0, 600.0, 100.0, 250.0, 400.0, 500.0, 150.0, 500.0, 400.0, 450.0, 550.0, 400.0, 400.0, 650.0, 600.0, 250.0, 150.0, 600.0, 400.0, 600.0, 250.0, 250.0, 400.0, 600.0, 600.0, 200.0, 200.0, 300.0, 250.0, 400.0, 300.0, 400.0, 300.0, 250.0, 300.0, 600.0, 350.0, 300.0, 400.0, 400.0, 800.0, 300.0, 500.0, 500.0, 350.0, 400.0, 300.0, 500.0, 600.0, 400.0, 500.0, 350.0, 300.0, 400.0, 500.0, 800.0, 800.0, 700.0, 500.0, 650.0, 300.0, 300.0, 450.0, 600.0, 600.0, 250.0, 750.0, 650.0, 550.0, 500.0, 400.0, 100.0, 400.0, 800.0, 500.0, 600.0, 200.0, 400.0, 600.0, 1000.0, 200.0, 200.0, 250.0, 700.0, 400.0, 450.0, 800.0, 300.0, 500.0, 100.0, 450.0, 300.0, 450.0, 500.0, 400.0, 400.0, 550.0, 700.0, 400.0, 400.0, 600.0, 550.0, 200.0, 300.0, 400.0, 300.0, 200.0, 650.0, 200.0, 500.0, 500.0, 300.0, 400.0, 800.0, 200.0, 400.0, 800.0, 400.0, 800.0, 450.0, 400.0, 200.0, 600.0, 750.0, 300.0, 400.0, 600.0, 600.0, 300.0, 250.0, 300.0, 800.0, 250.0, 500.0, 200.0, 1200.0, 300.0, 100.0, 400.0, 400.0, 350.0, 400.0, 700.0, 350.0, 1200.0, 1000.0, 300.0, 1500.0, 300.0, 600.0, 500.0, 400.0, 600.0, 600.0, 300.0, 150.0, 800.0, 350.0, 200.0, 700.0, 150.0, 600.0, 600.0, 600.0, 400.0, 700.0, 500.0, 700.0, 500.0, 100.0, 600.0, 500.0, 800.0, 700.0, 500.0, 400.0, 800.0, 400.0, 400.0, 800.0, 750.0, 600.0, 500.0, 250.0, 900.0, 200.0, 850.0, 400.0, 400.0, 400.0, 300.0, 850.0, 150.0, 800.0, 700.0, 250.0, 750.0, 600.0, 1000.0, 300.0, 600.0, 500.0, 400.0, 600.0, 500.0, 500.0, 500.0, 700.0, 200.0, 200.0, 600.0, 400.0, 500.0, 800.0, 200.0, 250.0, 150.0, 300.0, 500.0, 900.0, 1000.0, 700.0, 300.0, 450.0, 800.0, 500.0, 1000.0, 1200.0, 450.0, 230.0, 500.0, 500.0, 300.0, 700.0, 500.0, 400.0, 400.0, 500.0, 400.0, 400.0, 300.0, 650.0, 300.0, 300.0, 250.0, 500.0, 400.0, 600.0, 600.0, 300.0, 150.0, 300.0, 500.0, 300.0, 250.0, 400.0, 600.0, 700.0, 550.0, 400.0, 800.0, 900.0, 300.0, 700.0, 950.0, 500.0, 200.0, 1200.0, 900.0, 150.0, 800.0, 300.0, 750.0, 400.0, 350.0, 200.0, 400.0, 800.0, 600.0, 450.0, 500.0, 500.0, 500.0, 400.0, 300.0, 1500.0, 500.0, 550.0, 900.0, 500.0, 900.0, 400.0, 550.0, 400.0, 1300.0, 300.0, 400.0, 300.0, 400.0, 400.0, 700.0, 1000.0, 600.0, 800.0, 400.0, 300.0, 600.0, 600.0, 150.0, 750.0, 550.0, 250.0, 300.0, 750.0, 650.0, 500.0, 400.0, 450.0, 400.0, 400.0, 600.0, 500.0, 650.0, 800.0, 800.0, 600.0, 650.0, 700.0, 400.0, 600.0, 450.0, 250.0, 1200.0, 1000.0, 150.0, 700.0, 400.0, 800.0, 500.0, 800.0, 1100.0, 1300.0, 700.0, 600.0, 500.0, 600.0, 1200.0, 500.0, 400.0, 600.0, 1500.0, 600.0, 300.0, 550.0, 500.0, 1000.0, 600.0, 500.0, 1100.0, 1000.0, 300.0, 500.0, 1000.0, 400.0, 650.0, 300.0, 400.0, 500.0, 1200.0, 300.0, 500.0, 800.0, 250.0, 500.0, 800.0, 450.0, 600.0, 400.0, 500.0, 350.0, 250.0, 600.0, 200.0, 550.0, 600.0, 450.0, 400.0, 750.0, 750.0, 400.0, 600.0, 700.0, 500.0, 450.0, 400.0, 550.0, 300.0, 750.0, 1600.0, 600.0, 600.0, 1000.0, 800.0, 1600.0, 500.0, 1000.0, 800.0, 700.0, 800.0, 650.0, 300.0, 600.0, 400.0, 1000.0, 800.0, 300.0, 600.0, 1300.0, 200.0, 400.0, 1000.0, 600.0, 600.0, 700.0, 600.0, 600.0, 1500.0, 400.0, 1200.0, 1200.0, 600.0, 500.0, 1300.0, 300.0, 1100.0, 800.0, 500.0, 1200.0, 400.0, 800.0, 250.0, 500.0, 450.0, 900.0, 500.0, 350.0, 600.0, 1000.0, 300.0, 1300.0, 1000.0, 800.0, 1000.0, 600.0, 1200.0, 350.0, 1000.0, 1000.0, 2500.0, 800.0, 300.0, 450.0, 450.0, 700.0, 900.0, 600.0, 650.0, 700.0, 1500.0, 500.0, 900.0, 350.0, 1500.0, 550.0, 1100.0, 700.0, 500.0, 600.0, 700.0, 1200.0, 500.0, 500.0, 550.0, 1200.0, 750.0, 650.0, 300.0, 400.0, 300.0, 300.0, 800.0, 1000.0, 900.0, 650.0, 1400.0, 700.0, 1200.0, 600.0, 1500.0, 1600.0, 550.0, 250.0, 300.0, 1400.0, 500.0, 1000.0, 800.0, 250.0, 1200.0, 700.0, 600.0, 1500.0, 700.0, 400.0, 400.0, 250.0, 750.0, 1500.0, 1000.0, 400.0, 750.0, 600.0, 1500.0, 450.0, 1100.0, 1000.0, 200.0, 400.0, 700.0, 350.0, 1500.0, 650.0, 400.0, 250.0, 600.0, 1000.0, 1200.0, 900.0, 750.0, 900.0, 300.0, 400.0, 600.0, 500.0, 800.0, 1000.0, 900.0, 400.0, 300.0, 300.0, 1100.0, 400.0, 700.0, 300.0, 700.0, 400.0, 550.0, 500.0, 400.0, 200.0, 500.0, 500.0, 550.0, 300.0, 1700.0, 1200.0, 500.0, 550.0, 400.0, 400.0, 600.0, 600.0, 650.0, 1000.0, 400.0, 400.0, 600.0, 500.0, 200.0, 650.0, 600.0, 250.0, 350.0, 750.0, 400.0, 1100.0, 700.0, 600.0, 900.0, 1100.0, 500.0, 500.0, 200.0, 450.0, 800.0, 500.0, 800.0, 650.0, 350.0, 200.0, 600.0, 600.0, 600.0, 600.0, 450.0, 1000.0, 800.0, 400.0, 500.0, 600.0, 500.0, 400.0, 200.0, 500.0, 450.0, 150.0, 650.0, 600.0, 400.0, 300.0, 400.0, 150.0, 600.0, 500.0, 1300.0, 500.0, 300.0, 100.0, 400.0, 600.0, 1000.0, 500.0, 300.0, 550.0, 1200.0, 900.0, 400.0, 400.0, 800.0, 1300.0, 1200.0, 450.0, 1400.0, 800.0, 650.0, 1100.0, 350.0, 1200.0, 400.0, 700.0, 900.0, 500.0, 500.0, 300.0, 450.0, 500.0, 750.0, 800.0, 300.0, 800.0, 200.0, 350.0, 500.0, 450.0, 900.0, 400.0, 450.0, 700.0, 200.0, 600.0, 300.0, 800.0, 1000.0, 350.0, 1000.0, 1400.0, 700.0, 600.0, 400.0, 400.0, 500.0, 550.0, 800.0, 600.0, 900.0, 650.0, 800.0, 650.0, 150.0, 500.0, 650.0, 350.0, 200.0, 400.0, 800.0, 150.0, 200.0, 800.0, 700.0, 150.0, 500.0, 600.0, 200.0, 400.0, 900.0, 700.0, 600.0, 800.0, 150.0, 400.0, 1500.0, 500.0, 400.0, 900.0, 400.0, 300.0, 400.0, 300.0, 500.0, 300.0, 200.0, 200.0, 200.0, 150.0, 300.0, 500.0, 250.0, 400.0, 800.0, 400.0, 500.0, 500.0, 200.0, 200.0, 400.0, 100.0, 600.0, 1100.0, 400.0, 1300.0, 600.0, 700.0, 500.0, 800.0, 550.0, 400.0, 450.0, 500.0, 600.0, 300.0, 400.0, 1200.0, 400.0, 650.0, 500.0, 900.0, 350.0, 600.0, 400.0, 400.0, 400.0, 400.0, 250.0, 300.0, 200.0, 450.0, 500.0, 300.0, 500.0, 200.0, 500.0, 500.0, 350.0, 400.0, 400.0, 400.0, 400.0, 800.0, 700.0, 350.0, 150.0, 400.0, 200.0, 800.0, 700.0, 400.0, 150.0, 400.0, 500.0, 600.0, 400.0, 250.0, 200.0, 500.0, 400.0, 400.0, 200.0, 1600.0, 1300.0, 1600.0, 1100.0, 800.0, 900.0, 800.0, 1500.0, 900.0, 500.0, 850.0, 550.0, 550.0, 300.0, 800.0, 800.0, 300.0, 800.0, 600.0, 1100.0, 500.0, 550.0, 500.0, 400.0, 500.0, 700.0, 600.0, 400.0, 600.0, 700.0, 900.0, 1000.0, 600.0, 500.0, 600.0, 400.0, 350.0, 700.0, 350.0, 600.0, 600.0, 500.0, 200.0, 600.0, 600.0, 650.0, 600.0, 400.0, 800.0, 500.0, 600.0, 600.0, 500.0, 550.0, 600.0, 1000.0, 600.0, 500.0, 650.0, 450.0, 500.0, 650.0, 700.0, 500.0, 250.0, 500.0, 300.0, 1000.0, 300.0, 500.0, 250.0, 400.0, 300.0, 200.0, 300.0, 400.0, 250.0, 300.0, 400.0, 400.0, 500.0, 300.0, 300.0, 400.0, 500.0, 400.0, 150.0, 250.0, 500.0, 150.0, 200.0, 250.0, 300.0, 200.0, 300.0, 700.0, 500.0, 300.0, 200.0, 300.0, 300.0, 400.0, 600.0, 500.0, 400.0, 500.0, 300.0, 500.0, 300.0, 200.0, 400.0, 400.0, 250.0, 300.0, 300.0, 400.0, 350.0, 450.0, 250.0, 450.0, 400.0, 300.0, 550.0, 600.0, 400.0, 400.0, 500.0, 400.0, 650.0, 250.0, 400.0, 350.0, 400.0, 300.0, 300.0, 250.0, 1100.0, 200.0, 600.0, 900.0, 1400.0, 1500.0, 2000.0, 1000.0, 1100.0, 1500.0, 1200.0, 900.0, 1600.0, 1300.0, 1300.0, 1400.0, 800.0, 1600.0, 1600.0, 700.0, 1500.0, 1600.0, 750.0, 1300.0, 1500.0, 1000.0, 1000.0, 1300.0, 1500.0, 1500.0, 1400.0, 1800.0, 600.0, 1400.0, 1300.0, 600.0, 1200.0, 1500.0, 1400.0, 1200.0, 1300.0, 1500.0, 1500.0, 1000.0, 1000.0, 1000.0, 600.0, 650.0, 1400.0, 800.0, 1200.0, 800.0, 1000.0, 1100.0, 1500.0, 1200.0, 1400.0, 650.0, 550.0, 600.0, 1100.0, 700.0, 1000.0, 800.0, 600.0, 900.0, 750.0, 500.0, 1500.0, 800.0, 1200.0, 550.0, 900.0, 800.0, 550.0, 1200.0, 800.0, 600.0, 900.0, 600.0, 800.0, 750.0, 650.0, 1200.0, 800.0, 550.0, 1200.0, 1000.0, 1000.0, 900.0, 500.0, 1200.0, 750.0, 900.0, 500.0, 800.0, 700.0, 800.0, 1200.0, 600.0, 800.0, 650.0, 600.0, 800.0, 750.0, 500.0, 1200.0, 600.0, 1500.0, 700.0, 1200.0, 700.0, 750.0, 1400.0, 1000.0, 700.0, 650.0, 750.0, 1300.0, 1300.0, 500.0, 1000.0, 1000.0, 800.0, 650.0, 600.0, 1100.0, 800.0, 600.0, 450.0, 500.0, 1000.0, 800.0, 1300.0, 550.0, 300.0, 650.0, 700.0, 400.0, 500.0, 800.0, 1400.0, 600.0, 350.0, 750.0, 650.0, 700.0, 750.0, 700.0, 400.0, 1300.0, 650.0, 600.0, 500.0, 400.0, 300.0, 300.0, 600.0, 800.0, 450.0, 350.0, 700.0, 500.0, 800.0, 300.0, 200.0, 600.0, 1000.0, 400.0, 600.0, 900.0, 450.0, 250.0, 600.0, 700.0, 2000.0, 500.0, 550.0, 150.0, 450.0, 600.0, 600.0, 1500.0, 200.0, 700.0, 400.0, 350.0, 900.0, 350.0, 800.0, 600.0, 1000.0, 400.0, 500.0, 900.0, 400.0, 400.0, 500.0, 650.0, 650.0, 800.0, 1100.0, 700.0, 900.0, 200.0, 600.0, 500.0, 400.0, 250.0, 200.0, 400.0, 300.0, 600.0, 450.0, 200.0, 700.0, 1000.0, 800.0, 200.0, 600.0, 600.0, 300.0, 400.0, 700.0, 600.0, 300.0, 400.0, 250.0, 400.0, 400.0, 200.0, 300.0, 400.0, 1300.0, 200.0, 400.0, 200.0, 950.0, 400.0, 400.0, 750.0, 500.0, 400.0, 700.0, 650.0, 200.0, 300.0, 200.0, 100.0, 800.0, 600.0, 1000.0, 400.0, 400.0, 600.0, 700.0, 400.0, 450.0, 600.0, 500.0, 500.0, 650.0, 900.0, 350.0, 400.0, 200.0, 400.0, 400.0, 350.0, 300.0, 200.0, 400.0, 450.0, 300.0, 300.0, 300.0, 450.0, 500.0, 600.0, 300.0, 800.0, 300.0, 300.0, 600.0, 550.0, 200.0, 750.0, 300.0, 400.0, 200.0, 500.0, 400.0, 900.0, 250.0, 400.0, 550.0, 350.0, 800.0, 450.0, 500.0, 1000.0, 1100.0, 1500.0, 1100.0, 1500.0, 2000.0, 1100.0, 900.0, 1600.0, 1600.0, 1600.0, 1000.0, 1500.0, 1400.0, 1800.0, 1400.0, 1200.0, 1300.0, 1000.0, 1200.0, 1400.0, 1200.0, 1200.0, 1200.0, 1200.0, 1500.0, 1400.0, 1000.0, 1300.0, 1300.0, 1400.0, 1500.0, 1100.0, 1300.0, 1100.0, 1600.0, 1500.0, 1100.0, 1400.0, 1000.0, 1100.0, 1500.0, 900.0, 1400.0, 1600.0, 1500.0, 1000.0, 1500.0, 1800.0, 1500.0, 1200.0, 1300.0, 1000.0, 1200.0, 1400.0, 1000.0, 1500.0, 1200.0, 800.0, 1200.0, 1200.0, 1200.0, 1200.0, 1400.0, 1000.0, 1300.0, 1000.0, 1300.0, 1300.0, 1500.0, 1100.0, 1300.0, 1200.0, 1500.0, 1200.0, 1700.0, 750.0, 1800.0, 1500.0, 2200.0, 3000.0, 2100.0, 2800.0, 1400.0, 1600.0, 2500.0, 3000.0, 500.0, 1500.0, 1000.0, 3400.0, 2000.0, 1500.0, 1300.0, 1700.0, 1200.0, 1600.0, 800.0, 2200.0, 2000.0, 1200.0, 1000.0, 1900.0, 650.0, 1400.0, 1000.0, 800.0, 1000.0, 1300.0, 1600.0, 3000.0, 500.0, 1000.0, 1200.0, 650.0, 2500.0, 1300.0, 1200.0, 1700.0, 1800.0, 1600.0, 1100.0, 750.0, 1200.0, 500.0, 1100.0, 1000.0, 600.0, 650.0, 900.0, 700.0, 500.0, 700.0, 800.0, 1700.0, 900.0, 600.0, 2500.0, 1400.0, 400.0, 750.0, 700.0, 700.0, 500.0, 1100.0, 800.0, 750.0, 500.0, 650.0, 500.0, 1000.0, 650.0, 1200.0, 800.0, 800.0, 400.0, 800.0, 600.0, 400.0, 1000.0, 500.0, 600.0, 1000.0, 800.0, 900.0, 700.0, 350.0, 1300.0, 750.0, 300.0, 1000.0, 750.0, 750.0, 1100.0, 500.0, 650.0, 400.0, 750.0, 750.0, 500.0, 750.0, 600.0, 750.0, 300.0, 600.0, 400.0, 650.0, 400.0, 500.0, 550.0, 150.0, 500.0, 1500.0, 800.0, 400.0, 400.0, 200.0, 600.0, 800.0, 300.0, 850.0, 400.0, 400.0, 300.0, 450.0, 650.0, 250.0, 450.0, 600.0, 1600.0, 400.0, 1300.0, 1200.0, 1200.0, 450.0, 600.0, 700.0, 500.0, 400.0, 700.0, 350.0, 200.0, 400.0, 500.0, 400.0, 550.0, 500.0, 400.0, 900.0, 800.0, 400.0, 200.0, 1300.0, 1200.0, 600.0, 550.0, 1100.0, 500.0, 600.0, 400.0, 800.0, 1300.0, 200.0, 1700.0, 150.0, 2100.0, 1700.0, 1500.0, 750.0, 500.0, 300.0, 150.0, 2000.0, 250.0, 750.0, 400.0, 600.0, 650.0, 500.0, 800.0, 1400.0, 2100.0, 1500.0, 1200.0, 450.0, 1000.0, 400.0, 1500.0, 600.0, 1400.0, 200.0, 2000.0, 1000.0, 500.0, 300.0, 250.0, 300.0, 400.0, 800.0, 700.0, 700.0, 900.0, 200.0, 1700.0, 500.0, 1200.0, 650.0, 500.0, 300.0, 1500.0, 950.0, 1600.0, 1500.0, 1000.0, 300.0, 300.0, 500.0, 900.0, 700.0, 1000.0, 1200.0, 700.0, 1000.0, 800.0, 1500.0, 1400.0, 900.0, 700.0, 250.0, 700.0, 1000.0, 750.0, 600.0, 1300.0, 400.0, 250.0, 350.0, 800.0, 300.0, 1400.0, 500.0, 180.0, 500.0, 800.0, 750.0, 250.0, 500.0, 700.0, 200.0, 600.0, 800.0, 550.0, 2100.0, 900.0, 1100.0, 550.0, 1400.0, 600.0, 400.0, 400.0, 400.0, 750.0, 800.0, 500.0, 150.0, 600.0, 750.0, 600.0, 1200.0, 500.0, 600.0, 500.0, 550.0, 400.0, 400.0, 200.0, 800.0, 800.0, 500.0, 800.0, 1000.0, 500.0, 300.0, 500.0, 500.0, 500.0, 550.0, 300.0, 450.0, 350.0, 150.0, 100.0, 300.0, 600.0, 800.0, 350.0, 1600.0, 650.0, 750.0, 300.0, 400.0, 450.0, 500.0, 200.0, 700.0, 500.0, 1000.0, 200.0, 300.0, 850.0, 800.0, 1000.0, 1000.0, 850.0, 800.0, 800.0, 800.0, 700.0, 1000.0, 600.0, 300.0, 600.0, 300.0, 250.0, 400.0, 600.0, 700.0, 450.0, 500.0, 700.0, 800.0, 1000.0, 600.0, 400.0, 500.0, 900.0, 700.0, 650.0, 500.0, 800.0, 500.0, 350.0, 1800.0, 1300.0, 500.0, 300.0, 550.0, 200.0, 1200.0, 1200.0, 1300.0, 1600.0, 600.0, 1400.0, 550.0, 1200.0, 1000.0, 600.0, 400.0, 1000.0, 500.0, 1200.0, 600.0, 40.0, 250.0, 250.0, 500.0, 600.0, 400.0, 700.0, 350.0, 600.0, 1700.0, 550.0, 600.0, 1100.0, 1000.0, 150.0, 250.0, 700.0, 400.0, 300.0, 400.0, 400.0, 700.0, 700.0, 1800.0, 750.0, 1900.0, 1300.0, 1000.0, 500.0, 1600.0, 700.0, 300.0, 800.0, 300.0, 1000.0, 600.0, 650.0, 750.0, 500.0, 1300.0, 800.0, 1400.0, 650.0, 1000.0, 2000.0, 150.0, 2000.0, 750.0, 700.0, 1500.0, 1700.0, 1100.0, 1800.0, 1000.0, 150.0, 400.0, 250.0, 400.0, 2000.0, 800.0, 400.0, 600.0, 550.0, 400.0, 1400.0, 700.0, 300.0, 1250.0, 700.0, 500.0, 400.0, 450.0, 2000.0, 1000.0, 700.0, 500.0, 400.0, 300.0, 300.0, 350.0, 400.0, 800.0, 400.0, 250.0, 900.0, 400.0, 300.0, 400.0, 150.0, 300.0, 180.0, 150.0, 450.0, 400.0, 400.0, 900.0, 300.0, 150.0, 300.0, 600.0, 300.0, 500.0, 350.0, 1300.0, 800.0, 200.0, 750.0, 300.0, 500.0, 1500.0, 300.0, 1100.0, 1500.0, 1200.0, 1000.0, 1000.0, 1700.0, 1000.0, 600.0, 650.0, 1300.0, 1100.0, 1100.0, 750.0, 750.0, 1400.0, 650.0, 1300.0, 1200.0, 900.0, 600.0, 800.0, 700.0, 1000.0, 800.0, 1500.0, 950.0, 500.0, 800.0, 1200.0, 600.0, 600.0, 500.0, 200.0, 150.0, 500.0, 250.0, 400.0, 250.0, 350.0, 1700.0, 2500.0, 1500.0, 1800.0, 1500.0, 2000.0, 3000.0, 2200.0, 3000.0, 800.0, 550.0, 2800.0, 2500.0, 1500.0, 2000.0, 1500.0, 1500.0, 3000.0, 2100.0, 3500.0, 1700.0, 1700.0, 1300.0, 1600.0, 2800.0, 1700.0, 1500.0, 1200.0, 1500.0, 1600.0, 1300.0, 1200.0, 2000.0, 3000.0, 800.0, 700.0, 2100.0, 1500.0, 2500.0, 1900.0, 2200.0, 1500.0, 1400.0, 2000.0, 1200.0, 1400.0, 1500.0, 600.0, 1300.0, 2100.0, 1700.0, 900.0, 1100.0, 1600.0, 2500.0, 1500.0, 2500.0, 550.0, 1000.0, 3000.0, 1200.0, 1300.0, 1400.0, 4000.0, 500.0, 1800.0, 1300.0, 1500.0, 200.0, 1000.0, 2000.0, 1500.0, 1000.0, 1800.0, 1000.0, 500.0, 1000.0, 1500.0, 1200.0, 2500.0, 400.0, 3400.0, 3000.0, 2000.0, 850.0, 2000.0, 750.0, 700.0, 3500.0, 600.0, 1800.0, 1500.0, 3000.0, 1300.0, 1500.0, 700.0, 1600.0, 1200.0, 1300.0, 1500.0, 1200.0, 1100.0, 1700.0, 2000.0, 500.0, 800.0, 4000.0, 3000.0, 1100.0, 1000.0, 1500.0, 700.0, 2800.0, 1000.0, 1200.0, 1000.0, 1200.0, 4000.0, 2000.0, 3500.0, 1200.0, 550.0, 1000.0, 1600.0, 500.0, 300.0, 2000.0, 650.0, 1800.0, 3000.0, 800.0, 2200.0, 1100.0, 800.0, 2000.0, 500.0, 800.0, 750.0, 1500.0, 1000.0, 800.0, 1000.0, 650.0, 750.0, 500.0, 1800.0, 1000.0, 400.0, 550.0, 600.0, 700.0, 700.0, 2000.0, 1000.0, 1000.0, 3000.0, 2000.0, 800.0, 550.0, 400.0, 650.0, 800.0, 450.0, 650.0, 550.0, 1200.0, 1800.0, 800.0, 800.0, 1200.0, 1000.0, 1000.0, 700.0, 2000.0, 500.0, 1500.0, 300.0, 350.0, 600.0, 3000.0, 400.0, 1900.0, 500.0, 2500.0, 650.0, 800.0, 2500.0, 1400.0, 800.0, 1200.0, 800.0, 600.0, 3000.0, 1000.0, 550.0, 400.0, 800.0, 800.0, 400.0, 850.0, 800.0, 1000.0, 500.0, 1300.0, 1600.0, 3000.0, 600.0, 1000.0, 1400.0, 700.0, 3000.0, 500.0, 1000.0, 2400.0, 600.0, 1500.0, 500.0, 1000.0, 500.0, 800.0, 1300.0, 800.0, 1200.0, 800.0, 250.0, 600.0, 350.0, 500.0, 500.0, 900.0, 2000.0, 700.0, 2500.0, 600.0, 400.0, 600.0, 550.0, 400.0, 300.0, 250.0, 150.0, 700.0, 150.0, 500.0, 150.0, 300.0, 500.0, 250.0, 300.0, 450.0, 400.0, 400.0, 500.0, 150.0, 300.0, 400.0, 300.0, 200.0, 350.0, 500.0, 400.0, 400.0, 250.0, 350.0, 300.0, 500.0, 200.0, 600.0, 600.0, 500.0, 300.0, 300.0, 500.0, 300.0, 450.0, 300.0, 100.0, 300.0, 500.0, 1300.0, 800.0, 1100.0, 1100.0, 1400.0, 1300.0, 600.0, 3200.0, 750.0, 2500.0, 1500.0, 1300.0, 1200.0, 300.0, 4000.0, 1700.0, 1000.0, 2500.0, 750.0, 600.0, 850.0, 550.0, 600.0, 400.0, 700.0, 1000.0, 200.0, 700.0, 750.0, 500.0, 700.0, 750.0, 1800.0, 1200.0, 900.0, 1600.0, 700.0, 400.0, 150.0, 550.0, 700.0, 300.0, 500.0, 600.0, 400.0, 400.0, 1100.0, 500.0, 400.0, 500.0, 250.0, 250.0, 550.0, 500.0, 1100.0, 600.0, 300.0, 1200.0, 1500.0, 2000.0, 1300.0, 1100.0, 1100.0, 1200.0, 1000.0, 1500.0, 1700.0, 2500.0, 1500.0, 2000.0, 3000.0, 3000.0, 2500.0, 1500.0, 1500.0, 1700.0, 1700.0, 1300.0, 1700.0, 1500.0, 1300.0, 1200.0, 2000.0, 1500.0, 2500.0, 1900.0, 1300.0, 1500.0, 1000.0, 1200.0, 1400.0, 1300.0, 1000.0, 3000.0, 1600.0, 1500.0, 1100.0, 1100.0, 1000.0, 2800.0, 1000.0, 2000.0, 1200.0, 2000.0, 3000.0, 1500.0, 600.0, 1000.0, 1000.0, 1000.0, 2000.0, 1500.0, 2500.0, 3000.0, 1400.0, 2400.0, 1500.0, 1300.0, 1300.0, 1200.0, 2500.0, 1200.0, 1200.0, 1200.0, 1100.0, 1100.0, 1200.0, 1000.0, 1500.0, 2000.0, 2500.0, 1500.0, 1700.0, 1300.0, 1700.0, 1500.0, 1200.0, 2100.0, 2500.0, 1900.0, 1300.0, 1500.0, 1000.0, 1200.0, 1300.0, 1400.0, 1300.0, 1000.0, 1000.0, 1000.0, 1600.0, 1200.0, 1300.0, 1500.0, 1100.0, 1700.0, 2000.0, 1100.0, 1000.0, 1000.0, 1000.0, 1200.0, 4000.0, 2000.0, 3500.0, 1200.0, 2000.0, 1800.0, 1800.0, 600.0, 1000.0, 1000.0, 1800.0, 1200.0, 1000.0, 3000.0, 800.0, 1400.0, 1500.0, 1300.0, 1300.0, 1200.0, 1200.0, 1500.0, 1200.0, 1600.0, 600.0, 1100.0, 3000.0, 2200.0, 1200.0, 1400.0, 800.0, 2000.0, 900.0, 850.0, 800.0, 1500.0, 600.0, 700.0, 650.0, 500.0, 400.0, 600.0, 600.0, 700.0, 400.0, 400.0, 700.0, 200.0, 450.0, 200.0, 250.0, 300.0, 400.0, 500.0, 500.0, 500.0, 500.0, 200.0, 700.0, 600.0, 600.0, 300.0, 500.0, 800.0, 800.0, 300.0, 250.0, 500.0, 700.0, 300.0, 650.0, 400.0, 450.0, 500.0, 400.0, 600.0, 200.0, 400.0, 500.0, 400.0, 400.0, 400.0, 750.0, 500.0, 400.0, 450.0, 400.0, 150.0, 400.0, 450.0, 400.0, 650.0, 800.0, 250.0, 450.0, 600.0, 550.0, 250.0, 250.0, 900.0, 750.0, 700.0, 400.0, 500.0, 300.0, 500.0, 150.0, 800.0, 500.0, 700.0, 800.0, 750.0, 350.0, 400.0, 900.0, 300.0, 400.0, 700.0, 900.0, 350.0, 400.0, 700.0, 500.0, 400.0, 300.0, 600.0, 600.0, 450.0, 750.0, 400.0, 600.0, 250.0, 650.0, 600.0, 500.0, 450.0, 400.0, 600.0, 600.0, 1500.0, 1200.0, 400.0, 400.0, 500.0, 400.0, 400.0, 650.0, 400.0, 500.0, 1000.0, 1200.0, 700.0, 900.0, 200.0, 500.0, 1100.0, 1000.0, 700.0, 600.0, 1500.0, 400.0, 500.0, 700.0, 500.0, 350.0, 450.0, 400.0, 400.0, 500.0, 500.0, 600.0, 2000.0, 600.0, 200.0, 250.0, 400.0, 450.0, 400.0, 500.0, 600.0, 400.0, 250.0, 400.0, 400.0, 700.0, 500.0, 500.0, 1500.0, 1200.0, 1200.0, 1200.0, 1600.0, 600.0, 1100.0, 1500.0, 900.0, 800.0, 1400.0, 600.0, 650.0, 700.0, 800.0, 3000.0, 1500.0, 1300.0, 2200.0, 450.0, 500.0, 500.0, 800.0, 600.0, 1200.0, 1400.0, 400.0, 700.0, 800.0, 400.0, 450.0, 2000.0, 400.0, 600.0, 1200.0, 700.0, 600.0, 400.0, 500.0, 600.0, 900.0, 750.0, 700.0, 2500.0, 2200.0, 700.0, 900.0, 1500.0, 650.0, 750.0, 400.0, 1000.0, 700.0, 850.0, 1200.0, 450.0, 2500.0, 850.0, 500.0, 500.0, 1000.0, 700.0, 400.0, 600.0, 1500.0, 800.0, 700.0, 600.0, 550.0, 1500.0, 400.0, 800.0, 500.0, 700.0, 500.0, 500.0, 500.0, 300.0, 450.0, 500.0, 550.0, 400.0, 500.0, 400.0, 400.0, 350.0, 400.0, 650.0, 400.0, 250.0, 300.0, 400.0, 250.0, 400.0, 250.0, 400.0, 500.0, 450.0, 400.0, 500.0, 300.0, 200.0, 350.0, 400.0, 400.0, 300.0, 450.0, 150.0, 600.0, 400.0, 400.0, 300.0, 400.0, 300.0, 600.0, 400.0, 600.0, 750.0, 400.0, 500.0, 500.0, 250.0, 350.0, 400.0, 500.0, 400.0, 350.0, 500.0, 250.0, 300.0, 1200.0, 1200.0, 1200.0, 1500.0, 1400.0, 1300.0, 1200.0, 2500.0, 900.0, 1500.0, 1500.0, 1200.0, 1200.0, 1200.0, 1500.0, 1400.0, 1300.0, 1200.0, 1200.0, 900.0, 1500.0, 1500.0, 750.0, 1300.0, 2800.0, 1300.0, 1700.0, 2200.0, 1800.0, 1600.0, 1100.0, 1100.0, 700.0, 700.0, 350.0, 600.0, 1300.0, 1200.0, 750.0, 750.0, 700.0, 300.0, 1000.0, 750.0, 800.0, 650.0, 800.0, 650.0, 750.0, 800.0, 700.0, 1000.0, 500.0, 500.0, 800.0, 400.0, 1100.0, 600.0, 450.0, 500.0, 450.0, 500.0, 600.0, 750.0, 300.0, 300.0, 600.0, 300.0, 600.0, 650.0, 600.0, 200.0, 400.0, 350.0, 400.0, 800.0, 750.0, 250.0, 500.0, 750.0, 800.0, 1000.0, 500.0, 750.0, 400.0, 550.0, 400.0, 950.0, 400.0, 600.0, 400.0, 300.0, 800.0, 150.0, 200.0, 750.0, 250.0, 300.0, 750.0, 400.0, 500.0, 400.0, 700.0, 600.0, 800.0, 550.0, 650.0, 400.0, 500.0, 1200.0, 900.0, 1500.0, 800.0, 1100.0, 500.0, 1400.0, 650.0, 450.0, 400.0, 1300.0, 800.0, 700.0, 750.0, 1500.0, 600.0, 600.0, 400.0, 1600.0, 500.0, 500.0, 600.0, 650.0, 300.0, 800.0, 600.0, 1700.0, 1200.0, 1300.0, 500.0, 400.0, 700.0, 400.0, 600.0, 1600.0, 650.0, 700.0, 400.0, 400.0, 500.0, 300.0, 1000.0, 1500.0, 650.0, 1300.0, 600.0, 1200.0, 550.0, 300.0, 600.0, 1100.0, 500.0, 800.0, 400.0, 700.0, 900.0, 400.0, 450.0, 500.0, 900.0, 450.0, 400.0, 450.0, 40.0, 550.0, 300.0, 3000.0, 350.0, 700.0, 250.0, 650.0, 700.0, 200.0, 800.0, 300.0, 550.0, 750.0, 600.0, 450.0, 100.0, 500.0, 350.0, 600.0, 1300.0, 1700.0, 180.0, 1700.0, 600.0, 2100.0, 600.0, 700.0, 300.0, 500.0, 1000.0, 550.0, 2000.0, 500.0, 1500.0, 450.0, 1500.0, 700.0, 400.0, 750.0, 1300.0, 1000.0, 400.0, 1000.0, 700.0, 500.0, 800.0, 1300.0, 500.0, 750.0, 500.0, 1300.0, 700.0, 500.0, 700.0, 750.0, 800.0, 1000.0, 2100.0, 1000.0, 500.0, 1900.0, 450.0, 150.0, 150.0, 700.0, 300.0, 2000.0, 400.0, 1000.0, 650.0, 950.0, 150.0, 500.0, 300.0, 1400.0, 800.0, 1200.0, 1000.0, 1000.0, 150.0, 700.0, 750.0, 1500.0, 300.0, 200.0, 700.0, 800.0, 250.0, 1800.0, 500.0, 350.0, 1500.0, 800.0, 1000.0, 200.0, 550.0, 400.0, 500.0, 400.0, 250.0, 1000.0, 1400.0, 400.0, 800.0, 700.0, 600.0, 550.0, 600.0, 350.0, 1500.0, 1500.0, 500.0, 200.0, 550.0, 300.0, 1100.0, 850.0, 400.0, 150.0, 850.0, 700.0, 300.0, 1800.0, 800.0, 1800.0, 600.0, 1000.0, 800.0, 2000.0, 400.0, 300.0, 600.0, 1500.0, 750.0, 1000.0, 1500.0, 700.0, 400.0, 700.0, 300.0, 600.0, 300.0, 900.0, 400.0, 450.0, 650.0, 500.0, 800.0, 800.0, 2000.0, 750.0, 1700.0, 700.0, 850.0, 1000.0, 650.0, 500.0, 600.0, 500.0, 250.0, 200.0, 250.0, 500.0, 200.0, 350.0, 100.0, 1200.0, 550.0, 600.0, 500.0, 300.0, 700.0, 300.0, 300.0, 800.0, 700.0, 300.0, 800.0, 1200.0, 400.0, 600.0, 300.0, 1700.0, 550.0, 1300.0, 250.0, 1100.0, 750.0, 800.0, 750.0, 700.0, 400.0, 200.0, 1100.0, 300.0, 300.0, 300.0, 400.0, 500.0, 600.0, 1600.0, 600.0, 200.0, 150.0, 400.0, 150.0, 700.0, 500.0, 100.0, 500.0, 300.0, 250.0, 250.0, 350.0, 500.0, 500.0, 300.0, 300.0, 350.0, 300.0, 400.0, 150.0, 1300.0, 400.0, 750.0, 700.0, 700.0, 400.0, 500.0, 400.0, 300.0, 300.0, 300.0, 700.0, 600.0, 750.0, 800.0, 700.0, 700.0, 700.0, 600.0, 1100.0, 550.0, 600.0, 1100.0, 1500.0, 800.0, 850.0, 700.0, 600.0, 750.0, 500.0, 1000.0, 500.0, 500.0, 700.0, 700.0, 600.0, 700.0, 1000.0, 300.0, 500.0, 1000.0, 750.0, 600.0, 1000.0, 200.0, 300.0, 500.0, 300.0, 600.0, 400.0, 400.0, 150.0, 700.0, 400.0, 400.0, 200.0, 250.0, 500.0, 300.0, 600.0, 500.0, 500.0, 1300.0, 800.0, 550.0, 550.0, 450.0, 800.0, 650.0, 700.0, 300.0, 600.0, 800.0, 300.0, 150.0, 600.0, 350.0, 400.0, 500.0, 300.0, 300.0, 1300.0, 2800.0, 1200.0, 1600.0, 1000.0, 2500.0, 2500.0, 1100.0, 1100.0, 1300.0, 1300.0, 600.0, 1000.0, 1300.0, 750.0, 1800.0, 750.0, 700.0, 1800.0, 3000.0, 1300.0, 1700.0, 300.0, 600.0, 1200.0, 1000.0, 750.0, 650.0, 2000.0, 3000.0, 2000.0, 750.0, 800.0, 650.0, 800.0, 2200.0, 650.0, 850.0, 800.0, 700.0, 700.0, 1000.0, 1000.0, 700.0, 750.0, 1800.0, 500.0, 400.0, 500.0, 1600.0, 500.0, 150.0, 500.0, 400.0, 1500.0, 400.0, 250.0, 500.0, 550.0, 800.0, 800.0, 400.0, 300.0, 400.0, 1100.0, 600.0, 200.0, 450.0, 1100.0, 250.0, 300.0, 800.0, 400.0, 400.0, 1500.0, 1300.0, 2500.0, 1300.0, 1300.0, 1000.0, 1500.0, 1500.0, 1000.0, 1300.0, 1300.0, 2500.0, 1300.0, 1000.0, 1200.0, 2000.0, 1000.0, 1400.0, 1500.0, 1800.0, 600.0, 1200.0, 1000.0, 850.0, 750.0, 600.0, 800.0, 400.0, 1000.0, 1600.0, 1500.0, 1500.0, 900.0, 1200.0, 1500.0, 1900.0, 700.0, 800.0, 600.0, 750.0, 500.0, 700.0, 800.0, 1200.0, 800.0, 950.0, 650.0, 750.0, 300.0, 600.0, 700.0, 700.0, 600.0, 300.0, 700.0, 600.0, 500.0, 450.0, 650.0, 1300.0, 350.0, 550.0, 600.0, 1000.0, 250.0, 500.0, 600.0, 1000.0, 400.0, 700.0, 500.0, 600.0, 500.0, 600.0, 400.0, 500.0, 500.0, 600.0, 500.0, 500.0, 450.0, 350.0, 500.0, 400.0, 250.0, 250.0, 400.0, 750.0, 800.0, 650.0, 450.0, 400.0, 600.0, 450.0, 450.0, 300.0, 500.0, 500.0, 500.0, 400.0, 800.0, 250.0, 600.0, 300.0, 500.0, 600.0, 750.0, 400.0, 400.0, 300.0, 650.0, 400.0, 400.0, 400.0, 900.0, 200.0, 400.0, 450.0, 600.0, 750.0, 400.0, 800.0, 800.0, 800.0, 750.0, 400.0, 150.0, 500.0, 600.0, 500.0, 200.0, 750.0, 600.0, 600.0, 500.0, 550.0, 400.0, 400.0, 300.0, 900.0, 400.0, 250.0, 600.0, 650.0, 300.0, 800.0, 600.0, 450.0, 700.0, 200.0, 400.0, 650.0, 300.0, 500.0, 350.0, 550.0, 300.0, 150.0, 400.0, 500.0, 100.0, 300.0, 500.0, 400.0, 500.0, 600.0, 200.0, 350.0, 450.0, 500.0, 600.0, 600.0, 650.0, 200.0, 400.0, 400.0, 400.0, 300.0, 750.0, 800.0, 200.0, 300.0, 800.0, 500.0, 1500.0, 1400.0, 300.0, 500.0, 400.0, 550.0, 300.0, 550.0, 1400.0, 200.0, 600.0, 450.0, 800.0, 600.0, 400.0, 700.0, 400.0, 400.0, 1700.0, 1900.0, 500.0, 350.0, 180.0, 200.0, 1000.0, 900.0, 400.0, 400.0, 400.0, 550.0, 300.0, 800.0, 150.0, 600.0, 400.0, 700.0, 1400.0, 250.0, 200.0, 400.0, 350.0, 250.0, 1200.0, 700.0, 1000.0, 400.0, 650.0, 500.0, 500.0, 1000.0, 450.0, 600.0, 400.0, 1000.0, 800.0, 600.0, 1000.0, 600.0, 150.0, 200.0, 600.0, 550.0, 350.0, 400.0, 350.0, 550.0, 250.0, 200.0, 400.0, 550.0, 500.0, 450.0, 1000.0, 600.0, 400.0, 700.0, 1000.0, 300.0, 600.0, 700.0, 550.0, 300.0, 300.0, 800.0, 300.0, 900.0, 500.0, 1200.0, 500.0, 750.0, 350.0, 1400.0, 1700.0, 400.0, 300.0, 800.0, 400.0, 950.0, 450.0, 300.0, 1200.0, 1500.0, 300.0, 250.0, 200.0, 700.0, 600.0, 200.0, 600.0, 800.0, 300.0, 700.0, 300.0, 900.0, 850.0, 500.0, 750.0, 650.0, 350.0, 500.0, 500.0, 300.0, 800.0, 400.0, 600.0, 400.0, 650.0, 100.0, 500.0, 800.0, 200.0, 1800.0, 500.0, 250.0, 1500.0, 300.0, 400.0, 150.0, 250.0, 400.0, 450.0, 450.0, 800.0, 450.0, 700.0, 600.0, 650.0, 400.0, 400.0, 300.0, 350.0, 800.0, 500.0, 250.0, 600.0, 400.0, 900.0, 400.0, 100.0, 250.0, 400.0, 150.0, 1300.0, 700.0, 800.0, 300.0, 450.0, 500.0, 500.0, 400.0, 700.0, 350.0, 500.0, 400.0, 600.0, 450.0, 400.0, 300.0, 400.0, 600.0, 800.0, 500.0, 700.0, 800.0, 250.0, 600.0, 500.0, 1100.0, 900.0, 200.0, 1400.0, 400.0, 400.0, 200.0, 500.0, 250.0, 550.0, 800.0, 500.0, 300.0, 550.0, 500.0, 400.0, 400.0, 500.0, 300.0, 800.0, 500.0, 500.0, 550.0, 400.0, 550.0, 600.0, 400.0, 1300.0, 400.0, 1200.0, 1200.0, 300.0, 400.0, 250.0, 600.0, 300.0, 800.0, 1000.0, 500.0, 1100.0, 250.0, 1200.0, 300.0, 1300.0, 600.0, 1000.0, 400.0, 450.0, 1200.0, 200.0, 600.0, 400.0, 700.0, 750.0, 800.0, 700.0, 600.0, 600.0, 400.0, 850.0, 300.0, 700.0, 1000.0, 400.0, 700.0, 400.0, 500.0, 600.0, 800.0, 600.0, 950.0, 1300.0, 700.0, 1200.0, 150.0, 600.0, 1000.0, 1500.0, 1500.0, 550.0, 1100.0, 500.0, 800.0, 600.0, 500.0, 500.0, 400.0, 800.0, 400.0, 950.0, 200.0, 350.0, 400.0, 400.0, 300.0, 300.0, 400.0, 500.0, 600.0, 400.0, 300.0, 400.0, 450.0, 200.0, 100.0, 300.0, 600.0, 350.0, 180.0, 500.0, 500.0, 400.0, 500.0, 350.0, 500.0, 100.0, 150.0, 400.0, 450.0, 350.0, 300.0, 1000.0, 500.0, 150.0, 500.0, 300.0, 400.0, 600.0, 650.0, 500.0, 500.0, 1200.0, 500.0, 800.0, 1000.0, 700.0, 1500.0, 1500.0, 1000.0, 1800.0, 600.0, 1200.0, 850.0, 1400.0, 1200.0, 1000.0, 550.0, 750.0, 1100.0, 800.0, 1200.0, 700.0, 900.0, 1000.0, 600.0, 750.0, 1200.0, 800.0, 800.0, 850.0, 700.0, 1200.0, 600.0, 800.0, 850.0, 200.0, 800.0, 750.0, 800.0, 950.0, 700.0, 1200.0, 600.0, 800.0, 900.0, 600.0, 650.0, 1000.0, 1000.0, 400.0, 550.0, 750.0, 400.0, 800.0, 500.0, 500.0, 800.0, 800.0, 600.0, 800.0, 1400.0, 700.0, 800.0, 900.0, 700.0, 750.0, 450.0, 300.0, 700.0, 650.0, 1300.0, 600.0, 500.0, 800.0, 500.0, 600.0, 700.0, 400.0, 500.0, 500.0, 550.0, 800.0, 1000.0, 450.0, 400.0, 250.0, 650.0, 550.0, 700.0, 800.0, 550.0, 800.0, 400.0, 400.0, 500.0, 700.0, 650.0, 1300.0, 550.0, 550.0, 750.0, 600.0, 700.0, 500.0, 750.0, 900.0, 1000.0, 250.0, 600.0, 300.0, 600.0, 450.0, 600.0, 450.0, 900.0, 500.0, 1000.0, 600.0, 500.0, 600.0, 400.0, 400.0, 450.0, 500.0, 400.0, 300.0, 250.0, 400.0, 500.0, 150.0, 400.0, 300.0, 400.0, 400.0, 500.0, 300.0, 400.0, 300.0, 350.0, 350.0, 400.0, 500.0, 400.0, 300.0, 150.0, 400.0, 600.0, 400.0, 500.0, 600.0, 400.0, 200.0, 400.0, 400.0, 300.0, 200.0, 500.0, 450.0, 500.0, 400.0, 450.0, 400.0, 400.0, 250.0, 250.0, 600.0, 300.0, 500.0, 400.0, 600.0, 200.0, 250.0, 300.0, 400.0, 400.0, 400.0, 400.0, 300.0, 300.0, 750.0, 300.0, 300.0, 700.0, 200.0, 400.0, 800.0, 200.0, 150.0, 350.0, 250.0, 500.0, 500.0, 300.0, 500.0, 400.0, 200.0, 400.0, 250.0, 1400.0, 1900.0, 1000.0, 1600.0, 1500.0, 600.0, 1500.0, 1000.0, 2000.0, 700.0, 750.0, 1200.0, 800.0, 550.0, 550.0, 900.0, 250.0, 550.0, 1200.0, 400.0, 1500.0, 450.0, 300.0, 500.0, 1900.0, 350.0, 300.0, 250.0, 600.0, 300.0, 350.0, 100.0, 450.0, 1000.0, 1000.0, 1500.0, 1500.0, 850.0, 1400.0, 1100.0, 900.0, 1900.0, 1000.0, 1200.0, 1500.0, 1000.0, 850.0, 1000.0, 1500.0, 1400.0, 1100.0, 900.0, 1200.0, 1200.0, 1400.0, 1300.0, 1400.0, 1900.0, 1500.0, 1200.0, 1500.0, 1000.0, 1200.0, 1800.0, 1600.0, 2100.0, 1200.0, 1700.0, 1400.0, 1100.0, 1300.0, 800.0, 1000.0, 1300.0, 750.0, 1600.0, 900.0, 1700.0, 1100.0, 1200.0, 1200.0, 400.0, 850.0, 1200.0, 1500.0, 1700.0, 1000.0, 1100.0, 3500.0, 3000.0, 2100.0, 2800.0, 2200.0, 3000.0, 1400.0, 1500.0, 3000.0, 1000.0, 900.0, 800.0, 600.0, 800.0, 900.0, 600.0, 1000.0, 600.0, 1300.0, 600.0, 200.0, 500.0, 550.0, 700.0, 800.0, 600.0, 900.0, 1000.0, 700.0, 400.0, 600.0, 800.0, 400.0, 700.0, 650.0, 500.0, 700.0, 450.0, 800.0, 500.0, 650.0, 800.0, 850.0, 800.0, 750.0, 500.0, 450.0, 500.0, 500.0, 700.0, 500.0, 1100.0, 900.0, 200.0, 500.0, 700.0, 600.0, 500.0, 600.0, 500.0, 1600.0, 500.0, 1700.0, 2500.0, 700.0, 700.0, 700.0, 500.0, 300.0, 300.0, 300.0, 200.0, 800.0, 500.0, 600.0, 300.0, 600.0, 400.0, 400.0, 450.0, 150.0, 400.0, 350.0, 350.0, 400.0, 500.0, 200.0, 400.0, 650.0, 500.0, 400.0, 300.0, 1000.0, 350.0, 150.0, 200.0, 800.0, 650.0, 800.0, 400.0, 800.0, 400.0, 850.0, 600.0, 300.0, 500.0, 500.0, 550.0, 250.0, 550.0, 750.0, 400.0, 800.0, 600.0, 250.0, 300.0, 150.0, 1000.0, 950.0, 250.0, 200.0, 600.0, 1200.0, 800.0, 650.0, 600.0, 800.0, 700.0, 500.0, 900.0, 700.0, 600.0, 500.0, 500.0, 450.0, 600.0, 1200.0, 300.0, 400.0, 750.0, 700.0, 600.0, 400.0, 1600.0, 600.0, 400.0, 1200.0, 650.0, 400.0, 500.0, 600.0, 300.0, 800.0, 150.0, 300.0, 1200.0, 800.0, 600.0, 900.0, 40.0, 300.0, 750.0, 400.0, 250.0, 500.0, 700.0, 650.0, 500.0, 350.0, 600.0, 750.0, 200.0, 600.0, 400.0, 1500.0, 450.0, 650.0, 100.0, 500.0, 500.0, 350.0, 800.0, 250.0, 500.0, 500.0, 1300.0, 850.0, 1400.0, 700.0, 800.0, 550.0, 600.0, 1000.0, 1100.0, 1200.0, 1500.0, 600.0, 500.0, 1000.0, 1200.0, 900.0, 1600.0, 500.0, 300.0, 300.0, 300.0, 500.0, 1800.0, 900.0, 250.0, 450.0, 700.0, 800.0, 850.0, 800.0, 450.0, 700.0, 550.0, 500.0, 600.0, 800.0, 200.0, 300.0, 1100.0, 450.0, 400.0, 350.0, 800.0, 500.0, 400.0, 750.0, 500.0, 900.0, 650.0, 400.0, 1100.0, 1600.0, 600.0, 900.0, 350.0, 800.0, 1300.0, 800.0, 300.0, 400.0, 400.0, 500.0, 800.0, 400.0, 550.0, 1500.0, 250.0, 150.0, 400.0, 600.0, 650.0, 750.0, 800.0, 1000.0, 1500.0, 450.0, 350.0, 700.0, 300.0, 500.0, 300.0, 2100.0, 1300.0, 180.0, 400.0, 200.0, 450.0, 300.0, 500.0, 400.0, 750.0, 700.0, 700.0, 800.0, 700.0, 1000.0, 200.0, 500.0, 300.0, 2000.0, 1000.0, 700.0, 1000.0, 700.0, 250.0, 200.0, 600.0, 950.0, 1000.0, 550.0, 400.0, 500.0, 650.0, 800.0, 1200.0, 2000.0, 250.0, 550.0, 250.0, 1400.0, 200.0, 900.0, 850.0, 1500.0, 700.0, 400.0, 700.0, 200.0, 1000.0, 1600.0, 1500.0, 2100.0, 350.0, 450.0, 1000.0, 300.0, 300.0, 1200.0, 300.0, 400.0, 550.0, 900.0, 150.0, 700.0, 800.0, 2000.0, 500.0, 350.0, 300.0, 800.0, 1400.0, 700.0, 450.0, 500.0, 1200.0, 700.0, 600.0, 350.0, 500.0, 800.0, 1200.0, 300.0, 500.0, 450.0, 600.0, 600.0, 600.0, 400.0, 400.0, 350.0, 800.0, 900.0, 200.0, 2000.0, 1700.0, 650.0, 450.0, 500.0, 500.0, 200.0, 400.0, 500.0, 700.0, 600.0, 500.0, 1500.0, 350.0, 300.0, 1000.0, 500.0, 650.0, 1400.0, 1400.0, 700.0, 200.0, 400.0, 700.0, 300.0, 400.0, 450.0, 300.0, 500.0, 750.0, 500.0, 450.0, 750.0, 1200.0, 200.0, 1800.0, 800.0, 200.0, 200.0, 400.0, 1000.0, 700.0, 400.0, 200.0, 1100.0, 1500.0, 800.0, 300.0, 650.0, 400.0, 400.0, 300.0, 350.0, 450.0, 600.0, 1000.0, 600.0, 1200.0, 400.0, 800.0, 300.0, 1000.0, 500.0, 1500.0, 400.0, 700.0, 150.0, 350.0, 1400.0, 600.0, 400.0, 500.0, 1900.0, 400.0, 500.0, 1700.0, 1400.0, 650.0, 450.0, 500.0, 600.0, 1600.0, 250.0, 300.0, 800.0, 1700.0, 500.0, 450.0, 400.0, 150.0, 500.0, 450.0, 700.0, 500.0, 250.0, 1100.0, 400.0, 150.0, 200.0, 500.0, 500.0, 500.0, 500.0, 850.0, 500.0, 1600.0, 600.0, 600.0, 200.0, 1200.0, 800.0, 400.0, 600.0, 800.0, 900.0, 400.0, 1000.0, 500.0, 550.0, 500.0, 150.0, 500.0, 800.0, 700.0, 300.0, 400.0, 800.0, 400.0, 300.0, 400.0, 300.0, 400.0, 300.0, 200.0, 800.0, 400.0, 400.0, 300.0, 300.0, 400.0, 800.0, 800.0, 500.0, 300.0, 500.0, 750.0, 150.0, 500.0, 450.0, 500.0, 400.0, 300.0, 400.0, 200.0, 1100.0, 200.0, 200.0, 200.0, 650.0, 300.0, 250.0, 500.0, 600.0, 400.0, 300.0, 500.0, 200.0, 250.0, 300.0, 200.0, 400.0, 450.0, 300.0, 2000.0, 700.0, 400.0, 800.0, 1200.0, 700.0, 200.0, 200.0, 2500.0, 1600.0, 1500.0, 1000.0, 800.0, 1500.0, 2000.0, 1400.0, 1800.0, 1200.0, 1200.0, 1500.0, 1500.0, 1600.0, 1200.0, 1300.0, 900.0, 2100.0, 2500.0, 1500.0, 1400.0, 1000.0, 1300.0, 800.0, 1300.0, 900.0, 1200.0, 1700.0, 800.0, 1500.0, 1400.0, 1400.0, 1100.0, 1100.0, 1600.0, 1000.0, 1200.0, 600.0, 800.0, 1000.0, 1500.0, 1000.0, 850.0, 1300.0, 1200.0, 600.0, 1200.0, 800.0, 750.0, 1500.0, 1000.0, 1000.0, 1300.0, 1500.0, 800.0, 1200.0, 1000.0, 600.0, 1200.0, 800.0, 200.0, 1000.0, 1200.0, 750.0, 1600.0, 1100.0, 500.0, 1500.0, 1200.0, 900.0, 1000.0, 800.0, 1500.0, 900.0, 1200.0, 1700.0, 650.0, 1400.0, 700.0, 1300.0, 1500.0, 1100.0, 900.0, 800.0, 800.0, 600.0, 900.0, 1000.0, 1100.0, 1500.0, 1100.0, 900.0, 1000.0, 700.0, 700.0, 500.0, 600.0, 1500.0, 800.0, 700.0, 650.0, 650.0, 500.0, 500.0, 950.0, 1400.0, 750.0, 800.0, 800.0, 400.0, 1200.0, 800.0, 450.0, 500.0, 1200.0, 500.0, 750.0, 1700.0, 850.0, 800.0, 1600.0, 500.0, 1800.0, 1200.0, 600.0, 800.0, 850.0, 800.0, 350.0, 800.0, 1500.0, 800.0, 650.0, 850.0, 700.0, 1000.0, 1100.0, 650.0, 450.0, 800.0, 250.0, 600.0, 650.0, 650.0, 550.0, 500.0, 1100.0, 500.0, 650.0, 700.0, 1200.0, 1500.0, 700.0, 400.0, 1100.0, 500.0, 600.0, 700.0, 650.0, 600.0, 600.0, 700.0, 650.0, 600.0, 450.0, 500.0, 1000.0, 700.0, 550.0, 600.0, 300.0, 500.0, 150.0, 450.0, 350.0, 300.0, 400.0, 600.0, 150.0, 800.0, 200.0, 300.0, 200.0, 600.0, 300.0, 300.0, 400.0, 500.0, 650.0, 800.0, 150.0, 200.0, 350.0, 350.0, 500.0, 200.0, 500.0, 200.0, 600.0, 40.0, 400.0, 500.0, 600.0, 500.0, 400.0, 200.0, 400.0, 350.0, 400.0, 700.0, 400.0, 200.0, 350.0, 250.0, 250.0, 400.0, 600.0, 200.0, 400.0, 200.0, 400.0, 500.0, 500.0, 350.0, 300.0, 300.0, 1600.0, 600.0, 1700.0, 1500.0, 750.0, 600.0, 600.0, 1800.0, 850.0, 1700.0, 750.0, 600.0, 1000.0, 800.0, 500.0, 500.0, 500.0, 700.0, 500.0, 550.0, 600.0, 600.0, 500.0, 1800.0, 1300.0, 400.0, 450.0, 700.0, 250.0, 1100.0, 600.0, 500.0, 500.0, 500.0, 450.0, 300.0, 150.0, 400.0, 350.0, 150.0, 300.0, 250.0, 200.0, 150.0, 450.0, 350.0, 450.0, 300.0, 250.0, 200.0, 450.0, 500.0, 500.0, 150.0, 500.0, 350.0, 450.0, 300.0, 250.0, 350.0, 400.0, 200.0, 400.0, 500.0, 600.0, 1800.0, 2800.0, 3500.0, 3000.0, 2100.0, 2800.0, 4000.0, 1000.0, 1000.0, 1700.0, 2200.0, 2500.0, 3000.0, 1000.0, 1400.0, 1000.0, 2500.0, 3500.0, 2000.0, 550.0, 600.0, 3000.0, 2400.0, 1500.0, 6000.0, 3000.0, 2800.0, 1200.0, 1000.0, 1500.0, 1800.0, 3000.0, 2000.0, 700.0, 2000.0, 700.0, 450.0, 400.0, 150.0, 3000.0, 2500.0, 3000.0, 250.0, 3000.0, 400.0, 550.0, 150.0, 1200.0, 3000.0, 400.0, 1400.0, 2400.0, 700.0, 1900.0, 1000.0, 450.0, 500.0, 500.0, 400.0, 300.0, 700.0, 2500.0, 800.0, 1300.0, 1500.0, 1400.0, 1500.0, 2000.0, 1500.0, 2100.0, 1400.0, 1300.0, 1300.0, 1400.0, 1000.0, 1500.0, 1500.0, 1400.0, 1200.0, 1100.0, 1000.0, 1200.0, 1400.0, 1300.0, 1500.0, 1100.0, 1500.0, 1400.0, 750.0, 1700.0, 1600.0, 1800.0, 1500.0, 1000.0, 1200.0, 1000.0, 1600.0, 1700.0, 1300.0, 1800.0, 1000.0, 1000.0, 1800.0, 2400.0, 1500.0, 2800.0, 3000.0, 3000.0, 3000.0, 1200.0, 1400.0, 2400.0, 1400.0, 1300.0, 1000.0, 2000.0, 1200.0, 1500.0, 1500.0, 2500.0, 1400.0, 1300.0, 1300.0, 1400.0, 1100.0, 1500.0, 1500.0, 800.0, 1200.0, 1100.0, 1000.0, 1200.0, 1300.0, 1500.0, 1100.0, 900.0, 1500.0, 1400.0, 750.0, 1700.0, 1000.0, 1200.0, 1000.0, 1700.0, 1700.0, 1300.0, 1800.0, 1000.0, 1000.0, 1400.0, 1000.0, 1800.0, 1500.0, 1200.0, 1800.0, 3000.0, 1200.0, 1400.0, 1100.0, 1000.0, 950.0, 1000.0, 1500.0, 750.0, 600.0, 550.0, 1350.0, 1200.0, 1600.0, 900.0, 1600.0, 1200.0, 1000.0, 800.0, 1100.0, 1000.0, 800.0, 600.0, 800.0, 900.0, 1000.0, 950.0, 800.0, 800.0, 800.0, 800.0, 500.0, 400.0, 800.0, 800.0, 850.0, 700.0, 800.0, 400.0, 650.0, 700.0, 750.0, 400.0, 300.0, 150.0, 400.0, 650.0, 550.0, 650.0, 400.0, 450.0, 400.0, 600.0, 600.0, 600.0, 1000.0, 600.0, 600.0, 500.0, 600.0, 600.0, 650.0, 400.0, 550.0, 400.0, 700.0, 500.0, 600.0, 700.0, 600.0, 650.0, 600.0, 400.0, 500.0, 500.0, 700.0, 500.0, 500.0, 250.0, 300.0, 200.0, 300.0, 400.0, 400.0, 450.0, 900.0, 400.0, 450.0, 400.0, 400.0, 150.0, 500.0, 300.0, 500.0, 150.0, 800.0, 600.0, 600.0, 200.0, 500.0, 550.0, 250.0, 300.0, 400.0, 400.0, 200.0, 300.0, 500.0, 200.0, 450.0, 600.0, 800.0, 250.0, 500.0, 400.0, 400.0, 200.0, 400.0, 250.0, 300.0, 700.0, 400.0, 400.0, 200.0, 600.0, 600.0, 800.0, 600.0, 500.0, 300.0, 400.0, 700.0, 150.0, 550.0, 150.0, 300.0, 100.0, 300.0, 800.0, 300.0, 300.0, 350.0, 400.0, 400.0, 500.0, 800.0, 750.0, 600.0, 500.0, 350.0, 400.0, 300.0, 400.0, 700.0, 500.0, 100.0, 200.0, 600.0, 500.0, 450.0, 250.0, 800.0, 300.0, 300.0, 750.0, 650.0, 200.0, 800.0, 1000.0, 300.0, 250.0, 500.0, 500.0, 300.0, 600.0, 350.0, 650.0, 600.0, 200.0, 650.0, 400.0, 1200.0, 300.0, 700.0, 200.0, 250.0, 400.0, 400.0, 300.0, 400.0, 1000.0, 100.0, 600.0, 800.0, 1000.0, 400.0, 1200.0, 600.0, 500.0, 800.0, 500.0, 400.0, 200.0, 500.0, 600.0, 900.0, 400.0, 450.0, 650.0, 400.0, 450.0, 800.0, 600.0, 200.0, 400.0, 300.0, 1600.0, 500.0, 400.0, 650.0, 800.0, 500.0, 600.0, 300.0, 600.0, 500.0, 800.0, 800.0, 250.0, 500.0, 1500.0, 800.0, 350.0, 300.0, 1600.0, 400.0, 500.0, 600.0, 250.0, 500.0, 250.0, 300.0, 400.0, 400.0, 200.0, 600.0, 250.0, 200.0, 500.0, 350.0, 800.0, 300.0, 1200.0, 1200.0, 450.0, 300.0, 600.0, 800.0, 500.0, 400.0, 400.0, 400.0, 600.0, 1000.0, 600.0, 700.0, 600.0, 600.0, 400.0, 350.0, 450.0, 200.0, 500.0, 200.0, 1000.0, 600.0, 500.0, 500.0, 800.0, 900.0, 400.0, 150.0, 400.0, 500.0, 800.0, 800.0, 200.0, 750.0, 500.0, 450.0, 700.0, 230.0, 600.0, 650.0, 1500.0, 1500.0, 200.0, 700.0, 800.0, 500.0, 500.0, 200.0, 500.0, 300.0, 250.0, 1600.0, 200.0, 600.0, 700.0, 300.0, 300.0, 450.0, 200.0, 300.0, 200.0, 900.0, 400.0, 600.0, 450.0, 1100.0, 500.0, 400.0, 300.0, 1000.0, 700.0, 300.0, 600.0, 400.0, 150.0, 500.0, 1200.0, 200.0, 1200.0, 300.0, 400.0, 200.0, 750.0, 650.0, 300.0, 550.0, 400.0, 800.0, 650.0, 600.0, 700.0, 500.0, 1200.0, 600.0, 700.0, 800.0, 600.0, 700.0, 300.0, 500.0, 800.0, 150.0, 250.0, 250.0, 100.0, 1200.0, 200.0, 500.0, 900.0, 350.0, 100.0, 1200.0, 800.0, 1500.0, 300.0, 300.0, 500.0, 350.0, 500.0, 250.0, 600.0, 450.0, 400.0, 1500.0, 500.0, 300.0, 800.0, 1000.0, 500.0, 750.0, 200.0, 200.0, 800.0, 1300.0, 700.0, 300.0, 1500.0, 400.0, 200.0, 600.0, 1000.0, 400.0, 600.0, 450.0, 450.0, 1100.0, 300.0, 500.0, 300.0, 700.0, 1000.0, 400.0, 400.0, 650.0, 800.0, 500.0, 400.0, 400.0, 600.0, 1300.0, 300.0, 700.0, 600.0, 300.0, 300.0, 400.0, 600.0, 800.0, 650.0, 650.0, 600.0, 1200.0, 300.0, 200.0, 800.0, 500.0, 500.0, 750.0, 1000.0, 1100.0, 400.0, 400.0, 200.0, 800.0, 300.0, 600.0, 650.0, 600.0, 100.0, 400.0, 300.0, 400.0, 800.0, 450.0, 400.0, 900.0, 400.0, 350.0, 400.0, 1200.0, 1100.0, 600.0, 800.0, 400.0, 600.0, 750.0, 400.0, 700.0, 250.0, 350.0, 400.0, 400.0, 700.0, 400.0, 500.0, 750.0, 800.0, 400.0, 300.0, 600.0, 950.0, 550.0, 900.0, 400.0, 1400.0, 500.0, 300.0, 750.0, 700.0, 300.0, 550.0, 450.0, 300.0, 1000.0, 700.0, 600.0, 900.0, 600.0, 600.0, 500.0, 600.0, 1000.0, 500.0, 600.0, 300.0, 600.0, 1500.0, 650.0, 250.0, 1100.0, 750.0, 400.0, 600.0, 800.0, 500.0, 600.0, 150.0, 700.0, 1500.0, 300.0, 750.0, 750.0, 600.0, 500.0, 800.0, 500.0, 150.0, 700.0, 1000.0, 1200.0, 350.0, 600.0, 150.0, 350.0, 400.0, 800.0, 800.0, 350.0, 300.0, 400.0, 1000.0, 400.0, 550.0, 600.0, 300.0, 700.0, 900.0, 600.0, 800.0, 850.0, 100.0, 400.0, 700.0, 600.0, 300.0, 550.0, 400.0, 700.0, 1500.0, 1400.0, 800.0, 1350.0, 800.0, 1200.0, 1350.0, 550.0, 650.0, 750.0, 800.0, 600.0, 600.0, 400.0, 1100.0, 1300.0, 900.0, 250.0, 500.0, 900.0, 700.0, 150.0, 700.0, 1500.0, 400.0, 300.0, 800.0, 1300.0, 700.0, 900.0, 1000.0, 1000.0, 300.0, 300.0, 1000.0, 500.0, 600.0, 1000.0, 800.0, 450.0, 800.0, 400.0, 600.0, 600.0, 650.0, 550.0, 1200.0, 600.0, 1200.0, 800.0, 550.0, 700.0, 450.0, 900.0, 500.0, 300.0, 500.0, 500.0, 450.0, 550.0, 550.0, 600.0, 600.0, 450.0, 1000.0, 600.0, 1000.0, 1300.0, 600.0, 200.0, 300.0, 550.0, 900.0, 100.0, 700.0, 200.0, 350.0, 400.0, 600.0, 600.0, 650.0, 1200.0, 800.0, 650.0, 1200.0, 800.0, 300.0, 400.0, 200.0, 600.0, 800.0, 800.0, 450.0, 200.0, 650.0, 700.0, 350.0, 250.0, 600.0, 650.0, 200.0, 300.0, 300.0, 150.0, 450.0, 400.0, 600.0, 650.0, 500.0, 900.0, 400.0, 350.0, 500.0, 400.0, 750.0, 400.0, 800.0, 400.0, 800.0, 200.0, 200.0, 200.0, 400.0, 500.0, 800.0, 400.0, 250.0, 400.0, 400.0, 400.0, 200.0, 600.0, 400.0, 350.0, 500.0, 700.0, 400.0, 400.0, 300.0, 400.0, 300.0, 150.0, 300.0, 250.0, 300.0, 200.0, 400.0, 400.0, 400.0, 400.0, 300.0, 700.0, 600.0, 150.0, 600.0, 500.0, 150.0, 500.0, 150.0, 500.0, 600.0, 400.0, 400.0, 230.0, 550.0, 400.0, 100.0, 400.0, 700.0, 500.0, 500.0, 700.0, 200.0, 400.0, 250.0, 600.0, 300.0, 200.0, 200.0, 800.0, 500.0, 400.0, 300.0, 800.0, 1100.0, 700.0, 1000.0, 600.0, 1200.0, 950.0, 800.0, 1000.0, 1500.0, 800.0, 650.0, 350.0, 800.0, 800.0, 1000.0, 1700.0, 700.0, 1000.0, 500.0, 1500.0, 400.0, 750.0, 550.0, 900.0, 600.0, 750.0, 1200.0, 800.0, 800.0, 800.0, 600.0, 650.0, 1200.0, 1200.0, 250.0, 600.0, 850.0, 700.0, 1000.0, 800.0, 400.0, 1000.0, 900.0, 600.0, 800.0, 800.0, 500.0, 700.0, 350.0, 900.0, 700.0, 750.0, 400.0, 800.0, 600.0, 450.0, 800.0, 400.0, 550.0, 750.0, 1350.0, 600.0, 450.0, 750.0, 750.0, 1000.0, 400.0, 900.0, 500.0, 300.0, 550.0, 550.0, 700.0, 600.0, 500.0, 400.0, 100.0, 1350.0, 650.0, 400.0, 1200.0, 650.0, 450.0, 700.0, 300.0, 800.0, 900.0, 850.0, 400.0, 400.0, 200.0, 200.0, 500.0, 1200.0, 400.0, 150.0, 200.0, 100.0, 400.0, 600.0, 400.0, 200.0, 500.0, 600.0, 400.0, 100.0, 400.0, 500.0, 200.0, 200.0, 400.0, 300.0, 400.0, 200.0, 400.0, 250.0, 300.0, 200.0, 400.0, 150.0, 250.0, 500.0, 350.0, 200.0, 350.0, 650.0, 300.0, 600.0, 400.0, 550.0, 1500.0, 1600.0, 1600.0, 1200.0, 1600.0, 1200.0, 1500.0, 1500.0, 1300.0, 800.0, 600.0, 1000.0, 800.0, 800.0, 1200.0, 800.0, 600.0, 1000.0, 800.0, 800.0, 1000.0, 800.0, 1000.0, 800.0, 1200.0, 1100.0, 1500.0, 800.0, 900.0, 600.0, 600.0, 600.0, 1000.0, 700.0, 700.0, 800.0, 300.0, 1300.0, 1300.0, 600.0, 1000.0, 1000.0, 800.0, 600.0, 500.0, 500.0, 600.0, 500.0, 300.0, 650.0, 1100.0, 750.0, 150.0, 400.0, 300.0, 650.0, 650.0, 400.0, 300.0, 650.0, 200.0, 1000.0, 550.0, 600.0, 250.0, 450.0, 800.0, 900.0, 900.0, 400.0, 400.0, 350.0, 1000.0, 850.0, 300.0, 100.0, 500.0, 500.0, 700.0, 650.0, 750.0, 400.0, 1100.0, 400.0, 300.0, 600.0, 300.0, 600.0, 450.0, 450.0, 500.0, 150.0, 150.0, 700.0, 400.0, 1100.0, 250.0, 200.0, 600.0, 600.0, 700.0, 400.0, 500.0, 400.0, 500.0, 600.0, 600.0, 400.0, 650.0, 600.0, 400.0, 950.0, 400.0, 300.0, 300.0, 400.0, 500.0, 600.0, 600.0, 100.0, 300.0, 300.0, 350.0, 650.0, 300.0, 200.0, 400.0, 500.0, 250.0, 650.0, 600.0, 600.0, 400.0, 600.0, 600.0, 350.0, 300.0, 300.0, 150.0, 200.0, 550.0, 400.0, 450.0, 450.0, 250.0, 300.0, 800.0, 500.0, 600.0, 300.0, 800.0, 400.0, 300.0, 300.0, 300.0, 300.0, 300.0, 150.0, 450.0, 400.0, 400.0, 200.0, 400.0, 650.0, 500.0, 500.0, 400.0, 500.0, 300.0, 700.0, 250.0, 250.0, 500.0, 1000.0, 1300.0, 1200.0, 1500.0, 1200.0, 1350.0, 1000.0, 1500.0, 1500.0, 900.0, 1600.0, 1200.0, 1100.0, 1200.0, 1100.0, 1500.0, 1000.0, 1300.0, 1100.0, 1100.0, 800.0, 1100.0, 1600.0, 1200.0, 1000.0, 800.0, 1000.0, 600.0, 1000.0, 800.0, 900.0, 1000.0, 950.0, 900.0, 1000.0, 1600.0, 1000.0, 1100.0, 600.0, 1200.0, 1350.0, 800.0, 600.0, 600.0, 1000.0, 600.0, 600.0, 700.0, 800.0, 550.0, 650.0, 600.0, 400.0, 600.0, 450.0, 550.0, 700.0, 400.0, 500.0, 500.0, 400.0, 500.0, 600.0, 800.0, 500.0, 850.0, 500.0, 650.0, 500.0, 300.0, 400.0, 750.0, 400.0, 550.0, 650.0, 600.0, 400.0, 400.0, 700.0, 500.0, 250.0, 300.0, 450.0, 600.0, 900.0, 800.0, 400.0, 300.0, 500.0, 400.0, 500.0, 400.0, 200.0, 200.0, 400.0, 600.0, 300.0, 700.0, 400.0, 250.0, 400.0, 600.0, 250.0, 300.0, 400.0, 450.0, 300.0, 250.0, 300.0, 200.0, 400.0, 350.0, 800.0, 250.0, 200.0, 300.0, 150.0, 400.0, 600.0, 350.0, 300.0, 600.0, 300.0, 550.0, 100.0, 750.0, 300.0, 300.0, 500.0, 200.0, 300.0, 700.0, 500.0, 400.0, 400.0, 400.0, 650.0, 800.0, 300.0, 500.0, 400.0, 500.0, 600.0, 750.0, 800.0, 400.0, 250.0, 350.0, 600.0, 500.0, 200.0, 400.0, 200.0, 300.0, 250.0, 600.0, 500.0, 250.0, 1000.0, 500.0, 700.0, 600.0, 1200.0, 300.0, 400.0, 400.0, 650.0, 700.0, 400.0, 400.0, 200.0, 400.0, 600.0, 400.0, 400.0, 100.0, 750.0, 400.0, 250.0, 1200.0, 1000.0, 900.0, 400.0, 600.0, 800.0, 900.0, 400.0, 400.0, 450.0, 400.0, 700.0, 300.0, 650.0, 350.0, 300.0, 400.0, 300.0, 800.0, 600.0, 300.0, 500.0, 300.0, 300.0, 500.0, 700.0, 400.0, 500.0, 1600.0, 600.0, 500.0, 600.0, 200.0, 250.0, 1500.0, 500.0, 300.0, 600.0, 400.0, 400.0, 350.0, 500.0, 1200.0, 650.0, 600.0, 500.0, 400.0, 500.0, 600.0, 350.0, 1200.0, 200.0, 200.0, 500.0, 450.0, 600.0, 400.0, 800.0, 400.0, 600.0, 750.0, 1000.0, 800.0, 450.0, 500.0, 400.0, 450.0, 250.0, 250.0, 700.0, 750.0, 230.0, 500.0, 100.0, 250.0, 500.0, 750.0, 300.0, 250.0, 300.0, 600.0, 300.0, 400.0, 600.0, 400.0, 1100.0, 700.0, 1200.0, 1200.0, 750.0, 400.0, 500.0, 1000.0, 800.0, 600.0, 200.0, 800.0, 200.0, 600.0, 700.0, 800.0, 100.0, 150.0, 500.0, 450.0, 300.0, 600.0, 400.0, 1000.0, 200.0, 350.0, 600.0, 700.0, 500.0, 400.0, 250.0, 400.0, 800.0, 500.0, 250.0, 1500.0, 400.0, 500.0, 300.0, 700.0, 500.0, 1300.0, 300.0, 300.0, 300.0, 300.0, 450.0, 650.0, 800.0, 400.0, 800.0, 500.0, 600.0, 1200.0, 300.0, 650.0, 400.0, 400.0, 800.0, 700.0, 1100.0, 400.0, 400.0, 650.0, 900.0, 1200.0, 650.0, 300.0, 650.0, 800.0, 350.0, 300.0, 400.0, 1300.0, 400.0, 1200.0, 700.0, 350.0, 650.0, 800.0, 1100.0, 550.0, 400.0, 500.0, 750.0, 400.0, 900.0, 300.0, 700.0, 450.0, 650.0, 500.0, 300.0, 1200.0, 400.0, 400.0, 300.0, 1000.0, 200.0, 200.0, 400.0, 500.0, 200.0, 800.0, 750.0, 500.0, 900.0, 300.0, 700.0, 700.0, 500.0, 600.0, 350.0, 150.0, 800.0, 750.0, 1000.0, 500.0, 600.0, 800.0, 600.0, 600.0, 800.0, 700.0, 250.0, 700.0, 400.0, 800.0, 350.0, 600.0, 1700.0, 300.0, 400.0, 600.0, 400.0, 700.0, 500.0, 200.0, 700.0, 600.0, 600.0, 1000.0, 450.0, 650.0, 600.0, 600.0, 550.0, 900.0, 300.0, 300.0, 500.0, 400.0, 1200.0, 450.0, 650.0, 800.0, 800.0, 400.0, 600.0, 1100.0, 750.0, 500.0, 800.0, 500.0, 600.0, 150.0, 700.0, 100.0, 500.0, 900.0, 1000.0, 800.0, 400.0, 1000.0, 1700.0, 1000.0, 800.0, 550.0, 500.0, 600.0, 1200.0, 600.0, 600.0, 450.0, 350.0, 800.0, 550.0, 500.0, 650.0, 800.0, 450.0, 1350.0, 1000.0, 600.0, 550.0, 500.0, 600.0, 1000.0, 300.0, 550.0, 600.0, 450.0, 650.0, 500.0, 600.0, 1350.0, 300.0, 500.0, 200.0, 800.0, 500.0, 400.0, 200.0, 500.0, 450.0, 400.0, 550.0, 300.0, 750.0, 900.0, 250.0, 400.0, 500.0, 500.0, 900.0, 700.0, 600.0, 500.0, 300.0, 400.0, 600.0, 500.0, 400.0, 500.0, 400.0, 550.0, 200.0, 200.0, 200.0, 250.0, 600.0, 500.0, 500.0, 400.0, 600.0, 250.0, 800.0, 400.0, 100.0, 500.0, 300.0, 400.0, 200.0, 400.0, 400.0, 400.0, 800.0, 400.0, 500.0, 400.0, 600.0, 300.0, 400.0, 700.0, 150.0, 300.0, 500.0, 400.0, 300.0, 250.0, 200.0, 400.0, 400.0, 300.0, 230.0, 300.0, 1200.0, 1500.0, 1200.0, 1600.0, 1200.0, 1600.0, 1000.0, 1500.0, 1300.0, 1200.0, 1200.0, 800.0, 1300.0, 800.0, 1000.0, 800.0, 1500.0, 800.0, 600.0, 750.0, 1200.0, 700.0, 800.0, 1100.0, 900.0, 800.0, 550.0, 1300.0, 1100.0, 600.0, 1000.0, 800.0, 1200.0, 1300.0, 1100.0, 600.0, 1000.0, 600.0, 750.0, 1000.0, 1000.0, 800.0, 500.0, 600.0, 750.0, 700.0, 700.0, 600.0, 300.0, 400.0, 700.0, 700.0, 500.0, 350.0, 500.0, 950.0, 400.0, 450.0, 300.0, 800.0, 650.0, 450.0, 400.0, 650.0, 900.0, 550.0, 600.0, 850.0, 600.0, 500.0, 400.0, 400.0, 1000.0, 400.0, 600.0, 1100.0, 650.0, 1000.0, 500.0, 450.0, 950.0, 600.0, 650.0, 500.0, 700.0, 550.0, 750.0, 450.0, 400.0, 750.0, 750.0, 500.0, 800.0, 650.0, 800.0, 600.0, 700.0, 750.0, 300.0, 500.0, 500.0, 300.0, 300.0, 400.0, 700.0, 300.0, 400.0, 300.0, 400.0, 100.0, 450.0, 500.0, 500.0, 400.0, 400.0, 500.0, 200.0, 500.0, 450.0, 100.0, 250.0, 400.0, 250.0, 200.0, 400.0, 600.0, 300.0, 300.0, 200.0, 600.0, 350.0, 200.0, 150.0, 300.0, 800.0, 300.0, 200.0, 400.0, 300.0, 900.0, 1200.0, 1500.0, 1200.0, 1000.0, 800.0, 1000.0, 1000.0, 550.0, 800.0, 1000.0, 800.0, 800.0, 500.0, 600.0, 400.0, 500.0, 500.0, 600.0, 500.0, 450.0, 1000.0, 600.0, 650.0, 600.0, 800.0, 800.0, 750.0, 250.0, 400.0, 400.0, 250.0, 350.0, 600.0, 400.0, 600.0, 600.0, 1100.0, 400.0, 300.0, 300.0, 250.0, 1600.0, 450.0, 1100.0, 800.0, 1000.0, 1100.0, 1000.0, 800.0, 800.0, 500.0, 800.0, 650.0, 1000.0, 1700.0, 250.0, 1200.0, 550.0, 800.0, 850.0, 600.0, 600.0, 350.0, 500.0, 500.0, 600.0, 900.0, 400.0, 500.0, 500.0, 650.0, 600.0, 700.0, 550.0, 400.0, 1350.0, 1200.0, 500.0, 300.0, 250.0, 750.0, 300.0, 400.0, 750.0, 1000.0, 200.0, 100.0, 300.0, 400.0, 700.0, 500.0, 200.0, 300.0, 400.0, 150.0, 500.0, 450.0, 700.0, 300.0, 300.0, 500.0, 600.0, 200.0, 400.0, 500.0, 500.0, 500.0, 400.0, 400.0, 800.0, 300.0, 350.0, 300.0, 200.0, 500.0, 400.0, 550.0, 550.0, 650.0, 600.0, 400.0, 500.0, 400.0, 350.0, 250.0, 450.0, 550.0, 250.0, 300.0, 300.0, 300.0, 1350.0, 900.0, 400.0, 400.0, 400.0, 300.0, 700.0, 650.0, 250.0, 1000.0, 1300.0, 1500.0, 1200.0, 1600.0, 1200.0, 1500.0, 1200.0, 1200.0, 1300.0, 1100.0, 1100.0, 1000.0, 1100.0, 900.0, 1200.0, 1100.0, 1350.0, 1400.0, 1400.0, 1600.0, 800.0, 600.0, 750.0, 1500.0, 800.0, 1000.0, 1400.0, 750.0, 800.0, 900.0, 1200.0, 700.0, 700.0, 500.0, 700.0, 600.0, 700.0, 900.0, 700.0, 500.0, 650.0, 650.0, 350.0, 600.0, 700.0, 800.0, 1000.0, 800.0, 650.0, 500.0, 500.0, 500.0, 550.0, 500.0, 400.0, 450.0, 350.0, 300.0, 400.0, 800.0, 400.0, 800.0, 600.0, 400.0, 300.0, 350.0, 450.0, 600.0, 200.0, 300.0, 300.0, 400.0, 600.0, 600.0, 650.0, 100.0, 400.0, 450.0, 600.0, 300.0, 500.0, 400.0, 500.0, 750.0, 650.0, 400.0, 400.0, 450.0, 400.0, 300.0, 600.0, 500.0, 600.0, 550.0, 400.0, 500.0, 700.0, 1500.0, 600.0, 550.0, 300.0, 500.0, 500.0, 450.0, 700.0, 500.0, 700.0, 600.0, 600.0, 500.0, 400.0, 150.0, 600.0, 400.0, 500.0, 400.0, 400.0, 800.0, 1300.0, 750.0, 400.0, 250.0, 900.0, 1400.0, 500.0, 450.0, 500.0, 400.0, 450.0, 300.0, 800.0, 500.0, 500.0, 650.0, 400.0, 450.0, 500.0, 1200.0, 600.0, 650.0, 500.0, 200.0, 350.0, 1200.0, 400.0, 500.0, 350.0, 800.0, 300.0, 400.0, 400.0, 700.0, 500.0, 600.0, 1050.0, 500.0, 750.0, 600.0, 800.0, 750.0, 500.0, 600.0, 1400.0, 200.0, 800.0, 400.0, 400.0, 900.0, 300.0, 700.0, 1500.0, 300.0, 700.0, 550.0, 300.0, 500.0, 650.0, 800.0, 300.0, 750.0, 500.0, 500.0, 350.0, 400.0, 1000.0, 400.0, 600.0, 600.0, 400.0, 600.0, 750.0, 1400.0, 250.0, 250.0, 800.0, 150.0, 800.0, 250.0, 1100.0, 200.0, 550.0, 500.0, 600.0, 900.0, 450.0, 400.0, 700.0, 500.0, 750.0, 600.0, 750.0, 700.0, 150.0, 700.0, 750.0, 500.0, 300.0, 550.0, 500.0, 300.0, 1400.0, 800.0, 800.0, 650.0, 750.0, 1200.0, 600.0, 1800.0, 700.0, 500.0, 400.0, 600.0, 400.0, 900.0, 400.0, 700.0, 1100.0, 550.0, 650.0, 1000.0, 1500.0, 500.0, 1000.0, 600.0, 1000.0, 700.0, 400.0, 600.0, 350.0, 500.0, 700.0, 1000.0, 500.0, 600.0, 500.0, 800.0, 1400.0, 700.0, 800.0, 500.0, 1300.0, 650.0, 600.0, 400.0, 1500.0, 450.0, 400.0, 650.0, 1000.0, 550.0, 800.0, 500.0, 700.0, 600.0, 800.0, 1000.0, 600.0, 300.0, 600.0, 800.0, 450.0, 600.0, 450.0, 300.0, 1200.0, 500.0, 250.0, 300.0, 650.0, 600.0, 700.0, 350.0, 500.0, 250.0, 300.0, 300.0, 400.0, 300.0, 1200.0, 250.0, 700.0, 250.0, 400.0, 700.0, 400.0, 300.0, 200.0, 400.0, 500.0, 500.0, 600.0, 700.0, 500.0, 300.0, 300.0, 600.0, 650.0, 1000.0, 400.0, 400.0, 800.0, 350.0, 400.0, 300.0, 150.0, 500.0, 650.0, 450.0, 150.0, 1400.0, 1800.0, 1200.0, 1400.0, 1400.0, 1400.0, 1600.0, 900.0, 1100.0, 800.0, 800.0, 600.0, 800.0, 1200.0, 800.0, 750.0, 1000.0, 700.0, 800.0, 1400.0, 1300.0, 1500.0, 700.0, 600.0, 750.0, 750.0, 1500.0, 1300.0, 650.0, 1400.0, 800.0, 1200.0, 600.0, 600.0, 800.0, 1100.0, 700.0, 500.0, 700.0, 1200.0, 900.0, 1000.0, 1300.0, 700.0, 600.0, 700.0, 500.0, 600.0, 1000.0, 400.0, 600.0, 400.0, 800.0, 600.0, 900.0, 600.0, 700.0, 800.0, 400.0, 500.0, 750.0, 650.0, 500.0, 650.0, 500.0, 750.0, 800.0, 700.0, 600.0, 600.0, 1000.0, 350.0, 500.0, 750.0, 700.0, 250.0, 500.0, 500.0, 350.0, 400.0, 400.0, 250.0, 300.0, 500.0, 300.0, 600.0, 450.0, 300.0, 200.0, 500.0, 650.0, 350.0, 200.0, 150.0, 200.0, 400.0, 600.0, 800.0, 600.0, 1500.0, 450.0, 800.0, 1200.0, 1500.0, 600.0, 600.0, 1400.0, 800.0, 700.0, 300.0, 450.0, 650.0, 550.0, 400.0, 650.0, 800.0, 1400.0, 700.0, 750.0, 700.0, 650.0, 750.0, 600.0, 1000.0, 800.0, 600.0, 700.0, 700.0, 500.0, 700.0, 550.0, 450.0, 300.0, 400.0, 400.0, 600.0, 250.0, 300.0, 600.0, 450.0, 500.0, 350.0, 300.0, 450.0, 500.0, 550.0, 400.0, 300.0, 250.0, 300.0, 550.0, 400.0, 300.0, 500.0, 450.0, 350.0, 750.0, 450.0, 650.0, 1100.0, 700.0, 1000.0, 600.0, 500.0, 500.0, 300.0, 300.0, 600.0, 1050.0, 200.0, 250.0, 600.0, 500.0, 600.0, 600.0, 500.0, 200.0, 600.0, 400.0, 400.0, 1200.0, 500.0, 400.0, 250.0, 600.0, 550.0, 500.0, 500.0, 300.0, 300.0, 400.0, 400.0, 400.0, 1400.0, 1800.0, 1400.0, 1200.0, 1300.0, 1500.0, 1200.0, 1200.0, 1300.0, 1500.0, 500.0, 1100.0, 1200.0, 800.0, 600.0, 800.0, 1000.0, 800.0, 900.0, 1200.0, 700.0, 700.0, 500.0, 700.0, 700.0, 500.0, 600.0, 700.0, 500.0, 900.0, 700.0, 500.0, 650.0, 450.0, 550.0, 350.0, 650.0, 700.0, 500.0, 400.0, 450.0, 350.0, 350.0, 600.0, 500.0, 400.0, 300.0, 750.0, 300.0, 250.0, 400.0, 600.0, 300.0, 800.0, 800.0, 450.0, 300.0, 400.0, 400.0, 500.0, 650.0, 500.0, 400.0, 600.0, 300.0, 400.0, 450.0, 300.0, 750.0, 100.0, 600.0, 200.0, 600.0, 300.0, 400.0, 400.0, 450.0, 400.0, 400.0, 400.0, 500.0, 750.0, 650.0, 750.0, 500.0, 400.0, 700.0, 300.0, 1500.0, 1400.0, 500.0, 400.0, 150.0, 350.0, 700.0, 700.0, 500.0, 450.0, 400.0, 700.0, 500.0, 600.0, 200.0, 400.0, 600.0, 800.0, 450.0, 500.0, 500.0, 400.0, 600.0, 300.0, 600.0, 500.0, 600.0, 1300.0, 300.0, 800.0, 150.0, 650.0, 400.0, 250.0, 650.0, 750.0, 500.0, 600.0, 1200.0, 650.0, 500.0, 550.0, 300.0, 450.0, 600.0, 400.0, 1400.0, 350.0, 600.0, 700.0, 400.0, 1400.0, 700.0, 700.0, 500.0, 450.0, 1000.0, 500.0, 400.0, 550.0, 500.0, 200.0, 600.0, 800.0, 750.0, 400.0, 450.0, 400.0, 650.0, 1000.0, 800.0, 700.0, 500.0, 500.0, 300.0, 600.0, 500.0, 300.0, 400.0, 1300.0, 300.0, 600.0, 700.0, 450.0, 200.0, 750.0, 650.0, 500.0, 1500.0, 500.0, 350.0, 450.0, 500.0, 750.0, 800.0, 600.0, 300.0, 400.0, 400.0, 900.0, 900.0, 450.0, 600.0, 1000.0, 150.0, 1000.0, 550.0, 600.0, 750.0, 500.0, 350.0, 600.0, 500.0, 550.0, 800.0, 600.0, 300.0, 400.0, 800.0, 600.0, 250.0, 400.0, 600.0, 700.0, 350.0, 800.0, 600.0, 450.0, 500.0, 500.0, 250.0, 600.0, 300.0, 1100.0, 500.0, 500.0, 700.0, 550.0, 250.0, 400.0, 700.0, 800.0, 500.0, 600.0, 600.0, 500.0, 400.0, 900.0, 500.0, 800.0, 1050.0, 650.0, 700.0, 400.0, 750.0, 1500.0, 400.0, 1000.0, 400.0, 400.0, 600.0, 800.0, 700.0, 700.0, 800.0, 450.0, 1200.0, 1100.0, 800.0, 300.0, 500.0, 800.0, 1400.0, 850.0, 800.0, 300.0, 1400.0, 500.0, 500.0, 400.0, 550.0, 1000.0, 200.0, 1200.0, 300.0, 600.0, 200.0, 1800.0, 800.0, 900.0, 1200.0, 750.0, 500.0, 600.0, 500.0, 200.0, 500.0, 700.0, 400.0, 100.0, 350.0, 300.0, 650.0, 700.0, 300.0, 600.0, 400.0, 650.0, 1000.0, 300.0, 250.0, 700.0, 1200.0, 800.0, 400.0, 350.0, 400.0, 150.0, 400.0, 700.0, 400.0, 400.0, 300.0, 200.0, 400.0, 500.0, 500.0, 600.0, 700.0, 400.0, 450.0, 300.0, 500.0, 300.0, 300.0, 300.0, 150.0, 600.0, 650.0, 1000.0, 650.0, 500.0, 100.0, 500.0, 600.0, 800.0, 600.0, 1500.0, 450.0, 800.0, 1200.0, 600.0, 800.0, 1400.0, 300.0, 450.0, 650.0, 550.0, 400.0, 800.0, 550.0, 1400.0, 700.0, 750.0, 700.0, 750.0, 800.0, 600.0, 700.0, 700.0, 500.0, 700.0, 600.0, 550.0, 450.0, 300.0, 250.0, 400.0, 400.0, 600.0, 250.0, 300.0, 450.0, 600.0, 500.0, 350.0, 450.0, 500.0, 600.0, 400.0, 300.0, 300.0, 550.0, 400.0, 300.0, 500.0, 450.0, 1400.0, 1400.0, 1800.0, 2000.0, 1600.0, 900.0, 1100.0, 800.0, 800.0, 800.0, 1200.0, 800.0, 1200.0, 350.0, 800.0, 750.0, 1000.0, 700.0, 400.0, 800.0, 1400.0, 1400.0, 750.0, 1500.0, 1300.0, 700.0, 600.0, 450.0, 750.0, 750.0, 1500.0, 1500.0, 600.0, 1300.0, 200.0, 650.0, 700.0, 1400.0, 800.0, 1100.0, 1200.0, 700.0, 1000.0, 600.0, 600.0, 800.0, 800.0, 1100.0, 650.0, 700.0, 500.0, 600.0, 700.0, 1200.0, 500.0, 900.0, 650.0, 500.0, 1000.0, 1300.0, 600.0, 600.0, 600.0, 500.0, 600.0, 1000.0, 600.0, 400.0, 600.0, 800.0, 500.0, 600.0, 900.0, 600.0, 700.0, 1050.0, 800.0, 1300.0, 400.0, 500.0, 600.0, 600.0, 600.0, 750.0, 500.0, 600.0, 650.0, 1200.0, 500.0, 400.0, 500.0, 450.0, 650.0, 500.0, 750.0, 800.0, 600.0, 700.0, 500.0, 550.0, 600.0, 1000.0, 350.0, 500.0, 750.0, 700.0, 250.0, 500.0, 300.0, 500.0, 400.0, 200.0, 250.0, 400.0, 250.0, 200.0, 300.0, 500.0, 450.0, 300.0, 300.0, 500.0, 200.0, 600.0, 300.0, 400.0, 450.0, 300.0, 200.0, 400.0, 250.0, 500.0, 650.0, 500.0, 500.0, 400.0, 300.0, 200.0, 300.0, 400.0, 150.0, 400.0, 400.0, 500.0, 300.0, 700.0, 400.0, 1400.0, 1800.0, 2000.0, 500.0, 1200.0, 1500.0, 1300.0, 1500.0, 1100.0, 1200.0, 1200.0, 1300.0, 1200.0, 1300.0, 1500.0, 1400.0, 600.0, 1000.0, 1700.0, 1500.0, 2000.0, 1200.0, 1000.0, 1500.0, 1600.0, 1500.0, 1300.0, 1500.0, 1500.0, 2000.0, 1500.0, 750.0, 900.0, 1100.0, 1100.0, 600.0, 1000.0, 1400.0, 700.0, 800.0, 2000.0, 1000.0, 900.0, 1000.0, 3000.0, 1000.0, 1200.0, 1500.0, 800.0, 400.0, 600.0, 800.0, 1100.0, 1000.0, 800.0, 600.0, 600.0, 800.0, 600.0, 850.0, 700.0, 700.0, 700.0, 650.0, 650.0, 500.0, 300.0, 450.0, 900.0, 800.0, 1300.0, 500.0, 400.0, 600.0, 600.0, 600.0, 900.0, 500.0, 1000.0, 600.0, 900.0, 800.0, 800.0, 900.0, 1000.0, 800.0, 700.0, 550.0, 700.0, 600.0, 800.0, 700.0, 800.0, 300.0, 700.0, 900.0, 600.0, 1200.0, 600.0, 650.0, 800.0, 200.0, 1200.0, 900.0, 650.0, 700.0, 600.0, 700.0, 450.0, 350.0, 500.0, 400.0, 800.0, 600.0, 600.0, 600.0, 600.0, 600.0, 800.0, 500.0, 450.0, 600.0, 250.0, 700.0, 600.0, 1600.0, 750.0, 900.0, 700.0, 800.0, 450.0, 600.0, 600.0, 500.0, 500.0, 300.0, 250.0, 800.0, 450.0, 400.0, 900.0, 500.0, 800.0, 100.0, 600.0, 800.0, 200.0, 400.0, 450.0, 500.0, 300.0, 250.0, 400.0, 500.0, 500.0, 200.0, 600.0, 200.0, 650.0, 600.0, 400.0, 250.0, 150.0, 600.0, 300.0, 400.0, 400.0, 300.0, 400.0, 250.0, 250.0, 300.0, 550.0, 400.0, 300.0, 600.0, 400.0, 750.0, 250.0, 450.0, 600.0, 400.0, 500.0, 600.0, 400.0, 700.0, 400.0, 150.0, 750.0, 300.0, 250.0, 400.0, 350.0, 300.0, 400.0, 400.0, 650.0, 300.0, 800.0, 600.0, 200.0, 550.0, 500.0, 500.0, 400.0, 300.0, 450.0, 650.0, 300.0, 400.0, 150.0, 800.0, 500.0, 500.0, 150.0, 200.0, 750.0, 250.0, 350.0, 500.0, 350.0, 600.0, 500.0, 600.0, 200.0, 650.0, 300.0, 300.0, 300.0, 500.0, 800.0, 500.0, 300.0, 100.0, 750.0, 600.0, 500.0, 300.0, 300.0, 300.0, 500.0, 600.0, 800.0, 400.0, 400.0, 250.0, 200.0, 300.0, 300.0, 700.0, 700.0, 1000.0, 400.0, 400.0, 500.0, 450.0, 300.0, 400.0, 700.0, 400.0, 450.0, 550.0, 400.0, 600.0, 600.0, 600.0, 400.0, 400.0, 300.0, 600.0, 450.0, 300.0, 450.0, 300.0, 400.0, 650.0, 400.0, 300.0, 1000.0, 450.0, 600.0, 200.0, 700.0, 300.0, 600.0, 800.0, 600.0, 400.0, 800.0, 400.0, 1200.0, 700.0, 800.0, 500.0, 200.0, 500.0, 500.0, 1200.0, 750.0, 400.0, 350.0, 300.0, 550.0, 750.0, 300.0, 800.0, 250.0, 1500.0, 500.0, 400.0, 350.0, 250.0, 400.0, 400.0, 600.0, 200.0, 600.0, 800.0, 1000.0, 600.0, 650.0, 600.0, 1000.0, 250.0, 750.0, 400.0, 400.0, 600.0, 150.0, 800.0, 350.0, 600.0, 600.0, 500.0, 600.0, 800.0, 300.0, 450.0, 500.0, 450.0, 600.0, 400.0, 400.0, 450.0, 1000.0, 600.0, 900.0, 1200.0, 300.0, 800.0, 750.0, 400.0, 550.0, 550.0, 200.0, 300.0, 600.0, 600.0, 750.0, 500.0, 500.0, 600.0, 400.0, 400.0, 350.0, 500.0, 600.0, 450.0, 400.0, 400.0, 250.0, 800.0, 300.0, 1300.0, 150.0, 500.0, 600.0, 900.0, 500.0, 200.0, 500.0, 1500.0, 300.0, 500.0, 200.0, 500.0, 500.0, 230.0, 400.0, 500.0, 300.0, 250.0, 1500.0, 300.0, 750.0, 300.0, 200.0, 700.0, 900.0, 400.0, 1600.0, 300.0, 900.0, 500.0, 200.0, 500.0, 500.0, 600.0, 1200.0, 300.0, 600.0, 400.0, 500.0, 700.0, 150.0, 300.0, 1000.0, 700.0, 200.0, 700.0, 180.0, 450.0, 400.0, 40.0, 200.0, 200.0, 600.0, 700.0, 600.0, 650.0, 650.0, 700.0, 1000.0, 300.0, 600.0, 200.0, 550.0, 1800.0, 250.0, 800.0, 950.0, 850.0, 750.0, 250.0, 900.0, 650.0, 1000.0, 1500.0, 1500.0, 300.0, 500.0, 600.0, 300.0, 250.0, 1000.0, 1400.0, 400.0, 1200.0, 800.0, 600.0, 1200.0, 700.0, 1400.0, 300.0, 1000.0, 500.0, 700.0, 250.0, 750.0, 800.0, 350.0, 800.0, 400.0, 500.0, 200.0, 300.0, 400.0, 300.0, 650.0, 1500.0, 350.0, 700.0, 1300.0, 1500.0, 500.0, 700.0, 500.0, 500.0, 800.0, 650.0, 300.0, 600.0, 1000.0, 500.0, 300.0, 350.0, 850.0, 300.0, 1300.0, 500.0, 700.0, 600.0, 600.0, 1100.0, 450.0, 600.0, 600.0, 600.0, 600.0, 700.0, 600.0, 250.0, 700.0, 800.0, 600.0, 400.0, 400.0, 700.0, 450.0, 1200.0, 500.0, 150.0, 1000.0, 900.0, 600.0, 800.0, 500.0, 800.0, 700.0, 350.0, 1000.0, 1400.0, 400.0, 700.0, 800.0, 400.0, 1100.0, 350.0, 250.0, 400.0, 400.0, 900.0, 650.0, 250.0, 400.0, 400.0, 200.0, 500.0, 700.0, 600.0, 500.0, 1000.0, 200.0, 1500.0, 900.0, 1200.0, 450.0, 450.0, 600.0, 400.0, 450.0, 400.0, 300.0, 750.0, 400.0, 600.0, 250.0, 600.0, 1200.0, 800.0, 600.0, 400.0, 500.0, 500.0, 400.0, 600.0, 750.0, 500.0, 600.0, 400.0, 1200.0, 400.0, 400.0, 700.0, 300.0, 600.0, 1000.0, 550.0, 800.0, 400.0, 350.0, 350.0, 1500.0, 600.0, 1000.0, 400.0, 400.0, 400.0, 450.0, 800.0, 800.0, 500.0, 1200.0, 650.0, 500.0, 750.0, 900.0, 300.0, 600.0, 600.0, 1000.0, 900.0, 300.0, 700.0, 1000.0, 800.0, 300.0, 900.0, 250.0, 600.0, 250.0, 1000.0, 600.0, 600.0, 550.0, 900.0, 600.0, 1500.0, 300.0, 800.0, 350.0, 250.0, 650.0, 500.0, 800.0, 1400.0, 450.0, 700.0, 750.0, 600.0, 700.0, 400.0, 400.0, 400.0, 800.0, 450.0, 1300.0, 400.0, 800.0, 350.0, 700.0, 1300.0, 700.0, 550.0, 500.0, 500.0, 500.0, 1100.0, 300.0, 500.0, 800.0, 600.0, 900.0, 2500.0, 500.0, 400.0, 1700.0, 350.0, 700.0, 150.0, 300.0, 600.0, 400.0, 900.0, 400.0, 400.0, 500.0, 600.0, 450.0, 350.0, 800.0, 650.0, 1100.0, 150.0, 500.0, 300.0, 500.0, 450.0, 600.0, 800.0, 400.0, 600.0, 600.0, 500.0, 400.0, 300.0, 700.0, 600.0, 800.0, 300.0, 1100.0, 200.0, 1300.0, 500.0, 1000.0, 1200.0, 1000.0, 800.0, 600.0, 650.0, 1000.0, 1600.0, 2000.0, 1400.0, 900.0, 600.0, 400.0, 800.0, 1300.0, 600.0, 200.0, 1400.0, 400.0, 500.0, 350.0, 800.0, 900.0, 700.0, 400.0, 650.0, 150.0, 650.0, 1200.0, 300.0, 200.0, 350.0, 200.0, 200.0, 400.0, 500.0, 250.0, 200.0, 150.0, 500.0, 250.0, 350.0, 150.0, 1000.0, 1100.0, 200.0, 400.0, 500.0, 600.0, 550.0, 500.0, 300.0, 200.0, 400.0, 650.0, 300.0, 800.0, 350.0, 500.0, 250.0, 900.0, 200.0, 350.0, 800.0, 900.0, 400.0, 500.0, 550.0, 1500.0, 700.0, 450.0, 450.0, 2000.0, 350.0, 1300.0, 600.0, 500.0, 600.0, 600.0, 400.0, 500.0, 800.0, 1100.0, 550.0, 1100.0, 400.0, 400.0, 400.0, 450.0, 650.0, 500.0, 300.0, 400.0, 500.0, 650.0, 200.0, 400.0, 900.0, 400.0, 400.0, 250.0, 400.0, 1200.0, 500.0, 350.0, 200.0, 250.0, 500.0, 700.0, 200.0, 400.0, 500.0, 300.0, 700.0, 800.0, 150.0, 350.0, 200.0, 200.0, 400.0, 500.0, 200.0, 400.0, 250.0, 400.0, 500.0, 600.0, 450.0, 500.0, 150.0, 200.0, 350.0, 250.0, 500.0, 200.0, 300.0, 400.0, 300.0, 400.0, 500.0, 800.0, 200.0, 400.0, 400.0, 200.0, 350.0, 500.0, 150.0, 350.0, 1000.0, 1200.0, 2100.0, 600.0, 1800.0, 600.0, 1400.0, 1200.0, 800.0, 1200.0, 1400.0, 1300.0, 1300.0, 600.0, 1000.0, 800.0, 850.0, 650.0, 1500.0, 750.0, 800.0, 800.0, 700.0, 1700.0, 750.0, 1000.0, 700.0, 750.0, 700.0, 1500.0, 800.0, 1200.0, 600.0, 650.0, 1500.0, 650.0, 500.0, 450.0, 1300.0, 1000.0, 250.0, 250.0, 800.0, 450.0, 600.0, 450.0, 400.0, 500.0, 400.0, 400.0, 400.0, 600.0, 600.0, 400.0, 1400.0, 900.0, 2000.0, 1500.0, 2000.0, 1000.0, 1100.0, 1500.0, 1200.0, 1300.0, 1400.0, 900.0, 1300.0, 1600.0, 1600.0, 700.0, 750.0, 800.0, 1000.0, 1000.0, 1500.0, 1600.0, 1500.0, 1500.0, 1200.0, 1800.0, 600.0, 1300.0, 600.0, 1500.0, 1400.0, 1300.0, 1500.0, 1000.0, 600.0, 1500.0, 1200.0, 800.0, 500.0, 1000.0, 1000.0, 1400.0, 400.0, 600.0, 1400.0, 1200.0, 1400.0, 600.0, 2500.0, 650.0, 2000.0, 1100.0, 1500.0, 600.0, 900.0, 750.0, 1200.0, 1000.0, 500.0, 1000.0, 1000.0, 900.0, 600.0, 1200.0, 1500.0, 800.0, 600.0, 1200.0, 800.0, 800.0, 800.0, 900.0, 1000.0, 1000.0, 750.0, 700.0, 550.0, 1100.0, 550.0, 900.0, 1100.0, 700.0, 500.0, 1100.0, 650.0, 650.0, 600.0, 600.0, 1200.0, 600.0, 800.0, 1000.0, 500.0, 700.0, 650.0, 750.0, 1200.0, 800.0, 800.0, 850.0, 800.0, 1400.0, 1000.0, 700.0, 700.0, 900.0, 600.0, 650.0, 600.0, 750.0, 1200.0, 800.0, 600.0, 900.0, 650.0, 1500.0, 800.0, 1000.0, 750.0, 1000.0, 800.0, 500.0, 500.0, 800.0, 200.0, 1100.0, 1000.0, 750.0, 1200.0, 650.0, 700.0, 600.0, 1400.0, 1400.0, 700.0, 1300.0, 750.0, 500.0, 800.0, 700.0, 650.0, 700.0, 1200.0, 600.0, 750.0, 650.0, 1700.0, 2000.0, 700.0, 600.0, 450.0, 150.0, 250.0, 1000.0, 700.0, 350.0, 800.0, 500.0, 900.0, 250.0, 800.0, 550.0, 600.0, 600.0, 500.0, 800.0, 1000.0, 500.0, 1300.0, 250.0, 600.0, 1000.0, 600.0, 600.0, 750.0, 600.0, 600.0, 500.0, 600.0, 500.0, 400.0, 800.0, 600.0, 1000.0, 250.0, 500.0, 500.0, 800.0, 700.0, 450.0, 800.0, 700.0, 650.0, 600.0, 400.0, 1500.0, 600.0, 500.0, 800.0, 500.0, 350.0, 500.0, 900.0, 700.0, 700.0, 500.0, 750.0, 1200.0, 600.0, 600.0, 400.0, 600.0, 400.0, 500.0, 400.0, 200.0, 350.0, 350.0, 550.0, 300.0, 450.0, 250.0, 400.0, 300.0, 400.0, 200.0, 200.0, 450.0, 250.0, 500.0, 600.0, 500.0, 200.0, 400.0, 600.0, 500.0, 450.0, 300.0, 250.0, 300.0, 250.0, 200.0, 900.0, 250.0, 300.0, 400.0, 600.0, 500.0, 500.0, 400.0, 300.0, 500.0, 400.0, 300.0, 200.0, 500.0, 200.0, 400.0, 300.0, 200.0, 500.0, 350.0, 400.0, 300.0, 300.0, 200.0, 200.0, 600.0, 600.0, 500.0, 600.0, 500.0, 300.0, 200.0, 250.0, 400.0, 300.0, 400.0, 300.0, 600.0, 400.0, 350.0, 300.0, 300.0, 500.0, 550.0, 200.0, 150.0, 450.0, 300.0, 300.0, 400.0, 450.0, 550.0, 300.0, 200.0, 400.0, 350.0, 300.0, 250.0, 400.0, 250.0, 200.0, 800.0, 100.0, 1200.0, 850.0, 800.0, 1200.0, 1600.0, 3000.0, 1000.0, 750.0, 1200.0, 1200.0, 900.0, 1700.0, 1250.0, 700.0, 800.0, 800.0, 800.0, 600.0, 1500.0, 800.0, 550.0, 650.0, 300.0, 700.0, 1800.0, 600.0, 900.0, 2000.0, 800.0, 800.0, 800.0, 800.0, 450.0, 1300.0, 700.0, 150.0, 400.0, 700.0, 600.0, 1000.0, 200.0, 900.0, 3000.0, 600.0, 550.0, 650.0, 1000.0, 450.0, 400.0, 350.0, 300.0, 600.0, 150.0, 1200.0, 550.0, 350.0, 800.0, 500.0, 400.0, 400.0, 400.0, 900.0, 800.0, 200.0, 500.0, 600.0, 500.0, 600.0, 600.0, 300.0, 1800.0, 1000.0, 500.0, 600.0, 350.0, 600.0, 350.0, 500.0, 300.0, 400.0, 300.0, 1000.0, 1100.0, 300.0, 600.0, 500.0, 250.0, 300.0, 400.0, 650.0, 350.0, 300.0, 500.0, 250.0, 400.0, 400.0, 600.0, 300.0, 700.0, 1400.0, 1200.0, 1200.0, 1800.0, 1200.0, 1400.0, 1300.0, 1500.0, 1200.0, 1500.0, 1300.0, 2000.0, 1500.0, 2000.0, 1000.0, 1100.0, 1600.0, 2100.0, 1600.0, 1000.0, 1000.0, 1500.0, 1800.0, 1400.0, 1000.0, 1200.0, 1000.0, 1200.0, 1400.0, 2000.0, 1200.0, 1200.0, 1000.0, 1400.0, 1000.0, 1500.0, 1000.0, 1400.0, 1400.0, 1300.0, 1200.0, 1700.0, 1300.0, 1500.0, 1200.0, 1200.0, 850.0, 1600.0, 1200.0, 1700.0, 1400.0, 1200.0, 1300.0, 2000.0, 1500.0, 1300.0, 1500.0, 750.0, 1100.0, 1400.0, 700.0, 1000.0, 1000.0, 600.0, 1600.0, 1500.0, 1500.0, 1500.0, 2000.0, 1500.0, 1000.0, 900.0, 1100.0, 600.0, 1700.0, 1500.0, 1000.0, 800.0, 2000.0, 1000.0, 900.0, 1300.0, 800.0, 900.0, 800.0, 1300.0, 600.0, 600.0, 900.0, 500.0, 900.0, 800.0, 800.0, 900.0, 800.0, 600.0, 800.0, 300.0, 1200.0, 650.0, 1200.0, 450.0, 800.0, 600.0, 300.0, 600.0, 800.0, 650.0, 700.0, 600.0, 600.0, 800.0, 500.0, 400.0, 600.0, 1000.0, 600.0, 600.0, 1000.0, 850.0, 1000.0, 700.0, 500.0, 450.0, 800.0, 800.0, 250.0, 300.0, 200.0, 450.0, 400.0, 900.0, 500.0, 250.0, 400.0, 800.0, 400.0, 600.0, 400.0, 500.0, 600.0, 300.0, 600.0, 400.0, 650.0, 500.0, 250.0, 450.0, 300.0, 250.0, 200.0, 450.0, 400.0, 500.0, 300.0, 300.0, 650.0, 150.0, 400.0, 400.0, 200.0, 250.0, 150.0, 250.0, 250.0, 550.0, 400.0, 600.0, 400.0, 400.0, 300.0, 600.0, 400.0, 750.0, 600.0, 300.0, 300.0, 350.0, 400.0, 900.0, 600.0, 700.0, 600.0, 400.0, 400.0, 600.0, 650.0, 250.0, 400.0, 250.0, 150.0, 800.0, 650.0, 300.0, 500.0, 300.0, 400.0, 500.0, 800.0, 300.0, 500.0, 750.0, 300.0, 500.0, 800.0, 600.0, 500.0, 600.0, 400.0, 350.0, 400.0, 650.0, 300.0, 550.0, 500.0, 450.0, 300.0, 600.0, 150.0, 750.0, 300.0, 500.0, 500.0, 650.0, 400.0, 750.0, 200.0, 600.0, 200.0, 600.0, 500.0, 400.0, 200.0, 450.0, 250.0, 400.0, 700.0, 400.0, 600.0, 800.0, 250.0, 400.0, 450.0, 400.0, 800.0, 300.0, 700.0, 100.0, 600.0, 650.0, 600.0, 600.0, 400.0, 600.0, 400.0, 450.0, 400.0, 550.0, 700.0, 500.0, 400.0, 300.0, 400.0, 800.0, 200.0, 600.0, 300.0, 500.0, 500.0, 600.0, 1500.0, 300.0, 550.0, 350.0, 800.0, 600.0, 200.0, 600.0, 600.0, 500.0, 600.0, 1000.0, 600.0, 300.0, 300.0, 200.0, 800.0, 400.0, 1000.0, 450.0, 300.0, 800.0, 400.0, 650.0, 400.0, 300.0, 750.0, 300.0, 600.0, 400.0, 300.0, 300.0, 1200.0, 250.0, 500.0, 300.0, 400.0, 250.0, 400.0, 800.0, 450.0, 800.0, 600.0, 500.0, 600.0, 300.0, 300.0, 250.0, 450.0, 350.0, 500.0, 1200.0, 1300.0, 800.0, 600.0, 500.0, 1000.0, 400.0, 750.0, 300.0, 450.0, 550.0, 900.0, 200.0, 500.0, 1500.0, 400.0, 600.0, 400.0, 600.0, 400.0, 300.0, 450.0, 1200.0, 500.0, 700.0, 200.0, 700.0, 200.0, 1000.0, 1000.0, 300.0, 600.0, 400.0, 600.0, 600.0, 500.0, 300.0, 600.0, 700.0, 500.0, 1000.0, 500.0, 600.0, 350.0, 500.0, 650.0, 700.0, 350.0, 400.0, 400.0, 800.0, 400.0, 600.0, 800.0, 700.0, 800.0, 600.0, 800.0, 1300.0, 700.0, 500.0, 250.0, 1000.0, 1000.0, 500.0, 300.0, 500.0, 400.0, 300.0, 200.0, 750.0, 700.0, 750.0, 600.0, 300.0, 400.0, 900.0, 1400.0, 500.0, 600.0, 200.0, 1000.0, 500.0, 1300.0, 600.0, 450.0, 300.0, 40.0, 900.0, 300.0, 500.0, 650.0, 1200.0, 150.0, 250.0, 1000.0, 450.0, 900.0, 1000.0, 500.0, 600.0, 1000.0, 650.0, 800.0, 600.0, 600.0, 500.0, 300.0, 400.0, 700.0, 450.0, 450.0, 800.0, 700.0, 400.0, 500.0, 500.0, 700.0, 300.0, 200.0, 1000.0, 200.0, 200.0, 300.0, 400.0, 700.0, 1000.0, 500.0, 600.0, 1000.0, 600.0, 900.0, 500.0, 500.0, 350.0, 230.0, 1500.0, 500.0, 1200.0, 1200.0, 1100.0, 650.0, 900.0, 900.0, 250.0, 700.0, 650.0, 2500.0, 300.0, 1500.0, 200.0, 1000.0, 500.0, 1000.0, 450.0, 500.0, 500.0, 400.0, 1300.0, 400.0, 750.0, 800.0, 300.0, 500.0, 1000.0, 700.0, 800.0, 300.0, 400.0, 1100.0, 300.0, 300.0, 700.0, 900.0, 550.0, 600.0, 500.0, 400.0, 400.0, 800.0, 150.0, 300.0, 350.0, 700.0, 650.0, 700.0, 1600.0, 600.0, 1500.0, 400.0, 1500.0, 750.0, 250.0, 400.0, 650.0, 150.0, 750.0, 750.0, 200.0, 250.0, 750.0, 250.0, 1400.0, 900.0, 1200.0, 200.0, 300.0, 600.0, 800.0, 700.0, 600.0, 450.0, 400.0, 900.0, 600.0, 300.0, 1500.0, 500.0, 750.0, 1000.0, 1200.0, 600.0, 400.0, 1000.0, 1000.0, 400.0, 350.0, 350.0, 900.0, 650.0, 1500.0, 600.0, 400.0, 900.0, 1500.0, 600.0, 1200.0, 400.0, 1100.0, 300.0, 1500.0, 400.0, 800.0, 1000.0, 250.0, 600.0, 250.0, 700.0, 450.0, 700.0, 500.0, 150.0, 500.0, 700.0, 400.0, 500.0, 650.0, 600.0, 800.0, 1300.0, 300.0, 300.0, 700.0, 900.0, 1100.0, 250.0, 200.0, 750.0, 750.0, 500.0, 550.0, 1700.0, 500.0, 200.0, 350.0, 800.0, 1400.0, 300.0, 400.0, 150.0, 350.0, 350.0, 1200.0, 1000.0, 400.0, 150.0, 1200.0, 400.0, 900.0, 600.0, 600.0, 500.0, 400.0, 1400.0, 1000.0, 250.0, 300.0, 600.0, 600.0, 250.0, 400.0, 400.0, 1200.0, 400.0, 700.0, 300.0, 350.0, 1100.0, 600.0, 200.0, 500.0, 650.0, 400.0, 500.0, 400.0, 400.0, 500.0, 400.0, 600.0, 600.0, 600.0, 800.0, 800.0, 500.0, 200.0, 350.0, 400.0, 300.0, 500.0, 600.0, 800.0, 650.0, 300.0, 150.0, 450.0, 300.0, 400.0, 200.0, 300.0, 600.0, 400.0, 600.0, 300.0, 500.0, 700.0, 400.0, 800.0, 300.0, 500.0, 800.0, 500.0, 700.0, 200.0, 700.0, 600.0, 1300.0, 500.0, 400.0, 300.0, 550.0, 250.0, 600.0, 350.0, 1400.0, 2000.0, 1100.0, 550.0, 700.0, 600.0, 800.0, 850.0, 650.0, 700.0, 800.0, 800.0, 650.0, 300.0, 200.0, 350.0, 800.0, 600.0, 200.0, 500.0, 500.0, 200.0, 400.0, 500.0, 250.0, 400.0, 200.0, 700.0, 600.0, 450.0, 250.0, 150.0, 500.0, 350.0, 400.0, 600.0, 550.0, 1000.0, 400.0, 400.0, 400.0, 500.0, 600.0, 550.0, 500.0, 300.0, 200.0, 200.0, 650.0, 300.0, 250.0, 800.0, 500.0, 500.0, 200.0, 800.0, 350.0, 900.0, 400.0, 450.0, 1500.0, 200.0, 900.0, 500.0, 400.0, 1300.0, 600.0, 500.0, 400.0, 800.0, 400.0, 400.0, 400.0, 450.0, 500.0, 300.0, 400.0, 650.0, 400.0, 250.0, 400.0, 1200.0, 500.0, 350.0, 500.0, 200.0, 400.0, 350.0, 400.0, 200.0, 200.0, 400.0, 400.0, 200.0, 350.0, 250.0, 200.0, 400.0, 800.0, 2000.0, 600.0, 800.0, 600.0, 500.0, 600.0, 400.0, 550.0, 1100.0, 500.0, 1100.0, 650.0, 450.0, 500.0, 200.0, 300.0, 400.0, 400.0, 900.0, 200.0, 300.0, 300.0, 250.0, 700.0, 500.0, 300.0, 700.0, 800.0, 150.0, 300.0, 500.0, 200.0, 400.0, 250.0, 400.0, 500.0, 600.0, 450.0, 500.0, 150.0, 500.0, 600.0, 450.0, 300.0, 300.0, 400.0, 500.0, 450.0, 200.0, 250.0, 200.0, 700.0, 700.0, 500.0, 400.0, 1200.0, 1300.0, 1200.0, 1400.0, 900.0, 2000.0, 1000.0, 1500.0, 1300.0, 1400.0, 1300.0, 900.0, 2100.0, 1600.0, 700.0, 750.0, 800.0, 1000.0, 1500.0, 1500.0, 1500.0, 1800.0, 1300.0, 600.0, 1400.0, 1000.0, 600.0, 1200.0, 800.0, 1400.0, 600.0, 1400.0, 600.0, 650.0, 900.0, 750.0, 1200.0, 500.0, 1000.0, 900.0, 1200.0, 1500.0, 800.0, 800.0, 1200.0, 600.0, 800.0, 900.0, 800.0, 750.0, 550.0, 1100.0, 650.0, 600.0, 600.0, 500.0, 750.0, 1200.0, 800.0, 850.0, 800.0, 1000.0, 700.0, 600.0, 750.0, 1200.0, 800.0, 650.0, 1500.0, 1000.0, 800.0, 500.0, 500.0, 800.0, 1200.0, 700.0, 1400.0, 700.0, 750.0, 1300.0, 750.0, 700.0, 450.0, 150.0, 350.0, 800.0, 550.0, 800.0, 1000.0, 600.0, 600.0, 500.0, 600.0, 800.0, 600.0, 1000.0, 500.0, 600.0, 650.0, 500.0, 900.0, 700.0, 500.0, 400.0, 200.0, 350.0, 400.0, 200.0, 500.0, 600.0, 200.0, 600.0, 750.0, 500.0, 250.0, 500.0, 300.0, 250.0, 600.0, 200.0, 300.0, 300.0, 450.0, 250.0, 800.0, 2000.0, 1500.0, 1100.0, 600.0, 1600.0, 1800.0, 1200.0, 1000.0, 600.0, 1600.0, 1200.0, 600.0, 1400.0, 1500.0, 1000.0, 1200.0, 800.0, 1500.0, 1200.0, 1500.0, 1400.0, 500.0, 1000.0, 400.0, 1200.0, 1400.0, 1300.0, 2500.0, 2000.0, 1100.0, 1500.0, 600.0, 1300.0, 1000.0, 1000.0, 600.0, 1000.0, 600.0, 800.0, 850.0, 1000.0, 650.0, 1000.0, 700.0, 1500.0, 550.0, 750.0, 800.0, 1100.0, 900.0, 700.0, 800.0, 500.0, 700.0, 650.0, 1100.0, 600.0, 1200.0, 800.0, 1000.0, 700.0, 650.0, 800.0, 1700.0, 1400.0, 750.0, 1000.0, 900.0, 900.0, 650.0, 600.0, 600.0, 700.0, 750.0, 700.0, 900.0, 1500.0, 800.0, 1000.0, 800.0, 200.0, 1200.0, 1100.0, 1000.0, 750.0, 600.0, 650.0, 600.0, 1400.0, 500.0, 500.0, 800.0, 650.0, 650.0, 700.0, 1200.0, 750.0, 600.0, 650.0, 1700.0, 2000.0, 700.0, 600.0, 250.0, 1000.0, 1500.0, 700.0, 500.0, 900.0, 250.0, 600.0, 600.0, 800.0, 500.0, 1000.0, 500.0, 500.0, 1300.0, 250.0, 600.0, 600.0, 750.0, 600.0, 450.0, 1300.0, 500.0, 400.0, 1000.0, 500.0, 250.0, 250.0, 800.0, 800.0, 700.0, 450.0, 800.0, 700.0, 650.0, 400.0, 1500.0, 600.0, 500.0, 800.0, 500.0, 350.0, 700.0, 500.0, 1200.0, 600.0, 450.0, 600.0, 400.0, 600.0, 400.0, 350.0, 550.0, 600.0, 300.0, 450.0, 250.0, 400.0, 300.0, 450.0, 200.0, 450.0, 250.0, 500.0, 400.0, 450.0, 300.0, 250.0, 500.0, 300.0, 200.0, 400.0, 900.0, 300.0, 400.0, 250.0, 600.0, 500.0, 400.0, 500.0, 400.0, 400.0, 300.0, 200.0, 500.0, 200.0, 400.0, 300.0, 200.0, 500.0, 300.0, 350.0, 400.0, 300.0, 300.0, 400.0, 200.0, 600.0, 500.0, 600.0, 500.0, 200.0, 400.0, 400.0, 300.0, 300.0, 400.0, 600.0, 350.0, 300.0, 600.0, 500.0, 550.0, 200.0, 150.0, 600.0, 300.0, 300.0, 400.0, 450.0, 550.0, 300.0, 200.0, 350.0, 300.0, 400.0, 400.0, 250.0, 200.0, 100.0, 1300.0, 800.0, 900.0, 900.0, 800.0, 800.0, 300.0, 700.0, 1100.0, 650.0, 900.0, 800.0, 800.0, 1300.0, 400.0, 600.0, 400.0, 500.0, 800.0, 600.0, 1000.0, 200.0, 500.0, 600.0, 900.0, 1000.0, 400.0, 350.0, 700.0, 150.0, 700.0, 900.0, 800.0, 600.0, 300.0, 200.0, 600.0, 400.0, 500.0, 600.0, 300.0, 200.0, 500.0, 600.0, 250.0, 200.0, 350.0, 500.0, 300.0, 400.0, 300.0, 1000.0, 300.0, 600.0, 500.0, 600.0, 250.0, 300.0, 550.0, 350.0, 400.0, 400.0, 650.0, 300.0, 500.0, 250.0, 400.0, 400.0, 200.0, 500.0, 300.0, 700.0, 200.0, 1500.0, 1800.0, 1000.0, 2000.0, 2100.0, 1600.0, 1000.0, 1400.0, 1000.0, 1200.0, 1200.0, 1000.0, 1500.0, 1000.0, 1400.0, 1300.0, 2000.0, 1500.0, 1100.0, 1600.0, 1800.0, 1200.0, 1000.0, 1400.0, 1200.0, 1200.0, 1400.0, 1000.0, 1200.0, 1400.0, 2000.0, 1300.0, 1200.0, 1000.0, 1400.0, 1500.0, 1200.0, 1400.0, 1200.0, 1700.0, 1500.0, 1300.0, 1300.0, 1500.0, 1200.0, 1100.0, 2100.0, 1000.0, 1000.0, 1400.0, 1000.0, 1500.0, 1300.0, 1400.0, 1500.0, 1800.0, 1200.0, 1500.0, 1200.0, 1000.0, 1200.0, 1000.0, 1300.0, 1100.0, 1600.0, 1800.0, 1200.0, 1200.0, 1500.0, 1200.0, 1200.0, 1400.0, 1000.0, 1200.0, 1400.0, 1300.0, 800.0, 1200.0, 1000.0, 1400.0, 1500.0, 1000.0, 1200.0, 1400.0, 1200.0, 1700.0, 1500.0, 1300.0, 1300.0, 1500.0, 1100.0, 1300.0, 1300.0, 2000.0, 1400.0, 2000.0, 600.0, 1000.0, 900.0, 1500.0, 1200.0, 1500.0, 1300.0, 1000.0, 600.0, 1500.0, 1500.0, 1500.0, 1500.0, 1100.0, 750.0, 900.0, 1700.0, 1000.0, 700.0, 1500.0, 1400.0, 800.0, 1000.0, 2000.0, 1000.0, 1500.0, 800.0, 1100.0, 1000.0, 500.0, 600.0, 600.0, 800.0, 700.0, 700.0, 400.0, 600.0, 600.0, 450.0, 250.0, 900.0, 600.0, 800.0, 600.0, 1300.0, 800.0, 400.0, 600.0, 600.0, 600.0, 1000.0, 800.0, 1000.0, 900.0, 600.0, 500.0, 800.0, 900.0, 800.0, 550.0, 800.0, 900.0, 850.0, 900.0, 300.0, 700.0, 700.0, 600.0, 700.0, 800.0, 800.0, 1200.0, 600.0, 1200.0, 650.0, 700.0, 900.0, 450.0, 200.0, 700.0, 650.0, 600.0, 600.0, 600.0, 800.0, 700.0, 650.0, 350.0, 500.0, 700.0, 300.0, 600.0, 500.0, 700.0, 500.0, 800.0, 600.0, 600.0, 450.0, 900.0, 1600.0, 600.0, 500.0, 500.0, 450.0, 500.0, 450.0, 800.0, 400.0, 800.0, 300.0, 900.0, 200.0, 250.0, 400.0, 250.0, 300.0, 600.0, 400.0, 400.0, 650.0, 500.0, 600.0, 500.0, 600.0, 600.0, 400.0, 800.0, 500.0, 400.0, 300.0, 300.0, 600.0, 200.0, 500.0, 300.0, 150.0, 300.0, 400.0, 600.0, 400.0, 550.0, 750.0, 150.0, 450.0, 650.0, 500.0, 400.0, 400.0, 300.0, 500.0, 400.0, 400.0, 600.0, 600.0, 800.0, 700.0, 250.0, 400.0, 700.0, 250.0, 800.0, 250.0, 250.0, 750.0, 350.0, 600.0, 600.0, 600.0, 200.0, 350.0, 600.0, 1000.0, 400.0, 700.0, 400.0, 300.0, 500.0, 400.0, 500.0, 650.0, 500.0, 300.0, 500.0, 300.0, 500.0, 1000.0, 200.0, 750.0, 400.0, 350.0, 800.0, 400.0, 450.0, 300.0, 500.0, 400.0, 600.0, 550.0, 600.0, 650.0, 300.0, 500.0, 150.0, 300.0, 600.0, 250.0, 500.0, 600.0, 500.0, 800.0, 250.0, 600.0, 600.0, 800.0, 750.0, 300.0, 600.0, 600.0, 450.0, 750.0, 450.0, 500.0, 400.0, 200.0, 250.0, 700.0, 500.0, 300.0, 400.0, 800.0, 600.0, 400.0, 300.0, 400.0, 200.0, 800.0, 1500.0, 800.0, 300.0, 200.0, 450.0, 300.0, 450.0, 500.0, 500.0, 400.0, 400.0, 550.0, 450.0, 1000.0, 600.0, 300.0, 550.0, 300.0, 650.0, 500.0, 500.0, 1200.0, 650.0, 400.0, 200.0, 450.0, 300.0, 500.0, 400.0, 600.0, 500.0, 1600.0, 600.0, 300.0, 800.0, 300.0, 400.0, 40.0, 500.0, 500.0, 600.0, 400.0, 400.0, 300.0, 800.0, 900.0, 600.0, 1800.0, 300.0, 400.0, 800.0, 500.0, 650.0, 300.0, 700.0, 450.0, 300.0, 500.0, 200.0, 800.0, 500.0, 500.0, 300.0, 300.0, 350.0, 600.0, 800.0, 400.0, 350.0, 600.0, 350.0, 200.0, 700.0, 1000.0, 1200.0, 1500.0, 350.0, 1300.0, 600.0, 450.0, 1200.0, 650.0, 400.0, 500.0, 400.0, 400.0, 1000.0, 600.0, 600.0, 400.0, 250.0, 1000.0, 250.0, 300.0, 500.0, 500.0, 600.0, 450.0, 600.0, 1300.0, 400.0, 600.0, 300.0, 800.0, 300.0, 1000.0, 500.0, 300.0, 400.0, 800.0, 600.0, 300.0, 500.0, 1000.0, 600.0, 450.0, 1600.0, 600.0, 400.0, 800.0, 400.0, 1300.0, 650.0, 800.0, 200.0, 300.0, 700.0, 250.0, 600.0, 700.0, 600.0, 500.0, 500.0, 600.0, 700.0, 600.0, 400.0, 1100.0, 750.0, 1500.0, 400.0, 230.0, 800.0, 500.0, 700.0, 1500.0, 400.0, 300.0, 300.0, 2500.0, 600.0, 300.0, 500.0, 1500.0, 900.0, 700.0, 200.0, 600.0, 600.0, 500.0, 900.0, 900.0, 500.0, 400.0, 600.0, 200.0, 500.0, 1000.0, 1200.0, 200.0, 400.0, 500.0, 250.0, 700.0, 500.0, 300.0, 250.0, 600.0, 650.0, 650.0, 500.0, 250.0, 1200.0, 1200.0, 800.0, 400.0, 500.0, 1500.0, 150.0, 700.0, 1000.0, 350.0, 1000.0, 700.0, 900.0, 750.0, 700.0, 300.0, 650.0, 500.0, 700.0, 400.0, 400.0, 500.0, 800.0, 400.0, 1000.0, 1500.0, 300.0, 600.0, 100.0, 1000.0, 800.0, 700.0, 700.0, 400.0, 350.0, 350.0, 450.0, 200.0, 400.0, 900.0, 450.0, 300.0, 300.0, 300.0, 600.0, 1000.0, 1000.0, 550.0, 200.0, 500.0, 1500.0, 1000.0, 400.0, 600.0, 900.0, 150.0, 1400.0, 750.0, 400.0, 900.0, 300.0, 1200.0, 600.0, 400.0, 500.0, 1500.0, 450.0, 450.0, 200.0, 1100.0, 500.0, 1700.0, 600.0, 400.0, 350.0, 250.0, 600.0, 700.0, 600.0, 400.0, 400.0, 600.0, 750.0, 600.0, 250.0, 2000.0, 500.0, 1500.0, 700.0, 1000.0, 700.0, 1300.0, 500.0, 500.0, 800.0, 800.0, 500.0, 600.0, 300.0, 700.0, 450.0, 750.0, 350.0, 150.0, 300.0, 1200.0, 600.0, 1200.0, 400.0, 300.0, 1100.0, 700.0, 300.0, 650.0, 700.0, 300.0, 650.0, 400.0, 1100.0, 900.0, 450.0, 550.0, 400.0, 750.0, 250.0, 1200.0, 350.0, 400.0, 800.0, 1000.0, 400.0, 700.0, 1200.0, 500.0, 1000.0, 750.0, 550.0, 600.0, 150.0, 1400.0, 350.0, 700.0, 300.0, 250.0, 400.0, 250.0, 250.0, 450.0, 200.0, 600.0, 600.0, 1000.0, 200.0, 300.0, 750.0, 250.0, 250.0, 200.0, 600.0, 600.0, 600.0, 600.0, 600.0, 500.0, 150.0, 600.0, 1000.0, 600.0, 200.0, 800.0, 350.0, 350.0, 650.0, 500.0, 400.0, 400.0, 500.0, 550.0, 300.0, 300.0, 500.0, 1300.0, 250.0, 500.0, 600.0, 650.0, 150.0, 900.0, 200.0, 700.0, 550.0, 400.0, 800.0, 450.0, 1400.0, 800.0, 600.0, 150.0, 300.0, 400.0, 200.0, 800.0, 600.0, 300.0, 600.0, 700.0, 250.0, 300.0, 1000.0, 1000.0, 1000.0, 1400.0, 1600.0, 300.0, 700.0, 450.0, 900.0, 1400.0, 800.0, 900.0, 900.0, 1300.0, 800.0, 1400.0, 800.0, 650.0, 1100.0, 400.0, 650.0, 500.0, 800.0, 900.0, 800.0, 850.0, 800.0, 350.0, 1200.0, 400.0, 650.0, 300.0, 650.0, 200.0, 350.0, 400.0, 150.0, 200.0, 500.0, 400.0, 400.0, 500.0, 600.0, 450.0, 250.0, 150.0, 500.0, 600.0, 300.0, 200.0, 1000.0, 1100.0, 400.0, 400.0, 600.0, 500.0, 200.0, 400.0, 650.0, 800.0, 350.0, 700.0, 500.0, 500.0, 250.0, 200.0, 800.0, 350.0, 500.0, 1500.0, 200.0, 400.0, 600.0, 2000.0, 500.0, 600.0, 1100.0, 400.0, 500.0, 250.0, 500.0, 250.0, 300.0, 300.0, 250.0, 400.0, 1300.0, 600.0, 800.0, 600.0, 600.0, 400.0, 500.0, 800.0, 550.0, 450.0, 450.0, 400.0, 400.0, 300.0, 500.0, 500.0, 400.0, 650.0, 400.0, 1200.0, 400.0, 1100.0, 650.0, 300.0, 500.0, 900.0, 350.0, 400.0, 400.0, 300.0, 200.0, 400.0, 250.0, 200.0, 450.0, 300.0, 500.0, 350.0, 200.0, 500.0, 500.0, 200.0, 500.0, 400.0, 400.0, 400.0, 800.0, 700.0, 350.0, 150.0, 200.0, 200.0, 300.0, 400.0, 400.0, 500.0, 400.0, 600.0, 150.0, 700.0, 500.0, 600.0, 200.0, 450.0, 400.0, 400.0, 200.0, 800.0, 450.0, 200.0, 400.0, 200.0, 500.0, 2000.0, 1000.0, 500.0, 2500.0, 1100.0, 2000.0, 600.0, 1100.0, 700.0, 1000.0, 600.0, 650.0, 800.0, 700.0, 1000.0, 600.0, 700.0, 1000.0, 1400.0, 750.0, 1000.0, 250.0, 900.0, 1700.0, 250.0, 250.0, 600.0, 700.0, 800.0, 500.0, 600.0, 250.0, 800.0, 1500.0, 450.0, 1300.0, 400.0, 500.0, 1200.0, 500.0, 750.0, 600.0, 400.0, 600.0, 400.0, 250.0, 300.0, 400.0, 400.0, 200.0, 550.0, 450.0, 400.0, 300.0, 200.0, 400.0, 400.0, 200.0, 600.0, 600.0, 350.0, 200.0, 550.0, 300.0, 400.0, 1400.0, 900.0, 1500.0, 2000.0, 1000.0, 1100.0, 1500.0, 2100.0, 1200.0, 600.0, 1300.0, 1300.0, 1400.0, 800.0, 1800.0, 1600.0, 1200.0, 1600.0, 700.0, 900.0, 1500.0, 750.0, 1300.0, 1500.0, 1000.0, 1000.0, 600.0, 1300.0, 1500.0, 1500.0, 1400.0, 1800.0, 600.0, 1200.0, 1600.0, 1400.0, 600.0, 1400.0, 1000.0, 1200.0, 800.0, 1500.0, 1500.0, 1200.0, 400.0, 1000.0, 1000.0, 1400.0, 600.0, 1400.0, 800.0, 1200.0, 600.0, 1300.0, 1200.0, 600.0, 1300.0, 1500.0, 1400.0, 1200.0, 650.0, 600.0, 550.0, 1000.0, 1100.0, 1000.0, 800.0, 1000.0, 650.0, 900.0, 600.0, 750.0, 500.0, 1500.0, 1500.0, 1200.0, 800.0, 900.0, 800.0, 550.0, 800.0, 900.0, 800.0, 900.0, 1700.0, 600.0, 800.0, 750.0, 850.0, 750.0, 800.0, 1200.0, 1000.0, 1200.0, 900.0, 1000.0, 500.0, 900.0, 750.0, 500.0, 800.0, 700.0, 600.0, 700.0, 1200.0, 800.0, 600.0, 700.0, 800.0, 650.0, 600.0, 800.0, 800.0, 850.0, 750.0, 1200.0, 500.0, 600.0, 1500.0, 750.0, 1100.0, 1200.0, 750.0, 1000.0, 650.0, 1000.0, 700.0, 700.0, 750.0, 1200.0, 800.0, 650.0, 800.0, 1100.0, 650.0, 500.0, 1500.0, 1000.0, 450.0, 500.0, 800.0, 1300.0, 200.0, 750.0, 1200.0, 600.0, 1400.0, 800.0, 600.0, 1000.0, 750.0, 650.0, 700.0, 700.0, 600.0, 650.0, 500.0, 600.0, 600.0, 800.0, 500.0, 1000.0, 600.0, 600.0, 700.0, 2000.0, 600.0, 150.0, 250.0, 500.0, 600.0, 800.0, 1500.0, 700.0, 350.0, 500.0, 800.0, 650.0, 600.0, 550.0, 650.0, 650.0, 700.0, 900.0, 500.0, 600.0, 1000.0, 800.0, 400.0, 450.0, 1000.0, 1300.0, 500.0, 750.0, 700.0, 500.0, 500.0, 700.0, 650.0, 800.0, 1000.0, 600.0, 700.0, 250.0, 800.0, 500.0, 600.0, 500.0, 600.0, 700.0, 350.0, 450.0, 400.0, 500.0, 600.0, 200.0, 450.0, 250.0, 350.0, 300.0, 450.0, 350.0, 500.0, 300.0, 200.0, 600.0, 400.0, 250.0, 450.0, 600.0, 200.0, 500.0, 500.0, 900.0, 500.0, 250.0, 200.0, 500.0, 300.0, 400.0, 400.0, 600.0, 300.0, 300.0, 400.0, 500.0, 400.0, 400.0, 450.0, 200.0, 200.0, 500.0, 400.0, 500.0, 300.0, 500.0, 300.0, 200.0, 300.0, 600.0, 400.0, 500.0, 400.0, 500.0, 350.0, 300.0, 200.0, 400.0, 300.0, 300.0, 600.0, 150.0, 500.0, 300.0, 400.0, 300.0, 450.0, 250.0, 600.0, 300.0, 600.0, 400.0, 550.0, 200.0, 300.0, 300.0, 350.0, 400.0, 250.0, 800.0, 300.0, 250.0, 350.0, 200.0, 100.0, 1200.0, 800.0, 1700.0, 900.0, 1600.0, 800.0, 700.0, 1500.0, 1800.0, 300.0, 800.0, 800.0, 1000.0, 1300.0, 900.0, 400.0, 200.0, 1000.0, 600.0, 600.0, 800.0, 400.0, 500.0, 200.0, 250.0, 400.0, 500.0, 600.0, 200.0, 300.0, 300.0, 300.0, 600.0, 600.0, 1800.0, 400.0, 250.0, 900.0, 350.0, 300.0, 1000.0, 1100.0, 350.0, 600.0, 500.0, 300.0, 400.0, 400.0, 650.0, 500.0, 400.0, 700.0, 400.0, 500.0, 200.0, 300.0, 2100.0, 1100.0, 1300.0, 2000.0, 1000.0, 2000.0, 1000.0, 1400.0, 1700.0, 1500.0, 1200.0, 1500.0, 2000.0, 1000.0, 1800.0, 1600.0, 1200.0, 1600.0, 1000.0, 1000.0, 1500.0, 1400.0, 1800.0, 1400.0, 1200.0, 1200.0, 1000.0, 1400.0, 1200.0, 1200.0, 1300.0, 1400.0, 1200.0, 1200.0, 1500.0, 1000.0, 1000.0, 1200.0, 1500.0, 1300.0, 1200.0, 1400.0, 1500.0, 1300.0, 1200.0, 1700.0, 1600.0, 1400.0, 1200.0, 2000.0, 1500.0, 1500.0, 1500.0, 800.0, 1000.0, 1500.0, 1300.0, 1500.0, 1300.0, 1000.0, 600.0, 1500.0, 2000.0, 600.0, 1100.0, 750.0, 900.0, 1700.0, 1000.0, 700.0, 1100.0, 1500.0, 1000.0, 1400.0, 2000.0, 900.0, 1000.0, 1300.0, 1100.0, 800.0, 1000.0, 800.0, 1000.0, 550.0, 700.0, 600.0, 900.0, 650.0, 700.0, 350.0, 600.0, 650.0, 900.0, 600.0, 800.0, 600.0, 1300.0, 800.0, 500.0, 400.0, 600.0, 600.0, 600.0, 800.0, 1000.0, 900.0, 600.0, 500.0, 800.0, 900.0, 800.0, 900.0, 850.0, 600.0, 900.0, 300.0, 700.0, 800.0, 600.0, 700.0, 800.0, 800.0, 700.0, 1200.0, 1200.0, 650.0, 700.0, 450.0, 200.0, 700.0, 600.0, 600.0, 600.0, 800.0, 650.0, 500.0, 700.0, 400.0, 300.0, 500.0, 600.0, 600.0, 700.0, 500.0, 800.0, 450.0, 250.0, 450.0, 600.0, 900.0, 1000.0, 700.0, 700.0, 600.0, 600.0, 500.0, 600.0, 500.0, 450.0, 500.0, 450.0, 250.0, 800.0, 300.0, 400.0, 400.0, 400.0, 800.0, 900.0, 200.0, 250.0, 300.0, 600.0, 400.0, 400.0, 650.0, 500.0, 250.0, 600.0, 500.0, 600.0, 600.0, 400.0, 800.0, 450.0, 500.0, 400.0, 300.0, 200.0, 500.0, 300.0, 150.0, 300.0, 600.0, 400.0, 550.0, 150.0, 450.0, 500.0, 400.0, 400.0, 500.0, 400.0, 400.0, 400.0, 600.0, 600.0, 800.0, 250.0, 700.0, 250.0, 300.0, 400.0, 900.0, 700.0, 250.0, 450.0, 300.0, 800.0, 250.0, 250.0, 750.0, 350.0, 600.0, 600.0, 600.0, 200.0, 350.0, 600.0, 400.0, 700.0, 500.0, 600.0, 200.0, 400.0, 300.0, 500.0, 650.0, 500.0, 300.0, 500.0, 350.0, 500.0, 600.0, 200.0, 300.0, 750.0, 800.0, 400.0, 350.0, 800.0, 400.0, 450.0, 400.0, 300.0, 300.0, 500.0, 400.0, 600.0, 550.0, 600.0, 650.0, 300.0, 500.0, 150.0, 300.0, 600.0, 250.0, 650.0, 400.0, 800.0, 200.0, 1000.0, 250.0, 600.0, 1200.0, 700.0, 600.0, 800.0, 400.0, 750.0, 400.0, 300.0, 600.0, 450.0, 750.0, 450.0, 500.0, 400.0, 200.0, 100.0, 250.0, 650.0, 500.0, 300.0, 400.0, 500.0, 1200.0, 400.0, 400.0, 200.0, 800.0, 400.0, 1500.0, 800.0, 400.0, 300.0, 200.0, 450.0, 400.0, 400.0, 450.0, 1000.0, 600.0, 700.0, 250.0, 300.0, 200.0, 600.0, 400.0, 650.0, 500.0, 650.0, 650.0, 400.0, 200.0, 450.0, 500.0, 400.0, 600.0, 500.0, 600.0, 300.0, 800.0, 300.0, 400.0, 500.0, 400.0, 600.0, 800.0, 900.0, 600.0, 300.0, 400.0, 800.0, 500.0, 650.0, 300.0, 700.0, 450.0, 300.0, 500.0, 500.0, 200.0, 800.0, 500.0, 300.0, 500.0, 300.0, 600.0, 800.0, 400.0, 350.0, 200.0, 300.0, 700.0, 1000.0, 1200.0, 1500.0, 350.0, 200.0, 1300.0, 600.0, 1000.0, 450.0, 1200.0, 300.0, 350.0, 650.0, 500.0, 400.0, 600.0, 300.0, 600.0, 250.0, 500.0, 800.0, 1000.0, 600.0, 250.0, 300.0, 500.0, 500.0, 500.0, 600.0, 450.0, 600.0, 1300.0, 400.0, 300.0, 400.0, 300.0, 1000.0, 500.0, 800.0, 300.0, 500.0, 200.0, 800.0, 600.0, 300.0, 500.0, 600.0, 450.0, 1600.0, 600.0, 400.0, 400.0, 1300.0, 1000.0, 400.0, 750.0, 700.0, 650.0, 800.0, 1000.0, 300.0, 700.0, 600.0, 600.0, 1500.0, 500.0, 700.0, 400.0, 1100.0, 750.0, 1500.0, 400.0, 230.0, 500.0, 700.0, 400.0, 300.0, 2500.0, 1200.0, 300.0, 250.0, 600.0, 300.0, 900.0, 350.0, 1500.0, 200.0, 900.0, 700.0, 200.0, 600.0, 600.0, 900.0, 900.0, 500.0, 500.0, 400.0, 600.0, 500.0, 500.0, 1200.0, 1000.0, 200.0, 400.0, 500.0, 700.0, 500.0, 180.0, 300.0, 550.0, 400.0, 250.0, 600.0, 650.0, 500.0, 250.0, 300.0, 450.0, 600.0, 1200.0, 800.0, 800.0, 400.0, 500.0, 1500.0, 150.0, 700.0, 1000.0, 1000.0, 700.0, 900.0, 750.0, 700.0, 500.0, 650.0, 500.0, 700.0, 400.0, 150.0, 400.0, 400.0, 400.0, 400.0, 1500.0, 300.0, 600.0, 400.0, 400.0, 100.0, 1200.0, 300.0, 1000.0, 800.0, 700.0, 350.0, 350.0, 450.0, 200.0, 200.0, 400.0, 400.0, 600.0, 300.0, 300.0, 200.0, 300.0, 500.0, 600.0, 1000.0, 1000.0, 550.0, 200.0, 300.0, 500.0, 1500.0, 1000.0, 250.0, 400.0, 600.0, 900.0, 150.0, 1400.0, 750.0, 400.0, 1000.0, 900.0, 300.0, 1200.0, 300.0, 600.0, 400.0, 300.0, 1500.0, 450.0, 450.0, 200.0, 1100.0, 400.0, 800.0, 1700.0, 1500.0, 600.0, 400.0, 600.0, 800.0, 600.0, 400.0, 700.0, 400.0, 1000.0, 600.0, 700.0, 700.0, 750.0, 600.0, 250.0, 400.0, 150.0, 1200.0, 400.0, 700.0, 100.0, 1000.0, 900.0, 700.0, 1300.0, 500.0, 500.0, 800.0, 550.0, 800.0, 500.0, 600.0, 300.0, 700.0, 750.0, 500.0, 350.0, 300.0, 650.0, 600.0, 1200.0, 200.0, 400.0, 1100.0, 700.0, 300.0, 650.0, 700.0, 400.0, 300.0, 650.0, 400.0, 1100.0, 600.0, 900.0, 450.0, 550.0, 350.0, 400.0, 750.0, 250.0, 1200.0, 200.0, 500.0, 350.0, 400.0, 800.0, 500.0, 650.0, 1000.0, 750.0, 400.0, 700.0, 1200.0, 500.0, 500.0, 1000.0, 750.0, 550.0, 600.0, 1400.0, 400.0, 300.0, 1000.0, 350.0, 700.0, 750.0, 200.0, 400.0, 250.0, 250.0, 600.0, 600.0, 650.0, 1000.0, 200.0, 800.0, 300.0, 750.0, 600.0, 600.0, 600.0, 600.0, 600.0, 250.0, 550.0, 400.0, 500.0, 400.0, 150.0, 600.0, 1000.0, 250.0, 600.0, 100.0, 800.0, 450.0, 500.0, 400.0, 650.0, 500.0, 1300.0, 400.0, 600.0, 650.0, 350.0, 150.0, 200.0, 700.0, 550.0, 400.0, 800.0, 600.0, 450.0, 500.0, 800.0, 600.0, 300.0, 400.0, 900.0, 200.0, 200.0, 800.0, 900.0, 600.0, 300.0, 600.0, 700.0, 250.0, 1000.0, 1000.0, 1000.0, 1400.0, 2000.0, 300.0, 450.0, 700.0, 1100.0, 900.0, 1400.0, 1000.0, 800.0, 900.0, 900.0, 1300.0, 800.0, 600.0, 1400.0, 800.0, 650.0, 1100.0, 400.0, 650.0, 500.0, 550.0, 800.0, 900.0, 800.0, 850.0, 800.0, 350.0, 1200.0, 400.0, 650.0, 600.0, 150.0, 700.0, 300.0, 200.0, 800.0, 150.0, 500.0, 200.0, 500.0, 200.0, 500.0, 400.0, 400.0, 500.0, 250.0, 200.0, 700.0, 450.0, 250.0, 350.0, 400.0, 600.0, 500.0, 300.0, 200.0, 550.0, 1000.0, 400.0, 400.0, 400.0, 500.0, 600.0, 550.0, 500.0, 300.0, 200.0, 200.0, 400.0, 650.0, 300.0, 250.0, 800.0, 500.0, 700.0, 500.0, 250.0, 800.0, 500.0, 350.0, 400.0, 500.0, 1500.0, 500.0, 400.0, 550.0, 400.0, 900.0, 400.0, 300.0, 200.0, 450.0, 250.0, 500.0, 500.0, 800.0, 700.0, 150.0, 600.0, 150.0, 400.0, 2000.0, 400.0, 1300.0, 600.0, 800.0, 500.0, 600.0, 600.0, 400.0, 500.0, 800.0, 1100.0, 450.0, 450.0, 400.0, 400.0, 300.0, 500.0, 500.0, 400.0, 400.0, 1200.0, 400.0, 1100.0, 650.0, 500.0, 300.0, 500.0, 350.0, 400.0, 300.0, 400.0, 250.0, 300.0, 500.0, 350.0, 200.0, 200.0, 400.0, 400.0, 350.0, 200.0, 200.0, 300.0, 400.0, 400.0, 500.0, 400.0, 250.0, 500.0, 250.0, 700.0, 500.0, 600.0, 200.0, 450.0, 300.0, 400.0, 300.0, 200.0, 800.0, 450.0, 600.0, 200.0, 200.0, 200.0, 700.0, 400.0, 1600.0, 2100.0, 1500.0, 1500.0, 1100.0, 1500.0, 600.0, 1500.0, 1400.0, 550.0, 900.0, 500.0, 600.0, 750.0, 650.0, 1100.0, 1000.0, 600.0, 650.0, 650.0, 500.0, 800.0, 1000.0, 750.0, 700.0, 800.0, 650.0, 750.0, 800.0, 400.0, 750.0, 700.0, 650.0, 700.0, 650.0, 500.0, 700.0, 450.0, 350.0, 300.0, 450.0, 600.0, 900.0, 200.0, 400.0, 400.0, 200.0, 500.0, 200.0, 450.0, 600.0, 400.0, 500.0, 200.0, 250.0, 400.0, 500.0, 300.0, 400.0, 550.0, 200.0, 300.0, 400.0, 300.0, 600.0, 1400.0, 900.0, 2000.0, 2000.0, 1000.0, 1500.0, 1200.0, 600.0, 1300.0, 1300.0, 1400.0, 800.0, 1200.0, 1800.0, 1600.0, 700.0, 900.0, 1500.0, 750.0, 1300.0, 1500.0, 1000.0, 1000.0, 600.0, 1300.0, 1500.0, 1400.0, 1800.0, 1400.0, 600.0, 1400.0, 1000.0, 1200.0, 800.0, 1000.0, 1500.0, 500.0, 1200.0, 400.0, 1000.0, 1000.0, 1400.0, 600.0, 1400.0, 800.0, 1200.0, 1300.0, 2500.0, 600.0, 1300.0, 1100.0, 1200.0, 650.0, 550.0, 600.0, 2000.0, 600.0, 1100.0, 1000.0, 800.0, 1000.0, 650.0, 900.0, 600.0, 500.0, 1500.0, 1500.0, 800.0, 1200.0, 900.0, 800.0, 800.0, 900.0, 1100.0, 800.0, 900.0, 700.0, 1700.0, 800.0, 1000.0, 600.0, 750.0, 850.0, 750.0, 1200.0, 800.0, 1000.0, 600.0, 1200.0, 900.0, 1000.0, 650.0, 500.0, 750.0, 800.0, 700.0, 700.0, 1200.0, 800.0, 600.0, 700.0, 800.0, 650.0, 600.0, 800.0, 700.0, 800.0, 1000.0, 750.0, 600.0, 1200.0, 500.0, 1500.0, 750.0, 1100.0, 1200.0, 1000.0, 1000.0, 650.0, 700.0, 750.0, 700.0, 1200.0, 800.0, 800.0, 1300.0, 1500.0, 450.0, 500.0, 800.0, 200.0, 750.0, 600.0, 1000.0, 1400.0, 1400.0, 800.0, 1000.0, 750.0, 750.0, 700.0, 700.0, 1000.0, 600.0, 500.0, 250.0, 600.0, 600.0, 700.0, 2000.0, 600.0, 150.0, 250.0, 500.0, 600.0, 800.0, 1500.0, 350.0, 900.0, 600.0, 550.0, 650.0, 1700.0, 250.0, 700.0, 900.0, 250.0, 600.0, 600.0, 1000.0, 700.0, 800.0, 450.0, 500.0, 1000.0, 1300.0, 600.0, 500.0, 250.0, 700.0, 500.0, 500.0, 800.0, 1000.0, 600.0, 250.0, 800.0, 1500.0, 800.0, 450.0, 1300.0, 500.0, 400.0, 500.0, 1200.0, 500.0, 350.0, 450.0, 600.0, 400.0, 600.0, 400.0, 400.0, 500.0, 600.0, 200.0, 200.0, 450.0, 250.0, 350.0, 300.0, 400.0, 500.0, 400.0, 200.0, 600.0, 400.0, 250.0, 200.0, 550.0, 200.0, 500.0, 500.0, 400.0, 250.0, 500.0, 300.0, 400.0, 400.0, 600.0, 300.0, 300.0, 200.0, 200.0, 500.0, 200.0, 300.0, 400.0, 500.0, 400.0, 300.0, 200.0, 600.0, 400.0, 600.0, 300.0, 600.0, 350.0, 300.0, 450.0, 200.0, 600.0, 300.0, 600.0, 550.0, 300.0, 250.0, 800.0, 400.0, 350.0, 200.0, 1600.0, 1300.0, 1200.0, 1100.0, 800.0, 600.0, 1200.0, 900.0, 1000.0, 550.0, 800.0, 900.0, 600.0, 800.0, 600.0, 700.0, 300.0, 800.0, 700.0, 400.0, 800.0, 1100.0, 650.0, 500.0, 1000.0, 550.0, 650.0, 700.0, 600.0, 250.0, 1300.0, 300.0, 600.0, 600.0, 1000.0, 500.0, 900.0, 600.0, 900.0, 800.0, 400.0, 200.0, 1000.0, 400.0, 600.0, 450.0, 600.0, 350.0, 500.0, 1000.0, 500.0, 350.0, 200.0, 400.0, 500.0, 500.0, 1000.0, 700.0, 300.0, 250.0, 500.0, 150.0, 600.0, 500.0, 600.0, 500.0, 300.0, 600.0, 200.0, 300.0, 400.0, 500.0, 300.0, 200.0, 300.0, 300.0, 600.0, 600.0, 600.0, 450.0, 200.0, 400.0, 250.0, 900.0, 500.0, 600.0, 350.0, 300.0, 200.0, 150.0, 250.0, 1000.0, 400.0, 350.0, 600.0, 600.0, 500.0, 300.0, 400.0, 150.0, 300.0, 550.0, 400.0, 300.0, 400.0, 400.0, 650.0, 500.0, 400.0, 700.0, 400.0, 600.0, 500.0, 250.0, 200.0, 300.0, 1000.0, 2000.0, 2100.0, 1500.0, 1100.0, 1600.0, 1400.0, 2000.0, 1800.0, 1200.0, 1600.0, 1000.0, 1000.0, 1500.0, 1400.0, 1800.0, 1400.0, 1200.0, 1000.0, 1200.0, 1000.0, 1400.0, 1200.0, 1300.0, 1100.0, 2000.0, 1200.0, 1200.0, 1000.0, 1500.0, 1000.0, 1000.0, 1200.0, 1500.0, 1300.0, 1400.0, 1400.0, 1500.0, 1700.0, 1300.0, 1500.0, 1300.0, 1200.0, 1100.0, 1200.0, 1100.0, 1000.0, 1000.0, 1600.0, 1100.0, 1000.0, 1500.0, 1400.0, 1000.0, 1400.0, 1500.0, 2100.0, 1300.0, 1400.0, 1800.0, 1200.0, 1500.0, 1000.0, 1800.0, 1200.0, 1000.0, 1200.0, 1400.0, 1200.0, 1300.0, 1100.0, 1000.0, 1500.0, 800.0, 1200.0, 1200.0, 1000.0, 1200.0, 1000.0, 1000.0, 1200.0, 1500.0, 1300.0, 1400.0, 1500.0, 1800.0, 1300.0, 1500.0, 1300.0, 1200.0, 1100.0, 1200.0, 1100.0, 1300.0, 1000.0, 1000.0, 1600.0, 2200.0, 1200.0, 1400.0, 1000.0, 1500.0, 1600.0, 1200.0, 1800.0, 1500.0, 1500.0, 2100.0, 3000.0, 1200.0, 1700.0, 750.0, 3000.0, 1500.0, 500.0, 2500.0, 1500.0, 3400.0, 2000.0, 1200.0, 800.0, 1700.0, 1200.0, 2000.0, 1300.0, 1300.0, 1600.0, 3000.0, 1000.0, 1000.0, 650.0, 1400.0, 1900.0, 800.0, 1000.0, 1000.0, 500.0, 1200.0, 650.0, 2800.0, 1600.0, 4100.0, 3400.0, 1300.0, 1700.0, 1800.0, 1100.0, 750.0, 1200.0, 750.0, 600.0, 1400.0, 1100.0, 1000.0, 1200.0, 1100.0, 800.0, 900.0, 1700.0, 1000.0, 600.0, 2500.0, 650.0, 400.0, 900.0, 700.0, 450.0, 700.0, 800.0, 750.0, 650.0, 500.0, 500.0, 400.0, 650.0, 500.0, 600.0, 800.0, 1000.0, 500.0, 700.0, 800.0, 900.0, 350.0, 1300.0, 1100.0, 750.0, 750.0, 300.0, 1000.0, 750.0, 1000.0, 500.0, 1100.0, 600.0, 2000.0, 500.0, 500.0, 450.0, 400.0, 500.0, 200.0, 550.0, 300.0, 250.0, 500.0, 500.0, 350.0, 650.0, 500.0, 200.0, 750.0, 650.0, 750.0, 400.0, 400.0, 200.0, 800.0, 600.0, 450.0, 400.0, 800.0, 250.0, 500.0, 500.0, 600.0, 400.0, 250.0, 650.0, 1300.0, 1600.0, 1200.0, 500.0, 300.0, 450.0, 750.0, 1300.0, 500.0, 150.0, 200.0, 350.0, 600.0, 500.0, 500.0, 1500.0, 400.0, 400.0, 250.0, 800.0, 900.0, 1600.0, 300.0, 550.0, 1300.0, 400.0, 900.0, 1100.0, 400.0, 400.0, 700.0, 700.0, 200.0, 700.0, 500.0, 300.0, 300.0, 400.0, 600.0, 250.0, 350.0, 400.0, 400.0, 500.0, 3000.0, 700.0, 700.0, 400.0, 1500.0, 450.0, 300.0, 500.0, 800.0, 180.0, 150.0, 500.0, 750.0, 400.0, 700.0, 500.0, 750.0, 1200.0, 1300.0, 1300.0, 300.0, 850.0, 500.0, 600.0, 1000.0, 700.0, 1000.0, 300.0, 800.0, 950.0, 300.0, 800.0, 900.0, 600.0, 800.0, 350.0, 500.0, 1000.0, 500.0, 300.0, 1400.0, 1500.0, 750.0, 550.0, 2000.0, 550.0, 1000.0, 600.0, 250.0, 1400.0, 200.0, 1500.0, 700.0, 400.0, 400.0, 350.0, 200.0, 450.0, 1000.0, 700.0, 300.0, 350.0, 400.0, 250.0, 400.0, 2000.0, 400.0, 750.0, 700.0, 300.0, 700.0, 1200.0, 800.0, 600.0, 1000.0, 500.0, 700.0, 300.0, 600.0, 1200.0, 800.0, 600.0, 650.0, 500.0, 400.0, 2100.0, 400.0, 2000.0, 300.0, 600.0, 600.0, 1000.0, 200.0, 800.0, 600.0, 1000.0, 1500.0, 150.0, 400.0, 400.0, 1200.0, 700.0, 1200.0, 800.0, 650.0, 400.0, 1700.0, 600.0, 1700.0, 800.0, 700.0, 1500.0, 1300.0, 300.0, 2100.0, 600.0, 600.0, 1700.0, 750.0, 2100.0, 700.0, 1500.0, 700.0, 1700.0, 1400.0, 650.0, 800.0, 1000.0, 600.0, 1000.0, 2000.0, 750.0, 1000.0, 1000.0, 1400.0, 1200.0, 850.0, 1500.0, 300.0, 850.0, 1000.0, 1800.0, 550.0, 800.0, 300.0, 500.0, 1800.0, 1300.0, 800.0, 700.0, 400.0, 550.0, 800.0, 1000.0, 550.0, 600.0, 1000.0, 450.0, 500.0, 1300.0, 1000.0, 1200.0, 1300.0, 700.0, 250.0, 500.0, 1300.0, 1000.0, 1000.0, 1500.0, 800.0, 900.0, 1700.0, 1100.0, 1400.0, 550.0, 400.0, 600.0, 750.0, 400.0, 900.0, 500.0, 800.0, 450.0, 800.0, 500.0, 800.0, 150.0, 1200.0, 500.0, 500.0, 650.0, 400.0, 450.0, 500.0, 200.0, 800.0, 500.0, 1100.0, 500.0, 200.0, 500.0, 300.0, 450.0, 350.0, 100.0, 300.0, 250.0, 550.0, 500.0, 400.0, 600.0, 1800.0, 1600.0, 1600.0, 600.0, 1400.0, 300.0, 400.0, 300.0, 400.0, 550.0, 800.0, 800.0, 2000.0, 1000.0, 550.0, 400.0, 1250.0, 400.0, 300.0, 300.0, 700.0, 450.0, 500.0, 1000.0, 500.0, 450.0, 300.0, 350.0, 400.0, 800.0, 400.0, 400.0, 250.0, 450.0, 300.0, 150.0, 150.0, 250.0, 180.0, 400.0, 500.0, 200.0, 300.0, 200.0, 300.0, 300.0, 500.0, 350.0, 600.0, 900.0, 1300.0, 1100.0, 750.0, 700.0, 500.0, 200.0, 300.0, 400.0, 2200.0, 3000.0, 1800.0, 2500.0, 3000.0, 3000.0, 1500.0, 1200.0, 1300.0, 2100.0, 1700.0, 1600.0, 1500.0, 2200.0, 1400.0, 1500.0, 1000.0, 1000.0, 1500.0, 1500.0, 1500.0, 1300.0, 1200.0, 1600.0, 1000.0, 1100.0, 600.0, 1000.0, 1200.0, 1200.0, 1800.0, 2500.0, 2000.0, 600.0, 400.0, 350.0, 500.0, 1700.0, 1800.0, 1500.0, 1500.0, 1500.0, 2000.0, 800.0, 2800.0, 700.0, 1100.0, 1500.0, 2100.0, 1500.0, 2000.0, 3000.0, 2500.0, 3500.0, 1700.0, 1700.0, 1500.0, 1200.0, 1500.0, 1300.0, 1200.0, 700.0, 800.0, 1600.0, 1000.0, 1500.0, 800.0, 2000.0, 1500.0, 2500.0, 2100.0, 1000.0, 1900.0, 1700.0, 2000.0, 1100.0, 1300.0, 600.0, 900.0, 1200.0, 1700.0, 1400.0, 1300.0, 1000.0, 600.0, 2500.0, 1400.0, 200.0, 1500.0, 550.0, 750.0, 1000.0, 1500.0, 3000.0, 1500.0, 3000.0, 1100.0, 650.0, 1200.0, 2500.0, 2000.0, 600.0, 1400.0, 1100.0, 3200.0, 650.0, 750.0, 850.0, 1800.0, 500.0, 2500.0, 1000.0, 1500.0, 1000.0, 1200.0, 3400.0, 2000.0, 1000.0, 1400.0, 3500.0, 700.0, 1600.0, 1200.0, 400.0, 900.0, 1500.0, 1200.0, 800.0, 1500.0, 1200.0, 4000.0, 500.0, 1300.0, 700.0, 4000.0, 4000.0, 1200.0, 800.0, 600.0, 1100.0, 1100.0, 1000.0, 1700.0, 2000.0, 1200.0, 800.0, 2000.0, 3000.0, 2000.0, 800.0, 2000.0, 3500.0, 1000.0, 1300.0, 700.0, 1000.0, 500.0, 800.0, 2800.0, 2500.0, 800.0, 500.0, 3000.0, 750.0, 800.0, 650.0, 1800.0, 950.0, 1500.0, 3000.0, 750.0, 750.0, 1500.0, 1000.0, 1500.0, 550.0, 500.0, 700.0, 500.0, 600.0, 700.0, 800.0, 700.0, 1200.0, 1000.0, 300.0, 700.0, 1300.0, 1000.0, 500.0, 1600.0, 500.0, 1600.0, 3000.0, 900.0, 450.0, 1000.0, 650.0, 550.0, 650.0, 1000.0, 1000.0, 2000.0, 350.0, 400.0, 300.0, 3000.0, 1200.0, 3000.0, 400.0, 500.0, 650.0, 800.0, 2500.0, 700.0, 1400.0, 500.0, 600.0, 500.0, 800.0, 600.0, 850.0, 700.0, 500.0, 1900.0, 800.0, 1000.0, 500.0, 1300.0, 1500.0, 250.0, 1000.0, 1000.0, 700.0, 500.0, 3000.0, 600.0, 500.0, 800.0, 600.0, 500.0, 800.0, 1200.0, 500.0, 550.0, 800.0, 800.0, 1200.0, 800.0, 600.0, 350.0, 800.0, 700.0, 600.0, 2500.0, 800.0, 600.0, 1000.0, 550.0, 250.0, 700.0, 400.0, 300.0, 500.0, 200.0, 300.0, 150.0, 450.0, 300.0, 500.0, 300.0, 300.0, 150.0, 300.0, 450.0, 500.0, 150.0, 300.0, 600.0, 400.0, 250.0, 350.0, 400.0, 200.0, 400.0, 250.0, 400.0, 500.0, 300.0, 400.0, 500.0, 500.0, 400.0, 200.0, 400.0, 350.0, 250.0, 400.0, 500.0, 250.0, 300.0, 300.0, 300.0, 450.0, 300.0, 100.0, 500.0, 1300.0, 2800.0, 3000.0, 2500.0, 1600.0, 1100.0, 1100.0, 4100.0, 1300.0, 3000.0, 600.0, 2000.0, 2000.0, 1000.0, 1300.0, 1100.0, 750.0, 3400.0, 750.0, 1800.0, 3000.0, 1300.0, 700.0, 1500.0, 1700.0, 300.0, 600.0, 1200.0, 2300.0, 1000.0, 750.0, 3000.0, 2000.0, 1000.0, 500.0, 3000.0, 1300.0, 750.0, 850.0, 450.0, 700.0, 1000.0, 600.0, 750.0, 1800.0, 400.0, 650.0, 500.0, 750.0, 400.0, 500.0, 400.0, 450.0, 150.0, 200.0, 2200.0, 200.0, 150.0, 700.0, 2400.0, 350.0, 400.0, 400.0, 1100.0, 600.0, 200.0, 2000.0, 1100.0, 450.0, 600.0, 300.0, 150.0, 750.0, 600.0, 350.0, 1200.0, 1300.0, 1800.0, 1200.0, 2100.0, 1700.0, 1000.0, 1000.0, 1300.0, 1200.0, 1800.0, 1200.0, 2000.0, 1500.0, 2500.0, 1700.0, 1200.0, 1300.0, 1500.0, 2500.0, 1900.0, 1700.0, 1000.0, 1500.0, 1100.0, 1200.0, 1400.0, 1100.0, 1000.0, 1000.0, 1600.0, 1200.0, 1200.0, 1500.0, 4000.0, 1100.0, 1100.0, 1000.0, 1700.0, 2000.0, 2000.0, 2000.0, 3500.0, 1300.0, 1800.0, 1500.0, 1500.0, 600.0, 1000.0, 1000.0, 1000.0, 3000.0, 1200.0, 1300.0, 1500.0, 800.0, 1300.0, 3000.0, 3000.0, 2000.0, 1000.0, 3400.0, 1200.0, 1300.0, 2200.0, 1100.0, 1200.0, 2000.0, 1700.0, 1500.0, 950.0, 1000.0, 1200.0, 2400.0, 800.0, 4100.0, 1500.0, 1400.0, 3000.0, 1200.0, 600.0, 800.0, 600.0, 900.0, 500.0, 600.0, 500.0, 700.0, 700.0, 400.0, 350.0, 500.0, 400.0, 800.0, 1000.0, 400.0, 800.0, 600.0, 650.0, 500.0, 500.0, 650.0, 200.0, 120.0, 350.0, 400.0, 450.0, 400.0, 600.0, 400.0, 750.0, 300.0, 250.0, 500.0, 400.0, 600.0, 500.0, 400.0, 600.0, 400.0, 250.0, 400.0, 450.0, 250.0, 300.0, 300.0, 300.0, 300.0, 700.0, 750.0, 500.0, 400.0, 500.0, 400.0, 300.0, 200.0, 350.0, 600.0, 500.0, 150.0, 250.0, 800.0, 400.0, 500.0, 700.0, 350.0, 150.0, 450.0, 700.0, 750.0, 500.0, 600.0, 300.0, 500.0, 250.0, 100.0, 450.0, 800.0, 600.0, 650.0, 300.0, 550.0, 450.0, 1400.0, 300.0, 250.0, 600.0, 800.0, 500.0, 1200.0, 2000.0, 1100.0, 1200.0, 150.0, 900.0, 700.0, 500.0, 150.0, 500.0, 200.0, 300.0, 800.0, 250.0, 350.0, 650.0, 1000.0, 1300.0, 450.0, 800.0, 900.0, 200.0, 300.0, 700.0, 150.0, 150.0, 300.0, 500.0, 800.0, 300.0, 400.0, 100.0, 300.0, 450.0, 500.0, 400.0, 300.0, 450.0, 500.0, 400.0, 500.0, 500.0, 600.0, 1100.0, 1000.0, 300.0, 400.0, 1500.0, 500.0, 600.0, 400.0, 750.0, 400.0, 800.0, 400.0, 600.0, 300.0, 300.0, 600.0, 300.0, 1000.0, 350.0, 700.0, 300.0, 750.0, 400.0, 800.0, 150.0, 750.0, 400.0, 600.0, 400.0, 500.0, 400.0, 400.0, 400.0, 700.0, 900.0, 300.0, 650.0, 600.0, 200.0, 500.0, 700.0, 400.0, 150.0, 450.0, 600.0, 800.0, 400.0, 1000.0, 1100.0, 1200.0, 200.0, 550.0, 200.0, 500.0, 500.0, 500.0, 350.0, 800.0, 500.0, 650.0, 200.0, 600.0, 300.0, 400.0, 700.0, 500.0, 350.0, 600.0, 450.0, 1700.0, 650.0, 950.0, 400.0, 500.0, 1100.0, 600.0, 600.0, 650.0, 400.0, 150.0, 600.0, 1000.0, 600.0, 450.0, 500.0, 1700.0, 1500.0, 600.0, 100.0, 600.0, 800.0, 1200.0, 500.0, 750.0, 800.0, 900.0, 500.0, 500.0, 1000.0, 700.0, 1000.0, 850.0, 900.0, 300.0, 1100.0, 900.0, 1200.0, 1200.0, 800.0, 1400.0, 600.0, 1000.0, 900.0, 750.0, 750.0, 800.0, 800.0, 1000.0, 300.0, 500.0, 700.0, 1500.0, 1400.0, 650.0, 1800.0, 600.0, 400.0, 400.0, 250.0, 700.0, 200.0, 250.0, 250.0, 300.0, 500.0, 300.0, 400.0, 400.0, 400.0, 100.0, 250.0, 200.0, 450.0, 400.0, 800.0, 400.0, 400.0, 1250.0, 800.0, 200.0, 600.0, 450.0, 500.0, 500.0, 1100.0, 2600.0, 2000.0, 1800.0, 2000.0, 1300.0, 2500.0, 1200.0, 1700.0, 1400.0, 700.0, 1000.0, 1400.0, 1500.0, 800.0, 1000.0, 1400.0, 950.0, 500.0, 600.0, 1100.0, 1000.0, 1500.0, 500.0, 600.0, 1200.0, 100.0, 1500.0, 650.0, 700.0, 500.0, 500.0, 2500.0, 1500.0, 700.0, 1500.0, 600.0, 400.0, 1100.0, 750.0, 1100.0, 600.0, 150.0, 2000.0, 400.0, 500.0, 600.0, 800.0, 600.0, 250.0, 150.0, 250.0, 300.0, 250.0, 300.0, 200.0, 200.0, 350.0, 150.0, 300.0, 400.0, 800.0, 400.0, 300.0, 350.0, 250.0, 600.0, 400.0, 600.0, 200.0, 500.0, 200.0, 250.0, 200.0, 300.0, 500.0, 300.0, 400.0, 300.0, 500.0, 300.0, 100.0, 300.0, 300.0, 550.0, 400.0, 500.0, 800.0, 500.0, 150.0, 500.0, 1200.0, 1200.0, 1200.0, 2400.0, 1000.0, 800.0, 4100.0, 1500.0, 2000.0, 900.0, 5000.0, 800.0, 1400.0, 3000.0, 3000.0, 1500.0, 1000.0, 1000.0, 4000.0, 2200.0, 1800.0, 4000.0, 1200.0, 700.0, 800.0, 700.0, 600.0, 2200.0, 2500.0, 450.0, 650.0, 3700.0, 700.0, 600.0, 750.0, 600.0, 800.0, 300.0, 200.0, 300.0, 200.0, 200.0, 250.0, 1650.0, 1100.0, 1300.0, 400.0, 1200.0, 1200.0, 600.0, 600.0, 800.0, 700.0, 1400.0, 850.0, 300.0, 900.0, 650.0, 1100.0, 800.0, 450.0, 700.0, 400.0, 600.0, 300.0, 600.0, 400.0, 600.0, 900.0, 500.0, 450.0, 450.0, 600.0, 750.0, 300.0, 450.0, 1200.0, 2600.0, 1800.0, 1200.0, 1400.0, 1400.0, 1100.0, 1500.0, 1500.0, 1100.0, 2000.0, 2000.0, 3000.0, 1500.0, 2200.0, 1650.0, 1200.0, 1100.0, 1200.0, 1400.0, 1400.0, 1100.0, 1500.0, 1100.0, 2000.0, 3000.0, 2500.0, 1650.0, 1300.0, 1400.0, 2500.0, 1400.0, 1500.0, 1500.0, 1600.0, 1300.0, 1400.0, 1100.0, 1300.0, 1200.0, 2700.0, 1000.0, 1600.0, 1500.0, 1500.0, 1700.0, 1300.0, 750.0, 1000.0, 1000.0, 1200.0, 600.0, 700.0, 750.0, 1200.0, 600.0, 400.0, 600.0, 700.0, 300.0, 700.0, 400.0, 650.0, 300.0, 600.0, 500.0, 500.0, 600.0, 300.0, 400.0, 700.0, 600.0, 450.0, 450.0, 250.0, 500.0, 700.0, 300.0, 600.0, 850.0, 500.0, 500.0, 650.0, 400.0, 400.0, 500.0, 650.0, 400.0, 800.0, 300.0, 400.0, 400.0, 450.0, 1000.0, 800.0, 500.0, 400.0, 300.0, 250.0, 350.0, 400.0, 400.0, 300.0, 700.0, 150.0, 600.0, 800.0, 250.0, 650.0, 250.0, 500.0, 350.0, 800.0, 200.0, 1400.0, 500.0, 1100.0, 350.0, 650.0, 400.0, 1400.0, 700.0, 300.0, 800.0, 600.0, 900.0, 600.0, 300.0, 450.0, 300.0, 300.0, 800.0, 600.0, 800.0, 400.0, 200.0, 300.0, 1100.0, 450.0, 400.0, 450.0, 400.0, 200.0, 500.0, 200.0, 700.0, 650.0, 600.0, 400.0, 1000.0, 300.0, 400.0, 800.0, 600.0, 800.0, 400.0, 150.0, 200.0, 1000.0, 1000.0, 500.0, 300.0, 600.0, 600.0, 400.0, 500.0, 550.0, 1400.0, 300.0, 300.0, 500.0, 300.0, 350.0, 1300.0, 250.0, 450.0, 400.0, 600.0, 600.0, 400.0, 1000.0, 600.0, 1000.0, 300.0, 300.0, 800.0, 600.0, 400.0, 700.0, 700.0, 400.0, 1400.0, 900.0, 750.0, 750.0, 400.0, 500.0, 500.0, 750.0, 200.0, 800.0, 300.0, 600.0, 300.0, 1500.0, 1500.0, 450.0, 700.0, 1000.0, 500.0, 350.0, 1000.0, 1200.0, 300.0, 600.0, 200.0, 600.0, 400.0, 800.0, 250.0, 150.0, 1000.0, 800.0, 350.0, 250.0, 550.0, 800.0, 400.0, 650.0, 200.0, 400.0, 300.0, 600.0, 600.0, 200.0, 300.0, 1100.0, 500.0, 600.0, 500.0, 400.0, 550.0, 500.0, 400.0, 400.0, 450.0, 300.0, 650.0, 450.0, 800.0, 600.0, 450.0, 800.0, 750.0, 400.0, 750.0, 300.0, 600.0, 650.0, 600.0, 250.0, 800.0, 250.0, 700.0, 250.0, 400.0, 500.0, 1000.0, 350.0, 700.0, 900.0, 300.0, 200.0, 400.0, 350.0, 500.0, 800.0, 500.0, 800.0, 300.0, 700.0, 650.0, 750.0, 150.0, 750.0, 600.0, 500.0, 700.0, 300.0, 300.0, 250.0, 450.0, 1000.0, 300.0, 700.0, 300.0, 400.0, 500.0, 700.0, 800.0, 500.0, 300.0, 750.0, 300.0, 800.0, 200.0, 450.0, 900.0, 600.0, 300.0, 450.0, 650.0, 600.0, 750.0, 500.0, 750.0, 750.0, 500.0, 1200.0, 600.0, 350.0, 400.0, 750.0, 400.0, 600.0, 650.0, 800.0, 500.0, 600.0, 500.0, 200.0, 750.0, 200.0, 250.0, 800.0, 600.0, 1500.0, 150.0, 750.0, 150.0, 500.0, 450.0, 400.0, 750.0, 500.0, 300.0, 450.0, 1000.0, 500.0, 850.0, 800.0, 400.0, 500.0, 250.0, 400.0, 600.0, 1700.0, 400.0, 1000.0, 1000.0, 1100.0, 500.0, 400.0, 1400.0, 400.0, 200.0, 250.0, 500.0, 500.0, 500.0, 300.0, 350.0, 300.0, 300.0, 700.0, 300.0, 400.0, 600.0, 500.0, 400.0, 400.0, 400.0, 550.0, 400.0, 1100.0, 1400.0, 2500.0, 1500.0, 1600.0, 1300.0, 1400.0, 1100.0, 1500.0, 1300.0, 1300.0, 1500.0, 1800.0, 650.0, 1200.0, 2700.0, 800.0, 1600.0, 1000.0, 600.0, 1000.0, 600.0, 1600.0, 1100.0, 900.0, 1000.0, 800.0, 750.0, 800.0, 800.0, 1500.0, 1500.0, 1000.0, 600.0, 2500.0, 1300.0, 500.0, 1400.0, 800.0, 2000.0, 1100.0, 700.0, 1100.0, 850.0, 1700.0, 650.0, 1500.0, 800.0, 750.0, 750.0, 800.0, 800.0, 800.0, 850.0, 800.0, 1000.0, 600.0, 800.0, 650.0, 1300.0, 1000.0, 900.0, 750.0, 400.0, 900.0, 700.0, 700.0, 4500.0, 800.0, 600.0, 1000.0, 800.0, 600.0, 800.0, 400.0, 1100.0, 650.0, 750.0, 450.0, 500.0, 300.0, 500.0, 1000.0, 750.0, 1200.0, 650.0, 650.0, 700.0, 500.0, 500.0, 400.0, 1000.0, 1000.0, 450.0, 750.0, 2500.0, 600.0, 600.0, 800.0, 800.0, 1000.0, 400.0, 550.0, 1000.0, 1200.0, 500.0, 600.0, 400.0, 650.0, 800.0, 700.0, 750.0, 600.0, 700.0, 250.0, 600.0, 1000.0, 800.0, 600.0, 200.0, 450.0, 150.0, 400.0, 450.0, 200.0, 300.0, 300.0, 250.0, 400.0, 300.0, 500.0, 600.0, 400.0, 350.0, 350.0, 600.0, 350.0, 400.0, 300.0, 250.0, 400.0, 300.0, 300.0, 200.0, 500.0, 400.0, 350.0, 400.0, 200.0, 200.0, 250.0, 150.0, 400.0, 450.0, 250.0, 300.0, 700.0, 400.0, 400.0, 500.0, 300.0, 400.0, 150.0, 500.0, 300.0, 500.0, 300.0, 250.0, 200.0, 200.0, 600.0, 500.0, 350.0, 450.0, 400.0, 400.0, 300.0, 300.0, 600.0, 450.0, 1200.0, 1000.0, 700.0, 600.0, 300.0, 750.0, 1500.0, 600.0, 600.0, 800.0, 800.0, 800.0, 700.0, 750.0, 750.0, 800.0, 500.0, 250.0, 300.0, 550.0, 400.0, 600.0, 500.0, 500.0, 400.0, 400.0, 500.0, 500.0, 850.0, 300.0, 600.0, 500.0, 500.0, 600.0, 900.0, 600.0, 400.0, 450.0, 350.0, 400.0, 450.0, 1200.0, 250.0, 750.0, 600.0, 150.0, 350.0, 500.0, 500.0, 500.0, 350.0, 450.0, 550.0, 350.0, 650.0, 300.0, 450.0, 600.0, 500.0, 150.0, 500.0, 250.0, 300.0, 750.0, 300.0, 800.0, 600.0, 1400.0, 1800.0, 4500.0, 1100.0, 1500.0, 1300.0, 1500.0, 1200.0, 1600.0, 1000.0, 1500.0, 1300.0, 1100.0, 1200.0, 2500.0, 1000.0, 1200.0, 1200.0, 1500.0, 1500.0, 1500.0, 2200.0, 2100.0, 3000.0, 3000.0, 1500.0, 1600.0, 3000.0, 800.0, 1800.0, 1200.0, 2800.0, 1700.0, 1400.0, 1600.0, 1500.0, 2500.0, 750.0, 500.0, 1000.0, 1500.0, 3400.0, 2000.0, 1200.0, 800.0, 1700.0, 1600.0, 2000.0, 1300.0, 2200.0, 1200.0, 1000.0, 1200.0, 650.0, 1400.0, 1900.0, 1000.0, 1000.0, 500.0, 1200.0, 650.0, 1300.0, 1700.0, 1200.0, 1300.0, 1000.0, 1100.0, 750.0, 1200.0, 1700.0, 2500.0, 450.0, 500.0, 800.0, 700.0, 1100.0, 800.0, 900.0, 1000.0, 600.0, 600.0, 650.0, 1400.0, 750.0, 700.0, 400.0, 900.0, 700.0, 700.0, 800.0, 750.0, 800.0, 500.0, 1000.0, 1000.0, 400.0, 650.0, 1200.0, 500.0, 500.0, 600.0, 400.0, 1000.0, 500.0, 600.0, 800.0, 350.0, 1300.0, 1100.0, 750.0, 1000.0, 800.0, 650.0, 500.0, 600.0, 1200.0, 500.0, 300.0, 200.0, 500.0, 450.0, 400.0, 600.0, 800.0, 300.0, 500.0, 300.0, 650.0, 600.0, 200.0, 400.0, 400.0, 350.0, 750.0, 500.0, 800.0, 500.0, 300.0, 800.0, 800.0, 1000.0, 500.0, 750.0, 400.0, 550.0, 400.0, 750.0, 950.0, 400.0, 600.0, 400.0, 800.0, 150.0, 1500.0, 450.0, 200.0, 250.0, 300.0, 750.0, 400.0, 800.0, 250.0, 700.0, 150.0, 800.0, 650.0, 400.0, 1200.0, 900.0, 1200.0, 300.0, 1100.0, 400.0, 500.0, 600.0, 1400.0, 650.0, 900.0, 400.0, 1300.0, 500.0, 700.0, 800.0, 300.0, 800.0, 800.0, 750.0, 1500.0, 400.0, 700.0, 350.0, 850.0, 1600.0, 500.0, 400.0, 650.0, 800.0, 1700.0, 500.0, 1200.0, 1300.0, 500.0, 500.0, 700.0, 400.0, 350.0, 400.0, 600.0, 1600.0, 650.0, 700.0, 400.0, 550.0, 500.0, 300.0, 1000.0, 1500.0, 650.0, 1300.0, 600.0, 1200.0, 600.0, 1100.0, 500.0, 1500.0, 400.0, 700.0, 900.0, 400.0, 600.0, 500.0, 400.0, 500.0, 500.0, 800.0, 600.0, 1600.0, 400.0, 250.0, 3000.0, 350.0, 250.0, 250.0, 1700.0, 900.0, 350.0, 400.0, 600.0, 300.0, 200.0, 800.0, 200.0, 300.0, 550.0, 750.0, 600.0, 450.0, 600.0, 100.0, 350.0, 600.0, 1300.0, 180.0, 1700.0, 500.0, 2100.0, 700.0, 300.0, 500.0, 2000.0, 1000.0, 1500.0, 300.0, 150.0, 800.0, 1500.0, 700.0, 750.0, 400.0, 1300.0, 600.0, 400.0, 1000.0, 700.0, 500.0, 800.0, 1300.0, 500.0, 450.0, 500.0, 750.0, 500.0, 400.0, 1300.0, 600.0, 700.0, 500.0, 700.0, 750.0, 500.0, 1000.0, 1200.0, 500.0, 2100.0, 1000.0, 500.0, 1900.0, 400.0, 450.0, 300.0, 1400.0, 300.0, 600.0, 2000.0, 400.0, 1000.0, 650.0, 950.0, 1000.0, 500.0, 300.0, 1400.0, 800.0, 1200.0, 1000.0, 1000.0, 150.0, 700.0, 700.0, 700.0, 750.0, 500.0, 1500.0, 300.0, 700.0, 700.0, 800.0, 450.0, 1200.0, 1800.0, 500.0, 800.0, 200.0, 1500.0, 500.0, 200.0, 700.0, 700.0, 400.0, 500.0, 400.0, 450.0, 1000.0, 400.0, 1400.0, 800.0, 600.0, 700.0, 350.0, 1500.0, 1500.0, 200.0, 500.0, 300.0, 600.0, 400.0, 700.0, 300.0, 1800.0, 800.0, 1800.0, 1000.0, 800.0, 2000.0, 1200.0, 300.0, 500.0, 300.0, 600.0, 1200.0, 1000.0, 700.0, 400.0, 250.0, 200.0, 250.0, 200.0, 1700.0, 300.0, 1000.0, 350.0, 400.0, 650.0, 300.0, 800.0, 1000.0, 800.0, 750.0, 2000.0, 1700.0, 850.0, 1000.0, 850.0, 650.0, 500.0, 600.0, 400.0, 1200.0, 800.0, 350.0, 300.0, 1500.0, 550.0, 300.0, 700.0, 300.0, 700.0, 300.0, 800.0, 750.0, 1000.0, 550.0, 2000.0, 700.0, 300.0, 400.0, 800.0, 550.0, 250.0, 600.0, 300.0, 1700.0, 500.0, 1200.0, 1300.0, 700.0, 1300.0, 1000.0, 1200.0, 1000.0, 1400.0, 800.0, 700.0, 2100.0, 800.0, 900.0, 550.0, 400.0, 750.0, 400.0, 500.0, 900.0, 500.0, 800.0, 500.0, 800.0, 600.0, 800.0, 150.0, 750.0, 600.0, 1200.0, 1300.0, 600.0, 500.0, 650.0, 500.0, 400.0, 500.0, 200.0, 800.0, 350.0, 1000.0, 500.0, 1100.0, 500.0, 500.0, 200.0, 500.0, 300.0, 450.0, 100.0, 600.0, 500.0, 1600.0, 600.0, 1600.0, 450.0, 500.0, 800.0, 900.0, 300.0, 800.0, 2000.0, 1000.0, 600.0, 550.0, 400.0, 1250.0, 400.0, 1400.0, 700.0, 300.0, 300.0, 700.0, 500.0, 300.0, 400.0, 2000.0, 1000.0, 700.0, 400.0, 450.0, 300.0, 350.0, 400.0, 300.0, 400.0, 400.0, 250.0, 450.0, 400.0, 300.0, 150.0, 250.0, 200.0, 180.0, 400.0, 150.0, 500.0, 400.0, 200.0, 300.0, 300.0, 500.0, 350.0, 600.0, 1300.0, 800.0, 200.0, 1100.0, 750.0, 500.0, 2100.0, 1800.0, 1500.0, 1700.0, 2800.0, 2100.0, 3000.0, 1200.0, 1500.0, 1500.0, 1700.0, 200.0, 1500.0, 1000.0, 3000.0, 1500.0, 2500.0, 2000.0, 1500.0, 600.0, 2000.0, 3000.0, 1000.0, 2800.0, 3000.0, 1800.0, 500.0, 1000.0, 1600.0, 3000.0, 3000.0, 3000.0, 2500.0, 800.0, 800.0, 1500.0, 750.0, 350.0, 700.0, 2500.0, 2500.0, 1000.0, 700.0, 450.0, 500.0, 400.0, 500.0, 200.0, 250.0, 1800.0, 1500.0, 1500.0, 2500.0, 2000.0, 3000.0, 2200.0, 3000.0, 800.0, 700.0, 1100.0, 1500.0, 1500.0, 2000.0, 1500.0, 2500.0, 3500.0, 1700.0, 1700.0, 1500.0, 1200.0, 1200.0, 1300.0, 1500.0, 1300.0, 2800.0, 2100.0, 700.0, 1700.0, 1600.0, 1000.0, 3000.0, 800.0, 2000.0, 1500.0, 1000.0, 1900.0, 1700.0, 2000.0, 1100.0, 1300.0, 2200.0, 1400.0, 1500.0, 600.0, 900.0, 1200.0, 2500.0, 1600.0, 1400.0, 1300.0, 1500.0, 1000.0, 1000.0, 600.0, 2500.0, 4000.0, 550.0, 750.0, 1300.0, 1500.0, 3000.0, 500.0, 1000.0, 1100.0, 650.0, 1200.0, 1500.0, 1400.0, 1500.0, 1100.0, 600.0, 1300.0, 1000.0, 1300.0, 650.0, 850.0, 750.0, 1800.0, 1000.0, 1500.0, 750.0, 1000.0, 1200.0, 3400.0, 700.0, 1800.0, 2000.0, 3000.0, 1000.0, 1400.0, 3500.0, 700.0, 1600.0, 400.0, 900.0, 1500.0, 1200.0, 1200.0, 800.0, 1200.0, 4000.0, 500.0, 1300.0, 700.0, 4000.0, 1200.0, 800.0, 600.0, 1200.0, 1100.0, 1100.0, 1000.0, 1700.0, 2000.0, 550.0, 2000.0, 650.0, 3000.0, 1600.0, 800.0, 2000.0, 2000.0, 3500.0, 1300.0, 700.0, 1000.0, 750.0, 800.0, 1800.0, 800.0, 650.0, 800.0, 2000.0, 2200.0, 950.0, 800.0, 3000.0, 750.0, 1500.0, 1000.0, 1100.0, 550.0, 700.0, 500.0, 1000.0, 600.0, 700.0, 800.0, 2000.0, 700.0, 1200.0, 300.0, 700.0, 500.0, 1000.0, 1000.0, 450.0, 1000.0, 650.0, 550.0, 650.0, 1200.0, 1200.0, 1000.0, 2000.0, 1500.0, 350.0, 300.0, 400.0, 400.0, 1800.0, 500.0, 500.0, 2500.0, 650.0, 800.0, 1400.0, 500.0, 600.0, 500.0, 800.0, 600.0, 850.0, 700.0, 400.0, 2400.0, 1400.0, 1900.0, 1000.0, 500.0, 1300.0, 250.0, 1000.0, 600.0, 700.0, 500.0, 3000.0, 600.0, 500.0, 800.0, 600.0, 500.0, 800.0, 1200.0, 500.0, 800.0, 1200.0, 800.0, 600.0, 800.0, 2000.0, 600.0, 800.0, 600.0, 600.0, 550.0, 400.0, 250.0, 400.0, 300.0, 500.0, 200.0, 150.0, 300.0, 300.0, 500.0, 300.0, 300.0, 150.0, 250.0, 200.0, 450.0, 150.0, 300.0, 600.0, 400.0, 350.0, 200.0, 250.0, 400.0, 250.0, 400.0, 300.0, 400.0, 500.0, 500.0, 500.0, 400.0, 500.0, 350.0, 400.0, 500.0, 300.0, 300.0, 300.0, 300.0, 450.0, 300.0, 100.0, 500.0, 1300.0, 800.0, 1600.0, 2500.0, 1100.0, 1100.0, 750.0, 700.0, 1300.0, 1700.0, 600.0, 1000.0, 1200.0, 550.0, 600.0, 500.0, 800.0, 650.0, 200.0, 700.0, 650.0, 200.0, 750.0, 1300.0, 500.0, 200.0, 1000.0, 650.0, 300.0, 400.0, 500.0, 500.0, 300.0, 300.0, 500.0, 300.0, 250.0, 700.0, 400.0, 350.0, 300.0, 1100.0, 500.0, 400.0, 250.0, 800.0, 600.0, 700.0, 600.0, 300.0, 1300.0, 2000.0, 2000.0, 1700.0, 1500.0, 1000.0, 1500.0, 2800.0, 3000.0, 1000.0, 3000.0, 1500.0, 1500.0, 2500.0, 2000.0, 3000.0, 3000.0, 1500.0, 1500.0, 1500.0, 2500.0, 1700.0, 1700.0, 1200.0, 1300.0, 1300.0, 1700.0, 2000.0, 1500.0, 1900.0, 1300.0, 1000.0, 1300.0, 1500.0, 3000.0, 1100.0, 1200.0, 1400.0, 1100.0, 1000.0, 1000.0, 1600.0, 1200.0, 1200.0, 1100.0, 1100.0, 1000.0, 2000.0, 2000.0, 1500.0, 1100.0, 600.0, 1000.0, 1000.0, 2000.0, 1500.0, 2500.0, 2400.0, 1400.0, 1300.0, 2500.0, 1200.0, 1300.0, 1300.0, 1200.0, 1500.0, 1000.0, 1500.0, 2000.0, 1800.0, 1000.0, 3000.0, 1500.0, 2000.0, 1500.0, 2500.0, 1700.0, 1200.0, 1200.0, 1300.0, 2100.0, 1700.0, 1900.0, 1700.0, 1000.0, 1500.0, 1300.0, 1000.0, 1100.0, 1200.0, 1400.0, 1100.0, 1300.0, 1000.0, 1000.0, 1000.0, 1600.0, 1200.0, 1200.0, 4000.0, 1200.0, 1100.0, 1200.0, 1100.0, 1000.0, 1700.0, 2000.0, 2000.0, 3500.0, 1300.0, 1800.0, 1100.0, 600.0, 1000.0, 1200.0, 1000.0, 1800.0, 1400.0, 1300.0, 800.0, 1300.0, 2500.0, 1400.0, 1100.0, 1800.0, 900.0, 900.0, 1200.0, 700.0, 650.0, 800.0, 600.0, 600.0, 800.0, 1000.0, 500.0, 900.0, 800.0, 1100.0, 700.0, 900.0, 700.0, 250.0, 400.0, 600.0, 500.0, 650.0, 650.0, 300.0, 350.0, 400.0, 300.0, 450.0, 400.0, 800.0, 500.0, 600.0, 300.0, 600.0, 1400.0, 500.0, 600.0, 500.0, 400.0, 850.0, 500.0, 800.0, 250.0, 300.0, 300.0, 500.0, 400.0, 300.0, 500.0, 100.0, 600.0, 700.0, 750.0, 400.0, 750.0, 450.0, 500.0, 400.0, 600.0, 1700.0, 800.0, 200.0, 300.0, 500.0, 600.0, 300.0, 700.0, 400.0, 650.0, 500.0, 500.0, 300.0, 1200.0, 700.0, 250.0, 400.0, 300.0, 200.0, 900.0, 350.0, 450.0, 700.0, 500.0, 650.0, 700.0, 800.0, 150.0, 400.0, 500.0, 800.0, 700.0, 300.0, 650.0, 300.0, 450.0, 400.0, 400.0, 500.0, 500.0, 600.0, 1000.0, 400.0, 900.0, 1250.0, 650.0, 500.0, 300.0, 600.0, 600.0, 800.0, 1000.0, 600.0, 400.0, 400.0, 1100.0, 800.0, 800.0, 400.0, 600.0, 300.0, 700.0, 700.0, 700.0, 100.0, 700.0, 1100.0, 400.0, 900.0, 900.0, 400.0, 350.0, 500.0, 400.0, 200.0, 600.0, 150.0, 800.0, 350.0, 200.0, 1100.0, 1400.0, 450.0, 450.0, 400.0, 700.0, 800.0, 250.0, 600.0, 650.0, 400.0, 700.0, 400.0, 400.0, 300.0, 600.0, 500.0, 600.0, 900.0, 700.0, 400.0, 500.0, 400.0, 300.0, 200.0, 400.0, 500.0, 400.0, 300.0, 400.0, 200.0, 500.0, 350.0, 1400.0, 900.0, 1200.0, 1400.0, 1200.0, 600.0, 500.0, 1000.0, 800.0, 700.0, 800.0, 1000.0, 700.0, 700.0, 650.0, 1100.0, 500.0, 500.0, 400.0, 800.0, 600.0, 700.0, 400.0, 600.0, 400.0, 800.0, 800.0, 1400.0, 600.0, 750.0, 600.0, 700.0, 650.0, 1400.0, 800.0, 1000.0, 500.0, 1100.0, 900.0, 700.0, 300.0, 650.0, 800.0, 1100.0, 750.0, 1800.0, 850.0, 700.0, 800.0, 900.0, 700.0, 400.0, 900.0, 700.0, 650.0, 700.0, 250.0, 650.0, 400.0, 600.0, 400.0, 600.0, 700.0, 300.0, 350.0, 500.0, 400.0, 400.0, 500.0, 300.0, 600.0, 500.0, 300.0, 300.0, 500.0, 500.0, 450.0, 350.0, 300.0, 400.0, 400.0, 400.0, 250.0, 400.0, 400.0, 400.0, 600.0, 200.0, 400.0, 300.0, 300.0, 350.0, 400.0, 400.0, 300.0, 350.0, 1400.0, 1200.0, 1400.0, 1200.0, 1400.0, 1100.0, 1200.0, 1400.0, 1400.0, 1200.0, 1000.0, 1400.0, 1100.0, 1800.0, 1200.0, 3000.0, 3500.0, 2200.0, 1400.0, 1500.0, 1600.0, 1900.0, 1400.0, 1700.0, 1500.0, 1200.0, 1300.0, 600.0, 750.0, 800.0, 1000.0, 1200.0, 1200.0, 1500.0, 1700.0, 1000.0, 1100.0, 700.0, 450.0, 700.0, 500.0, 800.0, 900.0, 1000.0, 1000.0, 1600.0, 200.0, 700.0, 500.0, 1000.0, 700.0, 800.0, 650.0, 400.0, 400.0, 700.0, 700.0, 450.0, 800.0, 500.0, 800.0, 750.0, 600.0, 700.0, 500.0, 500.0, 200.0, 600.0, 500.0, 500.0, 600.0, 500.0, 500.0, 300.0, 200.0, 800.0, 450.0, 450.0, 300.0, 400.0, 400.0, 150.0, 200.0, 400.0, 600.0, 300.0, 750.0, 600.0, 250.0, 400.0, 200.0, 300.0, 400.0, 400.0, 300.0, 600.0, 700.0, 250.0, 700.0, 400.0, 500.0, 400.0, 650.0, 350.0, 1000.0, 300.0, 450.0, 400.0, 600.0, 1000.0, 500.0, 500.0, 800.0, 1000.0, 350.0, 800.0, 800.0, 1000.0, 600.0, 400.0, 500.0, 800.0, 400.0, 650.0, 850.0, 700.0, 300.0, 300.0, 950.0, 800.0, 500.0, 350.0, 600.0, 350.0, 600.0, 250.0, 800.0, 600.0, 400.0, 1500.0, 600.0, 200.0, 600.0, 600.0, 300.0, 300.0, 500.0, 200.0, 700.0, 800.0, 600.0, 300.0, 250.0, 600.0, 700.0, 750.0, 800.0, 300.0, 500.0, 500.0, 500.0, 1200.0, 750.0, 300.0, 300.0, 500.0, 1200.0, 400.0, 1200.0, 300.0, 800.0, 1200.0, 1600.0, 1100.0, 400.0, 250.0, 500.0, 650.0, 600.0, 400.0, 900.0, 500.0, 100.0, 700.0, 500.0, 400.0, 300.0, 500.0, 600.0, 1700.0, 500.0, 600.0, 400.0, 800.0, 1200.0, 800.0, 1500.0, 600.0, 1300.0, 400.0, 750.0, 350.0, 450.0, 500.0, 500.0, 1500.0, 500.0, 650.0, 150.0, 800.0, 1400.0, 500.0, 350.0, 350.0, 400.0, 600.0, 500.0, 300.0, 650.0, 400.0, 550.0, 450.0, 600.0, 400.0, 500.0, 300.0, 1200.0, 1500.0, 1800.0, 800.0, 400.0, 200.0, 800.0, 900.0, 1100.0, 600.0, 500.0, 500.0, 500.0, 450.0, 800.0, 250.0, 600.0, 1600.0, 600.0, 300.0, 350.0, 400.0, 800.0, 800.0, 550.0, 550.0, 900.0, 350.0, 400.0, 600.0, 400.0, 450.0, 200.0, 200.0, 300.0, 1500.0, 550.0, 200.0, 750.0, 450.0, 600.0, 500.0, 650.0, 300.0, 300.0, 600.0, 800.0, 1400.0, 600.0, 200.0, 500.0, 500.0, 800.0, 600.0, 1000.0, 600.0, 400.0, 350.0, 350.0, 700.0, 400.0, 500.0, 400.0, 500.0, 700.0, 300.0, 800.0, 500.0, 1200.0, 250.0, 500.0, 400.0, 400.0, 300.0, 600.0, 700.0, 1200.0, 450.0, 200.0, 600.0, 1000.0, 300.0, 500.0, 150.0, 700.0, 250.0, 1500.0, 700.0, 300.0, 1000.0, 450.0, 200.0, 500.0, 750.0, 500.0, 450.0, 500.0, 1400.0, 1200.0, 400.0, 300.0, 550.0, 500.0, 500.0, 150.0, 400.0, 450.0, 450.0, 400.0, 300.0, 1200.0, 750.0, 300.0, 300.0, 1000.0, 450.0, 250.0, 200.0, 300.0, 250.0, 1900.0, 750.0, 400.0, 200.0, 500.0, 1200.0, 150.0, 1500.0, 900.0, 400.0, 800.0, 700.0, 700.0, 600.0, 800.0, 2000.0, 500.0, 350.0, 700.0, 800.0, 300.0, 400.0, 400.0, 200.0, 200.0, 600.0, 500.0, 500.0, 1700.0, 1500.0, 1600.0, 400.0, 1400.0, 900.0, 700.0, 800.0, 800.0, 900.0, 1500.0, 650.0, 700.0, 500.0, 800.0, 300.0, 600.0, 350.0, 600.0, 400.0, 200.0, 700.0, 150.0, 500.0, 400.0, 700.0, 400.0, 450.0, 250.0, 1100.0, 400.0, 300.0, 200.0, 500.0, 500.0, 300.0, 500.0, 500.0, 500.0, 500.0, 1500.0, 600.0, 600.0, 500.0, 400.0, 400.0, 1200.0, 700.0, 200.0, 400.0, 200.0, 250.0, 300.0, 200.0, 1200.0, 400.0, 800.0, 900.0, 1000.0, 200.0, 700.0, 400.0, 300.0, 400.0, 400.0, 400.0, 300.0, 300.0, 450.0, 800.0, 400.0, 500.0, 400.0, 400.0, 400.0, 800.0, 800.0, 750.0, 300.0, 500.0, 300.0, 600.0, 350.0, 400.0, 300.0, 200.0, 300.0, 200.0, 200.0, 300.0, 500.0, 450.0, 600.0, 1800.0, 3500.0, 4000.0, 1000.0, 1000.0, 2200.0, 1400.0, 2000.0, 700.0, 6000.0, 3500.0, 2400.0, 900.0, 1500.0, 700.0, 450.0, 800.0, 300.0, 600.0, 550.0, 400.0, 750.0, 1900.0, 3000.0, 500.0, 200.0, 400.0, 250.0, 400.0, 350.0, 150.0, 300.0, 400.0, 400.0, 700.0, 500.0, 500.0, 400.0, 400.0, 500.0, 400.0, 450.0, 250.0, 600.0, 600.0, 850.0, 700.0, 500.0, 750.0, 500.0, 800.0, 500.0, 600.0, 750.0, 650.0, 600.0, 500.0, 400.0, 700.0, 500.0, 500.0, 600.0, 500.0, 500.0, 800.0, 400.0, 350.0, 300.0, 150.0, 250.0, 200.0, 150.0, 200.0, 550.0, 250.0, 450.0, 300.0, 500.0, 350.0, 150.0, 450.0, 350.0, 450.0, 500.0, 400.0, 200.0, 250.0, 400.0, 350.0, 1600.0, 1000.0, 800.0, 1500.0, 1800.0, 1400.0, 2000.0, 1200.0, 1500.0, 1900.0, 1500.0, 1500.0, 1200.0, 1600.0, 1400.0, 1500.0, 2500.0, 1300.0, 1000.0, 1400.0, 1700.0, 1700.0, 900.0, 1500.0, 1500.0, 1200.0, 1300.0, 1400.0, 700.0, 1300.0, 1600.0, 1000.0, 1000.0, 1200.0, 1100.0, 1000.0, 3000.0, 1500.0, 600.0, 2000.0, 800.0, 1700.0, 750.0, 1200.0, 600.0, 800.0, 800.0, 1200.0, 1600.0, 800.0, 200.0, 1000.0, 1100.0, 900.0, 700.0, 1500.0, 700.0, 1100.0, 1300.0, 1500.0, 1500.0, 450.0, 650.0, 500.0, 1000.0, 1000.0, 1800.0, 1500.0, 700.0, 800.0, 650.0, 1100.0, 1200.0, 1200.0, 1500.0, 800.0, 500.0, 1400.0, 1800.0, 1500.0, 700.0, 1800.0, 800.0, 500.0, 1200.0, 1700.0, 2000.0, 1300.0, 1600.0, 800.0, 500.0, 450.0, 300.0, 1000.0, 800.0, 300.0, 800.0, 600.0, 800.0, 300.0, 600.0, 3000.0, 1000.0, 600.0, 400.0, 350.0, 300.0, 400.0, 700.0, 400.0, 400.0, 200.0, 300.0, 700.0, 150.0, 600.0, 600.0, 300.0, 600.0, 400.0, 500.0, 250.0, 1800.0, 1300.0, 350.0, 400.0, 500.0, 350.0, 600.0, 300.0, 500.0, 450.0, 500.0, 250.0, 1100.0, 600.0, 1200.0, 500.0, 500.0, 300.0, 250.0, 500.0, 200.0, 600.0, 1500.0, 1800.0, 1000.0, 1800.0, 2400.0, 3000.0, 1400.0, 2000.0, 1900.0, 1500.0, 1400.0, 1300.0, 1400.0, 1300.0, 1300.0, 1400.0, 1000.0, 1500.0, 2000.0, 1700.0, 1600.0, 1100.0, 1100.0, 1500.0, 1500.0, 1800.0, 1500.0, 1100.0, 1400.0, 1800.0, 1200.0, 1300.0, 1600.0, 1000.0, 1300.0, 1300.0, 1000.0, 1800.0, 1000.0, 1400.0, 1800.0, 900.0, 1000.0, 1400.0, 2000.0, 1200.0, 1500.0, 1500.0, 2500.0, 1300.0, 1500.0, 1300.0, 1400.0, 1700.0, 800.0, 1100.0, 1100.0, 1500.0, 1500.0, 1800.0, 1100.0, 1400.0, 1500.0, 1200.0, 1700.0, 2000.0, 1300.0, 1000.0, 1300.0, 1200.0, 1600.0, 800.0, 1800.0, 750.0, 1000.0, 600.0, 900.0, 600.0, 2000.0, 1200.0, 1700.0, 1500.0, 1100.0, 1000.0, 1000.0, 600.0, 600.0, 500.0, 600.0, 500.0, 700.0, 500.0, 700.0, 350.0, 500.0, 400.0, 500.0, 450.0, 500.0, 450.0, 400.0, 750.0, 400.0, 400.0, 300.0, 850.0, 700.0, 250.0, 400.0, 500.0, 450.0, 1100.0, 250.0, 1000.0, 350.0, 600.0, 300.0, 250.0, 400.0, 400.0, 800.0, 250.0, 500.0, 400.0, 150.0, 650.0, 500.0, 200.0, 600.0, 350.0, 750.0, 450.0, 450.0, 500.0, 800.0, 300.0, 600.0, 500.0, 400.0, 600.0, 800.0, 600.0, 600.0, 1400.0, 700.0, 2000.0, 1700.0, 1200.0, 350.0, 500.0, 600.0, 600.0, 1100.0, 600.0, 450.0, 400.0, 300.0, 800.0, 600.0, 400.0, 1000.0, 650.0, 600.0, 800.0, 700.0, 500.0, 400.0, 150.0, 250.0, 200.0, 350.0, 400.0, 1000.0, 300.0, 450.0, 500.0, 1100.0, 500.0, 1500.0, 300.0, 1200.0, 500.0, 500.0, 300.0, 400.0, 250.0, 300.0, 300.0, 500.0, 900.0, 350.0, 600.0, 800.0, 1100.0, 300.0, 400.0, 600.0, 700.0, 800.0, 800.0, 1400.0, 600.0, 120.0, 1000.0, 400.0, 250.0, 400.0, 400.0, 150.0, 100.0, 800.0, 900.0, 500.0, 150.0, 1000.0, 400.0, 750.0, 150.0, 150.0, 200.0, 350.0, 600.0, 300.0, 150.0, 900.0, 300.0, 100.0, 350.0, 600.0, 600.0, 1500.0, 500.0, 1100.0, 200.0, 400.0, 600.0, 750.0, 800.0, 250.0, 500.0, 500.0, 600.0, 200.0, 500.0, 400.0, 500.0, 600.0, 250.0, 200.0, 500.0, 100.0, 500.0, 600.0, 350.0, 250.0, 200.0, 500.0, 400.0, 700.0, 250.0, 250.0, 300.0, 100.0, 250.0, 200.0, 450.0, 300.0, 400.0, 1650.0, 1100.0, 1600.0, 400.0, 600.0, 800.0, 700.0, 1800.0, 700.0, 750.0, 900.0, 1100.0, 450.0, 800.0, 900.0, 800.0, 1000.0, 600.0, 700.0, 700.0, 600.0, 350.0, 500.0, 900.0, 1000.0, 600.0, 600.0, 1200.0, 400.0, 300.0, 400.0, 400.0, 400.0, 350.0, 600.0, 450.0, 300.0, 300.0, 450.0, 750.0, 450.0, 800.0, 600.0, 600.0, 350.0, 300.0, 500.0, 500.0, 1200.0, 800.0, 750.0, 750.0, 600.0, 500.0, 800.0, 250.0, 400.0, 400.0, 500.0, 600.0, 200.0, 400.0, 2600.0, 2000.0, 1800.0, 2000.0, 1200.0, 1300.0, 2500.0, 1700.0, 1400.0, 1000.0, 1000.0, 1500.0, 1400.0, 800.0, 150.0, 1400.0, 1400.0, 1200.0, 1200.0, 600.0, 500.0, 1500.0, 1100.0, 1500.0, 1500.0, 250.0, 1100.0, 650.0, 1000.0, 700.0, 500.0, 100.0, 500.0, 600.0, 500.0, 300.0, 1100.0, 850.0, 2500.0, 250.0, 600.0, 1500.0, 150.0, 700.0, 1100.0, 200.0, 600.0, 350.0, 450.0, 200.0, 150.0, 600.0, 600.0, 200.0, 250.0, 300.0, 300.0, 400.0, 350.0, 2000.0, 200.0, 250.0, 400.0, 600.0, 1000.0, 200.0, 500.0, 400.0, 250.0, 500.0, 200.0, 300.0, 500.0, 200.0, 300.0, 300.0, 300.0, 400.0, 400.0, 500.0, 450.0, 800.0, 550.0, 500.0, 150.0, 300.0, 500.0, 1200.0, 1650.0, 1000.0, 2600.0, 1800.0, 1400.0, 1400.0, 1200.0, 1500.0, 1500.0, 1100.0, 1100.0, 800.0, 2000.0, 1200.0, 1650.0, 1100.0, 1800.0, 800.0, 900.0, 1200.0, 800.0, 1400.0, 1400.0, 1400.0, 1200.0, 1500.0, 1100.0, 1100.0, 800.0, 2000.0, 1200.0, 1500.0, 500.0, 3400.0, 2000.0, 1900.0, 1800.0, 1500.0, 2200.0, 2100.0, 3000.0, 1200.0, 1700.0, 1400.0, 2500.0, 750.0, 3000.0, 1500.0, 1000.0, 1500.0, 1500.0, 2000.0, 1200.0, 800.0, 1200.0, 1700.0, 1600.0, 1300.0, 1600.0, 3000.0, 1000.0, 1200.0, 1000.0, 650.0, 1400.0, 800.0, 1000.0, 1000.0, 500.0, 1200.0, 650.0, 2800.0, 1600.0, 1300.0, 1700.0, 1300.0, 1800.0, 1600.0, 1000.0, 1100.0, 750.0, 1200.0, 800.0, 400.0, 400.0, 600.0, 1100.0, 900.0, 1700.0, 1000.0, 600.0, 600.0, 2500.0, 650.0, 1400.0, 700.0, 900.0, 450.0, 700.0, 800.0, 750.0, 650.0, 500.0, 500.0, 1000.0, 1200.0, 650.0, 500.0, 800.0, 1000.0, 500.0, 700.0, 800.0, 350.0, 1300.0, 750.0, 1100.0, 750.0, 1000.0, 750.0, 1000.0, 600.0, 500.0, 450.0, 300.0, 500.0, 500.0, 650.0, 200.0, 350.0, 500.0, 500.0, 200.0, 650.0, 300.0, 400.0, 600.0, 750.0, 500.0, 550.0, 500.0, 1200.0, 150.0, 250.0, 600.0, 600.0, 800.0, 750.0, 400.0, 450.0, 300.0, 400.0, 800.0, 650.0, 900.0, 500.0, 600.0, 1300.0, 400.0, 800.0, 400.0, 550.0, 750.0, 1400.0, 1600.0, 400.0, 400.0, 350.0, 500.0, 1500.0, 300.0, 1300.0, 400.0, 600.0, 600.0, 300.0, 1100.0, 1300.0, 250.0, 850.0, 300.0, 500.0, 400.0, 400.0, 1700.0, 1200.0, 1500.0, 200.0, 400.0, 1600.0, 800.0, 700.0, 1200.0, 300.0, 300.0, 500.0, 250.0, 450.0, 700.0, 600.0, 400.0, 700.0, 700.0, 600.0, 400.0, 500.0, 450.0, 550.0, 500.0, 1000.0, 400.0, 1000.0, 700.0, 400.0, 750.0, 700.0, 400.0, 300.0, 800.0, 1300.0, 650.0, 400.0, 750.0, 1500.0, 350.0, 800.0, 1000.0, 1400.0, 500.0, 800.0, 500.0, 1300.0, 700.0, 600.0, 600.0, 450.0, 500.0, 1500.0, 800.0, 180.0, 2100.0, 400.0, 300.0, 400.0, 1700.0, 400.0, 150.0, 1000.0, 3000.0, 200.0, 1700.0, 1000.0, 200.0, 1000.0, 300.0, 600.0, 1300.0, 2000.0, 1300.0, 650.0, 950.0, 200.0, 300.0, 700.0, 800.0, 300.0, 400.0, 600.0, 500.0, 1400.0, 400.0, 700.0, 300.0, 400.0, 500.0, 600.0, 700.0, 250.0, 200.0, 700.0, 1500.0, 750.0, 800.0, 900.0, 700.0, 2000.0, 1500.0, 1500.0, 700.0, 1000.0, 500.0, 350.0, 1000.0, 1000.0, 1000.0, 250.0, 1000.0, 700.0, 1900.0, 800.0, 550.0, 2100.0, 600.0, 750.0, 1400.0, 1000.0, 1200.0, 300.0, 350.0, 300.0, 2000.0, 300.0, 500.0, 400.0, 1200.0, 750.0, 700.0, 800.0, 2000.0, 1800.0, 850.0, 1500.0, 200.0, 600.0, 400.0, 800.0, 300.0, 600.0, 1800.0, 850.0, 1800.0, 800.0, 500.0, 1000.0, 750.0, 1200.0, 650.0, 700.0, 800.0, 100.0, 800.0, 600.0, 1000.0, 650.0, 500.0, 1300.0, 700.0, 400.0, 200.0, 1000.0, 800.0, 300.0, 500.0, 1700.0, 250.0, 1200.0, 400.0, 1200.0, 1000.0, 1500.0, 1600.0, 700.0, 2100.0, 800.0, 900.0, 1700.0, 1400.0, 600.0, 400.0, 750.0, 500.0, 900.0, 450.0, 500.0, 150.0, 450.0, 600.0, 1200.0, 500.0, 500.0, 550.0, 400.0, 450.0, 500.0, 200.0, 800.0, 800.0, 800.0, 1000.0, 500.0, 1100.0, 200.0, 800.0, 500.0, 550.0, 300.0, 450.0, 350.0, 300.0, 250.0, 1300.0, 600.0, 500.0, 400.0, 600.0, 1600.0, 1300.0, 550.0, 800.0, 2000.0, 400.0, 400.0, 150.0, 400.0, 500.0, 500.0, 350.0, 600.0, 800.0, 1000.0, 600.0, 550.0, 1250.0, 400.0, 1400.0, 300.0, 700.0, 450.0, 300.0, 500.0, 1000.0, 500.0, 450.0, 300.0, 400.0, 300.0, 800.0, 250.0, 450.0, 400.0, 900.0, 150.0, 250.0, 180.0, 400.0, 500.0, 200.0, 300.0, 300.0, 300.0, 1300.0, 750.0, 1100.0, 300.0, 2000.0, 700.0, 350.0, 400.0, 300.0, 300.0, 400.0, 2000.0, 1500.0, 800.0, 3500.0, 1700.0, 800.0, 2000.0, 600.0, 1200.0, 1400.0, 550.0, 3000.0, 500.0, 400.0, 3400.0, 1000.0, 800.0, 4000.0, 1000.0, 2000.0, 3500.0, 1000.0, 800.0, 550.0, 700.0, 1000.0, 2000.0, 600.0, 1900.0, 250.0, 500.0, 600.0, 300.0, 200.0, 500.0, 400.0, 500.0, 100.0, 500.0, 1700.0, 1800.0, 1500.0, 1500.0, 2500.0, 2000.0, 3000.0, 2200.0, 3000.0, 2800.0, 700.0, 1500.0, 1100.0, 2100.0, 1500.0, 1500.0, 2000.0, 3000.0, 2500.0, 1700.0, 1500.0, 1200.0, 1200.0, 1300.0, 1500.0, 1300.0, 2100.0, 1200.0, 1600.0, 800.0, 1700.0, 1600.0, 1000.0, 3000.0, 1500.0, 1500.0, 700.0, 1500.0, 2500.0, 1000.0, 2100.0, 1900.0, 1100.0, 1300.0, 1700.0, 2200.0, 1400.0, 1500.0, 900.0, 1700.0, 1300.0, 1000.0, 1000.0, 600.0, 2500.0, 1400.0, 200.0, 1500.0, 4000.0, 750.0, 1500.0, 3000.0, 1500.0, 1000.0, 1100.0, 650.0, 1200.0, 2500.0, 1500.0, 1500.0, 2000.0, 1000.0, 1400.0, 1500.0, 1100.0, 1300.0, 650.0, 750.0, 850.0, 1800.0, 1000.0, 1500.0, 1000.0, 1200.0, 2000.0, 1400.0, 3500.0, 700.0, 1600.0, 1500.0, 1200.0, 1200.0, 1500.0, 1200.0, 4000.0, 700.0, 1300.0, 1200.0, 800.0, 600.0, 1100.0, 1100.0, 900.0, 2000.0, 1200.0, 1700.0, 1600.0, 800.0, 2000.0, 3000.0, 2000.0, 1200.0, 1000.0, 700.0, 800.0, 500.0, 2800.0, 1800.0, 650.0, 3000.0, 750.0, 650.0, 1800.0, 950.0, 3000.0, 750.0, 500.0, 750.0, 1500.0, 1000.0, 1100.0, 500.0, 600.0, 800.0, 1200.0, 1000.0, 700.0, 300.0, 1300.0, 1000.0, 500.0, 1600.0, 500.0, 3000.0, 1000.0, 1000.0, 400.0, 550.0, 1200.0, 650.0, 1200.0, 1000.0, 350.0, 400.0, 3000.0, 1200.0, 3000.0, 400.0, 500.0, 1800.0, 2500.0, 650.0, 800.0, 2500.0, 700.0, 1400.0, 800.0, 500.0, 800.0, 600.0, 850.0, 700.0, 500.0, 800.0, 1000.0, 500.0, 1300.0, 1500.0, 1000.0, 700.0, 500.0, 3000.0, 600.0, 800.0, 600.0, 500.0, 800.0, 1200.0, 500.0, 550.0, 800.0, 800.0, 1200.0, 350.0, 650.0, 800.0, 2000.0, 700.0, 600.0, 2500.0, 800.0, 600.0, 1000.0, 600.0, 550.0, 400.0, 250.0, 700.0, 400.0, 500.0, 200.0, 300.0, 150.0, 450.0, 300.0, 500.0, 300.0, 300.0, 150.0, 300.0, 450.0, 500.0, 300.0, 400.0, 250.0, 400.0, 250.0, 350.0, 300.0, 400.0, 500.0, 500.0, 400.0, 200.0, 500.0, 400.0, 350.0, 250.0, 250.0, 300.0, 300.0, 450.0, 600.0, 1300.0, 2800.0, 2500.0, 1600.0, 1100.0, 1300.0, 600.0, 600.0, 1300.0, 1000.0, 750.0, 1100.0, 1800.0, 3000.0, 750.0, 1300.0, 1700.0, 500.0, 600.0, 1200.0, 1000.0, 2000.0, 750.0, 3000.0, 1300.0, 750.0, 800.0, 2000.0, 850.0, 700.0, 700.0, 600.0, 750.0, 700.0, 1800.0, 300.0, 1600.0, 150.0, 900.0, 450.0, 1000.0, 400.0, 450.0, 300.0, 150.0, 2200.0, 200.0, 200.0, 500.0, 1000.0, 2400.0, 150.0, 350.0, 400.0, 400.0, 400.0, 1000.0, 600.0, 450.0, 1100.0, 450.0, 300.0, 800.0, 150.0, 300.0, 300.0, 600.0, 2000.0, 1700.0, 1500.0, 1500.0, 1700.0, 1200.0, 3000.0, 1000.0, 1000.0, 1000.0, 2000.0, 2500.0, 3000.0, 3000.0, 1500.0, 1500.0, 2000.0, 1500.0, 2500.0, 1700.0, 1200.0, 1300.0, 1300.0, 1700.0, 1500.0, 1500.0, 2500.0, 1900.0, 1300.0, 1300.0, 1000.0, 1500.0, 1100.0, 1200.0, 1000.0, 1400.0, 1100.0, 1000.0, 1600.0, 1200.0, 1200.0, 1500.0, 1100.0, 1100.0, 2000.0, 2000.0, 1200.0, 2800.0, 3000.0, 1500.0, 1100.0, 600.0, 1000.0, 1000.0, 3000.0, 1200.0, 2500.0, 1500.0, 1300.0, 1300.0, 1000.0, 2200.0, 2400.0, 1500.0, 2000.0, 1400.0, 1600.0, 1300.0, 1800.0, 1100.0, 1500.0, 1500.0, 500.0, 700.0, 1900.0, 1000.0, 1400.0, 1500.0, 1200.0, 2500.0, 1500.0, 1500.0, 1100.0, 1500.0, 1000.0, 700.0, 800.0, 500.0, 600.0, 800.0, 600.0, 500.0, 200.0, 600.0, 800.0, 400.0, 600.0, 500.0, 1000.0, 500.0, 400.0, 650.0, 500.0, 450.0, 200.0, 450.0, 400.0, 300.0, 400.0, 500.0, 200.0, 500.0, 500.0, 400.0, 400.0, 400.0, 600.0, 300.0, 600.0, 250.0, 400.0, 650.0, 450.0, 600.0, 400.0, 950.0, 650.0, 500.0, 200.0, 400.0, 200.0, 600.0, 350.0, 600.0, 1200.0, 800.0, 150.0, 500.0, 1500.0, 300.0, 500.0, 400.0, 700.0, 800.0, 400.0, 400.0, 100.0, 800.0, 600.0, 300.0, 100.0, 600.0, 500.0, 400.0, 500.0, 450.0, 1200.0, 600.0, 700.0, 800.0, 200.0, 600.0, 500.0, 250.0, 200.0, 450.0, 450.0, 500.0, 400.0, 800.0, 800.0, 1400.0, 600.0, 300.0, 500.0, 200.0, 400.0, 250.0, 900.0, 300.0, 200.0, 500.0, 750.0, 600.0, 400.0, 500.0, 300.0, 350.0, 400.0, 350.0, 450.0, 200.0, 700.0, 400.0, 800.0, 900.0, 750.0, 400.0, 600.0, 700.0, 650.0, 1000.0, 500.0, 300.0, 200.0, 500.0, 300.0, 800.0, 800.0, 150.0, 500.0, 400.0, 300.0, 600.0, 300.0, 600.0, 750.0, 300.0, 500.0, 400.0, 750.0, 450.0, 400.0, 800.0, 450.0, 750.0, 600.0, 1300.0, 400.0, 1400.0, 1200.0, 800.0, 1300.0, 1600.0, 1800.0, 500.0, 450.0, 400.0, 600.0, 600.0, 1500.0, 700.0, 600.0, 800.0, 1500.0, 600.0, 250.0, 1500.0, 800.0, 850.0, 500.0, 1800.0, 1000.0, 1100.0, 500.0, 900.0, 1500.0, 600.0, 500.0, 1000.0, 1500.0, 500.0, 700.0, 250.0, 500.0, 1000.0, 700.0, 550.0, 1100.0, 1200.0, 600.0, 600.0, 500.0, 1500.0, 1700.0, 900.0, 600.0, 400.0, 1200.0, 800.0, 1400.0, 1400.0, 800.0, 300.0, 400.0, 1400.0, 1700.0, 500.0, 1000.0, 1500.0, 1000.0, 550.0, 200.0, 700.0, 300.0, 400.0, 500.0, 600.0, 500.0, 700.0, 500.0, 1500.0, 500.0, 500.0, 400.0, 800.0, 300.0, 400.0, 500.0, 250.0, 600.0, 800.0, 750.0, 500.0, 300.0, 700.0, 500.0, 400.0, 200.0, 800.0, 500.0, 700.0, 450.0, 150.0, 800.0, 550.0, 600.0, 550.0, 300.0, 600.0, 300.0, 100.0, 150.0, 600.0, 330.0, 600.0, 600.0, 400.0, 400.0, 500.0, 400.0, 750.0, 600.0, 200.0, 500.0, 300.0, 200.0, 800.0, 300.0, 500.0, 400.0, 400.0, 350.0, 400.0, 500.0, 500.0, 300.0, 200.0, 500.0, 250.0, 500.0, 600.0, 600.0, 900.0, 300.0, 1400.0, 1500.0, 1500.0, 1600.0, 1400.0, 1500.0, 1900.0, 1600.0, 1400.0, 1300.0, 1300.0, 1800.0, 1400.0, 600.0, 1100.0, 1500.0, 1500.0, 1500.0, 2000.0, 600.0, 700.0, 700.0, 800.0, 800.0, 500.0, 500.0, 850.0, 800.0, 1200.0, 900.0, 700.0, 800.0, 1000.0, 600.0, 800.0, 600.0, 700.0, 400.0, 200.0, 800.0, 900.0, 600.0, 600.0, 800.0, 700.0, 500.0, 400.0, 1000.0, 1200.0, 1900.0, 550.0, 500.0, 550.0, 600.0, 500.0, 450.0, 800.0, 300.0, 150.0, 500.0, 500.0, 400.0, 450.0, 200.0, 600.0, 100.0, 250.0, 300.0, 400.0, 500.0, 250.0, 300.0, 200.0, 350.0, 400.0, 400.0, 500.0, 250.0, 600.0, 300.0, 500.0, 400.0, 750.0, 300.0, 300.0, 1000.0, 1800.0, 1700.0, 1800.0, 1400.0, 1500.0, 750.0, 1200.0, 800.0, 2000.0, 1200.0, 950.0, 2000.0, 600.0, 2500.0, 400.0, 700.0, 600.0, 750.0, 1500.0, 1500.0, 1100.0, 1200.0, 600.0, 900.0, 400.0, 500.0, 650.0, 500.0, 1500.0, 800.0, 1800.0, 450.0, 1400.0, 600.0, 500.0, 200.0, 800.0, 300.0, 500.0, 300.0, 550.0, 400.0, 800.0, 500.0, 200.0, 1000.0, 400.0, 250.0, 500.0, 300.0, 400.0, 600.0, 2500.0, 200.0, 500.0, 450.0, 800.0, 350.0, 200.0, 700.0, 330.0, 200.0, 400.0, 600.0, 250.0, 400.0, 200.0, 500.0, 450.0, 500.0, 400.0, 800.0, 550.0, 400.0, 400.0, 600.0, 1000.0, 450.0, 400.0, 800.0, 1500.0, 1400.0, 1400.0, 1600.0, 1400.0, 1500.0, 1900.0, 1500.0, 1300.0, 1500.0, 1200.0, 900.0, 1000.0, 1700.0, 1500.0, 1500.0, 1800.0, 1400.0, 2500.0, 1500.0, 1400.0, 1800.0, 1400.0, 1400.0, 1500.0, 1900.0, 1300.0, 1800.0, 1200.0, 900.0, 1700.0, 1800.0, 1400.0, 1500.0, 1100.0, 700.0, 900.0, 550.0, 600.0, 1400.0, 500.0, 900.0, 1100.0, 700.0, 2000.0, 600.0, 600.0, 1000.0, 900.0, 700.0, 350.0, 400.0, 650.0, 400.0, 400.0, 700.0, 1000.0, 800.0, 500.0, 300.0, 400.0, 750.0, 600.0, 250.0, 400.0, 700.0, 600.0, 400.0, 400.0, 400.0, 200.0, 300.0, 400.0, 250.0, 500.0, 500.0, 700.0, 500.0, 400.0, 300.0, 600.0, 800.0, 450.0, 800.0, 350.0, 450.0, 750.0, 550.0, 200.0, 800.0, 600.0, 750.0, 450.0, 400.0, 300.0, 500.0, 400.0, 800.0, 650.0, 1000.0, 600.0, 500.0, 400.0, 500.0, 500.0, 300.0, 350.0, 600.0, 550.0, 600.0, 1100.0, 900.0, 300.0, 250.0, 350.0, 150.0, 800.0, 200.0, 400.0, 400.0, 200.0, 750.0, 450.0, 200.0, 900.0, 550.0, 500.0, 300.0, 500.0, 250.0, 600.0, 900.0, 1000.0, 1700.0, 1200.0, 2000.0, 400.0, 400.0, 400.0, 1400.0, 450.0, 300.0, 600.0, 400.0, 600.0, 500.0, 650.0, 300.0, 600.0, 500.0, 300.0, 500.0, 300.0, 300.0, 450.0, 1000.0, 850.0, 2000.0, 300.0, 700.0, 300.0, 750.0, 500.0, 400.0, 400.0, 300.0, 250.0, 400.0, 300.0, 500.0, 400.0, 1500.0, 300.0, 400.0, 700.0, 400.0, 500.0, 1500.0, 400.0, 1400.0, 400.0, 500.0, 500.0, 1800.0, 450.0, 400.0, 1500.0, 1600.0, 1500.0, 1500.0, 900.0, 500.0, 200.0, 600.0, 500.0, 400.0, 1600.0, 1000.0, 550.0, 250.0, 600.0, 500.0, 550.0, 500.0, 1400.0, 800.0, 300.0, 600.0, 1200.0, 400.0, 600.0, 400.0, 500.0, 1500.0, 500.0, 450.0, 800.0, 150.0, 1000.0, 600.0, 300.0, 650.0, 300.0, 200.0, 500.0, 700.0, 300.0, 450.0, 1500.0, 400.0, 150.0, 300.0, 800.0, 700.0, 700.0, 900.0, 200.0, 350.0, 900.0, 1200.0, 750.0, 700.0, 700.0, 500.0, 200.0, 600.0, 2000.0, 700.0, 800.0, 200.0, 300.0, 1200.0, 400.0, 500.0, 750.0, 1000.0, 800.0, 1400.0, 300.0, 800.0, 800.0, 800.0, 350.0, 500.0, 350.0, 400.0, 400.0, 350.0, 1000.0, 1400.0, 750.0, 1100.0, 800.0, 600.0, 350.0, 1100.0, 750.0, 900.0, 400.0, 700.0, 1700.0, 600.0, 600.0, 1200.0, 800.0, 350.0, 1000.0, 300.0, 500.0, 700.0, 500.0, 650.0, 700.0, 300.0, 300.0, 500.0, 600.0, 400.0, 400.0, 400.0, 450.0, 450.0, 1500.0, 1200.0, 800.0, 400.0, 500.0, 1100.0, 500.0, 800.0, 800.0, 600.0, 400.0, 600.0, 300.0, 750.0, 800.0, 500.0, 900.0, 700.0, 600.0, 700.0, 1000.0, 500.0, 1700.0, 500.0, 1000.0, 450.0, 800.0, 900.0, 550.0, 600.0, 400.0, 400.0, 500.0, 700.0, 150.0, 500.0, 400.0, 600.0, 1500.0, 450.0, 500.0, 450.0, 400.0, 1000.0, 200.0, 300.0, 300.0, 150.0, 800.0, 250.0, 500.0, 1500.0, 400.0, 600.0, 400.0, 400.0, 200.0, 250.0, 300.0, 300.0, 500.0, 1000.0, 2000.0, 2500.0, 2400.0, 2500.0, 1600.0, 1600.0, 1400.0, 1600.0, 1700.0, 1700.0, 1700.0, 1100.0, 2000.0, 1000.0, 1500.0, 1900.0, 1500.0, 1600.0, 1800.0, 1800.0, 1700.0, 1200.0, 1500.0, 2000.0, 1000.0, 1500.0, 900.0, 550.0, 1600.0, 2500.0, 650.0, 800.0, 800.0, 800.0, 1700.0, 1400.0, 1000.0, 1800.0, 2000.0, 1400.0, 800.0, 750.0, 1500.0, 2000.0, 700.0, 1000.0, 850.0, 1200.0, 900.0, 1400.0, 700.0, 800.0, 1200.0, 1500.0, 750.0, 1700.0, 2000.0, 800.0, 550.0, 1400.0, 2000.0, 1500.0, 900.0, 1100.0, 700.0, 2500.0, 1100.0, 900.0, 400.0, 1000.0, 3000.0, 1000.0, 700.0, 800.0, 1450.0, 300.0, 2000.0, 800.0, 1000.0, 1400.0, 700.0, 600.0, 750.0, 1500.0, 1500.0, 1500.0, 1000.0, 700.0, 2000.0, 900.0, 2500.0, 800.0, 600.0, 900.0, 2100.0, 800.0, 400.0, 1200.0, 600.0, 1200.0, 800.0, 700.0, 1000.0, 1500.0, 600.0, 3000.0, 300.0, 300.0, 350.0, 400.0, 500.0, 800.0, 800.0, 700.0, 1700.0, 750.0, 400.0, 1200.0, 500.0, 2000.0, 350.0, 1500.0, 600.0, 750.0, 2000.0, 400.0, 3000.0, 650.0, 500.0, 800.0, 1900.0, 450.0, 1200.0, 750.0, 1000.0, 800.0, 2000.0, 700.0, 1200.0, 600.0, 700.0, 400.0, 700.0, 1800.0, 700.0, 700.0, 250.0, 700.0, 600.0, 600.0, 800.0, 150.0, 650.0, 550.0, 1100.0, 1600.0, 900.0, 500.0, 350.0, 450.0, 500.0, 600.0, 700.0, 600.0, 500.0, 200.0, 600.0, 350.0, 400.0, 300.0, 350.0, 600.0, 400.0, 500.0, 300.0, 350.0, 400.0, 300.0, 400.0, 450.0, 250.0, 500.0, 300.0, 400.0, 500.0, 400.0, 200.0, 200.0, 400.0, 400.0, 300.0, 300.0, 600.0, 400.0, 350.0, 400.0, 400.0, 350.0, 400.0, 400.0, 400.0, 600.0, 450.0, 300.0, 300.0, 400.0, 200.0, 300.0, 550.0, 350.0, 500.0, 600.0, 550.0, 400.0, 450.0, 500.0, 300.0, 400.0, 400.0, 450.0, 500.0, 500.0, 600.0, 300.0, 500.0, 400.0, 400.0, 450.0, 400.0, 400.0, 350.0, 700.0, 500.0, 500.0, 300.0, 400.0, 1500.0, 2500.0, 1000.0, 800.0, 500.0, 500.0, 300.0, 500.0, 600.0, 1800.0, 400.0, 300.0, 1700.0, 1200.0, 1600.0, 2400.0, 2500.0, 1700.0, 1000.0, 1900.0, 1500.0, 1000.0, 1500.0, 1600.0, 1700.0, 1800.0, 1200.0, 1500.0, 1400.0, 1450.0, 1500.0, 1500.0, 2100.0, 1700.0, 1200.0, 2000.0, 1800.0, 800.0, 2500.0, 1600.0, 1900.0, 1700.0, 2400.0, 2500.0, 1700.0, 1100.0, 1000.0, 1500.0, 1800.0, 1000.0, 1200.0, 1500.0, 1600.0, 1700.0, 1800.0, 1200.0, 1200.0, 1500.0, 1400.0, 1450.0, 1500.0, 1500.0, 1200.0, 2000.0, 1200.0, 800.0, 2500.0]}],\n",
       "                        {\"height\": 800, \"template\": {\"data\": {\"bar\": [{\"error_x\": {\"color\": \"#2a3f5f\"}, \"error_y\": {\"color\": \"#2a3f5f\"}, \"marker\": {\"line\": {\"color\": \"#E5ECF6\", \"width\": 0.5}}, \"type\": \"bar\"}], \"barpolar\": [{\"marker\": {\"line\": {\"color\": \"#E5ECF6\", \"width\": 0.5}}, \"type\": \"barpolar\"}], \"carpet\": [{\"aaxis\": {\"endlinecolor\": \"#2a3f5f\", \"gridcolor\": \"white\", \"linecolor\": \"white\", \"minorgridcolor\": \"white\", \"startlinecolor\": \"#2a3f5f\"}, \"baxis\": {\"endlinecolor\": \"#2a3f5f\", \"gridcolor\": \"white\", \"linecolor\": \"white\", \"minorgridcolor\": \"white\", \"startlinecolor\": \"#2a3f5f\"}, \"type\": \"carpet\"}], \"choropleth\": [{\"colorbar\": {\"outlinewidth\": 0, \"ticks\": \"\"}, \"type\": \"choropleth\"}], \"contour\": [{\"colorbar\": {\"outlinewidth\": 0, \"ticks\": \"\"}, \"colorscale\": [[0.0, \"#0d0887\"], [0.1111111111111111, \"#46039f\"], [0.2222222222222222, \"#7201a8\"], [0.3333333333333333, \"#9c179e\"], [0.4444444444444444, \"#bd3786\"], [0.5555555555555556, \"#d8576b\"], [0.6666666666666666, \"#ed7953\"], [0.7777777777777778, \"#fb9f3a\"], [0.8888888888888888, \"#fdca26\"], [1.0, \"#f0f921\"]], \"type\": \"contour\"}], \"contourcarpet\": [{\"colorbar\": {\"outlinewidth\": 0, \"ticks\": \"\"}, \"type\": \"contourcarpet\"}], \"heatmap\": [{\"colorbar\": {\"outlinewidth\": 0, \"ticks\": \"\"}, \"colorscale\": [[0.0, \"#0d0887\"], [0.1111111111111111, \"#46039f\"], [0.2222222222222222, \"#7201a8\"], [0.3333333333333333, \"#9c179e\"], [0.4444444444444444, \"#bd3786\"], [0.5555555555555556, \"#d8576b\"], [0.6666666666666666, \"#ed7953\"], [0.7777777777777778, \"#fb9f3a\"], [0.8888888888888888, \"#fdca26\"], [1.0, \"#f0f921\"]], \"type\": \"heatmap\"}], \"heatmapgl\": [{\"colorbar\": {\"outlinewidth\": 0, \"ticks\": \"\"}, \"colorscale\": [[0.0, \"#0d0887\"], [0.1111111111111111, \"#46039f\"], [0.2222222222222222, \"#7201a8\"], [0.3333333333333333, \"#9c179e\"], [0.4444444444444444, \"#bd3786\"], [0.5555555555555556, \"#d8576b\"], [0.6666666666666666, \"#ed7953\"], [0.7777777777777778, \"#fb9f3a\"], [0.8888888888888888, \"#fdca26\"], [1.0, \"#f0f921\"]], \"type\": \"heatmapgl\"}], \"histogram\": [{\"marker\": {\"colorbar\": {\"outlinewidth\": 0, \"ticks\": \"\"}}, \"type\": \"histogram\"}], \"histogram2d\": [{\"colorbar\": {\"outlinewidth\": 0, \"ticks\": \"\"}, \"colorscale\": [[0.0, \"#0d0887\"], [0.1111111111111111, \"#46039f\"], [0.2222222222222222, \"#7201a8\"], [0.3333333333333333, \"#9c179e\"], [0.4444444444444444, \"#bd3786\"], [0.5555555555555556, \"#d8576b\"], [0.6666666666666666, \"#ed7953\"], [0.7777777777777778, \"#fb9f3a\"], [0.8888888888888888, \"#fdca26\"], [1.0, \"#f0f921\"]], \"type\": \"histogram2d\"}], \"histogram2dcontour\": [{\"colorbar\": {\"outlinewidth\": 0, \"ticks\": \"\"}, \"colorscale\": [[0.0, \"#0d0887\"], [0.1111111111111111, \"#46039f\"], [0.2222222222222222, \"#7201a8\"], [0.3333333333333333, \"#9c179e\"], [0.4444444444444444, \"#bd3786\"], [0.5555555555555556, \"#d8576b\"], [0.6666666666666666, \"#ed7953\"], [0.7777777777777778, \"#fb9f3a\"], [0.8888888888888888, \"#fdca26\"], [1.0, \"#f0f921\"]], \"type\": \"histogram2dcontour\"}], \"mesh3d\": [{\"colorbar\": {\"outlinewidth\": 0, \"ticks\": \"\"}, \"type\": \"mesh3d\"}], \"parcoords\": [{\"line\": {\"colorbar\": {\"outlinewidth\": 0, \"ticks\": \"\"}}, \"type\": \"parcoords\"}], \"pie\": [{\"automargin\": true, \"type\": \"pie\"}], \"scatter\": [{\"marker\": {\"colorbar\": {\"outlinewidth\": 0, \"ticks\": \"\"}}, \"type\": \"scatter\"}], \"scatter3d\": [{\"line\": {\"colorbar\": {\"outlinewidth\": 0, \"ticks\": \"\"}}, \"marker\": {\"colorbar\": {\"outlinewidth\": 0, \"ticks\": \"\"}}, \"type\": \"scatter3d\"}], \"scattercarpet\": [{\"marker\": {\"colorbar\": {\"outlinewidth\": 0, \"ticks\": \"\"}}, \"type\": \"scattercarpet\"}], \"scattergeo\": [{\"marker\": {\"colorbar\": {\"outlinewidth\": 0, \"ticks\": \"\"}}, \"type\": \"scattergeo\"}], \"scattergl\": [{\"marker\": {\"colorbar\": {\"outlinewidth\": 0, \"ticks\": \"\"}}, \"type\": \"scattergl\"}], \"scattermapbox\": [{\"marker\": {\"colorbar\": {\"outlinewidth\": 0, \"ticks\": \"\"}}, \"type\": \"scattermapbox\"}], \"scatterpolar\": [{\"marker\": {\"colorbar\": {\"outlinewidth\": 0, \"ticks\": \"\"}}, \"type\": \"scatterpolar\"}], \"scatterpolargl\": [{\"marker\": {\"colorbar\": {\"outlinewidth\": 0, \"ticks\": \"\"}}, \"type\": \"scatterpolargl\"}], \"scatterternary\": [{\"marker\": {\"colorbar\": {\"outlinewidth\": 0, \"ticks\": \"\"}}, \"type\": \"scatterternary\"}], \"surface\": [{\"colorbar\": {\"outlinewidth\": 0, \"ticks\": \"\"}, \"colorscale\": [[0.0, \"#0d0887\"], [0.1111111111111111, \"#46039f\"], [0.2222222222222222, \"#7201a8\"], [0.3333333333333333, \"#9c179e\"], [0.4444444444444444, \"#bd3786\"], [0.5555555555555556, \"#d8576b\"], [0.6666666666666666, \"#ed7953\"], [0.7777777777777778, \"#fb9f3a\"], [0.8888888888888888, \"#fdca26\"], [1.0, \"#f0f921\"]], \"type\": \"surface\"}], \"table\": [{\"cells\": {\"fill\": {\"color\": \"#EBF0F8\"}, \"line\": {\"color\": \"white\"}}, \"header\": {\"fill\": {\"color\": \"#C8D4E3\"}, \"line\": {\"color\": \"white\"}}, \"type\": \"table\"}]}, \"layout\": {\"annotationdefaults\": {\"arrowcolor\": \"#2a3f5f\", \"arrowhead\": 0, \"arrowwidth\": 1}, \"coloraxis\": {\"colorbar\": {\"outlinewidth\": 0, \"ticks\": \"\"}}, \"colorscale\": {\"diverging\": [[0, \"#8e0152\"], [0.1, \"#c51b7d\"], [0.2, \"#de77ae\"], [0.3, \"#f1b6da\"], [0.4, \"#fde0ef\"], [0.5, \"#f7f7f7\"], [0.6, \"#e6f5d0\"], [0.7, \"#b8e186\"], [0.8, \"#7fbc41\"], [0.9, \"#4d9221\"], [1, \"#276419\"]], \"sequential\": [[0.0, \"#0d0887\"], [0.1111111111111111, \"#46039f\"], [0.2222222222222222, \"#7201a8\"], [0.3333333333333333, \"#9c179e\"], [0.4444444444444444, \"#bd3786\"], [0.5555555555555556, \"#d8576b\"], [0.6666666666666666, \"#ed7953\"], [0.7777777777777778, \"#fb9f3a\"], [0.8888888888888888, \"#fdca26\"], [1.0, \"#f0f921\"]], \"sequentialminus\": [[0.0, \"#0d0887\"], [0.1111111111111111, \"#46039f\"], [0.2222222222222222, \"#7201a8\"], [0.3333333333333333, \"#9c179e\"], [0.4444444444444444, \"#bd3786\"], [0.5555555555555556, \"#d8576b\"], [0.6666666666666666, \"#ed7953\"], [0.7777777777777778, \"#fb9f3a\"], [0.8888888888888888, \"#fdca26\"], [1.0, \"#f0f921\"]]}, \"colorway\": [\"#636efa\", \"#EF553B\", \"#00cc96\", \"#ab63fa\", \"#FFA15A\", \"#19d3f3\", \"#FF6692\", \"#B6E880\", \"#FF97FF\", \"#FECB52\"], \"font\": {\"color\": \"#2a3f5f\"}, \"geo\": {\"bgcolor\": \"white\", \"lakecolor\": \"white\", \"landcolor\": \"#E5ECF6\", \"showlakes\": true, \"showland\": true, \"subunitcolor\": \"white\"}, \"hoverlabel\": {\"align\": \"left\"}, \"hovermode\": \"closest\", \"mapbox\": {\"style\": \"light\"}, \"paper_bgcolor\": \"white\", \"plot_bgcolor\": \"#E5ECF6\", \"polar\": {\"angularaxis\": {\"gridcolor\": \"white\", \"linecolor\": \"white\", \"ticks\": \"\"}, \"bgcolor\": \"#E5ECF6\", \"radialaxis\": {\"gridcolor\": \"white\", \"linecolor\": \"white\", \"ticks\": \"\"}}, \"scene\": {\"xaxis\": {\"backgroundcolor\": \"#E5ECF6\", \"gridcolor\": \"white\", \"gridwidth\": 2, \"linecolor\": \"white\", \"showbackground\": true, \"ticks\": \"\", \"zerolinecolor\": \"white\"}, \"yaxis\": {\"backgroundcolor\": \"#E5ECF6\", \"gridcolor\": \"white\", \"gridwidth\": 2, \"linecolor\": \"white\", \"showbackground\": true, \"ticks\": \"\", \"zerolinecolor\": \"white\"}, \"zaxis\": {\"backgroundcolor\": \"#E5ECF6\", \"gridcolor\": \"white\", \"gridwidth\": 2, \"linecolor\": \"white\", \"showbackground\": true, \"ticks\": \"\", \"zerolinecolor\": \"white\"}}, \"shapedefaults\": {\"line\": {\"color\": \"#2a3f5f\"}}, \"ternary\": {\"aaxis\": {\"gridcolor\": \"white\", \"linecolor\": \"white\", \"ticks\": \"\"}, \"baxis\": {\"gridcolor\": \"white\", \"linecolor\": \"white\", \"ticks\": \"\"}, \"bgcolor\": \"#E5ECF6\", \"caxis\": {\"gridcolor\": \"white\", \"linecolor\": \"white\", \"ticks\": \"\"}}, \"title\": {\"x\": 0.05}, \"xaxis\": {\"automargin\": true, \"gridcolor\": \"white\", \"linecolor\": \"white\", \"ticks\": \"\", \"title\": {\"standoff\": 15}, \"zerolinecolor\": \"white\", \"zerolinewidth\": 2}, \"yaxis\": {\"automargin\": true, \"gridcolor\": \"white\", \"linecolor\": \"white\", \"ticks\": \"\", \"title\": {\"standoff\": 15}, \"zerolinecolor\": \"white\", \"zerolinewidth\": 2}}}, \"title\": {\"text\": \"Box plot of approximate cost\"}, \"width\": 800, \"yaxis\": {\"title\": {\"text\": \"Price\"}}},\n",
       "                        {\"responsive\": true}\n",
       "                    ).then(function(){\n",
       "                            \n",
       "var gd = document.getElementById('dc1a8baa-2e18-4ee2-9b98-ae8c0e017108');\n",
       "var x = new MutationObserver(function (mutations, observer) {{\n",
       "        var display = window.getComputedStyle(gd).display;\n",
       "        if (!display || display === 'none') {{\n",
       "            console.log([gd, 'removed!']);\n",
       "            Plotly.purge(gd);\n",
       "            observer.disconnect();\n",
       "        }}\n",
       "}});\n",
       "\n",
       "// Listen for the removal of the full notebook cells\n",
       "var notebookContainer = gd.closest('#notebook-container');\n",
       "if (notebookContainer) {{\n",
       "    x.observe(notebookContainer, {childList: true});\n",
       "}}\n",
       "\n",
       "// Listen for the clearing of the current output cell\n",
       "var outputEl = gd.closest('.output');\n",
       "if (outputEl) {{\n",
       "    x.observe(outputEl, {childList: true});\n",
       "}}\n",
       "\n",
       "                        })\n",
       "                };\n",
       "                \n",
       "            </script>\n",
       "        </div>\n",
       "</body>\n",
       "</html>"
      ]
     },
     "metadata": {
      "tags": []
     },
     "output_type": "display_data"
    }
   ],
   "source": [
    "trace0=go.Box(y=df['cost'],name=\"accepting online orders\",\n",
    "              marker = dict(\n",
    "        color = 'rgb(113, 10, 100)',\n",
    "    ))\n",
    "data=[trace0]\n",
    "layout=go.Layout(title=\"Box plot of approximate cost\",width=800,height=800,yaxis=dict(title=\"Price\"))\n",
    "fig=go.Figure(data=data,layout=layout)\n",
    "py.iplot(fig)"
   ]
  },
  {
   "cell_type": "markdown",
   "metadata": {
    "id": "ZnTqa9gFS8D3"
   },
   "source": [
    "# Distribution of charges"
   ]
  },
  {
   "cell_type": "code",
   "execution_count": 81,
   "metadata": {
    "colab": {
     "base_uri": "https://localhost:8080/",
     "height": 533
    },
    "id": "Vgk0KZnAS5pH",
    "outputId": "0fa48002-d71e-4078-a2c0-52323109b1b8"
   },
   "outputs": [
    {
     "data": {
      "image/png": "[encoded data removed]",
      "text/plain": [
       "<Figure size 576x576 with 1 Axes>"
      ]
     },
     "metadata": {
      "tags": []
     },
     "output_type": "display_data"
    }
   ],
   "source": [
    "plt.figure(figsize=(8,8))\n",
    "sns.distplot(df['cost'])\n",
    "plt.show()"
   ]
  },
  {
   "cell_type": "code",
   "execution_count": 82,
   "metadata": {
    "colab": {
     "base_uri": "https://localhost:8080/"
    },
    "id": "8t12NPAJS_Ge",
    "outputId": "dfac8de7-73c2-4b90-dd43-1eeb457eedb5"
   },
   "outputs": [
    {
     "data": {
      "text/plain": [
       "0     Pasta, Lunch Buffet, Masala Papad, Paneer Laja...\n",
       "1     Momos, Lunch Buffet, Chocolate Nirvana, Thai G...\n",
       "2     Churros, Cannelloni, Minestrone Soup, Hot Choc...\n",
       "3                                           Masala Dosa\n",
       "4                                   Panipuri, Gol Gappe\n",
       "5     Onion Rings, Pasta, Kadhai Paneer, Salads, Sal...\n",
       "7     Farmhouse Pizza, Chocolate Banana, Virgin Moji...\n",
       "8     Pizza, Mocktails, Coffee, Nachos, Salad, Pasta...\n",
       "9     Waffles, Pasta, Coleslaw Sandwich, Choco Waffl...\n",
       "10    Waffles, Pasta, Crispy Chicken, Honey Chilli C...\n",
       "Name: dish_liked, dtype: object"
      ]
     },
     "execution_count": 82,
     "metadata": {
      "tags": []
     },
     "output_type": "execute_result"
    }
   ],
   "source": [
    "df['dish_liked'][:10]"
   ]
  },
  {
   "cell_type": "code",
   "execution_count": 83,
   "metadata": {
    "colab": {
     "base_uri": "https://localhost:8080/"
    },
    "id": "_pCyft7cTP6i",
    "outputId": "af6761dd-3dc1-47cf-9abe-cdb6d81b1883"
   },
   "outputs": [
    {
     "data": {
      "text/plain": [
       "range(0, 23248)"
      ]
     },
     "execution_count": 83,
     "metadata": {
      "tags": []
     },
     "output_type": "execute_result"
    }
   ],
   "source": [
    "range(df.shape[0])"
   ]
  },
  {
   "cell_type": "code",
   "execution_count": 84,
   "metadata": {
    "id": "8GqBvCvITSHh"
   },
   "outputs": [],
   "source": [
    "import re\n",
    "\n",
    "df.index = range(df.shape[0])\n",
    "likes = []\n",
    "for i in range(df.shape[0]):\n",
    "    array_split = re.split(',', df['dish_liked'][i])\n",
    "    for item in array_split:\n",
    "        likes.append(item)"
   ]
  },
  {
   "cell_type": "code",
   "execution_count": 85,
   "metadata": {
    "id": "ZFxrrphBTTk_"
   },
   "outputs": [],
   "source": [
    "df.index = range(df.shape[0])"
   ]
  },
  {
   "cell_type": "code",
   "execution_count": 86,
   "metadata": {
    "colab": {
     "base_uri": "https://localhost:8080/"
    },
    "id": "xUGyUPD_TWm3",
    "outputId": "9ca22273-6928-402e-e987-8bc54865d667"
   },
   "outputs": [
    {
     "data": {
      "text/plain": [
       "RangeIndex(start=0, stop=23248, step=1)"
      ]
     },
     "execution_count": 86,
     "metadata": {
      "tags": []
     },
     "output_type": "execute_result"
    }
   ],
   "source": [
    "df.index"
   ]
  },
  {
   "cell_type": "code",
   "execution_count": 87,
   "metadata": {
    "colab": {
     "base_uri": "https://localhost:8080/"
    },
    "id": "A3QkyqKxTY4Q",
    "outputId": "efbec8cd-a244-4289-8feb-fa23c44ff0d6"
   },
   "outputs": [
    {
     "name": "stdout",
     "output_type": "stream",
     "text": [
      "Count of Most liked dishes in Banglore\n"
     ]
    },
    {
     "data": {
      "text/plain": [
       " Pasta              2692\n",
       " Pizza              1915\n",
       " Cocktails          1880\n",
       " Burgers            1736\n",
       " Mocktails          1623\n",
       " Biryani            1307\n",
       " Sandwiches         1287\n",
       "Burgers             1256\n",
       " Coffee             1184\n",
       " Nachos             1170\n",
       " Fish               1116\n",
       " Paratha            1107\n",
       " Salads             1055\n",
       " Chicken Biryani    1004\n",
       "Cocktails            891\n",
       " Fries               876\n",
       " Noodles             854\n",
       " Beer                835\n",
       " Mutton Biryani      832\n",
       " Tea                 819\n",
       "Coffee               801\n",
       " Sandwich            788\n",
       " Butter Chicken      782\n",
       " Thali               770\n",
       "Biryani              749\n",
       "Pizza                747\n",
       " Roti                729\n",
       " Brownie             726\n",
       " Salad               677\n",
       " Hot Chocolate       672\n",
       "dtype: int64"
      ]
     },
     "execution_count": 87,
     "metadata": {
      "tags": []
     },
     "output_type": "execute_result"
    }
   ],
   "source": [
    "print(\"Count of Most liked dishes in Banglore\")\n",
    "favourite_food = pd.Series(likes).value_counts()\n",
    "favourite_food.head(30)"
   ]
  },
  {
   "cell_type": "code",
   "execution_count": 88,
   "metadata": {
    "colab": {
     "base_uri": "https://localhost:8080/",
     "height": 431
    },
    "id": "01jjZKcvTbSM",
    "outputId": "638467e9-90de-4980-c8f7-58358ab6d4de"
   },
   "outputs": [
    {
     "data": {
      "image/png": "[encoded data removed]",
      "text/plain": [
       "<Figure size 1296x720 with 1 Axes>"
      ]
     },
     "metadata": {
      "tags": []
     },
     "output_type": "display_data"
    }
   ],
   "source": [
    "ax = favourite_food.nlargest(n=20, keep='first').plot(kind='bar', \n",
    "         figsize=(18, 10), title='Top 30 Favourite Food Counts')\n",
    "\n",
    "for i in ax.patches:\n",
    "    ax.annotate(str(i.get_height()), (i.get_x()*1.005, \n",
    "            i.get_height()*1.005))"
   ]
  },
  {
   "cell_type": "code",
   "execution_count": 89,
   "metadata": {
    "colab": {
     "base_uri": "https://localhost:8080/",
     "height": 533
    },
    "id": "hQ84uZtJTuhU",
    "outputId": "c9b67892-8003-48c7-c289-943664643d5f"
   },
   "outputs": [
    {
     "data": {
      "text/plain": [
       "Text(0.5, 0, 'Count')"
      ]
     },
     "execution_count": 89,
     "metadata": {
      "tags": []
     },
     "output_type": "execute_result"
    },
    {
     "data": {
      "image/png": "[encoded data removed]",
      "text/plain": [
       "<Figure size 1080x504 with 1 Axes>"
      ]
     },
     "metadata": {
      "tags": []
     },
     "output_type": "display_data"
    }
   ],
   "source": [
    "plt.figure(figsize=(15, 7))\n",
    "rest = df['rest_type'].value_counts()[:20]\n",
    "sns.barplot(rest, rest.index)\n",
    "plt.title(\"Restaurant Types\")\n",
    "plt.xlabel('Count')"
   ]
  },
  {
   "cell_type": "code",
   "execution_count": 90,
   "metadata": {
    "colab": {
     "base_uri": "https://localhost:8080/",
     "height": 708
    },
    "id": "bJGp3oFvTws7",
    "outputId": "ea634b5f-0480-494b-e315-8a22571678e3"
   },
   "outputs": [
    {
     "data": {
      "text/plain": [
       "Text(0.5, 0, 'Count')"
      ]
     },
     "execution_count": 90,
     "metadata": {
      "tags": []
     },
     "output_type": "execute_result"
    },
    {
     "data": {
      "image/png": "[encoded data removed]",
      "text/plain": [
       "<Figure size 720x720 with 1 Axes>"
      ]
     },
     "metadata": {
      "tags": []
     },
     "output_type": "display_data"
    }
   ],
   "source": [
    "fig = plt.gcf()\n",
    "fig.set_size_inches(10,10)\n",
    "rest = df['rest_type'].value_counts()[:20]\n",
    "sns.barplot(rest, rest.index)\n",
    "plt.title(\"Restuarant types\")\n",
    "plt.xlabel('Count')"
   ]
  },
  {
   "cell_type": "markdown",
   "metadata": {
    "id": "6MtOxdxrT4IA"
   },
   "source": [
    "# Most famous Restaurants"
   ]
  },
  {
   "cell_type": "code",
   "execution_count": 91,
   "metadata": {
    "colab": {
     "base_uri": "https://localhost:8080/",
     "height": 353
    },
    "id": "PW0OkhSxTyfT",
    "outputId": "e00e8e96-cd96-46de-fad5-3e5f90085f0e"
   },
   "outputs": [
    {
     "data": {
      "text/plain": [
       "Text(0.5, 0, 'Number of outlets')"
      ]
     },
     "execution_count": 91,
     "metadata": {
      "tags": []
     },
     "output_type": "execute_result"
    },
    {
     "data": {
      "image/png": "[encoded data removed]",
      "text/plain": [
       "<Figure size 1080x504 with 1 Axes>"
      ]
     },
     "metadata": {
      "tags": []
     },
     "output_type": "display_data"
    }
   ],
   "source": [
    "plt.figure(figsize=(15, 7))\n",
    "chains = df['name'].value_counts()[:20]\n",
    "sns.barplot(x = chains, y=chains.index, palette='Set1')\n",
    "plt.title(\"Most famous restaurant chains in bangaluru\", size=20 , pad=20)\n",
    "plt.xlabel(\"Number of outlets\", size=15)"
   ]
  },
  {
   "cell_type": "code",
   "execution_count": 92,
   "metadata": {
    "colab": {
     "base_uri": "https://localhost:8080/",
     "height": 581
    },
    "id": "79gLpasPT6vQ",
    "outputId": "574c66a6-3669-4c54-a154-e4df02bc2c1f"
   },
   "outputs": [
    {
     "data": {
      "text/html": [
       "<div>\n",
       "<style scoped>\n",
       "    .dataframe tbody tr th:only-of-type {\n",
       "        vertical-align: middle;\n",
       "    }\n",
       "\n",
       "    .dataframe tbody tr th {\n",
       "        vertical-align: top;\n",
       "    }\n",
       "\n",
       "    .dataframe thead th {\n",
       "        text-align: right;\n",
       "    }\n",
       "</style>\n",
       "<table border=\"1\" class=\"dataframe\">\n",
       "  <thead>\n",
       "    <tr style=\"text-align: right;\">\n",
       "      <th></th>\n",
       "      <th>address</th>\n",
       "      <th>name</th>\n",
       "      <th>online_order</th>\n",
       "      <th>book_table</th>\n",
       "      <th>rate</th>\n",
       "      <th>votes</th>\n",
       "      <th>location</th>\n",
       "      <th>rest_type</th>\n",
       "      <th>dish_liked</th>\n",
       "      <th>cuisines</th>\n",
       "      <th>cost</th>\n",
       "      <th>reviews_list</th>\n",
       "      <th>menu_item</th>\n",
       "      <th>type</th>\n",
       "      <th>city</th>\n",
       "    </tr>\n",
       "  </thead>\n",
       "  <tbody>\n",
       "    <tr>\n",
       "      <th>0</th>\n",
       "      <td>942, 21st Main Road, 2nd Stage, Banashankari, ...</td>\n",
       "      <td>Jalsa</td>\n",
       "      <td>Yes</td>\n",
       "      <td>Yes</td>\n",
       "      <td>4.1</td>\n",
       "      <td>775</td>\n",
       "      <td>Banashankari</td>\n",
       "      <td>Casual Dining</td>\n",
       "      <td>Pasta, Lunch Buffet, Masala Papad, Paneer Laja...</td>\n",
       "      <td>North Indian, Mughlai, Chinese</td>\n",
       "      <td>800.0</td>\n",
       "      <td>[('Rated 4.0', 'RATED\\n  A beautiful place to ...</td>\n",
       "      <td>[]</td>\n",
       "      <td>Buffet</td>\n",
       "      <td>Banashankari</td>\n",
       "    </tr>\n",
       "    <tr>\n",
       "      <th>1</th>\n",
       "      <td>2nd Floor, 80 Feet Road, Near Big Bazaar, 6th ...</td>\n",
       "      <td>Spice Elephant</td>\n",
       "      <td>Yes</td>\n",
       "      <td>No</td>\n",
       "      <td>4.1</td>\n",
       "      <td>787</td>\n",
       "      <td>Banashankari</td>\n",
       "      <td>Casual Dining</td>\n",
       "      <td>Momos, Lunch Buffet, Chocolate Nirvana, Thai G...</td>\n",
       "      <td>Chinese, North Indian, Thai</td>\n",
       "      <td>800.0</td>\n",
       "      <td>[('Rated 4.0', 'RATED\\n  Had been here for din...</td>\n",
       "      <td>[]</td>\n",
       "      <td>Buffet</td>\n",
       "      <td>Banashankari</td>\n",
       "    </tr>\n",
       "    <tr>\n",
       "      <th>2</th>\n",
       "      <td>1112, Next to KIMS Medical College, 17th Cross...</td>\n",
       "      <td>San Churro Cafe</td>\n",
       "      <td>Yes</td>\n",
       "      <td>No</td>\n",
       "      <td>3.8</td>\n",
       "      <td>918</td>\n",
       "      <td>Banashankari</td>\n",
       "      <td>Cafe, Casual Dining</td>\n",
       "      <td>Churros, Cannelloni, Minestrone Soup, Hot Choc...</td>\n",
       "      <td>Cafe, Mexican, Italian</td>\n",
       "      <td>800.0</td>\n",
       "      <td>[('Rated 3.0', \"RATED\\n  Ambience is not that ...</td>\n",
       "      <td>[]</td>\n",
       "      <td>Buffet</td>\n",
       "      <td>Banashankari</td>\n",
       "    </tr>\n",
       "    <tr>\n",
       "      <th>3</th>\n",
       "      <td>1st Floor, Annakuteera, 3rd Stage, Banashankar...</td>\n",
       "      <td>Addhuri Udupi Bhojana</td>\n",
       "      <td>No</td>\n",
       "      <td>No</td>\n",
       "      <td>3.7</td>\n",
       "      <td>88</td>\n",
       "      <td>Banashankari</td>\n",
       "      <td>Quick Bites</td>\n",
       "      <td>Masala Dosa</td>\n",
       "      <td>South Indian, North Indian</td>\n",
       "      <td>300.0</td>\n",
       "      <td>[('Rated 4.0', \"RATED\\n  Great food and proper...</td>\n",
       "      <td>[]</td>\n",
       "      <td>Buffet</td>\n",
       "      <td>Banashankari</td>\n",
       "    </tr>\n",
       "    <tr>\n",
       "      <th>4</th>\n",
       "      <td>10, 3rd Floor, Lakshmi Associates, Gandhi Baza...</td>\n",
       "      <td>Grand Village</td>\n",
       "      <td>No</td>\n",
       "      <td>No</td>\n",
       "      <td>3.8</td>\n",
       "      <td>166</td>\n",
       "      <td>Basavanagudi</td>\n",
       "      <td>Casual Dining</td>\n",
       "      <td>Panipuri, Gol Gappe</td>\n",
       "      <td>North Indian, Rajasthani</td>\n",
       "      <td>600.0</td>\n",
       "      <td>[('Rated 4.0', 'RATED\\n  Very good restaurant ...</td>\n",
       "      <td>[]</td>\n",
       "      <td>Buffet</td>\n",
       "      <td>Banashankari</td>\n",
       "    </tr>\n",
       "  </tbody>\n",
       "</table>\n",
       "</div>"
      ],
      "text/plain": [
       "                                             address  ...          city\n",
       "0  942, 21st Main Road, 2nd Stage, Banashankari, ...  ...  Banashankari\n",
       "1  2nd Floor, 80 Feet Road, Near Big Bazaar, 6th ...  ...  Banashankari\n",
       "2  1112, Next to KIMS Medical College, 17th Cross...  ...  Banashankari\n",
       "3  1st Floor, Annakuteera, 3rd Stage, Banashankar...  ...  Banashankari\n",
       "4  10, 3rd Floor, Lakshmi Associates, Gandhi Baza...  ...  Banashankari\n",
       "\n",
       "[5 rows x 15 columns]"
      ]
     },
     "execution_count": 92,
     "metadata": {
      "tags": []
     },
     "output_type": "execute_result"
    }
   ],
   "source": [
    "df.head()"
   ]
  },
  {
   "cell_type": "markdown",
   "metadata": {
    "id": "5KhIqZexT-zy"
   },
   "source": [
    "# Convert the online categorical variables into a numeric format"
   ]
  },
  {
   "cell_type": "code",
   "execution_count": 93,
   "metadata": {
    "id": "R9Lus7EET8_T"
   },
   "outputs": [],
   "source": [
    "df.online_order[df['online_order']== 'Yes'] = 1\n",
    "df.online_order[df['online_order']== 'No'] = 0"
   ]
  },
  {
   "cell_type": "code",
   "execution_count": 94,
   "metadata": {
    "colab": {
     "base_uri": "https://localhost:8080/"
    },
    "id": "73pCR1OjUCwS",
    "outputId": "4acbd233-18c4-4b50-a634-6d307f86afce"
   },
   "outputs": [
    {
     "data": {
      "text/plain": [
       "1    16378\n",
       "0     6870\n",
       "Name: online_order, dtype: int64"
      ]
     },
     "execution_count": 94,
     "metadata": {
      "tags": []
     },
     "output_type": "execute_result"
    }
   ],
   "source": [
    "df.online_order.value_counts()"
   ]
  },
  {
   "cell_type": "code",
   "execution_count": 95,
   "metadata": {
    "id": "1wXjzcqaUHlT"
   },
   "outputs": [],
   "source": [
    "df.online_order = pd.to_numeric(df.online_order)"
   ]
  },
  {
   "cell_type": "markdown",
   "metadata": {
    "id": "J7J85OIAULKM"
   },
   "source": [
    "# change the string categorical into to a categorical integer"
   ]
  },
  {
   "cell_type": "code",
   "execution_count": 96,
   "metadata": {
    "id": "PFDKF4JAUIzH"
   },
   "outputs": [],
   "source": [
    "df.book_table[df.book_table=='Yes'] = 1\n",
    "df.book_table[df.book_table=='No'] = 0"
   ]
  },
  {
   "cell_type": "code",
   "execution_count": 97,
   "metadata": {
    "id": "QdwTCj4SUZ4v"
   },
   "outputs": [],
   "source": [
    "df.book_table = pd.to_numeric(df.book_table)"
   ]
  },
  {
   "cell_type": "code",
   "execution_count": 98,
   "metadata": {
    "colab": {
     "base_uri": "https://localhost:8080/"
    },
    "id": "3NqyPduhUbWp",
    "outputId": "792fc5b7-7408-420e-f30b-233807972831"
   },
   "outputs": [
    {
     "data": {
      "text/plain": [
       "0    17191\n",
       "1     6057\n",
       "Name: book_table, dtype: int64"
      ]
     },
     "execution_count": 98,
     "metadata": {
      "tags": []
     },
     "output_type": "execute_result"
    }
   ],
   "source": [
    "df.book_table.value_counts()"
   ]
  },
  {
   "cell_type": "markdown",
   "metadata": {
    "id": "ytns6xKxUi05"
   },
   "source": [
    "# Label encode the categorical variables to make it easier to build algorithm"
   ]
  },
  {
   "cell_type": "code",
   "execution_count": 99,
   "metadata": {
    "id": "rHu0UENPUc3D"
   },
   "outputs": [],
   "source": [
    "from sklearn.preprocessing import LabelEncoder\n",
    "le = LabelEncoder()"
   ]
  },
  {
   "cell_type": "code",
   "execution_count": 100,
   "metadata": {
    "id": "mjE6iEWmUpTp"
   },
   "outputs": [],
   "source": [
    "df.location = le.fit_transform(df.location)\n",
    "df.rest_type = le.fit_transform(df.rest_type)\n",
    "df.cuisines = le.fit_transform(df.cuisines)\n",
    "df.menu_item = le.fit_transform(df.menu_item)"
   ]
  },
  {
   "cell_type": "code",
   "execution_count": 101,
   "metadata": {
    "colab": {
     "base_uri": "https://localhost:8080/",
     "height": 581
    },
    "id": "8R5LFiDfU2a0",
    "outputId": "f7936d7a-aa20-4caf-fefc-e965b1c2da02"
   },
   "outputs": [
    {
     "data": {
      "text/html": [
       "<div>\n",
       "<style scoped>\n",
       "    .dataframe tbody tr th:only-of-type {\n",
       "        vertical-align: middle;\n",
       "    }\n",
       "\n",
       "    .dataframe tbody tr th {\n",
       "        vertical-align: top;\n",
       "    }\n",
       "\n",
       "    .dataframe thead th {\n",
       "        text-align: right;\n",
       "    }\n",
       "</style>\n",
       "<table border=\"1\" class=\"dataframe\">\n",
       "  <thead>\n",
       "    <tr style=\"text-align: right;\">\n",
       "      <th></th>\n",
       "      <th>address</th>\n",
       "      <th>name</th>\n",
       "      <th>online_order</th>\n",
       "      <th>book_table</th>\n",
       "      <th>rate</th>\n",
       "      <th>votes</th>\n",
       "      <th>location</th>\n",
       "      <th>rest_type</th>\n",
       "      <th>dish_liked</th>\n",
       "      <th>cuisines</th>\n",
       "      <th>cost</th>\n",
       "      <th>reviews_list</th>\n",
       "      <th>menu_item</th>\n",
       "      <th>type</th>\n",
       "      <th>city</th>\n",
       "    </tr>\n",
       "  </thead>\n",
       "  <tbody>\n",
       "    <tr>\n",
       "      <th>0</th>\n",
       "      <td>942, 21st Main Road, 2nd Stage, Banashankari, ...</td>\n",
       "      <td>Jalsa</td>\n",
       "      <td>1</td>\n",
       "      <td>1</td>\n",
       "      <td>4.1</td>\n",
       "      <td>775</td>\n",
       "      <td>1</td>\n",
       "      <td>20</td>\n",
       "      <td>Pasta, Lunch Buffet, Masala Papad, Paneer Laja...</td>\n",
       "      <td>1386</td>\n",
       "      <td>800.0</td>\n",
       "      <td>[('Rated 4.0', 'RATED\\n  A beautiful place to ...</td>\n",
       "      <td>5047</td>\n",
       "      <td>Buffet</td>\n",
       "      <td>Banashankari</td>\n",
       "    </tr>\n",
       "    <tr>\n",
       "      <th>1</th>\n",
       "      <td>2nd Floor, 80 Feet Road, Near Big Bazaar, 6th ...</td>\n",
       "      <td>Spice Elephant</td>\n",
       "      <td>1</td>\n",
       "      <td>0</td>\n",
       "      <td>4.1</td>\n",
       "      <td>787</td>\n",
       "      <td>1</td>\n",
       "      <td>20</td>\n",
       "      <td>Momos, Lunch Buffet, Chocolate Nirvana, Thai G...</td>\n",
       "      <td>594</td>\n",
       "      <td>800.0</td>\n",
       "      <td>[('Rated 4.0', 'RATED\\n  Had been here for din...</td>\n",
       "      <td>5047</td>\n",
       "      <td>Buffet</td>\n",
       "      <td>Banashankari</td>\n",
       "    </tr>\n",
       "    <tr>\n",
       "      <th>2</th>\n",
       "      <td>1112, Next to KIMS Medical College, 17th Cross...</td>\n",
       "      <td>San Churro Cafe</td>\n",
       "      <td>1</td>\n",
       "      <td>0</td>\n",
       "      <td>3.8</td>\n",
       "      <td>918</td>\n",
       "      <td>1</td>\n",
       "      <td>16</td>\n",
       "      <td>Churros, Cannelloni, Minestrone Soup, Hot Choc...</td>\n",
       "      <td>484</td>\n",
       "      <td>800.0</td>\n",
       "      <td>[('Rated 3.0', \"RATED\\n  Ambience is not that ...</td>\n",
       "      <td>5047</td>\n",
       "      <td>Buffet</td>\n",
       "      <td>Banashankari</td>\n",
       "    </tr>\n",
       "    <tr>\n",
       "      <th>3</th>\n",
       "      <td>1st Floor, Annakuteera, 3rd Stage, Banashankar...</td>\n",
       "      <td>Addhuri Udupi Bhojana</td>\n",
       "      <td>0</td>\n",
       "      <td>0</td>\n",
       "      <td>3.7</td>\n",
       "      <td>88</td>\n",
       "      <td>1</td>\n",
       "      <td>62</td>\n",
       "      <td>Masala Dosa</td>\n",
       "      <td>1587</td>\n",
       "      <td>300.0</td>\n",
       "      <td>[('Rated 4.0', \"RATED\\n  Great food and proper...</td>\n",
       "      <td>5047</td>\n",
       "      <td>Buffet</td>\n",
       "      <td>Banashankari</td>\n",
       "    </tr>\n",
       "    <tr>\n",
       "      <th>4</th>\n",
       "      <td>10, 3rd Floor, Lakshmi Associates, Gandhi Baza...</td>\n",
       "      <td>Grand Village</td>\n",
       "      <td>0</td>\n",
       "      <td>0</td>\n",
       "      <td>3.8</td>\n",
       "      <td>166</td>\n",
       "      <td>4</td>\n",
       "      <td>20</td>\n",
       "      <td>Panipuri, Gol Gappe</td>\n",
       "      <td>1406</td>\n",
       "      <td>600.0</td>\n",
       "      <td>[('Rated 4.0', 'RATED\\n  Very good restaurant ...</td>\n",
       "      <td>5047</td>\n",
       "      <td>Buffet</td>\n",
       "      <td>Banashankari</td>\n",
       "    </tr>\n",
       "  </tbody>\n",
       "</table>\n",
       "</div>"
      ],
      "text/plain": [
       "                                             address  ...          city\n",
       "0  942, 21st Main Road, 2nd Stage, Banashankari, ...  ...  Banashankari\n",
       "1  2nd Floor, 80 Feet Road, Near Big Bazaar, 6th ...  ...  Banashankari\n",
       "2  1112, Next to KIMS Medical College, 17th Cross...  ...  Banashankari\n",
       "3  1st Floor, Annakuteera, 3rd Stage, Banashankar...  ...  Banashankari\n",
       "4  10, 3rd Floor, Lakshmi Associates, Gandhi Baza...  ...  Banashankari\n",
       "\n",
       "[5 rows x 15 columns]"
      ]
     },
     "execution_count": 101,
     "metadata": {
      "tags": []
     },
     "output_type": "execute_result"
    }
   ],
   "source": [
    "df.head()"
   ]
  },
  {
   "cell_type": "code",
   "execution_count": 102,
   "metadata": {
    "id": "4YOei6eZU3qg"
   },
   "outputs": [],
   "source": [
    "data = df.iloc[:, [2,3,4,5,6,7,9,10,12]]"
   ]
  },
  {
   "cell_type": "code",
   "execution_count": 103,
   "metadata": {
    "colab": {
     "base_uri": "https://localhost:8080/",
     "height": 204
    },
    "id": "I4dxYIBdU93g",
    "outputId": "6153bb84-e8e6-456c-ee0a-eba822d709e8"
   },
   "outputs": [
    {
     "data": {
      "text/html": [
       "<div>\n",
       "<style scoped>\n",
       "    .dataframe tbody tr th:only-of-type {\n",
       "        vertical-align: middle;\n",
       "    }\n",
       "\n",
       "    .dataframe tbody tr th {\n",
       "        vertical-align: top;\n",
       "    }\n",
       "\n",
       "    .dataframe thead th {\n",
       "        text-align: right;\n",
       "    }\n",
       "</style>\n",
       "<table border=\"1\" class=\"dataframe\">\n",
       "  <thead>\n",
       "    <tr style=\"text-align: right;\">\n",
       "      <th></th>\n",
       "      <th>online_order</th>\n",
       "      <th>book_table</th>\n",
       "      <th>rate</th>\n",
       "      <th>votes</th>\n",
       "      <th>location</th>\n",
       "      <th>rest_type</th>\n",
       "      <th>cuisines</th>\n",
       "      <th>cost</th>\n",
       "      <th>menu_item</th>\n",
       "    </tr>\n",
       "  </thead>\n",
       "  <tbody>\n",
       "    <tr>\n",
       "      <th>0</th>\n",
       "      <td>1</td>\n",
       "      <td>1</td>\n",
       "      <td>4.1</td>\n",
       "      <td>775</td>\n",
       "      <td>1</td>\n",
       "      <td>20</td>\n",
       "      <td>1386</td>\n",
       "      <td>800.0</td>\n",
       "      <td>5047</td>\n",
       "    </tr>\n",
       "    <tr>\n",
       "      <th>1</th>\n",
       "      <td>1</td>\n",
       "      <td>0</td>\n",
       "      <td>4.1</td>\n",
       "      <td>787</td>\n",
       "      <td>1</td>\n",
       "      <td>20</td>\n",
       "      <td>594</td>\n",
       "      <td>800.0</td>\n",
       "      <td>5047</td>\n",
       "    </tr>\n",
       "    <tr>\n",
       "      <th>2</th>\n",
       "      <td>1</td>\n",
       "      <td>0</td>\n",
       "      <td>3.8</td>\n",
       "      <td>918</td>\n",
       "      <td>1</td>\n",
       "      <td>16</td>\n",
       "      <td>484</td>\n",
       "      <td>800.0</td>\n",
       "      <td>5047</td>\n",
       "    </tr>\n",
       "    <tr>\n",
       "      <th>3</th>\n",
       "      <td>0</td>\n",
       "      <td>0</td>\n",
       "      <td>3.7</td>\n",
       "      <td>88</td>\n",
       "      <td>1</td>\n",
       "      <td>62</td>\n",
       "      <td>1587</td>\n",
       "      <td>300.0</td>\n",
       "      <td>5047</td>\n",
       "    </tr>\n",
       "    <tr>\n",
       "      <th>4</th>\n",
       "      <td>0</td>\n",
       "      <td>0</td>\n",
       "      <td>3.8</td>\n",
       "      <td>166</td>\n",
       "      <td>4</td>\n",
       "      <td>20</td>\n",
       "      <td>1406</td>\n",
       "      <td>600.0</td>\n",
       "      <td>5047</td>\n",
       "    </tr>\n",
       "  </tbody>\n",
       "</table>\n",
       "</div>"
      ],
      "text/plain": [
       "   online_order  book_table  rate  votes  ...  rest_type  cuisines   cost  menu_item\n",
       "0             1           1   4.1    775  ...         20      1386  800.0       5047\n",
       "1             1           0   4.1    787  ...         20       594  800.0       5047\n",
       "2             1           0   3.8    918  ...         16       484  800.0       5047\n",
       "3             0           0   3.7     88  ...         62      1587  300.0       5047\n",
       "4             0           0   3.8    166  ...         20      1406  600.0       5047\n",
       "\n",
       "[5 rows x 9 columns]"
      ]
     },
     "execution_count": 103,
     "metadata": {
      "tags": []
     },
     "output_type": "execute_result"
    }
   ],
   "source": [
    "x = df.iloc[:, [2,3,4,5,6,7,9,10,12]]\n",
    "x.head()"
   ]
  },
  {
   "cell_type": "code",
   "execution_count": 104,
   "metadata": {
    "colab": {
     "base_uri": "https://localhost:8080/"
    },
    "id": "ESP27N_9U_K0",
    "outputId": "eda58242-a917-4aa3-8806-cac5dd94f21d"
   },
   "outputs": [
    {
     "data": {
      "text/plain": [
       "0        4.1\n",
       "1        4.1\n",
       "2        3.8\n",
       "3        3.7\n",
       "4        3.8\n",
       "        ... \n",
       "23243    3.8\n",
       "23244    3.9\n",
       "23245    2.8\n",
       "23246    2.5\n",
       "23247    4.3\n",
       "Name: rate, Length: 23248, dtype: float64"
      ]
     },
     "execution_count": 104,
     "metadata": {
      "tags": []
     },
     "output_type": "execute_result"
    }
   ],
   "source": [
    "y = df['rate']\n",
    "y"
   ]
  },
  {
   "cell_type": "code",
   "execution_count": 105,
   "metadata": {
    "id": "oXztiqXjVIsw"
   },
   "outputs": [],
   "source": [
    "from sklearn.model_selection import train_test_split"
   ]
  },
  {
   "cell_type": "code",
   "execution_count": 106,
   "metadata": {
    "id": "ZA50DzdfVKur"
   },
   "outputs": [],
   "source": [
    "x_train , x_test, y_train, y_test = train_test_split(x, y, test_size=0.3,\n",
    "                                    random_state=10)"
   ]
  },
  {
   "cell_type": "code",
   "execution_count": 107,
   "metadata": {
    "colab": {
     "base_uri": "https://localhost:8080/"
    },
    "id": "r1ZTjAqiVMz3",
    "outputId": "7df97379-5bc5-4a47-a19e-35cadfc7a423"
   },
   "outputs": [
    {
     "data": {
      "text/plain": [
       "LinearRegression(copy_X=True, fit_intercept=True, n_jobs=None, normalize=False)"
      ]
     },
     "execution_count": 107,
     "metadata": {
      "tags": []
     },
     "output_type": "execute_result"
    }
   ],
   "source": [
    "from sklearn.linear_model import LinearRegression\n",
    "lr_model = LinearRegression()\n",
    "lr_model.fit(x_train, y_train)"
   ]
  },
  {
   "cell_type": "code",
   "execution_count": 108,
   "metadata": {
    "colab": {
     "base_uri": "https://localhost:8080/"
    },
    "id": "_UgmncYfVOae",
    "outputId": "7f4e86f3-9586-43cd-d98c-479bd21c29bc"
   },
   "outputs": [
    {
     "data": {
      "text/plain": [
       "1.0"
      ]
     },
     "execution_count": 108,
     "metadata": {
      "tags": []
     },
     "output_type": "execute_result"
    }
   ],
   "source": [
    "from sklearn.metrics import r2_score\n",
    "y_pred = lr_model.predict(x_test)\n",
    "r2_score(y_test, y_pred)"
   ]
  },
  {
   "cell_type": "code",
   "execution_count": 115,
   "metadata": {
    "id": "Qn3xQBcuWhkV"
   },
   "outputs": [],
   "source": [
    "#preparing a decision Tree Regression\n",
    "from sklearn.tree import DecisionTreeRegressor\n",
    "\n",
    "DTree = DecisionTreeRegressor(min_samples_leaf=.0001)\n",
    "DTree.fit(x_train , y_train )\n",
    "y_predict = DTree.predict(x_test)"
   ]
  },
  {
   "cell_type": "code",
   "execution_count": 116,
   "metadata": {
    "colab": {
     "base_uri": "https://localhost:8080/"
    },
    "id": "VwQdiTH9Whmz",
    "outputId": "e669d8f6-990e-40e8-bf33-e9d23138f220"
   },
   "outputs": [
    {
     "data": {
      "text/plain": [
       "1.0"
      ]
     },
     "execution_count": 116,
     "metadata": {
      "tags": []
     },
     "output_type": "execute_result"
    }
   ],
   "source": [
    "from sklearn.metrics import r2_score\n",
    "r2_score(y_test, y_predict)"
   ]
  },
  {
   "cell_type": "code",
   "execution_count": 109,
   "metadata": {
    "colab": {
     "base_uri": "https://localhost:8080/"
    },
    "id": "D-MM3AtnVQh-",
    "outputId": "aa8d99d0-b3ae-48a4-8b6e-50455dd9d45a"
   },
   "outputs": [
    {
     "data": {
      "text/plain": [
       "0.9999999312833667"
      ]
     },
     "execution_count": 109,
     "metadata": {
      "tags": []
     },
     "output_type": "execute_result"
    }
   ],
   "source": [
    "from sklearn.ensemble import RandomForestRegressor\n",
    "rf_model = RandomForestRegressor(n_estimators=650, \n",
    "                                random_state=245, \n",
    "                                min_samples_leaf=.0001)\n",
    "rf_model.fit(x_train, y_train)\n",
    "y_predict = rf_model.predict(x_test)\n",
    "r2_score(y_test, y_predict)"
   ]
  },
  {
   "cell_type": "code",
   "execution_count": 111,
   "metadata": {
    "id": "_Jk76_-jVSsI"
   },
   "outputs": [],
   "source": [
    "#Preparing Extra Tree Regression\n",
    "from sklearn.ensemble import  ExtraTreesRegressor\n",
    "extra_tree_reg=ExtraTreesRegressor(n_estimators = 120)\n",
    "extra_tree_reg.fit(x_train,y_train)\n",
    "y_predict=extra_tree_reg.predict(x_test)"
   ]
  },
  {
   "cell_type": "code",
   "execution_count": 113,
   "metadata": {
    "colab": {
     "base_uri": "https://localhost:8080/"
    },
    "id": "U0homG2GVwD3",
    "outputId": "4539e40a-80b3-4457-cb45-eb1863b67f00"
   },
   "outputs": [
    {
     "data": {
      "text/plain": [
       "0.9999997877708058"
      ]
     },
     "execution_count": 113,
     "metadata": {
      "tags": []
     },
     "output_type": "execute_result"
    }
   ],
   "source": [
    "from sklearn.metrics import r2_score\n",
    "r2_score(y_test, y_predict)"
   ]
  },
  {
   "cell_type": "code",
   "execution_count": 121,
   "metadata": {
    "colab": {
     "base_uri": "https://localhost:8080/"
    },
    "id": "96hOl6ZgZKTk",
    "outputId": "b6f451fc-6be7-4cef-830a-d5f5b45675a4"
   },
   "outputs": [
    {
     "name": "stdout",
     "output_type": "stream",
     "text": [
      "Collecting catboost\n",
      "\u001b[?25l  Downloading https://files.pythonhosted.org/packages/1e/21/d1718eb4c93d6bacdd540b3792187f32ccb1ad9c51b9c4f10875d63ec176/catboost-0.25-cp37-none-manylinux1_x86_64.whl (67.3MB)\n",
      "\u001b[K     |████████████████████████████████| 67.3MB 79kB/s \n",
      "\u001b[?25hRequirement already satisfied: scipy in /usr/local/lib/python3.7/dist-packages (from catboost) (1.4.1)\n",
      "Requirement already satisfied: pandas>=0.24.0 in /usr/local/lib/python3.7/dist-packages (from catboost) (1.1.5)\n",
      "Requirement already satisfied: six in /usr/local/lib/python3.7/dist-packages (from catboost) (1.15.0)\n",
      "Requirement already satisfied: plotly in /usr/local/lib/python3.7/dist-packages (from catboost) (4.4.1)\n",
      "Requirement already satisfied: numpy>=1.16.0 in /usr/local/lib/python3.7/dist-packages (from catboost) (1.19.5)\n",
      "Requirement already satisfied: matplotlib in /usr/local/lib/python3.7/dist-packages (from catboost) (3.2.2)\n",
      "Requirement already satisfied: graphviz in /usr/local/lib/python3.7/dist-packages (from catboost) (0.10.1)\n",
      "Requirement already satisfied: pytz>=2017.2 in /usr/local/lib/python3.7/dist-packages (from pandas>=0.24.0->catboost) (2018.9)\n",
      "Requirement already satisfied: python-dateutil>=2.7.3 in /usr/local/lib/python3.7/dist-packages (from pandas>=0.24.0->catboost) (2.8.1)\n",
      "Requirement already satisfied: retrying>=1.3.3 in /usr/local/lib/python3.7/dist-packages (from plotly->catboost) (1.3.3)\n",
      "Requirement already satisfied: cycler>=0.10 in /usr/local/lib/python3.7/dist-packages (from matplotlib->catboost) (0.10.0)\n",
      "Requirement already satisfied: pyparsing!=2.0.4,!=2.1.2,!=2.1.6,>=2.0.1 in /usr/local/lib/python3.7/dist-packages (from matplotlib->catboost) (2.4.7)\n",
      "Requirement already satisfied: kiwisolver>=1.0.1 in /usr/local/lib/python3.7/dist-packages (from matplotlib->catboost) (1.3.1)\n",
      "Installing collected packages: catboost\n",
      "Successfully installed catboost-0.25\n",
      "Requirement already satisfied: ipywidgets in /usr/local/lib/python3.7/dist-packages (7.6.3)\n",
      "Requirement already satisfied: jupyterlab-widgets>=1.0.0; python_version >= \"3.6\" in /usr/local/lib/python3.7/dist-packages (from ipywidgets) (1.0.0)\n",
      "Requirement already satisfied: ipython>=4.0.0; python_version >= \"3.3\" in /usr/local/lib/python3.7/dist-packages (from ipywidgets) (5.5.0)\n",
      "Requirement already satisfied: widgetsnbextension~=3.5.0 in /usr/local/lib/python3.7/dist-packages (from ipywidgets) (3.5.1)\n",
      "Requirement already satisfied: nbformat>=4.2.0 in /usr/local/lib/python3.7/dist-packages (from ipywidgets) (5.1.2)\n",
      "Requirement already satisfied: traitlets>=4.3.1 in /usr/local/lib/python3.7/dist-packages (from ipywidgets) (5.0.5)\n",
      "Requirement already satisfied: ipykernel>=4.5.1 in /usr/local/lib/python3.7/dist-packages (from ipywidgets) (4.10.1)\n",
      "Requirement already satisfied: pickleshare in /usr/local/lib/python3.7/dist-packages (from ipython>=4.0.0; python_version >= \"3.3\"->ipywidgets) (0.7.5)\n",
      "Requirement already satisfied: pygments in /usr/local/lib/python3.7/dist-packages (from ipython>=4.0.0; python_version >= \"3.3\"->ipywidgets) (2.6.1)\n",
      "Requirement already satisfied: setuptools>=18.5 in /usr/local/lib/python3.7/dist-packages (from ipython>=4.0.0; python_version >= \"3.3\"->ipywidgets) (54.2.0)\n",
      "Requirement already satisfied: prompt-toolkit<2.0.0,>=1.0.4 in /usr/local/lib/python3.7/dist-packages (from ipython>=4.0.0; python_version >= \"3.3\"->ipywidgets) (1.0.18)\n",
      "Requirement already satisfied: decorator in /usr/local/lib/python3.7/dist-packages (from ipython>=4.0.0; python_version >= \"3.3\"->ipywidgets) (4.4.2)\n",
      "Requirement already satisfied: simplegeneric>0.8 in /usr/local/lib/python3.7/dist-packages (from ipython>=4.0.0; python_version >= \"3.3\"->ipywidgets) (0.8.1)\n",
      "Requirement already satisfied: pexpect; sys_platform != \"win32\" in /usr/local/lib/python3.7/dist-packages (from ipython>=4.0.0; python_version >= \"3.3\"->ipywidgets) (4.8.0)\n",
      "Requirement already satisfied: notebook>=4.4.1 in /usr/local/lib/python3.7/dist-packages (from widgetsnbextension~=3.5.0->ipywidgets) (5.3.1)\n",
      "Requirement already satisfied: ipython-genutils in /usr/local/lib/python3.7/dist-packages (from nbformat>=4.2.0->ipywidgets) (0.2.0)\n",
      "Requirement already satisfied: jupyter-core in /usr/local/lib/python3.7/dist-packages (from nbformat>=4.2.0->ipywidgets) (4.7.1)\n",
      "Requirement already satisfied: jsonschema!=2.5.0,>=2.4 in /usr/local/lib/python3.7/dist-packages (from nbformat>=4.2.0->ipywidgets) (2.6.0)\n",
      "Requirement already satisfied: jupyter-client in /usr/local/lib/python3.7/dist-packages (from ipykernel>=4.5.1->ipywidgets) (5.3.5)\n",
      "Requirement already satisfied: tornado>=4.0 in /usr/local/lib/python3.7/dist-packages (from ipykernel>=4.5.1->ipywidgets) (5.1.1)\n",
      "Requirement already satisfied: six>=1.9.0 in /usr/local/lib/python3.7/dist-packages (from prompt-toolkit<2.0.0,>=1.0.4->ipython>=4.0.0; python_version >= \"3.3\"->ipywidgets) (1.15.0)\n",
      "Requirement already satisfied: wcwidth in /usr/local/lib/python3.7/dist-packages (from prompt-toolkit<2.0.0,>=1.0.4->ipython>=4.0.0; python_version >= \"3.3\"->ipywidgets) (0.2.5)\n",
      "Requirement already satisfied: ptyprocess>=0.5 in /usr/local/lib/python3.7/dist-packages (from pexpect; sys_platform != \"win32\"->ipython>=4.0.0; python_version >= \"3.3\"->ipywidgets) (0.7.0)\n",
      "Requirement already satisfied: nbconvert in /usr/local/lib/python3.7/dist-packages (from notebook>=4.4.1->widgetsnbextension~=3.5.0->ipywidgets) (5.6.1)\n",
      "Requirement already satisfied: jinja2 in /usr/local/lib/python3.7/dist-packages (from notebook>=4.4.1->widgetsnbextension~=3.5.0->ipywidgets) (2.11.3)\n",
      "Requirement already satisfied: Send2Trash in /usr/local/lib/python3.7/dist-packages (from notebook>=4.4.1->widgetsnbextension~=3.5.0->ipywidgets) (1.5.0)\n",
      "Requirement already satisfied: terminado>=0.8.1 in /usr/local/lib/python3.7/dist-packages (from notebook>=4.4.1->widgetsnbextension~=3.5.0->ipywidgets) (0.9.3)\n",
      "Requirement already satisfied: python-dateutil>=2.1 in /usr/local/lib/python3.7/dist-packages (from jupyter-client->ipykernel>=4.5.1->ipywidgets) (2.8.1)\n",
      "Requirement already satisfied: pyzmq>=13 in /usr/local/lib/python3.7/dist-packages (from jupyter-client->ipykernel>=4.5.1->ipywidgets) (22.0.3)\n",
      "Requirement already satisfied: defusedxml in /usr/local/lib/python3.7/dist-packages (from nbconvert->notebook>=4.4.1->widgetsnbextension~=3.5.0->ipywidgets) (0.7.1)\n",
      "Requirement already satisfied: pandocfilters>=1.4.1 in /usr/local/lib/python3.7/dist-packages (from nbconvert->notebook>=4.4.1->widgetsnbextension~=3.5.0->ipywidgets) (1.4.3)\n",
      "Requirement already satisfied: testpath in /usr/local/lib/python3.7/dist-packages (from nbconvert->notebook>=4.4.1->widgetsnbextension~=3.5.0->ipywidgets) (0.4.4)\n",
      "Requirement already satisfied: bleach in /usr/local/lib/python3.7/dist-packages (from nbconvert->notebook>=4.4.1->widgetsnbextension~=3.5.0->ipywidgets) (3.3.0)\n",
      "Requirement already satisfied: entrypoints>=0.2.2 in /usr/local/lib/python3.7/dist-packages (from nbconvert->notebook>=4.4.1->widgetsnbextension~=3.5.0->ipywidgets) (0.3)\n",
      "Requirement already satisfied: mistune<2,>=0.8.1 in /usr/local/lib/python3.7/dist-packages (from nbconvert->notebook>=4.4.1->widgetsnbextension~=3.5.0->ipywidgets) (0.8.4)\n",
      "Requirement already satisfied: MarkupSafe>=0.23 in /usr/local/lib/python3.7/dist-packages (from jinja2->notebook>=4.4.1->widgetsnbextension~=3.5.0->ipywidgets) (1.1.1)\n",
      "Requirement already satisfied: packaging in /usr/local/lib/python3.7/dist-packages (from bleach->nbconvert->notebook>=4.4.1->widgetsnbextension~=3.5.0->ipywidgets) (20.9)\n",
      "Requirement already satisfied: webencodings in /usr/local/lib/python3.7/dist-packages (from bleach->nbconvert->notebook>=4.4.1->widgetsnbextension~=3.5.0->ipywidgets) (0.5.1)\n",
      "Requirement already satisfied: pyparsing>=2.0.2 in /usr/local/lib/python3.7/dist-packages (from packaging->bleach->nbconvert->notebook>=4.4.1->widgetsnbextension~=3.5.0->ipywidgets) (2.4.7)\n",
      "Enabling notebook extension jupyter-js-widgets/extension...\n",
      "      - Validating: \u001b[32mOK\u001b[0m\n"
     ]
    }
   ],
   "source": [
    "# Installing the CatBoost\n",
    "\n",
    "!pip install catboost\n",
    "!pip install ipywidgets\n",
    "!jupyter nbextension enable --py widgetsnbextension"
   ]
  },
  {
   "cell_type": "code",
   "execution_count": 122,
   "metadata": {
    "id": "2WeZztFMaTVW"
   },
   "outputs": [],
   "source": [
    "from catboost import CatBoostRegressor\n",
    "\n",
    "#building a catboost regressor model\n",
    "cbr_model  = CatBoostRegressor(n_estimators = 200, \n",
    "                               loss_function = 'MAE', \n",
    "                          eval_metric = 'RMSE')\n"
   ]
  },
  {
   "cell_type": "code",
   "execution_count": 123,
   "metadata": {
    "colab": {
     "base_uri": "https://localhost:8080/"
    },
    "id": "1Ky08NXhaoyd",
    "outputId": "c820b903-1e86-40c9-903b-5f6b632b3774"
   },
   "outputs": [
    {
     "name": "stdout",
     "output_type": "stream",
     "text": [
      "0:\tlearn: 0.4300623\ttotal: 54.9ms\tremaining: 10.9s\n",
      "1:\tlearn: 0.4245445\ttotal: 62ms\tremaining: 6.14s\n",
      "2:\tlearn: 0.4199805\ttotal: 69ms\tremaining: 4.53s\n",
      "3:\tlearn: 0.4150936\ttotal: 75.5ms\tremaining: 3.7s\n",
      "4:\tlearn: 0.4107102\ttotal: 83.7ms\tremaining: 3.26s\n",
      "5:\tlearn: 0.4064765\ttotal: 89.9ms\tremaining: 2.91s\n",
      "6:\tlearn: 0.4020184\ttotal: 96.1ms\tremaining: 2.65s\n",
      "7:\tlearn: 0.3976214\ttotal: 102ms\tremaining: 2.45s\n",
      "8:\tlearn: 0.3936339\ttotal: 108ms\tremaining: 2.3s\n",
      "9:\tlearn: 0.3843686\ttotal: 115ms\tremaining: 2.18s\n",
      "10:\tlearn: 0.3811008\ttotal: 121ms\tremaining: 2.08s\n",
      "11:\tlearn: 0.3778375\ttotal: 127ms\tremaining: 1.99s\n",
      "12:\tlearn: 0.3744841\ttotal: 133ms\tremaining: 1.91s\n",
      "13:\tlearn: 0.3713029\ttotal: 139ms\tremaining: 1.84s\n",
      "14:\tlearn: 0.3625598\ttotal: 145ms\tremaining: 1.79s\n",
      "15:\tlearn: 0.3598916\ttotal: 151ms\tremaining: 1.74s\n",
      "16:\tlearn: 0.3560478\ttotal: 157ms\tremaining: 1.69s\n",
      "17:\tlearn: 0.3522604\ttotal: 163ms\tremaining: 1.65s\n",
      "18:\tlearn: 0.3480733\ttotal: 168ms\tremaining: 1.6s\n",
      "19:\tlearn: 0.3429012\ttotal: 174ms\tremaining: 1.56s\n",
      "20:\tlearn: 0.3393994\ttotal: 179ms\tremaining: 1.53s\n",
      "21:\tlearn: 0.3356506\ttotal: 184ms\tremaining: 1.49s\n",
      "22:\tlearn: 0.3322683\ttotal: 190ms\tremaining: 1.46s\n",
      "23:\tlearn: 0.3288831\ttotal: 195ms\tremaining: 1.43s\n",
      "24:\tlearn: 0.3254819\ttotal: 201ms\tremaining: 1.4s\n",
      "25:\tlearn: 0.3226517\ttotal: 206ms\tremaining: 1.38s\n",
      "26:\tlearn: 0.3198949\ttotal: 211ms\tremaining: 1.35s\n",
      "27:\tlearn: 0.3168544\ttotal: 216ms\tremaining: 1.33s\n",
      "28:\tlearn: 0.3139280\ttotal: 223ms\tremaining: 1.32s\n",
      "29:\tlearn: 0.3110657\ttotal: 229ms\tremaining: 1.3s\n",
      "30:\tlearn: 0.3082836\ttotal: 236ms\tremaining: 1.29s\n",
      "31:\tlearn: 0.3056274\ttotal: 242ms\tremaining: 1.27s\n",
      "32:\tlearn: 0.3020059\ttotal: 248ms\tremaining: 1.25s\n",
      "33:\tlearn: 0.2986666\ttotal: 257ms\tremaining: 1.25s\n",
      "34:\tlearn: 0.2954450\ttotal: 262ms\tremaining: 1.24s\n",
      "35:\tlearn: 0.2920739\ttotal: 268ms\tremaining: 1.22s\n",
      "36:\tlearn: 0.2889908\ttotal: 273ms\tremaining: 1.2s\n",
      "37:\tlearn: 0.2859195\ttotal: 279ms\tremaining: 1.19s\n",
      "38:\tlearn: 0.2829320\ttotal: 284ms\tremaining: 1.17s\n",
      "39:\tlearn: 0.2800753\ttotal: 290ms\tremaining: 1.16s\n",
      "40:\tlearn: 0.2769845\ttotal: 296ms\tremaining: 1.15s\n",
      "41:\tlearn: 0.2742917\ttotal: 301ms\tremaining: 1.13s\n",
      "42:\tlearn: 0.2719709\ttotal: 306ms\tremaining: 1.12s\n",
      "43:\tlearn: 0.2694313\ttotal: 312ms\tremaining: 1.1s\n",
      "44:\tlearn: 0.2670712\ttotal: 317ms\tremaining: 1.09s\n",
      "45:\tlearn: 0.2626805\ttotal: 323ms\tremaining: 1.08s\n",
      "46:\tlearn: 0.2582104\ttotal: 328ms\tremaining: 1.07s\n",
      "47:\tlearn: 0.2539404\ttotal: 334ms\tremaining: 1.06s\n",
      "48:\tlearn: 0.2498420\ttotal: 339ms\tremaining: 1.04s\n",
      "49:\tlearn: 0.2458387\ttotal: 344ms\tremaining: 1.03s\n",
      "50:\tlearn: 0.2419847\ttotal: 349ms\tremaining: 1.02s\n",
      "51:\tlearn: 0.2383070\ttotal: 354ms\tremaining: 1.01s\n",
      "52:\tlearn: 0.2335095\ttotal: 359ms\tremaining: 997ms\n",
      "53:\tlearn: 0.2298774\ttotal: 365ms\tremaining: 986ms\n",
      "54:\tlearn: 0.2256481\ttotal: 370ms\tremaining: 976ms\n",
      "55:\tlearn: 0.2210879\ttotal: 376ms\tremaining: 966ms\n",
      "56:\tlearn: 0.2171842\ttotal: 381ms\tremaining: 955ms\n",
      "57:\tlearn: 0.2134668\ttotal: 386ms\tremaining: 945ms\n",
      "58:\tlearn: 0.2106731\ttotal: 391ms\tremaining: 935ms\n",
      "59:\tlearn: 0.2063727\ttotal: 397ms\tremaining: 926ms\n",
      "60:\tlearn: 0.2028403\ttotal: 402ms\tremaining: 916ms\n",
      "61:\tlearn: 0.1989299\ttotal: 407ms\tremaining: 906ms\n",
      "62:\tlearn: 0.1950976\ttotal: 412ms\tremaining: 896ms\n",
      "63:\tlearn: 0.1914804\ttotal: 418ms\tremaining: 887ms\n",
      "64:\tlearn: 0.1877558\ttotal: 423ms\tremaining: 878ms\n",
      "65:\tlearn: 0.1844359\ttotal: 428ms\tremaining: 870ms\n",
      "66:\tlearn: 0.1811354\ttotal: 434ms\tremaining: 862ms\n",
      "67:\tlearn: 0.1773764\ttotal: 440ms\tremaining: 854ms\n",
      "68:\tlearn: 0.1736025\ttotal: 449ms\tremaining: 853ms\n",
      "69:\tlearn: 0.1699831\ttotal: 454ms\tremaining: 843ms\n",
      "70:\tlearn: 0.1677673\ttotal: 459ms\tremaining: 834ms\n",
      "71:\tlearn: 0.1643767\ttotal: 464ms\tremaining: 825ms\n",
      "72:\tlearn: 0.1610840\ttotal: 469ms\tremaining: 816ms\n",
      "73:\tlearn: 0.1581207\ttotal: 474ms\tremaining: 807ms\n",
      "74:\tlearn: 0.1551610\ttotal: 479ms\tremaining: 798ms\n",
      "75:\tlearn: 0.1521894\ttotal: 483ms\tremaining: 789ms\n",
      "76:\tlearn: 0.1493004\ttotal: 488ms\tremaining: 780ms\n",
      "77:\tlearn: 0.1462564\ttotal: 493ms\tremaining: 772ms\n",
      "78:\tlearn: 0.1435486\ttotal: 498ms\tremaining: 763ms\n",
      "79:\tlearn: 0.1409289\ttotal: 503ms\tremaining: 755ms\n",
      "80:\tlearn: 0.1383621\ttotal: 508ms\tremaining: 746ms\n",
      "81:\tlearn: 0.1358199\ttotal: 513ms\tremaining: 738ms\n",
      "82:\tlearn: 0.1334358\ttotal: 518ms\tremaining: 730ms\n",
      "83:\tlearn: 0.1306815\ttotal: 523ms\tremaining: 722ms\n",
      "84:\tlearn: 0.1284335\ttotal: 528ms\tremaining: 714ms\n",
      "85:\tlearn: 0.1263999\ttotal: 533ms\tremaining: 707ms\n",
      "86:\tlearn: 0.1241282\ttotal: 538ms\tremaining: 699ms\n",
      "87:\tlearn: 0.1220475\ttotal: 544ms\tremaining: 692ms\n",
      "88:\tlearn: 0.1196942\ttotal: 549ms\tremaining: 684ms\n",
      "89:\tlearn: 0.1177107\ttotal: 555ms\tremaining: 678ms\n",
      "90:\tlearn: 0.1159452\ttotal: 560ms\tremaining: 671ms\n",
      "91:\tlearn: 0.1139759\ttotal: 565ms\tremaining: 664ms\n",
      "92:\tlearn: 0.1124411\ttotal: 571ms\tremaining: 656ms\n",
      "93:\tlearn: 0.1108560\ttotal: 576ms\tremaining: 650ms\n",
      "94:\tlearn: 0.1091995\ttotal: 581ms\tremaining: 643ms\n",
      "95:\tlearn: 0.1075399\ttotal: 587ms\tremaining: 635ms\n",
      "96:\tlearn: 0.1057265\ttotal: 592ms\tremaining: 628ms\n",
      "97:\tlearn: 0.1040425\ttotal: 597ms\tremaining: 621ms\n",
      "98:\tlearn: 0.1026758\ttotal: 602ms\tremaining: 614ms\n",
      "99:\tlearn: 0.1008852\ttotal: 608ms\tremaining: 608ms\n",
      "100:\tlearn: 0.0992481\ttotal: 613ms\tremaining: 601ms\n",
      "101:\tlearn: 0.0975888\ttotal: 619ms\tremaining: 594ms\n",
      "102:\tlearn: 0.0964468\ttotal: 624ms\tremaining: 587ms\n",
      "103:\tlearn: 0.0948368\ttotal: 629ms\tremaining: 580ms\n",
      "104:\tlearn: 0.0935010\ttotal: 634ms\tremaining: 574ms\n",
      "105:\tlearn: 0.0920569\ttotal: 643ms\tremaining: 570ms\n",
      "106:\tlearn: 0.0908048\ttotal: 648ms\tremaining: 563ms\n",
      "107:\tlearn: 0.0892081\ttotal: 653ms\tremaining: 557ms\n",
      "108:\tlearn: 0.0878391\ttotal: 659ms\tremaining: 550ms\n",
      "109:\tlearn: 0.0866059\ttotal: 664ms\tremaining: 543ms\n",
      "110:\tlearn: 0.0852845\ttotal: 669ms\tremaining: 537ms\n",
      "111:\tlearn: 0.0839178\ttotal: 674ms\tremaining: 530ms\n",
      "112:\tlearn: 0.0827068\ttotal: 679ms\tremaining: 523ms\n",
      "113:\tlearn: 0.0815776\ttotal: 685ms\tremaining: 516ms\n",
      "114:\tlearn: 0.0804709\ttotal: 690ms\tremaining: 510ms\n",
      "115:\tlearn: 0.0792697\ttotal: 695ms\tremaining: 503ms\n",
      "116:\tlearn: 0.0783740\ttotal: 700ms\tremaining: 497ms\n",
      "117:\tlearn: 0.0773780\ttotal: 705ms\tremaining: 490ms\n",
      "118:\tlearn: 0.0762501\ttotal: 711ms\tremaining: 484ms\n",
      "119:\tlearn: 0.0753257\ttotal: 716ms\tremaining: 477ms\n",
      "120:\tlearn: 0.0743637\ttotal: 721ms\tremaining: 471ms\n",
      "121:\tlearn: 0.0735687\ttotal: 726ms\tremaining: 464ms\n",
      "122:\tlearn: 0.0725347\ttotal: 731ms\tremaining: 458ms\n",
      "123:\tlearn: 0.0718431\ttotal: 737ms\tremaining: 451ms\n",
      "124:\tlearn: 0.0711011\ttotal: 742ms\tremaining: 445ms\n",
      "125:\tlearn: 0.0703417\ttotal: 747ms\tremaining: 439ms\n",
      "126:\tlearn: 0.0696635\ttotal: 752ms\tremaining: 433ms\n",
      "127:\tlearn: 0.0689551\ttotal: 758ms\tremaining: 426ms\n",
      "128:\tlearn: 0.0677933\ttotal: 763ms\tremaining: 420ms\n",
      "129:\tlearn: 0.0666161\ttotal: 768ms\tremaining: 413ms\n",
      "130:\tlearn: 0.0657161\ttotal: 773ms\tremaining: 407ms\n",
      "131:\tlearn: 0.0646367\ttotal: 778ms\tremaining: 401ms\n",
      "132:\tlearn: 0.0638030\ttotal: 783ms\tremaining: 395ms\n",
      "133:\tlearn: 0.0628839\ttotal: 789ms\tremaining: 388ms\n",
      "134:\tlearn: 0.0620998\ttotal: 794ms\tremaining: 382ms\n",
      "135:\tlearn: 0.0611960\ttotal: 799ms\tremaining: 376ms\n",
      "136:\tlearn: 0.0607678\ttotal: 804ms\tremaining: 370ms\n",
      "137:\tlearn: 0.0598330\ttotal: 810ms\tremaining: 364ms\n",
      "138:\tlearn: 0.0589688\ttotal: 815ms\tremaining: 358ms\n",
      "139:\tlearn: 0.0581526\ttotal: 820ms\tremaining: 352ms\n",
      "140:\tlearn: 0.0575868\ttotal: 827ms\tremaining: 346ms\n",
      "141:\tlearn: 0.0568081\ttotal: 835ms\tremaining: 341ms\n",
      "142:\tlearn: 0.0561049\ttotal: 847ms\tremaining: 338ms\n",
      "143:\tlearn: 0.0553897\ttotal: 856ms\tremaining: 333ms\n",
      "144:\tlearn: 0.0547260\ttotal: 861ms\tremaining: 327ms\n",
      "145:\tlearn: 0.0540659\ttotal: 867ms\tremaining: 321ms\n",
      "146:\tlearn: 0.0535282\ttotal: 872ms\tremaining: 314ms\n",
      "147:\tlearn: 0.0528863\ttotal: 877ms\tremaining: 308ms\n",
      "148:\tlearn: 0.0522303\ttotal: 883ms\tremaining: 302ms\n",
      "149:\tlearn: 0.0516777\ttotal: 888ms\tremaining: 296ms\n",
      "150:\tlearn: 0.0509611\ttotal: 899ms\tremaining: 292ms\n",
      "151:\tlearn: 0.0501623\ttotal: 906ms\tremaining: 286ms\n",
      "152:\tlearn: 0.0494634\ttotal: 912ms\tremaining: 280ms\n",
      "153:\tlearn: 0.0487257\ttotal: 917ms\tremaining: 274ms\n",
      "154:\tlearn: 0.0480148\ttotal: 922ms\tremaining: 268ms\n",
      "155:\tlearn: 0.0478904\ttotal: 927ms\tremaining: 262ms\n",
      "156:\tlearn: 0.0472826\ttotal: 933ms\tremaining: 255ms\n",
      "157:\tlearn: 0.0467117\ttotal: 938ms\tremaining: 249ms\n",
      "158:\tlearn: 0.0463569\ttotal: 944ms\tremaining: 243ms\n",
      "159:\tlearn: 0.0458288\ttotal: 949ms\tremaining: 237ms\n",
      "160:\tlearn: 0.0452968\ttotal: 954ms\tremaining: 231ms\n",
      "161:\tlearn: 0.0448443\ttotal: 959ms\tremaining: 225ms\n",
      "162:\tlearn: 0.0443928\ttotal: 965ms\tremaining: 219ms\n",
      "163:\tlearn: 0.0442091\ttotal: 970ms\tremaining: 213ms\n",
      "164:\tlearn: 0.0437546\ttotal: 975ms\tremaining: 207ms\n",
      "165:\tlearn: 0.0431761\ttotal: 980ms\tremaining: 201ms\n",
      "166:\tlearn: 0.0427143\ttotal: 985ms\tremaining: 195ms\n",
      "167:\tlearn: 0.0422028\ttotal: 991ms\tremaining: 189ms\n",
      "168:\tlearn: 0.0418798\ttotal: 996ms\tremaining: 183ms\n",
      "169:\tlearn: 0.0414970\ttotal: 1s\tremaining: 177ms\n",
      "170:\tlearn: 0.0412610\ttotal: 1.01s\tremaining: 171ms\n",
      "171:\tlearn: 0.0408655\ttotal: 1.01s\tremaining: 165ms\n",
      "172:\tlearn: 0.0406574\ttotal: 1.02s\tremaining: 159ms\n",
      "173:\tlearn: 0.0402229\ttotal: 1.02s\tremaining: 153ms\n",
      "174:\tlearn: 0.0398617\ttotal: 1.03s\tremaining: 147ms\n",
      "175:\tlearn: 0.0395806\ttotal: 1.03s\tremaining: 141ms\n",
      "176:\tlearn: 0.0389665\ttotal: 1.04s\tremaining: 135ms\n",
      "177:\tlearn: 0.0383917\ttotal: 1.04s\tremaining: 129ms\n",
      "178:\tlearn: 0.0380996\ttotal: 1.05s\tremaining: 123ms\n",
      "179:\tlearn: 0.0377482\ttotal: 1.06s\tremaining: 117ms\n",
      "180:\tlearn: 0.0372033\ttotal: 1.06s\tremaining: 111ms\n",
      "181:\tlearn: 0.0367582\ttotal: 1.07s\tremaining: 105ms\n",
      "182:\tlearn: 0.0362641\ttotal: 1.07s\tremaining: 99.8ms\n",
      "183:\tlearn: 0.0360053\ttotal: 1.08s\tremaining: 94ms\n",
      "184:\tlearn: 0.0358439\ttotal: 1.09s\tremaining: 88.1ms\n",
      "185:\tlearn: 0.0357961\ttotal: 1.09s\tremaining: 82.2ms\n",
      "186:\tlearn: 0.0357741\ttotal: 1.1s\tremaining: 76.3ms\n",
      "187:\tlearn: 0.0356579\ttotal: 1.1s\tremaining: 70.4ms\n",
      "188:\tlearn: 0.0352612\ttotal: 1.11s\tremaining: 64.5ms\n",
      "189:\tlearn: 0.0350092\ttotal: 1.11s\tremaining: 58.6ms\n",
      "190:\tlearn: 0.0345626\ttotal: 1.12s\tremaining: 52.7ms\n",
      "191:\tlearn: 0.0342261\ttotal: 1.12s\tremaining: 46.8ms\n",
      "192:\tlearn: 0.0338779\ttotal: 1.13s\tremaining: 40.9ms\n",
      "193:\tlearn: 0.0334691\ttotal: 1.13s\tremaining: 35.1ms\n",
      "194:\tlearn: 0.0328311\ttotal: 1.14s\tremaining: 29.2ms\n",
      "195:\tlearn: 0.0322209\ttotal: 1.14s\tremaining: 23.4ms\n",
      "196:\tlearn: 0.0316814\ttotal: 1.15s\tremaining: 17.5ms\n",
      "197:\tlearn: 0.0313059\ttotal: 1.15s\tremaining: 11.7ms\n",
      "198:\tlearn: 0.0307667\ttotal: 1.16s\tremaining: 5.83ms\n",
      "199:\tlearn: 0.0305963\ttotal: 1.17s\tremaining: 0us\n"
     ]
    },
    {
     "data": {
      "text/plain": [
       "0.9951879493294187"
      ]
     },
     "execution_count": 123,
     "metadata": {
      "tags": []
     },
     "output_type": "execute_result"
    }
   ],
   "source": [
    "cbr_model.fit(x_train, y_train) #training\n",
    "y_predict = cbr_model.predict(x_test) # predicting\n",
    "r2_score(y_test, y_predict) #calculating the r2_score"
   ]
  },
  {
   "cell_type": "code",
   "execution_count": 112,
   "metadata": {
    "id": "px82Ucx-VkK4"
   },
   "outputs": [],
   "source": [
    "import pickle \n",
    "#save the model"
   ]
  },
  {
   "cell_type": "code",
   "execution_count": 120,
   "metadata": {
    "id": "A93_FSOkVqdp"
   },
   "outputs": [],
   "source": [
    "pickle.dump(extra_tree_reg, open('model.pkl', 'wb'))\n",
    "model = pickle.load(open('model.pkl', 'rb'))"
   ]
  },
  {
   "cell_type": "markdown",
   "metadata": {},
   "source": [
    "# Conclusion"
   ]
  },
  {
   "cell_type": "markdown",
   "metadata": {
    "id": "cu_VgmM0a3gs"
   },
   "source": [
    "With the above implementation it was possible to deliver useful information for Business areas and also for Zomato customers on choosing the best restaurant for ordering (specially the new ones). This is an example of what predictive models can do in practice. This project helps us to gain more insights about the restaurant business."
   ]
  }
 ],
 "metadata": {
  "colab": {
   "collapsed_sections": [],
   "name": "zomato.ipynb",
   "provenance": []
  },
  "kernelspec": {
   "display_name": "Python 3",
   "language": "python",
   "name": "python3"
  },
  "language_info": {
   "codemirror_mode": {
    "name": "ipython",
    "version": 3
   },
   "file_extension": ".py",
   "mimetype": "text/x-python",
   "name": "python",
   "nbconvert_exporter": "python",
   "pygments_lexer": "ipython3",
   "version": "3.7.3"
  }
 },
 "nbformat": 4,
 "nbformat_minor": 1
}
